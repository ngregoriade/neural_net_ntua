{
 "cells": [
  {
   "cell_type": "code",
   "execution_count": 1,
   "metadata": {},
   "outputs": [],
   "source": [
    "import pandas as pd\n",
    "import numpy as np\n",
    "import matplotlib.pyplot as plt\n",
    "import random\n",
    "from sklearn.model_selection import train_test_split,GridSearchCV,cross_val_predict,cross_val_score\n",
    "from sklearn.neural_network import MLPClassifier\n",
    "from sklearn.metrics import classification_report,mean_squared_error,accuracy_score,f1_score\n",
    "from sklearn.preprocessing import StandardScaler\n",
    "import seaborn as sns; sns.set()\n",
    "import time\n",
    "from sklearn.feature_selection import VarianceThreshold\n",
    "from imblearn.pipeline import Pipeline\n",
    "from sklearn import neighbors\n",
    "from sklearn.svm import SVC # \"Support vector classifier\"\n"
   ]
  },
  {
   "cell_type": "markdown",
   "metadata": {},
   "source": [
    "### Εισαγωγή dataset από αρχείο CSV"
   ]
  },
  {
   "cell_type": "code",
   "execution_count": 2,
   "metadata": {},
   "outputs": [],
   "source": [
    "data = pd.read_csv(\"./Dry_Bean.csv\")"
   ]
  },
  {
   "cell_type": "markdown",
   "metadata": {},
   "source": [
    "## Εξαγωγή πληροφοριών του dataset"
   ]
  },
  {
   "cell_type": "code",
   "execution_count": 3,
   "metadata": {},
   "outputs": [],
   "source": [
    "n_samples=data.shape[0]\n",
    "n_features = data.shape[1] - 1"
   ]
  },
  {
   "cell_type": "code",
   "execution_count": 4,
   "metadata": {},
   "outputs": [],
   "source": [
    "x = data.drop('Class',axis=1)\n",
    "y = data[[\"Class\"]]"
   ]
  },
  {
   "cell_type": "markdown",
   "metadata": {},
   "source": [
    "## train-test split"
   ]
  },
  {
   "cell_type": "code",
   "execution_count": 6,
   "metadata": {},
   "outputs": [],
   "source": [
    "x_train, x_test, y_train, y_test = train_test_split(x, y,train_size=0.8,test_size=0.2, random_state=0)"
   ]
  },
  {
   "cell_type": "code",
   "execution_count": 7,
   "metadata": {},
   "outputs": [],
   "source": [
    "#x_train = StandardScaler().fit_transform(x_train)\n",
    "#x_test = StandardScaler().fit_transform(x_test)\n",
    "\n",
    "y_train =  np.ravel(y_train)\n",
    "y_test = np.ravel(y_test)\n",
    "\n",
    "x = np.append(x_train, x_test).reshape(13611,16)\n",
    "y = np.append(y_train, y_test)"
   ]
  },
  {
   "cell_type": "code",
   "execution_count": null,
   "metadata": {},
   "outputs": [],
   "source": [
    "# hold times for train and pred of out of the box\n",
    "train_time_base = {}\n",
    "pred_time_base = {}\n",
    "# dictionary to store all classifier without optimization preds\n",
    "predictions = {}"
   ]
  },
  {
   "cell_type": "markdown",
   "metadata": {},
   "source": [
    "## Εκτέλεση MLP Out-of-the-box"
   ]
  },
  {
   "cell_type": "code",
   "execution_count": null,
   "metadata": {},
   "outputs": [
    {
     "name": "stdout",
     "output_type": "stream",
     "text": [
      "              precision    recall  f1-score   support\n",
      "\n",
      "    BARBUNYA       0.00      0.00      0.00       255\n",
      "      BOMBAY       1.00      0.99      0.99        92\n",
      "        CALI       0.53      0.98      0.69       350\n",
      "    DERMASON       0.60      1.00      0.75       735\n",
      "       HOROZ       0.97      0.68      0.80       390\n",
      "       SEKER       0.00      0.00      0.00       376\n",
      "        SIRA       0.68      0.62      0.65       525\n",
      "\n",
      "    accuracy                           0.65      2723\n",
      "   macro avg       0.54      0.61      0.55      2723\n",
      "weighted avg       0.53      0.65      0.56      2723\n",
      "\n"
     ]
    },
    {
     "name": "stderr",
     "output_type": "stream",
     "text": [
      "C:\\Users\\ΒΑΣΙΛΗΣ\\AppData\\Local\\Packages\\PythonSoftwareFoundation.Python.3.10_qbz5n2kfra8p0\\LocalCache\\local-packages\\Python310\\site-packages\\sklearn\\metrics\\_classification.py:1334: UndefinedMetricWarning: Precision and F-score are ill-defined and being set to 0.0 in labels with no predicted samples. Use `zero_division` parameter to control this behavior.\n",
      "  _warn_prf(average, modifier, msg_start, len(result))\n",
      "C:\\Users\\ΒΑΣΙΛΗΣ\\AppData\\Local\\Packages\\PythonSoftwareFoundation.Python.3.10_qbz5n2kfra8p0\\LocalCache\\local-packages\\Python310\\site-packages\\sklearn\\metrics\\_classification.py:1334: UndefinedMetricWarning: Precision and F-score are ill-defined and being set to 0.0 in labels with no predicted samples. Use `zero_division` parameter to control this behavior.\n",
      "  _warn_prf(average, modifier, msg_start, len(result))\n",
      "C:\\Users\\ΒΑΣΙΛΗΣ\\AppData\\Local\\Packages\\PythonSoftwareFoundation.Python.3.10_qbz5n2kfra8p0\\LocalCache\\local-packages\\Python310\\site-packages\\sklearn\\metrics\\_classification.py:1334: UndefinedMetricWarning: Precision and F-score are ill-defined and being set to 0.0 in labels with no predicted samples. Use `zero_division` parameter to control this behavior.\n",
      "  _warn_prf(average, modifier, msg_start, len(result))\n"
     ]
    }
   ],
   "source": [
    "clf = MLPClassifier()\n",
    "start_time = time.time()\n",
    "clf.fit(x_train, y_train)\n",
    "train_time_base[\"MLP\"] = time.time() - start_time\n",
    "start_time = time.time()\n",
    "preds = clf.predict(x_test)\n",
    "pred_time_base[\"MLP\"] = time.time() - start_time\n",
    "predictions[\"MLP\"] = preds\n",
    "print(classification_report(y_test, preds))"
   ]
  },
  {
   "cell_type": "code",
   "execution_count": null,
   "metadata": {},
   "outputs": [],
   "source": [
    "scores_MLP_acc = cross_val_score(clf,x_train,y_train,cv=10,n_jobs=-1, scoring='accuracy')\n",
    "scores_MLP_f1 = cross_val_score(clf,x_train,y_train,cv=10,n_jobs=-1,scoring='f1_weighted')"
   ]
  },
  {
   "cell_type": "code",
   "execution_count": null,
   "metadata": {},
   "outputs": [
    {
     "data": {
      "image/png": "[encoded data removed]",
      "text/plain": [
       "<Figure size 640x480 with 1 Axes>"
      ]
     },
     "metadata": {},
     "output_type": "display_data"
    }
   ],
   "source": [
    "plt.bar(['accuracy','f1'],[np.mean(scores_MLP_acc),np.mean(scores_MLP_f1)])\n",
    "plt.xlabel(\"scoring method\")\n",
    "plt.ylabel(\"score\")\n",
    "plt.title(\"10 fold CV MLP\")\n",
    "plt.show()"
   ]
  },
  {
   "cell_type": "markdown",
   "metadata": {},
   "source": [
    "## Εκτέλεση SVM Out-of-the-box"
   ]
  },
  {
   "cell_type": "code",
   "execution_count": null,
   "metadata": {},
   "outputs": [
    {
     "name": "stdout",
     "output_type": "stream",
     "text": [
      "              precision    recall  f1-score   support\n",
      "\n",
      "    BARBUNYA       0.35      0.08      0.13       255\n",
      "      BOMBAY       1.00      1.00      1.00        92\n",
      "        CALI       0.62      0.84      0.72       350\n",
      "    DERMASON       0.78      0.87      0.82       735\n",
      "       HOROZ       0.60      0.57      0.59       390\n",
      "       SEKER       0.37      0.23      0.29       376\n",
      "        SIRA       0.58      0.74      0.65       525\n",
      "\n",
      "    accuracy                           0.64      2723\n",
      "   macro avg       0.61      0.62      0.60      2723\n",
      "weighted avg       0.61      0.64      0.61      2723\n",
      "\n"
     ]
    }
   ],
   "source": [
    "\n",
    "model = SVC()\n",
    "start_time = time.time()\n",
    "model.fit(x_train, y_train)\n",
    "train_time_base[\"SVM\"] = time.time() - start_time\n",
    "start_time = time.time()\n",
    "preds =model.predict(x_test)\n",
    "pred_time_base[\"SVM\"] = time.time() - start_time\n",
    "predictions[\"SVM\"] = preds\n",
    "print(classification_report(y_test, preds))\n"
   ]
  },
  {
   "cell_type": "code",
   "execution_count": null,
   "metadata": {},
   "outputs": [],
   "source": [
    "scores_SVM_acc = cross_val_score(model,x_train,y_train,cv=10,n_jobs=-1, scoring='accuracy')\n",
    "scores_SVM_f1 = cross_val_score(model,x_train,y_train,cv=10,n_jobs=-1,scoring='f1_macro')"
   ]
  },
  {
   "cell_type": "code",
   "execution_count": null,
   "metadata": {},
   "outputs": [],
   "source": [
    "plt.bar(['accuracy','f1'],[np.mean(scores_SVM_acc),np.mean(scores_SVM_f1)])\n",
    "plt.xlabel(\"scoring method\")\n",
    "plt.ylabel(\"score\")\n",
    "plt.title(\"10 fold CV SVM\")\n",
    "plt.show()"
   ]
  },
  {
   "cell_type": "markdown",
   "metadata": {},
   "source": [
    "## Dummy Classifiers for scale"
   ]
  },
  {
   "cell_type": "code",
   "execution_count": null,
   "metadata": {},
   "outputs": [],
   "source": [
    "from sklearn.dummy import DummyClassifier\n",
    "from sklearn.metrics import accuracy_score,classification_report,confusion_matrix\n",
    "from sklearn.metrics import precision_recall_fscore_support,f1_score"
   ]
  },
  {
   "cell_type": "code",
   "execution_count": null,
   "metadata": {},
   "outputs": [],
   "source": [
    "from sklearn.metrics import accuracy_score\n",
    "from sklearn.metrics import f1_score\n",
    "import matplotlib.pyplot as plt\n",
    "\n",
    "accuracy = {}\n",
    "f1 = {}\n",
    "\n",
    "def metrics_info(classifier_name, preds):\n",
    "  global accuracy, f1 \n",
    "  accuracy[classifier_name] = accuracy_score(y_test, preds)\n",
    "  f1[classifier_name] = f1_score(y_test, preds, average = \"macro\")\n",
    "  # print bar plot function\n",
    "def bar_plot(classifiers, scores, title):\n",
    "  plt.figure(figsize = (10,6))\n",
    "  y_pos = np.arange(len(classifiers))\n",
    "  plt.bar(y_pos, scores, align='center', alpha = 0.9)\n",
    "  plt.xticks(y_pos, classifiers, rotation = 45)\n",
    "  plt.ylabel('Score')\n",
    "  plt.title(title)\n",
    "  plt.show()"
   ]
  },
  {
   "cell_type": "code",
   "execution_count": null,
   "metadata": {},
   "outputs": [],
   "source": [
    "dc_uniform = DummyClassifier(strategy=\"uniform\")\n",
    "dc_constant_horoz = DummyClassifier(strategy=\"constant\", constant='horoz'.upper())\n",
    "dc_constant_sira = DummyClassifier(strategy=\"constant\", constant= 'sira'.upper())\n",
    "dc_constant_barbunya = DummyClassifier(strategy=\"constant\", constant='barbunya'.upper())\n",
    "dc_constant_seker = DummyClassifier(strategy=\"constant\", constant='seker'.upper())\n",
    "dc_constant_bombay = DummyClassifier(strategy=\"constant\",constant='bombay'.upper())\n",
    "dc_constant_cali = DummyClassifier(strategy=\"constant\",constant='cali'.upper())\n",
    "dc_constant_dermason = DummyClassifier(strategy=\"constant\",constant='dermason'.upper())\n",
    "dc_most_frequent = DummyClassifier(strategy=\"most_frequent\")\n",
    "dc_stratified = DummyClassifier(strategy=\"stratified\")\n",
    "\n",
    "# with the fit method we train the classifier with the train set\n",
    "# with the predict method predictions occur based on the input data\n",
    "start_time = time.time()\n",
    "dc_uniform.fit(x_train, y_train)\n",
    "train_time_base[\"DC Uniform\"] = time.time() - start_time\n",
    "start_time = time.time()\n",
    "predictions[\"DC Uniform\"] = dc_uniform.predict(x_test)\n",
    "pred_time_base[\"DC Uniform\"] = time.time() - start_time\n",
    "start_time = time.time()\n",
    "dc_constant_horoz.fit(x_train, y_train)\n",
    "train_time_base[\"DC Constant horoz\"] = time.time() - start_time\n",
    "start_time = time.time()\n",
    "predictions[\"DC Constant horoz\"] = dc_constant_horoz.predict(x_test)\n",
    "pred_time_base[\"DC Constant horoz\"] = time.time() - start_time\n",
    "start_time = time.time()\n",
    "dc_constant_sira.fit(x_train, y_train)\n",
    "train_time_base[\"DC Constant sira\"] = time.time() - start_time\n",
    "start_time = time.time()\n",
    "predictions[\"DC Constant sira\"] = dc_constant_sira.predict(x_test)\n",
    "pred_time_base[\"DC Constant sira\"] = time.time() - start_time\n",
    "start_time = time.time()\n",
    "\n",
    "start_time = time.time()\n",
    "dc_constant_bombay.fit(x_train, y_train)\n",
    "train_time_base[\"DC Constant bombay\"] = time.time() - start_time\n",
    "start_time = time.time()\n",
    "predictions[\"DC Constant bombay\"] = dc_constant_bombay.predict(x_test)\n",
    "pred_time_base[\"DC Constant bombay\"] = time.time() - start_time\n",
    "start_time = time.time()\n",
    "\n",
    "start_time = time.time()\n",
    "dc_constant_cali.fit(x_train, y_train)\n",
    "train_time_base[\"DC Constant cali\"] = time.time() - start_time\n",
    "start_time = time.time()\n",
    "predictions[\"DC Constant cali\"] = dc_constant_cali.predict(x_test)\n",
    "pred_time_base[\"DC Constant cali\"] = time.time() - start_time\n",
    "start_time = time.time()\n",
    "\n",
    "start_time = time.time()\n",
    "dc_constant_dermason.fit(x_train, y_train)\n",
    "train_time_base[\"DC Constant dermason\"] = time.time() - start_time\n",
    "start_time = time.time()\n",
    "predictions[\"DC Constant dermason\"] = dc_constant_dermason.predict(x_test)\n",
    "pred_time_base[\"DC Constant dermason\"] = time.time() - start_time\n",
    "start_time = time.time()\n",
    "\n",
    "dc_constant_barbunya.fit(x_train, y_train)\n",
    "train_time_base[\"DC Constant barbunya\"] = time.time() - start_time\n",
    "\n",
    "start_time = time.time()\n",
    "predictions[\"DC Constant barbunya\"] = dc_constant_barbunya.predict(x_test)\n",
    "pred_time_base[\"DC Constant barbunya\"] = time.time() - start_time\n",
    "start_time = time.time()\n",
    "dc_constant_seker.fit(x_train, y_train)\n",
    "train_time_base[\"DC Constant seker\"] = time.time() - start_time\n",
    "start_time = time.time()\n",
    "predictions[\"DC Constant seker\"] = dc_constant_seker.predict(x_test)\n",
    "pred_time_base[\"DC Constant seker\"] = time.time() - start_time\n",
    "start_time = time.time()\n",
    "dc_most_frequent.fit(x_train, y_train)\n",
    "train_time_base[\"DC Most Frequent\"] = time.time() - start_time\n",
    "start_time = time.time()\n",
    "predictions[\"DC Most Frequent\"] = dc_most_frequent.predict(x_test)\n",
    "pred_time_base[\"DC Most Frequent\"] = time.time() - start_time\n",
    "start_time = time.time()\n",
    "dc_stratified.fit(x_train, y_train)\n",
    "train_time_base[\"DC Stratified\"] = time.time() - start_time\n",
    "start_time = time.time()\n",
    "predictions[\"DC Stratified\"] = dc_stratified.predict(x_test)\n",
    "pred_time_base[\"DC Stratified\"] = time.time() - start_time\n",
    "\n",
    "metrics_info(\"MLP\",predictions[\"MLP\"])\n",
    "metrics_info(\"SVM\",predictions[\"SVM\"])\n",
    "metrics_info(\"DC Uniform\", predictions[\"DC Uniform\"])\n",
    "metrics_info(\"DC Constant horoz\", predictions[\"DC Constant horoz\"])\n",
    "metrics_info(\"DC Constant sira\", predictions[\"DC Constant sira\"])\n",
    "metrics_info(\"DC Constant barbunya\", predictions[\"DC Constant barbunya\"])\n",
    "metrics_info(\"DC Constant seker\", predictions[\"DC Constant seker\"])\n",
    "metrics_info(\"DC Constant bombay\", predictions[\"DC Constant bombay\"])\n",
    "metrics_info(\"DC Constant cali\", predictions[\"DC Constant cali\"])\n",
    "metrics_info(\"DC Constant dermason\", predictions[\"DC Constant dermason\"])\n",
    "metrics_info(\"DC Most Frequent\", predictions[\"DC Most Frequent\"])\n",
    "metrics_info(\"DC Stratified\", predictions[\"DC Stratified\"])\n",
    "classifier_labels = list(accuracy.keys())\n",
    "classifier_accuracy = list(accuracy.values())\n",
    "classifier_f1 = list(f1.values())\n",
    "    \n",
    "data = []\n",
    "data.append(list(accuracy.values()))\n",
    "data.append(list(f1.values()))\n",
    "print(pd.DataFrame(data, index = [\"Accuracy Score\", \"F1 Score\"], columns = list(accuracy.keys())))\n",
    "\n",
    "bar_plot(classifier_labels, [i*100 for i in classifier_accuracy], \"Accuracy Score (Out of the box)\")\n",
    "bar_plot(classifier_labels, [i*100 for i in classifier_f1], \"F1 Score (Out of the box)\")\n",
    "\n"
   ]
  },
  {
   "cell_type": "code",
   "execution_count": null,
   "metadata": {},
   "outputs": [],
   "source": [
    "dum = DummyClassifier()"
   ]
  },
  {
   "cell_type": "code",
   "execution_count": null,
   "metadata": {},
   "outputs": [],
   "source": [
    "scores_DUM_acc = cross_val_score(dum,x_train,y_train,cv=10,n_jobs=-1, scoring='accuracy')\n",
    "scores_DUM_f1 = cross_val_score(dum,x_train,y_train,cv=10,n_jobs=-1,scoring='f1_macro')"
   ]
  },
  {
   "cell_type": "code",
   "execution_count": null,
   "metadata": {},
   "outputs": [],
   "source": [
    "plt.bar(['accuracy','f1'],[np.mean(scores_DUM_acc),np.mean(scores_DUM_f1)])\n",
    "plt.xlabel(\"scoring method\")\n",
    "plt.ylabel(\"score\")\n",
    "plt.title(\"10 fold CV DUMMY\")\n",
    "plt.show()"
   ]
  },
  {
   "cell_type": "markdown",
   "metadata": {},
   "source": [
    "## Improvement"
   ]
  },
  {
   "cell_type": "markdown",
   "metadata": {},
   "source": [
    "### Preproccessing"
   ]
  },
  {
   "cell_type": "code",
   "execution_count": null,
   "metadata": {},
   "outputs": [],
   "source": [
    "selector = VarianceThreshold(threshold=0.00001)\n",
    "train_reduced = selector.fit_transform(x_train)\n",
    "mask = selector.get_support()\n",
    "test_reduced = np.array(x_test)[:,mask]\n",
    "print(\"Features Used = {}\".format(np.shape(test_reduced)[1]))"
   ]
  },
  {
   "cell_type": "code",
   "execution_count": null,
   "metadata": {},
   "outputs": [],
   "source": [
    "clf = MLPClassifier()\n",
    "start_time = time.time()\n",
    "clf.fit(train_reduced, y_train)\n",
    "train_time_base[\"MLP\"] = time.time() - start_time\n",
    "start_time = time.time()\n",
    "preds = clf.predict(test_reduced)\n",
    "pred_time_base[\"MLP\"] = time.time() - start_time\n",
    "predictions[\"MLP\"] = preds\n",
    "print(classification_report(y_test, preds))"
   ]
  },
  {
   "cell_type": "markdown",
   "metadata": {},
   "source": []
  },
  {
   "cell_type": "code",
   "execution_count": null,
   "metadata": {},
   "outputs": [],
   "source": [
    "model = SVC()\n",
    "start_time = time.time()\n",
    "model.fit(train_reduced, y_train)\n",
    "train_time_base[\"SVM\"] = time.time() - start_time\n",
    "start_time = time.time()\n",
    "preds = model.predict(test_reduced)\n",
    "pred_time_base[\"SVM\"] = time.time() - start_time\n",
    "predictions[\"SVM\"] = preds\n",
    "print(classification_report(y_test, preds))"
   ]
  },
  {
   "cell_type": "markdown",
   "metadata": {},
   "source": [
    "### Pipeline"
   ]
  },
  {
   "cell_type": "code",
   "execution_count": null,
   "metadata": {},
   "outputs": [
    {
     "name": "stdout",
     "output_type": "stream",
     "text": [
      "              precision    recall  f1-score   support\n",
      "\n",
      "    BARBUNYA       0.95      0.92      0.93       255\n",
      "      BOMBAY       1.00      1.00      1.00        92\n",
      "        CALI       0.93      0.96      0.94       350\n",
      "    DERMASON       0.93      0.93      0.93       735\n",
      "       HOROZ       0.96      0.95      0.96       390\n",
      "       SEKER       0.95      0.97      0.96       376\n",
      "        SIRA       0.88      0.88      0.88       525\n",
      "\n",
      "    accuracy                           0.93      2723\n",
      "   macro avg       0.94      0.94      0.94      2723\n",
      "weighted avg       0.93      0.93      0.93      2723\n",
      "\n",
      "              precision    recall  f1-score   support\n",
      "\n",
      "    BARBUNYA       0.91      0.89      0.90       255\n",
      "      BOMBAY       1.00      1.00      1.00        92\n",
      "        CALI       0.93      0.93      0.93       350\n",
      "    DERMASON       0.93      0.91      0.92       735\n",
      "       HOROZ       0.96      0.94      0.95       390\n",
      "       SEKER       0.94      0.95      0.94       376\n",
      "        SIRA       0.85      0.89      0.87       525\n",
      "\n",
      "    accuracy                           0.92      2723\n",
      "   macro avg       0.93      0.93      0.93      2723\n",
      "weighted avg       0.92      0.92      0.92      2723\n",
      "\n"
     ]
    }
   ],
   "source": [
    "from sklearn.feature_selection import VarianceThreshold\n",
    "from sklearn.preprocessing import StandardScaler # φέρνουμε τον StandarScaler ως transformer που έχει .transform kai ΄όχι ως scale()\n",
    "from imblearn.over_sampling import RandomOverSampler\n",
    "from imblearn.under_sampling import RandomUnderSampler\n",
    "from sklearn.decomposition import PCA\n",
    "\n",
    "selector = VarianceThreshold(0.0001)\n",
    "scaler = StandardScaler()\n",
    "ros = RandomOverSampler()\n",
    "pca = PCA()\n",
    "\n",
    "pipe = Pipeline(steps = [('selector',selector),('scaler', scaler),('sampler',ros),('pca',pca),('clf',clf)], memory = 'tmp')\n",
    "timer = time.time()\n",
    "pipe.fit(x_train,y_train)\n",
    "demo_fit_time = time.time() - timer\n",
    "timer = time.time()\n",
    "pred_mlp = pipe.predict(x_test)\n",
    "demo_pred_time = time.time() - timer\n",
    "print(classification_report(y_test, pred_mlp))\n",
    "\n",
    "model = SVC()\n",
    "pipe_svm = Pipeline(steps = [('selector',selector),('scaler', scaler),('sampler',ros),('pca',pca),('clf',model)], memory = 'tmp')\n",
    "timer = time.time()\n",
    "pipe_svm.fit(x_train,y_train)\n",
    "demo_fit_time_svm = time.time() - timer\n",
    "timer = time.time()\n",
    "pred_svm = pipe_svm.predict(x_test)\n",
    "demo_pred_time_svm = time.time() - timer\n",
    "print(classification_report(y_test, pred_svm))\n"
   ]
  },
  {
   "cell_type": "markdown",
   "metadata": {},
   "source": [
    "### GridSearch\n"
   ]
  },
  {
   "cell_type": "code",
   "execution_count": null,
   "metadata": {},
   "outputs": [],
   "source": []
  },
  {
   "cell_type": "code",
   "execution_count": null,
   "metadata": {},
   "outputs": [],
   "source": [
    "vthreshold = list(np.arange(start = 0, stop = 0.0002, step = 0.00005))\n",
    "print(vthreshold)\n",
    "n_components = [11,12,13,14]"
   ]
  },
  {
   "cell_type": "code",
   "execution_count": null,
   "metadata": {},
   "outputs": [],
   "source": [
    "estimator_mlp_f1 = GridSearchCV(pipe, dict(selector__threshold=vthreshold, pca__n_components=n_components), cv=10, scoring='f1_macro', n_jobs=-1)\n",
    "estimator_mlp_f1.fit(x_train,y_train)"
   ]
  },
  {
   "cell_type": "code",
   "execution_count": null,
   "metadata": {},
   "outputs": [],
   "source": [
    "MLPF = estimator_mlp_f1.best_score_"
   ]
  },
  {
   "cell_type": "code",
   "execution_count": null,
   "metadata": {},
   "outputs": [],
   "source": [
    "estimator_mlp_acc = GridSearchCV(pipe, dict(selector__threshold=vthreshold, pca__n_components=n_components), cv=10, scoring='accuracy', n_jobs=-1)\n",
    "estimator_mlp_acc.fit(x_train,y_train)"
   ]
  },
  {
   "cell_type": "code",
   "execution_count": null,
   "metadata": {},
   "outputs": [],
   "source": [
    "MLPA = estimator_mlp_acc.best_score_"
   ]
  },
  {
   "cell_type": "code",
   "execution_count": null,
   "metadata": {},
   "outputs": [],
   "source": [
    "estimator_svm_f1 = GridSearchCV(pipe_svm, dict(selector__threshold=vthreshold, pca__n_components=n_components), cv=10, scoring='f1_macro', n_jobs=-1)\n",
    "estimator_svm_f1.fit(x_train,y_train)"
   ]
  },
  {
   "cell_type": "code",
   "execution_count": null,
   "metadata": {},
   "outputs": [],
   "source": [
    "SVMF = estimator_svm_f1.best_score_\n",
    "SVMF"
   ]
  },
  {
   "cell_type": "code",
   "execution_count": null,
   "metadata": {},
   "outputs": [],
   "source": [
    "estimator_svm_acc = GridSearchCV(pipe_svm, dict(selector__threshold=vthreshold, pca__n_components=n_components), cv=10, scoring='accuracy', n_jobs=-1)\n",
    "estimator_svm_acc.fit(x_train,y_train)"
   ]
  },
  {
   "cell_type": "code",
   "execution_count": null,
   "metadata": {},
   "outputs": [],
   "source": [
    "SVMA = estimator_svm_acc.best_score_"
   ]
  },
  {
   "cell_type": "code",
   "execution_count": null,
   "metadata": {},
   "outputs": [],
   "source": [
    "scores = [MLPF*100,MLPA*100,SVMF*100,SVMA*100]\n",
    "names = [\"MLP f1\",\"MLP accuracy\",\"SVM f1\",\"SVM accuracy\"]"
   ]
  },
  {
   "cell_type": "code",
   "execution_count": null,
   "metadata": {},
   "outputs": [],
   "source": [
    "plt.bar(names,scores)\n",
    "plt.show()\n",
    "for i in range(len(scores)):\n",
    "    print(\"CLASSIFIRER {} --> {}\".format(names[i],scores[i]))"
   ]
  },
  {
   "cell_type": "markdown",
   "metadata": {},
   "source": []
  },
  {
   "cell_type": "markdown",
   "metadata": {},
   "source": [
    "## OPTUNA\n",
    "\n"
   ]
  },
  {
   "cell_type": "code",
   "execution_count": 8,
   "metadata": {},
   "outputs": [
    {
     "name": "stderr",
     "output_type": "stream",
     "text": [
      "\u001b[32m[I 2022-11-26 15:09:12,883]\u001b[0m A new study created in memory with name: no-name-ce11362c-d78c-4986-9024-7aa359892d89\u001b[0m\n",
      "C:\\Users\\ΒΑΣΙΛΗΣ\\AppData\\Local\\Packages\\PythonSoftwareFoundation.Python.3.10_qbz5n2kfra8p0\\LocalCache\\local-packages\\Python310\\site-packages\\optuna\\distributions.py:668: UserWarning: The distribution is specified by [1e-08, 0.1] and step=1e-07, but the range is not divisible by `step`. It will be replaced by [1e-08, 0.09999991].\n",
      "  warnings.warn(\n",
      "\u001b[32m[I 2022-11-26 15:09:13,414]\u001b[0m Trial 0 finished with value: 0.9144326110907087 and parameters: {'classifier': 'MLPClassifier', 'activation': 'tanh', 'solver': 'adam', 'tol': 0.01789191, 'learning_rate': 'constant'}. Best is trial 0 with value: 0.9144326110907087.\u001b[0m\n",
      "\u001b[32m[I 2022-11-26 15:09:16,474]\u001b[0m Trial 1 finished with value: 0.541681968417187 and parameters: {'classifier': 'SVC', 'C': 0.3633430864052521, 'kernel': 'poly', 'degree': 40}. Best is trial 0 with value: 0.9144326110907087.\u001b[0m\n",
      "\u001b[32m[I 2022-11-26 15:09:17,611]\u001b[0m Trial 2 finished with value: 0.7183253764230628 and parameters: {'classifier': 'SVC', 'C': 0.29266930860900064, 'kernel': 'sigmoid', 'degree': 45}. Best is trial 0 with value: 0.9144326110907087.\u001b[0m\n",
      "\u001b[32m[I 2022-11-26 15:09:19,879]\u001b[0m Trial 3 finished with value: 0.5857510099155343 and parameters: {'classifier': 'SVC', 'C': 0.8635976637350997, 'kernel': 'poly', 'degree': 19}. Best is trial 0 with value: 0.9144326110907087.\u001b[0m\n",
      "C:\\Users\\ΒΑΣΙΛΗΣ\\AppData\\Local\\Packages\\PythonSoftwareFoundation.Python.3.10_qbz5n2kfra8p0\\LocalCache\\local-packages\\Python310\\site-packages\\optuna\\distributions.py:668: UserWarning: The distribution is specified by [1e-08, 0.1] and step=1e-07, but the range is not divisible by `step`. It will be replaced by [1e-08, 0.09999991].\n",
      "  warnings.warn(\n",
      "\u001b[32m[I 2022-11-26 15:09:20,369]\u001b[0m Trial 4 finished with value: 0.9114946749908189 and parameters: {'classifier': 'MLPClassifier', 'activation': 'logistic', 'solver': 'adam', 'tol': 0.04431181, 'learning_rate': 'constant'}. Best is trial 0 with value: 0.9144326110907087.\u001b[0m\n",
      "\u001b[32m[I 2022-11-26 15:09:21,610]\u001b[0m Trial 5 finished with value: 0.9217774513404333 and parameters: {'classifier': 'SVC', 'C': 0.18325903115065412, 'kernel': 'rbf', 'degree': 22}. Best is trial 5 with value: 0.9217774513404333.\u001b[0m\n",
      "\u001b[32m[I 2022-11-26 15:09:24,640]\u001b[0m Trial 6 finished with value: 0.5431509364671319 and parameters: {'classifier': 'SVC', 'C': 0.6037429135614484, 'kernel': 'poly', 'degree': 47}. Best is trial 5 with value: 0.9217774513404333.\u001b[0m\n",
      "C:\\Users\\ΒΑΣΙΛΗΣ\\AppData\\Local\\Packages\\PythonSoftwareFoundation.Python.3.10_qbz5n2kfra8p0\\LocalCache\\local-packages\\Python310\\site-packages\\optuna\\distributions.py:668: UserWarning: The distribution is specified by [1e-08, 0.1] and step=1e-07, but the range is not divisible by `step`. It will be replaced by [1e-08, 0.09999991].\n",
      "  warnings.warn(\n",
      "\u001b[32m[I 2022-11-26 15:09:25,136]\u001b[0m Trial 7 finished with value: 0.9140653690782226 and parameters: {'classifier': 'MLPClassifier', 'activation': 'tanh', 'solver': 'adam', 'tol': 0.018049910000000002, 'learning_rate': 'constant'}. Best is trial 5 with value: 0.9217774513404333.\u001b[0m\n",
      "\u001b[32m[I 2022-11-26 15:09:27,742]\u001b[0m Trial 8 finished with value: 0.561145795078957 and parameters: {'classifier': 'SVC', 'C': 0.4306003678614893, 'kernel': 'poly', 'degree': 27}. Best is trial 5 with value: 0.9217774513404333.\u001b[0m\n",
      "C:\\Users\\ΒΑΣΙΛΗΣ\\AppData\\Local\\Packages\\PythonSoftwareFoundation.Python.3.10_qbz5n2kfra8p0\\LocalCache\\local-packages\\Python310\\site-packages\\optuna\\distributions.py:668: UserWarning: The distribution is specified by [1e-08, 0.1] and step=1e-07, but the range is not divisible by `step`. It will be replaced by [1e-08, 0.09999991].\n",
      "  warnings.warn(\n",
      "\u001b[32m[I 2022-11-26 15:09:27,962]\u001b[0m Trial 9 finished with value: 0.7098788101358795 and parameters: {'classifier': 'MLPClassifier', 'activation': 'identity', 'solver': 'sgd', 'tol': 0.05216831, 'learning_rate': 'invscaling'}. Best is trial 5 with value: 0.9217774513404333.\u001b[0m\n",
      "\u001b[32m[I 2022-11-26 15:09:30,294]\u001b[0m Trial 10 finished with value: 0.910025706940874 and parameters: {'classifier': 'SVC', 'C': 0.021415497922153415, 'kernel': 'rbf', 'degree': 2}. Best is trial 5 with value: 0.9217774513404333.\u001b[0m\n",
      "C:\\Users\\ΒΑΣΙΛΗΣ\\AppData\\Local\\Packages\\PythonSoftwareFoundation.Python.3.10_qbz5n2kfra8p0\\LocalCache\\local-packages\\Python310\\site-packages\\optuna\\distributions.py:668: UserWarning: The distribution is specified by [1e-08, 0.1] and step=1e-07, but the range is not divisible by `step`. It will be replaced by [1e-08, 0.09999991].\n",
      "  warnings.warn(\n",
      "\u001b[32m[I 2022-11-26 15:09:30,714]\u001b[0m Trial 11 finished with value: 0.9155343371281675 and parameters: {'classifier': 'MLPClassifier', 'activation': 'tanh', 'solver': 'adam', 'tol': 0.09636961, 'learning_rate': 'constant'}. Best is trial 5 with value: 0.9217774513404333.\u001b[0m\n",
      "C:\\Users\\ΒΑΣΙΛΗΣ\\AppData\\Local\\Packages\\PythonSoftwareFoundation.Python.3.10_qbz5n2kfra8p0\\LocalCache\\local-packages\\Python310\\site-packages\\optuna\\distributions.py:668: UserWarning: The distribution is specified by [1e-08, 0.1] and step=1e-07, but the range is not divisible by `step`. It will be replaced by [1e-08, 0.09999991].\n",
      "  warnings.warn(\n",
      "\u001b[32m[I 2022-11-26 15:09:31,007]\u001b[0m Trial 12 finished with value: 0.6603011384502387 and parameters: {'classifier': 'MLPClassifier', 'activation': 'relu', 'solver': 'sgd', 'tol': 0.09787560999999999, 'learning_rate': 'invscaling'}. Best is trial 5 with value: 0.9217774513404333.\u001b[0m\n",
      "C:\\Users\\ΒΑΣΙΛΗΣ\\AppData\\Local\\Packages\\PythonSoftwareFoundation.Python.3.10_qbz5n2kfra8p0\\LocalCache\\local-packages\\Python310\\site-packages\\optuna\\distributions.py:668: UserWarning: The distribution is specified by [1e-08, 0.1] and step=1e-07, but the range is not divisible by `step`. It will be replaced by [1e-08, 0.09999991].\n",
      "  warnings.warn(\n",
      "\u001b[32m[I 2022-11-26 15:09:31,420]\u001b[0m Trial 13 finished with value: 0.9136981270657363 and parameters: {'classifier': 'MLPClassifier', 'activation': 'tanh', 'solver': 'adam', 'tol': 0.09870410999999998, 'learning_rate': 'constant'}. Best is trial 5 with value: 0.9217774513404333.\u001b[0m\n",
      "C:\\Users\\ΒΑΣΙΛΗΣ\\AppData\\Local\\Packages\\PythonSoftwareFoundation.Python.3.10_qbz5n2kfra8p0\\LocalCache\\local-packages\\Python310\\site-packages\\optuna\\distributions.py:668: UserWarning: The distribution is specified by [1e-08, 0.1] and step=1e-07, but the range is not divisible by `step`. It will be replaced by [1e-08, 0.09999991].\n",
      "  warnings.warn(\n",
      "\u001b[32m[I 2022-11-26 15:09:31,764]\u001b[0m Trial 14 finished with value: 0.9166360631656262 and parameters: {'classifier': 'MLPClassifier', 'activation': 'relu', 'solver': 'adam', 'tol': 0.07340261, 'learning_rate': 'constant'}. Best is trial 5 with value: 0.9217774513404333.\u001b[0m\n",
      "\u001b[32m[I 2022-11-26 15:09:33,437]\u001b[0m Trial 15 finished with value: 0.9151670951156813 and parameters: {'classifier': 'SVC', 'C': 0.05995983323797849, 'kernel': 'rbf', 'degree': 18}. Best is trial 5 with value: 0.9217774513404333.\u001b[0m\n",
      "\u001b[32m[I 2022-11-26 15:09:34,411]\u001b[0m Trial 16 finished with value: 0.9239809034153507 and parameters: {'classifier': 'SVC', 'C': 0.6437102650254778, 'kernel': 'rbf', 'degree': 4}. Best is trial 16 with value: 0.9239809034153507.\u001b[0m\n",
      "\u001b[32m[I 2022-11-26 15:09:35,357]\u001b[0m Trial 17 finished with value: 0.9236136614028645 and parameters: {'classifier': 'SVC', 'C': 0.7269371220428666, 'kernel': 'rbf', 'degree': 2}. Best is trial 16 with value: 0.9239809034153507.\u001b[0m\n",
      "\u001b[32m[I 2022-11-26 15:09:36,305]\u001b[0m Trial 18 finished with value: 0.9236136614028645 and parameters: {'classifier': 'SVC', 'C': 0.7502945662145667, 'kernel': 'rbf', 'degree': 5}. Best is trial 16 with value: 0.9239809034153507.\u001b[0m\n",
      "\u001b[32m[I 2022-11-26 15:09:37,248]\u001b[0m Trial 19 finished with value: 0.9236136614028645 and parameters: {'classifier': 'SVC', 'C': 0.97298798364721, 'kernel': 'rbf', 'degree': 8}. Best is trial 16 with value: 0.9239809034153507.\u001b[0m\n",
      "\u001b[32m[I 2022-11-26 15:09:38,176]\u001b[0m Trial 20 finished with value: 0.6984943077488065 and parameters: {'classifier': 'SVC', 'C': 0.9308260387789045, 'kernel': 'sigmoid', 'degree': 11}. Best is trial 16 with value: 0.9239809034153507.\u001b[0m\n",
      "\u001b[32m[I 2022-11-26 15:09:39,168]\u001b[0m Trial 21 finished with value: 0.9239809034153507 and parameters: {'classifier': 'SVC', 'C': 0.6738648062413831, 'kernel': 'rbf', 'degree': 1}. Best is trial 16 with value: 0.9239809034153507.\u001b[0m\n",
      "\u001b[32m[I 2022-11-26 15:09:40,149]\u001b[0m Trial 22 finished with value: 0.9243481454278369 and parameters: {'classifier': 'SVC', 'C': 0.5730021547870259, 'kernel': 'rbf', 'degree': 10}. Best is trial 22 with value: 0.9243481454278369.\u001b[0m\n",
      "\u001b[32m[I 2022-11-26 15:09:41,125]\u001b[0m Trial 23 finished with value: 0.9239809034153507 and parameters: {'classifier': 'SVC', 'C': 0.6158444978761662, 'kernel': 'rbf', 'degree': 13}. Best is trial 22 with value: 0.9243481454278369.\u001b[0m\n",
      "\u001b[32m[I 2022-11-26 15:09:42,115]\u001b[0m Trial 24 finished with value: 0.9239809034153507 and parameters: {'classifier': 'SVC', 'C': 0.5368738043569333, 'kernel': 'rbf', 'degree': 14}. Best is trial 22 with value: 0.9243481454278369.\u001b[0m\n",
      "\u001b[32m[I 2022-11-26 15:09:43,111]\u001b[0m Trial 25 finished with value: 0.9243481454278369 and parameters: {'classifier': 'SVC', 'C': 0.5017875700872656, 'kernel': 'rbf', 'degree': 31}. Best is trial 22 with value: 0.9243481454278369.\u001b[0m\n",
      "\u001b[32m[I 2022-11-26 15:09:44,122]\u001b[0m Trial 26 finished with value: 0.9239809034153507 and parameters: {'classifier': 'SVC', 'C': 0.4818420371811636, 'kernel': 'rbf', 'degree': 31}. Best is trial 22 with value: 0.9243481454278369.\u001b[0m\n",
      "\u001b[32m[I 2022-11-26 15:09:45,147]\u001b[0m Trial 27 finished with value: 0.7065736320235035 and parameters: {'classifier': 'SVC', 'C': 0.4695419899247527, 'kernel': 'sigmoid', 'degree': 30}. Best is trial 22 with value: 0.9243481454278369.\u001b[0m\n",
      "\u001b[32m[I 2022-11-26 15:09:46,222]\u001b[0m Trial 28 finished with value: 0.922879177377892 and parameters: {'classifier': 'SVC', 'C': 0.34860440186861363, 'kernel': 'rbf', 'degree': 37}. Best is trial 22 with value: 0.9243481454278369.\u001b[0m\n",
      "\u001b[32m[I 2022-11-26 15:09:47,214]\u001b[0m Trial 29 finished with value: 0.9239809034153507 and parameters: {'classifier': 'SVC', 'C': 0.5295401774405143, 'kernel': 'rbf', 'degree': 33}. Best is trial 22 with value: 0.9243481454278369.\u001b[0m\n",
      "\u001b[32m[I 2022-11-26 15:09:48,203]\u001b[0m Trial 30 finished with value: 0.9243481454278369 and parameters: {'classifier': 'SVC', 'C': 0.5491675297363389, 'kernel': 'rbf', 'degree': 38}. Best is trial 22 with value: 0.9243481454278369.\u001b[0m\n",
      "\u001b[32m[I 2022-11-26 15:09:49,250]\u001b[0m Trial 31 finished with value: 0.9239809034153507 and parameters: {'classifier': 'SVC', 'C': 0.4405978459094531, 'kernel': 'rbf', 'degree': 35}. Best is trial 22 with value: 0.9243481454278369.\u001b[0m\n",
      "\u001b[32m[I 2022-11-26 15:09:50,219]\u001b[0m Trial 32 finished with value: 0.9236136614028645 and parameters: {'classifier': 'SVC', 'C': 0.7381848036140422, 'kernel': 'rbf', 'degree': 42}. Best is trial 22 with value: 0.9243481454278369.\u001b[0m\n",
      "\u001b[32m[I 2022-11-26 15:09:51,212]\u001b[0m Trial 33 finished with value: 0.9239809034153507 and parameters: {'classifier': 'SVC', 'C': 0.649536763857604, 'kernel': 'rbf', 'degree': 24}. Best is trial 22 with value: 0.9243481454278369.\u001b[0m\n",
      "\u001b[32m[I 2022-11-26 15:09:52,190]\u001b[0m Trial 34 finished with value: 0.9243481454278369 and parameters: {'classifier': 'SVC', 'C': 0.5730678851169471, 'kernel': 'rbf', 'degree': 8}. Best is trial 22 with value: 0.9243481454278369.\u001b[0m\n",
      "\u001b[32m[I 2022-11-26 15:09:53,197]\u001b[0m Trial 35 finished with value: 0.9243481454278369 and parameters: {'classifier': 'SVC', 'C': 0.5793450552911763, 'kernel': 'rbf', 'degree': 9}. Best is trial 22 with value: 0.9243481454278369.\u001b[0m\n",
      "\u001b[32m[I 2022-11-26 15:09:54,238]\u001b[0m Trial 36 finished with value: 0.7069408740359897 and parameters: {'classifier': 'SVC', 'C': 0.3985562977466516, 'kernel': 'sigmoid', 'degree': 28}. Best is trial 22 with value: 0.9243481454278369.\u001b[0m\n",
      "\u001b[32m[I 2022-11-26 15:09:55,198]\u001b[0m Trial 37 finished with value: 0.9243481454278369 and parameters: {'classifier': 'SVC', 'C': 0.8275995660241791, 'kernel': 'rbf', 'degree': 50}. Best is trial 22 with value: 0.9243481454278369.\u001b[0m\n",
      "\u001b[32m[I 2022-11-26 15:09:56,981]\u001b[0m Trial 38 finished with value: 0.689680499449137 and parameters: {'classifier': 'SVC', 'C': 0.8217182907707994, 'kernel': 'poly', 'degree': 9}. Best is trial 22 with value: 0.9243481454278369.\u001b[0m\n",
      "\u001b[32m[I 2022-11-26 15:09:57,904]\u001b[0m Trial 39 finished with value: 0.9243481454278369 and parameters: {'classifier': 'SVC', 'C': 0.8193105885793315, 'kernel': 'rbf', 'degree': 16}. Best is trial 22 with value: 0.9243481454278369.\u001b[0m\n",
      "\u001b[32m[I 2022-11-26 15:09:58,844]\u001b[0m Trial 40 finished with value: 0.6995960337862651 and parameters: {'classifier': 'SVC', 'C': 0.8457597902662093, 'kernel': 'sigmoid', 'degree': 15}. Best is trial 22 with value: 0.9243481454278369.\u001b[0m\n",
      "\u001b[32m[I 2022-11-26 15:09:59,937]\u001b[0m Trial 41 finished with value: 0.922879177377892 and parameters: {'classifier': 'SVC', 'C': 0.30344342885856457, 'kernel': 'rbf', 'degree': 50}. Best is trial 22 with value: 0.9243481454278369.\u001b[0m\n",
      "\u001b[32m[I 2022-11-26 15:10:00,876]\u001b[0m Trial 42 finished with value: 0.9239809034153507 and parameters: {'classifier': 'SVC', 'C': 0.7918580609392873, 'kernel': 'rbf', 'degree': 40}. Best is trial 22 with value: 0.9243481454278369.\u001b[0m\n",
      "\u001b[32m[I 2022-11-26 15:10:01,851]\u001b[0m Trial 43 finished with value: 0.9232464193903782 and parameters: {'classifier': 'SVC', 'C': 0.6965251049233111, 'kernel': 'rbf', 'degree': 45}. Best is trial 22 with value: 0.9243481454278369.\u001b[0m\n",
      "\u001b[32m[I 2022-11-26 15:10:03,320]\u001b[0m Trial 44 finished with value: 0.766801322071245 and parameters: {'classifier': 'SVC', 'C': 0.9069887635773992, 'kernel': 'poly', 'degree': 7}. Best is trial 22 with value: 0.9243481454278369.\u001b[0m\n",
      "C:\\Users\\ΒΑΣΙΛΗΣ\\AppData\\Local\\Packages\\PythonSoftwareFoundation.Python.3.10_qbz5n2kfra8p0\\LocalCache\\local-packages\\Python310\\site-packages\\optuna\\distributions.py:668: UserWarning: The distribution is specified by [1e-08, 0.1] and step=1e-07, but the range is not divisible by `step`. It will be replaced by [1e-08, 0.09999991].\n",
      "  warnings.warn(\n",
      "\u001b[32m[I 2022-11-26 15:10:03,549]\u001b[0m Trial 45 finished with value: 0.6573632023503488 and parameters: {'classifier': 'MLPClassifier', 'activation': 'identity', 'solver': 'sgd', 'tol': 0.0023775099999999998, 'learning_rate': 'invscaling'}. Best is trial 22 with value: 0.9243481454278369.\u001b[0m\n",
      "\u001b[32m[I 2022-11-26 15:10:04,536]\u001b[0m Trial 46 finished with value: 0.9247153874403232 and parameters: {'classifier': 'SVC', 'C': 0.5524889535377213, 'kernel': 'rbf', 'degree': 21}. Best is trial 46 with value: 0.9247153874403232.\u001b[0m\n",
      "C:\\Users\\ΒΑΣΙΛΗΣ\\AppData\\Local\\Packages\\PythonSoftwareFoundation.Python.3.10_qbz5n2kfra8p0\\LocalCache\\local-packages\\Python310\\site-packages\\optuna\\distributions.py:668: UserWarning: The distribution is specified by [1e-08, 0.1] and step=1e-07, but the range is not divisible by `step`. It will be replaced by [1e-08, 0.09999991].\n",
      "  warnings.warn(\n",
      "\u001b[32m[I 2022-11-26 15:10:04,875]\u001b[0m Trial 47 finished with value: 0.2699228791773779 and parameters: {'classifier': 'MLPClassifier', 'activation': 'logistic', 'solver': 'sgd', 'tol': 0.05976261, 'learning_rate': 'invscaling'}. Best is trial 46 with value: 0.9247153874403232.\u001b[0m\n",
      "\u001b[32m[I 2022-11-26 15:10:05,862]\u001b[0m Trial 48 finished with value: 0.9243481454278369 and parameters: {'classifier': 'SVC', 'C': 0.5357358452859617, 'kernel': 'rbf', 'degree': 20}. Best is trial 46 with value: 0.9247153874403232.\u001b[0m\n",
      "\u001b[32m[I 2022-11-26 15:10:08,169]\u001b[0m Trial 49 finished with value: 0.569225119353654 and parameters: {'classifier': 'SVC', 'C': 0.2505264164906259, 'kernel': 'poly', 'degree': 19}. Best is trial 46 with value: 0.9247153874403232.\u001b[0m\n",
      "C:\\Users\\ΒΑΣΙΛΗΣ\\AppData\\Local\\Packages\\PythonSoftwareFoundation.Python.3.10_qbz5n2kfra8p0\\LocalCache\\local-packages\\Python310\\site-packages\\optuna\\distributions.py:668: UserWarning: The distribution is specified by [1e-08, 0.1] and step=1e-07, but the range is not divisible by `step`. It will be replaced by [1e-08, 0.09999991].\n",
      "  warnings.warn(\n",
      "\u001b[32m[I 2022-11-26 15:10:08,514]\u001b[0m Trial 50 finished with value: 0.2699228791773779 and parameters: {'classifier': 'MLPClassifier', 'activation': 'logistic', 'solver': 'sgd', 'tol': 0.07513861, 'learning_rate': 'invscaling'}. Best is trial 46 with value: 0.9247153874403232.\u001b[0m\n",
      "\u001b[32m[I 2022-11-26 15:10:09,500]\u001b[0m Trial 51 finished with value: 0.9243481454278369 and parameters: {'classifier': 'SVC', 'C': 0.6071896655308008, 'kernel': 'rbf', 'degree': 23}. Best is trial 46 with value: 0.9247153874403232.\u001b[0m\n",
      "\u001b[32m[I 2022-11-26 15:10:10,501]\u001b[0m Trial 52 finished with value: 0.9239809034153507 and parameters: {'classifier': 'SVC', 'C': 0.5052222203475071, 'kernel': 'rbf', 'degree': 20}. Best is trial 46 with value: 0.9247153874403232.\u001b[0m\n",
      "\u001b[32m[I 2022-11-26 15:10:11,458]\u001b[0m Trial 53 finished with value: 0.9236136614028645 and parameters: {'classifier': 'SVC', 'C': 0.7735634829996826, 'kernel': 'rbf', 'degree': 16}. Best is trial 46 with value: 0.9247153874403232.\u001b[0m\n",
      "\u001b[32m[I 2022-11-26 15:10:12,432]\u001b[0m Trial 54 finished with value: 0.9243481454278369 and parameters: {'classifier': 'SVC', 'C': 0.6047786690132126, 'kernel': 'rbf', 'degree': 24}. Best is trial 46 with value: 0.9247153874403232.\u001b[0m\n",
      "\u001b[32m[I 2022-11-26 15:10:13,434]\u001b[0m Trial 55 finished with value: 0.9247153874403232 and parameters: {'classifier': 'SVC', 'C': 0.5659341639825659, 'kernel': 'rbf', 'degree': 23}. Best is trial 46 with value: 0.9247153874403232.\u001b[0m\n",
      "\u001b[32m[I 2022-11-26 15:10:14,385]\u001b[0m Trial 56 finished with value: 0.9250826294528094 and parameters: {'classifier': 'SVC', 'C': 0.8795797921348095, 'kernel': 'rbf', 'degree': 11}. Best is trial 56 with value: 0.9250826294528094.\u001b[0m\n",
      "\u001b[32m[I 2022-11-26 15:10:15,467]\u001b[0m Trial 57 finished with value: 0.9232464193903782 and parameters: {'classifier': 'SVC', 'C': 0.39556849452519804, 'kernel': 'rbf', 'degree': 26}. Best is trial 56 with value: 0.9250826294528094.\u001b[0m\n",
      "\u001b[32m[I 2022-11-26 15:10:16,444]\u001b[0m Trial 58 finished with value: 0.9239809034153507 and parameters: {'classifier': 'SVC', 'C': 0.6119023039158965, 'kernel': 'rbf', 'degree': 24}. Best is trial 56 with value: 0.9250826294528094.\u001b[0m\n",
      "C:\\Users\\ΒΑΣΙΛΗΣ\\AppData\\Local\\Packages\\PythonSoftwareFoundation.Python.3.10_qbz5n2kfra8p0\\LocalCache\\local-packages\\Python310\\site-packages\\optuna\\distributions.py:668: UserWarning: The distribution is specified by [1e-08, 0.1] and step=1e-07, but the range is not divisible by `step`. It will be replaced by [1e-08, 0.09999991].\n",
      "  warnings.warn(\n",
      "\u001b[32m[I 2022-11-26 15:10:16,734]\u001b[0m Trial 59 finished with value: 0.5776716856408373 and parameters: {'classifier': 'MLPClassifier', 'activation': 'relu', 'solver': 'sgd', 'tol': 0.03435751, 'learning_rate': 'invscaling'}. Best is trial 56 with value: 0.9250826294528094.\u001b[0m\n",
      "\u001b[32m[I 2022-11-26 15:10:18,644]\u001b[0m Trial 60 finished with value: 0.6929856775615131 and parameters: {'classifier': 'SVC', 'C': 0.9852556485344471, 'kernel': 'poly', 'degree': 11}. Best is trial 56 with value: 0.9250826294528094.\u001b[0m\n",
      "\u001b[32m[I 2022-11-26 15:10:19,642]\u001b[0m Trial 61 finished with value: 0.9247153874403232 and parameters: {'classifier': 'SVC', 'C': 0.5642135379264847, 'kernel': 'rbf', 'degree': 18}. Best is trial 56 with value: 0.9250826294528094.\u001b[0m\n",
      "\u001b[32m[I 2022-11-26 15:10:20,616]\u001b[0m Trial 62 finished with value: 0.9232464193903782 and parameters: {'classifier': 'SVC', 'C': 0.6931214545954818, 'kernel': 'rbf', 'degree': 22}. Best is trial 56 with value: 0.9250826294528094.\u001b[0m\n",
      "\u001b[32m[I 2022-11-26 15:10:21,624]\u001b[0m Trial 63 finished with value: 0.9243481454278369 and parameters: {'classifier': 'SVC', 'C': 0.571558787896942, 'kernel': 'rbf', 'degree': 12}. Best is trial 56 with value: 0.9250826294528094.\u001b[0m\n",
      "\u001b[32m[I 2022-11-26 15:10:23,026]\u001b[0m Trial 64 finished with value: 0.9192067572530297 and parameters: {'classifier': 'SVC', 'C': 0.10550768274197797, 'kernel': 'rbf', 'degree': 12}. Best is trial 56 with value: 0.9250826294528094.\u001b[0m\n",
      "\u001b[32m[I 2022-11-26 15:10:23,955]\u001b[0m Trial 65 finished with value: 0.9247153874403232 and parameters: {'classifier': 'SVC', 'C': 0.8953643982646164, 'kernel': 'rbf', 'degree': 16}. Best is trial 56 with value: 0.9250826294528094.\u001b[0m\n",
      "\u001b[32m[I 2022-11-26 15:10:24,911]\u001b[0m Trial 66 finished with value: 0.699228791773779 and parameters: {'classifier': 'SVC', 'C': 0.9117987480506465, 'kernel': 'sigmoid', 'degree': 17}. Best is trial 56 with value: 0.9250826294528094.\u001b[0m\n",
      "\u001b[32m[I 2022-11-26 15:10:25,918]\u001b[0m Trial 67 finished with value: 0.9239809034153507 and parameters: {'classifier': 'SVC', 'C': 0.4566585010188125, 'kernel': 'rbf', 'degree': 21}. Best is trial 56 with value: 0.9250826294528094.\u001b[0m\n",
      "\u001b[32m[I 2022-11-26 15:10:26,844]\u001b[0m Trial 68 finished with value: 0.9250826294528094 and parameters: {'classifier': 'SVC', 'C': 0.8878897755068408, 'kernel': 'rbf', 'degree': 18}. Best is trial 56 with value: 0.9250826294528094.\u001b[0m\n",
      "\u001b[32m[I 2022-11-26 15:10:27,788]\u001b[0m Trial 69 finished with value: 0.9250826294528094 and parameters: {'classifier': 'SVC', 'C': 0.874280663027208, 'kernel': 'rbf', 'degree': 14}. Best is trial 56 with value: 0.9250826294528094.\u001b[0m\n",
      "\u001b[32m[I 2022-11-26 15:10:28,761]\u001b[0m Trial 70 finished with value: 0.9250826294528094 and parameters: {'classifier': 'SVC', 'C': 0.8775103531545975, 'kernel': 'rbf', 'degree': 18}. Best is trial 56 with value: 0.9250826294528094.\u001b[0m\n",
      "\u001b[32m[I 2022-11-26 15:10:29,690]\u001b[0m Trial 71 finished with value: 0.9250826294528094 and parameters: {'classifier': 'SVC', 'C': 0.8813204841339365, 'kernel': 'rbf', 'degree': 18}. Best is trial 56 with value: 0.9250826294528094.\u001b[0m\n",
      "\u001b[32m[I 2022-11-26 15:10:30,625]\u001b[0m Trial 72 finished with value: 0.9250826294528094 and parameters: {'classifier': 'SVC', 'C': 0.8742882410721898, 'kernel': 'rbf', 'degree': 18}. Best is trial 56 with value: 0.9250826294528094.\u001b[0m\n",
      "\u001b[32m[I 2022-11-26 15:10:31,552]\u001b[0m Trial 73 finished with value: 0.9250826294528094 and parameters: {'classifier': 'SVC', 'C': 0.881856338514147, 'kernel': 'rbf', 'degree': 18}. Best is trial 56 with value: 0.9250826294528094.\u001b[0m\n",
      "\u001b[32m[I 2022-11-26 15:10:32,491]\u001b[0m Trial 74 finished with value: 0.9239809034153507 and parameters: {'classifier': 'SVC', 'C': 0.9515207046161103, 'kernel': 'rbf', 'degree': 14}. Best is trial 56 with value: 0.9250826294528094.\u001b[0m\n",
      "\u001b[32m[I 2022-11-26 15:10:33,418]\u001b[0m Trial 75 finished with value: 0.9250826294528094 and parameters: {'classifier': 'SVC', 'C': 0.8791234476435356, 'kernel': 'rbf', 'degree': 18}. Best is trial 56 with value: 0.9250826294528094.\u001b[0m\n",
      "\u001b[32m[I 2022-11-26 15:10:34,350]\u001b[0m Trial 76 finished with value: 0.9250826294528094 and parameters: {'classifier': 'SVC', 'C': 0.8775104436130429, 'kernel': 'rbf', 'degree': 14}. Best is trial 56 with value: 0.9250826294528094.\u001b[0m\n",
      "\u001b[32m[I 2022-11-26 15:10:35,282]\u001b[0m Trial 77 finished with value: 0.9243481454278369 and parameters: {'classifier': 'SVC', 'C': 0.8630029332937068, 'kernel': 'rbf', 'degree': 14}. Best is trial 56 with value: 0.9250826294528094.\u001b[0m\n",
      "\u001b[32m[I 2022-11-26 15:10:36,220]\u001b[0m Trial 78 finished with value: 0.9239809034153507 and parameters: {'classifier': 'SVC', 'C': 0.939601649638512, 'kernel': 'rbf', 'degree': 18}. Best is trial 56 with value: 0.9250826294528094.\u001b[0m\n",
      "C:\\Users\\ΒΑΣΙΛΗΣ\\AppData\\Local\\Packages\\PythonSoftwareFoundation.Python.3.10_qbz5n2kfra8p0\\LocalCache\\local-packages\\Python310\\site-packages\\optuna\\distributions.py:668: UserWarning: The distribution is specified by [1e-08, 0.1] and step=1e-07, but the range is not divisible by `step`. It will be replaced by [1e-08, 0.09999991].\n",
      "  warnings.warn(\n",
      "\u001b[32m[I 2022-11-26 15:10:36,442]\u001b[0m Trial 79 finished with value: 0.6243114212265883 and parameters: {'classifier': 'MLPClassifier', 'activation': 'identity', 'solver': 'sgd', 'tol': 0.07453451, 'learning_rate': 'invscaling'}. Best is trial 56 with value: 0.9250826294528094.\u001b[0m\n",
      "\u001b[32m[I 2022-11-26 15:10:37,405]\u001b[0m Trial 80 finished with value: 0.6984943077488065 and parameters: {'classifier': 'SVC', 'C': 0.9973702499824851, 'kernel': 'sigmoid', 'degree': 5}. Best is trial 56 with value: 0.9250826294528094.\u001b[0m\n",
      "\u001b[32m[I 2022-11-26 15:10:38,332]\u001b[0m Trial 81 finished with value: 0.9250826294528094 and parameters: {'classifier': 'SVC', 'C': 0.8903901741976435, 'kernel': 'rbf', 'degree': 18}. Best is trial 56 with value: 0.9250826294528094.\u001b[0m\n",
      "\u001b[32m[I 2022-11-26 15:10:39,260]\u001b[0m Trial 82 finished with value: 0.9250826294528094 and parameters: {'classifier': 'SVC', 'C': 0.8822040000758095, 'kernel': 'rbf', 'degree': 19}. Best is trial 56 with value: 0.9250826294528094.\u001b[0m\n",
      "\u001b[32m[I 2022-11-26 15:10:40,235]\u001b[0m Trial 83 finished with value: 0.9239809034153507 and parameters: {'classifier': 'SVC', 'C': 0.7890819405589569, 'kernel': 'rbf', 'degree': 13}. Best is trial 56 with value: 0.9250826294528094.\u001b[0m\n",
      "\u001b[32m[I 2022-11-26 15:10:41,187]\u001b[0m Trial 84 finished with value: 0.9243481454278369 and parameters: {'classifier': 'SVC', 'C': 0.8544139969274659, 'kernel': 'rbf', 'degree': 19}. Best is trial 56 with value: 0.9250826294528094.\u001b[0m\n",
      "\u001b[32m[I 2022-11-26 15:10:42,132]\u001b[0m Trial 85 finished with value: 0.9243481454278369 and parameters: {'classifier': 'SVC', 'C': 0.9322646875445716, 'kernel': 'rbf', 'degree': 16}. Best is trial 56 with value: 0.9250826294528094.\u001b[0m\n",
      "\u001b[32m[I 2022-11-26 15:10:43,082]\u001b[0m Trial 86 finished with value: 0.9239809034153507 and parameters: {'classifier': 'SVC', 'C': 0.9587273498700952, 'kernel': 'rbf', 'degree': 14}. Best is trial 56 with value: 0.9250826294528094.\u001b[0m\n",
      "\u001b[32m[I 2022-11-26 15:10:44,020]\u001b[0m Trial 87 finished with value: 0.9243481454278369 and parameters: {'classifier': 'SVC', 'C': 0.8301522390465966, 'kernel': 'rbf', 'degree': 15}. Best is trial 56 with value: 0.9250826294528094.\u001b[0m\n",
      "\u001b[32m[I 2022-11-26 15:10:44,956]\u001b[0m Trial 88 finished with value: 0.9243481454278369 and parameters: {'classifier': 'SVC', 'C': 0.9001408305443838, 'kernel': 'rbf', 'degree': 10}. Best is trial 56 with value: 0.9250826294528094.\u001b[0m\n",
      "\u001b[32m[I 2022-11-26 15:10:47,524]\u001b[0m Trial 89 finished with value: 0.5699596033786265 and parameters: {'classifier': 'SVC', 'C': 0.8056257674620869, 'kernel': 'poly', 'degree': 20}. Best is trial 56 with value: 0.9250826294528094.\u001b[0m\n",
      "\u001b[32m[I 2022-11-26 15:10:48,478]\u001b[0m Trial 90 finished with value: 0.9236136614028645 and parameters: {'classifier': 'SVC', 'C': 0.7563422214178598, 'kernel': 'rbf', 'degree': 17}. Best is trial 56 with value: 0.9250826294528094.\u001b[0m\n",
      "\u001b[32m[I 2022-11-26 15:10:49,404]\u001b[0m Trial 91 finished with value: 0.9250826294528094 and parameters: {'classifier': 'SVC', 'C': 0.8791542246453647, 'kernel': 'rbf', 'degree': 18}. Best is trial 56 with value: 0.9250826294528094.\u001b[0m\n",
      "\u001b[32m[I 2022-11-26 15:10:50,355]\u001b[0m Trial 92 finished with value: 0.9243481454278369 and parameters: {'classifier': 'SVC', 'C': 0.91819531250265, 'kernel': 'rbf', 'degree': 18}. Best is trial 56 with value: 0.9250826294528094.\u001b[0m\n",
      "\u001b[32m[I 2022-11-26 15:10:51,297]\u001b[0m Trial 93 finished with value: 0.9243481454278369 and parameters: {'classifier': 'SVC', 'C': 0.8564171743830076, 'kernel': 'rbf', 'degree': 21}. Best is trial 56 with value: 0.9250826294528094.\u001b[0m\n",
      "\u001b[32m[I 2022-11-26 15:10:52,239]\u001b[0m Trial 94 finished with value: 0.9250826294528094 and parameters: {'classifier': 'SVC', 'C': 0.8776485725729481, 'kernel': 'rbf', 'degree': 17}. Best is trial 56 with value: 0.9250826294528094.\u001b[0m\n",
      "\u001b[32m[I 2022-11-26 15:10:53,184]\u001b[0m Trial 95 finished with value: 0.9243481454278369 and parameters: {'classifier': 'SVC', 'C': 0.8375875345367269, 'kernel': 'rbf', 'degree': 12}. Best is trial 56 with value: 0.9250826294528094.\u001b[0m\n",
      "\u001b[32m[I 2022-11-26 15:10:54,091]\u001b[0m Trial 96 finished with value: 0.9236136614028645 and parameters: {'classifier': 'SVC', 'C': 0.9693423420912752, 'kernel': 'rbf', 'degree': 15}. Best is trial 56 with value: 0.9250826294528094.\u001b[0m\n",
      "C:\\Users\\ΒΑΣΙΛΗΣ\\AppData\\Local\\Packages\\PythonSoftwareFoundation.Python.3.10_qbz5n2kfra8p0\\LocalCache\\local-packages\\Python310\\site-packages\\optuna\\distributions.py:668: UserWarning: The distribution is specified by [1e-08, 0.1] and step=1e-07, but the range is not divisible by `step`. It will be replaced by [1e-08, 0.09999991].\n",
      "  warnings.warn(\n",
      "\u001b[32m[I 2022-11-26 15:10:54,594]\u001b[0m Trial 97 finished with value: 0.9181050312155711 and parameters: {'classifier': 'MLPClassifier', 'activation': 'relu', 'solver': 'adam', 'tol': 0.0036564099999999997, 'learning_rate': 'constant'}. Best is trial 56 with value: 0.9250826294528094.\u001b[0m\n",
      "\u001b[32m[I 2022-11-26 15:10:55,552]\u001b[0m Trial 98 finished with value: 0.6984943077488065 and parameters: {'classifier': 'SVC', 'C': 0.935077323923801, 'kernel': 'sigmoid', 'degree': 17}. Best is trial 56 with value: 0.9250826294528094.\u001b[0m\n",
      "\u001b[32m[I 2022-11-26 15:10:56,476]\u001b[0m Trial 99 finished with value: 0.9250826294528094 and parameters: {'classifier': 'SVC', 'C': 0.8910379938851419, 'kernel': 'rbf', 'degree': 22}. Best is trial 56 with value: 0.9250826294528094.\u001b[0m\n"
     ]
    }
   ],
   "source": [
    "import optuna\n",
    "import sklearn.datasets\n",
    "from sklearn.datasets import fetch_openml\n",
    "import sklearn.neural_network\n",
    "\n",
    "def objective(trial):\n",
    "    vr = VarianceThreshold(0.0001)\n",
    "    sc = StandardScaler()\n",
    "    #ros = RandomOverSampler()\n",
    "  \n",
    "    x_train, x_test, y_train, y_test = train_test_split(x, y,train_size=0.8,test_size=0.2, random_state=0)\n",
    "    y_train =  np.ravel(y_train)\n",
    "    y_test = np.ravel(y_test)\n",
    "    \n",
    "    x_train = vr.fit_transform(x_train)\n",
    "    mask = vr.get_support()\n",
    "    x_test = np.array(x_test)[:,mask]\n",
    "\n",
    "    x_train = sc.fit_transform(x_train)\n",
    "    x_test = sc.fit_transform(x_test)\n",
    "\n",
    "    # x_train,y_train = ros.fit_resample(x_train,y_train)\n",
    "    \n",
    "\n",
    "    # x = np.append(x_train, x_test).reshape(13611,16)\n",
    "    # y = np.append(y_train, y_test)\n",
    "\n",
    "    classifier_name = trial.suggest_categorical(\"classifier\", [\"MLPClassifier\",\n",
    "                                                               \"SVC\"])\n",
    "    if classifier_name==\"MLPClassifier\":\n",
    "\n",
    "        # Sample hyper parameters\n",
    "        activation = trial.suggest_categorical('activation', [\"identity\", \"logistic\", \"tanh\", \"relu\"])\n",
    "        solver = trial.suggest_categorical(\"solver\", \n",
    "                                              [\"sgd\", \"adam\"])\n",
    "        tol = trial.suggest_float('tol', 1e-8,1e-1, step= 1e-7)\n",
    "        learning_rate = trial.suggest_categorical('learning_rate', \n",
    "                                           [\"constant\",\"invscaling\"])\n",
    "        # Construct the model\n",
    "        clf = MLPClassifier(activation=activation,\n",
    "                               solver=solver,\n",
    "                              tol=tol,\n",
    "                               learning_rate=learning_rate\n",
    "                               )\n",
    "    elif classifier_name==\"SVC\":\n",
    "\n",
    "        # Sample hyper parameters\n",
    "        C = trial.suggest_float('C', 1e-10, 1)\n",
    "        kernel = trial.suggest_categorical('kernel',['poly','rbf','sigmoid'])\n",
    "        degree = trial.suggest_int('degree',1, 50)\n",
    "        #gamma = trial.suggest_loguniform('gamma',0.001,10000)\n",
    "\n",
    "        # Construct the model\n",
    "        # clf = SVC(C=C, kernel=kernel, degree=degree)\n",
    "        clf = SVC(C=C,kernel=kernel,degree=degree)\n",
    "    \n",
    "    # Train the model\n",
    "    clf.fit(x_train,y_train)\n",
    "\n",
    "    # Evaluate the model\n",
    "    # y_pred_test = clf.predict(x_test)\n",
    "    # loss = mean_squared_error(y_test,y_pred_test)\n",
    "\n",
    "    # print(\"Train Score:\",clf.score(x_train,y_train))\n",
    "    \n",
    "    # print(\"\\n=================\")\n",
    "    return clf.score(x_test,y_test)\n",
    "\n",
    "\n",
    "    \n",
    "\n",
    "study = optuna.create_study(direction='maximize')\n",
    "study.optimize(objective, n_trials=100)\n"
   ]
  },
  {
   "cell_type": "code",
   "execution_count": null,
   "metadata": {},
   "outputs": [
    {
     "data": {
      "text/plain": [
       "False"
      ]
     },
     "execution_count": 111,
     "metadata": {},
     "output_type": "execute_result"
    }
   ],
   "source": []
  },
  {
   "cell_type": "code",
   "execution_count": null,
   "metadata": {},
   "outputs": [],
   "source": []
  }
 ],
 "metadata": {
  "kernelspec": {
   "display_name": "Python 3.10.8 64-bit (microsoft store)",
   "language": "python",
   "name": "python3"
  },
  "language_info": {
   "codemirror_mode": {
    "name": "ipython",
    "version": 3
   },
   "file_extension": ".py",
   "mimetype": "text/x-python",
   "name": "python",
   "nbconvert_exporter": "python",
   "pygments_lexer": "ipython3",
   "version": "3.10.8"
  },
  "orig_nbformat": 4,
  "vscode": {
   "interpreter": {
    "hash": "05bf6954723d373e19203643aa44961c2ed94b1243a950da884af6122a33ba1c"
   }
  }
 },
 "nbformat": 4,
 "nbformat_minor": 2
}
