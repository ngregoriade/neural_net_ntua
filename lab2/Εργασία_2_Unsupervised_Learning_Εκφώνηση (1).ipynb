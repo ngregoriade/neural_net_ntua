{
  "cells": [
    {
      "cell_type": "markdown",
      "metadata": {
        "id": "hLFXD3IePSyL"
      },
      "source": [
        "# Εργαστηριακή Άσκηση 2. Μη επιβλεπόμενη μάθηση. \n",
        "## Σύστημα συστάσεων βασισμένο στο περιεχόμενο\n",
        "## Σημασιολογική απεικόνιση δεδομένων με χρήση SOM \n",
        "Ημερομηνία εκφώνησης της άσκησης: 29 Νοεμβρίου 2022\n",
        "\n",
        "**Θα βρείτε το παρόν σε μορφή jupyter notebook ως συνημμένο στο τέλος της εκφώνησης.**\n"
      ]
    },
    {
      "cell_type": "code",
      "execution_count": null,
      "metadata": {
        "id": "S5wbBzIYnird"
      },
      "outputs": [],
      "source": [
        "# !pip install --upgrade pip\n",
        "# !pip install --upgrade numpy\n",
        "# !pip install --upgrade pandas\n",
        "# !pip install --upgrade nltk\n",
        "# !pip install --upgrade scikit-learn\n",
        "# !pip install --upgrade joblib"
      ]
    },
    {
      "cell_type": "markdown",
      "metadata": {
        "id": "aViHqlQcPSyP"
      },
      "source": [
        "## Εισαγωγή του Dataset"
      ]
    },
    {
      "attachments": {},
      "cell_type": "markdown",
      "metadata": {},
      "source": [
        "Το σύνολο δεδομένων με το οποίο θα δaουλέψουμε είναι βασισμένο στο [Carnegie Mellon Movie Summary Corpus](http://www.cs.cmu.edu/~ark/personas/). Πρόκειται για ένα dataset με 22.301 περιγραφές ταινιών. Η περιγραφή κάθε ταινίας αποτελείται από τον τίτλο της, μια ή περισσότερες ετικέτες που χαρακτηρίζουν το είδος της ταινίας και τέλος τη σύνοψη της υπόθεσής της. Αρχικά εισάγουμε το dataset (χρησιμοποιήστε αυτούσιο τον κώδικα, δεν χρειάζεστε το αρχείο csv) στο dataframe `df_data_1`: "
      ]
    },
    {
      "cell_type": "code",
      "execution_count": null,
      "metadata": {
        "id": "62SOj46gPSyS"
      },
      "outputs": [],
      "source": [
        "import pandas as pd\n",
        "\n",
        "dataset_url = \"https://drive.google.com/uc?export=download&id=1zo13kUAf-MDMPZmBDxq1FxWtZY01lsxD\"\n",
        "df_data_1 = pd.read_csv(dataset_url, sep='\\t',  header=None, quoting=3)"
      ]
    },
    {
      "cell_type": "markdown",
      "metadata": {
        "id": "7TAEZGdIPSyW"
      },
      "source": [
        "Κάθε ομάδα θα δουλέψει σε **ένα μοναδικό υποσύνολο 5.000 ταινιών** (διαφορετικό dataset για κάθε ομάδα) ως εξής:\n",
        "\n",
        "1. Κάθε ομάδα του εργαστηρίου νευρωνικών έχει έναν αριθμό στο helios. Θα βάλετε τον αριθμό αυτό στη μεταβλητή team_seed_number στο επόμενο κελί κώδικα.\n",
        "\n",
        "2. Το data frame `df_data_2` έχει γραμμές όσες και οι ομάδες και 5.000 στήλες. Σε κάθε ομάδα αντιστοιχεί η γραμμή του πίνακα με το `team_seed_number` της. Η γραμμή αυτή θα περιλαμβάνει 5.000 διαφορετικούς αριθμούς που αντιστοιχούν σε ταινίες του αρχικού dataset. \n",
        "\n",
        "3. Τρέξτε τον κώδικα. Θα προκύψουν τα μοναδικά για κάθε ομάδα  titles, categories, catbins, summaries και corpus με τα οποία θα δουλέψετε."
      ]
    },
    {
      "cell_type": "code",
      "execution_count": null,
      "metadata": {
        "id": "2POlqDjkPSyY"
      },
      "outputs": [],
      "source": [
        "import numpy as np\n",
        "\n",
        "# Στο επόμενη γραμή βάλτε τον αριθμό της ομάδας στο εργαστήριο των νευρωνικών\n",
        "team_seed_number = 7\n",
        "\n",
        "movie_seeds_url = \"https://drive.google.com/uc?export=download&id=1g6F4TCHrs2wgtdOk7D3gtONaeirNt_Vo\"\n",
        "df_data_2 = pd.read_csv(movie_seeds_url, header=None)\n",
        "\n",
        "# επιλέγεται \n",
        "my_index = df_data_2.iloc[team_seed_number,:].values\n",
        "\n",
        "titles = df_data_1.iloc[:, [2]].values[my_index] # movie titles (string)\n",
        "categories = df_data_1.iloc[:, [3]].values[my_index] # movie categories (string)\n",
        "bins = df_data_1.iloc[:, [4]]\n",
        "catbins = bins[4].str.split(',', expand=True).values.astype(float)[my_index] # movie categories in binary form (1 feature per category)\n",
        "summaries =  df_data_1.iloc[:, [5]].values[my_index] # movie summaries (string)\n",
        "corpus = summaries[:,0].tolist() # list form of summaries\n",
        "corpus_df = pd.DataFrame(corpus) # dataframe version of corpus\n",
        "corpus_df.head()"
      ]
    },
    {
      "cell_type": "markdown",
      "metadata": {
        "id": "If66lkwxPSyb"
      },
      "source": [
        "- Ο πίνακας **titles** περιέχει τους τίτλους των ταινιών. Παράδειγμα: 'Sid and Nancy'.\n",
        "- O πίνακας **categories** περιέχει τις κατηγορίες (είδη) της ταινίας υπό τη μορφή string. Παράδειγμα: '\"Tragedy\",  \"Indie\",  \"Punk rock\",  \"Addiction Drama\",  \"Cult\",  \"Musical\",  \"Drama\",  \"Biopic \\[feature\\]\",  \"Romantic drama\",  \"Romance Film\",  \"Biographical film\"'. Παρατηρούμε ότι είναι μια comma separated λίστα strings, με κάθε string να είναι μια κατηγορία.\n",
        "- Ο πίνακας **catbins** περιλαμβάνει πάλι τις κατηγορίες των ταινιών αλλά σε δυαδική μορφή ([one hot encoding](https://hackernoon.com/what-is-one-hot-encoding-why-and-when-do-you-have-to-use-it-e3c6186d008f)). Έχει διαστάσεις 5.000 x 322 (όσες οι διαφορετικές κατηγορίες). Αν η ταινία ανήκει στο συγκεκριμένο είδος η αντίστοιχη στήλη παίρνει την τιμή 1, αλλιώς παίρνει την τιμή 0.\n",
        "- Ο πίνακας **summaries** και η λίστα **corpus** περιλαμβάνουν τις συνόψεις των ταινιών (η corpus είναι απλά ο summaries σε μορφή λίστας). Κάθε σύνοψη είναι ένα (συνήθως μεγάλο) string. Παράδειγμα: *'The film is based on the real story of a Soviet Internal Troops soldier who killed his entire unit  as a result of Dedovschina. The plot unfolds mostly on board of the prisoner transport rail car guarded by a unit of paramilitary conscripts.'*\n",
        "- το dataframe **corpus_df** που είναι απλά το corpus σε μορφή dataframe. Τα summaries βρίσκονται στην κολόνα 0. Πιθανώς να σας βολεύει να κάνετε κάποιες προεπεξεργασίες με dataframes.\n",
        "\n",
        "\n",
        "Θεωρούμε ως **ID** της κάθε ταινίας τον αριθμό γραμμής της ή το αντίστοιχο στοιχείο της λίστας. Παράδειγμα: για να τυπώσουμε τη σύνοψη της ταινίας με `ID=999` (την χιλιοστή) θα γράψουμε `print(corpus[999])`."
      ]
    },
    {
      "cell_type": "code",
      "execution_count": null,
      "metadata": {
        "id": "k_7A3KXLp0qS"
      },
      "outputs": [],
      "source": [
        "ID = 999\n",
        "print(titles[ID])\n",
        "print(categories[ID])\n",
        "print(catbins[ID])\n",
        "print(corpus[ID])"
      ]
    },
    {
      "cell_type": "markdown",
      "metadata": {
        "id": "UTNgwBfjPSyc"
      },
      "source": [
        "# Εφαρμογή 1. Υλοποίηση συστήματος συστάσεων ταινιών βασισμένο στο περιεχόμενο\n",
        "<img src=\"http://clture.org/wp-content/uploads/2015/12/Netflix-Streaming-End-of-Year-Posts.jpg\" width=\"70%\">"
      ]
    },
    {
      "cell_type": "markdown",
      "metadata": {
        "id": "rnA2RP8GPSyf"
      },
      "source": [
        "Η πρώτη εφαρμογή που θα αναπτύξετε θα είναι ένα [σύστημα συστάσεων](https://en.wikipedia.org/wiki/Recommender_system) ταινιών βασισμένο στο περιεχόμενο (content based recommender system). Τα συστήματα συστάσεων στοχεύουν στο να προτείνουν αυτόματα στο χρήστη αντικείμενα από μια συλλογή τα οποία ιδανικά θέλουμε να βρει ενδιαφέροντα ο χρήστης. Η κατηγοριοποίηση των συστημάτων συστάσεων βασίζεται στο πώς γίνεται η επιλογή (filtering) των συστηνόμενων αντικειμένων. Οι δύο κύριες κατηγορίες είναι η συνεργατική διήθηση (collaborative filtering) όπου το σύστημα προτείνει στο χρήστη αντικείμενα που έχουν αξιολογηθεί θετικά από χρήστες που έχουν παρόμοιο με αυτόν ιστορικό αξιολογήσεων και η διήθηση με βάση το περιεχόμενο (content based filtering), όπου προτείνονται στο χρήστη αντικείμενα με παρόμοιο περιεχόμενο (με βάση κάποια χαρακτηριστικά) με αυτά που έχει προηγουμένως αξιολογήσει θετικά.\n",
        "\n",
        "Το σύστημα συστάσεων που θα αναπτύξετε θα βασίζεται στο **περιεχόμενο** και συγκεκριμένα στις συνόψεις των ταινιών (corpus). \n"
      ]
    },
    {
      "cell_type": "markdown",
      "metadata": {
        "id": "l3nZv-xueEtd"
      },
      "source": [
        "## Προεπεξεργασία\n",
        "\n",
        "Το πρώτο βήμα στην επεξεργασία μας είναι ο καθαρισμός των περιγραφών των ταινιών. \n",
        "\n",
        "Εκτυπώστε (αρκετές) διαφορετικές περιγραφές ταινιών για να δείτε πιθανά προβλήματα που θα πρέπει να αντιμετωπιστούν.\n",
        "\n",
        "Τα (ελάχιστα) βήματα καθαρισμού που προτείνουμε είναι:\n",
        "- μετατροπή όλων των χαρακτήρων σε πεζά,\n",
        "- αφαίρεση των stopwords. Εδώ σημειώστε ότι για το δεδομένο task του συστήματος συστάσεων που είναι η πρόταση ταινιών ίσως θα είχαν ενδιαφέρον και λίστες stopwords πέραν αυτών της κοινής γλώσσας.\n",
        "- αφαίρεση σημείων στίξης και ειδικών χαρακτρήρων (special characters). Αυτό δεν γίνεται μόνο με την punkt του NLTK. Θα μπορούσατε να βασιστείτε σε κανονικές εκφράσεις (regular expressions), και\n",
        "- αφαίρεση πολυ σύντομων συμβολοσειρών.\n",
        "\n",
        "Προσοχή: το corpus και τα τελικά tokens που θα το αποτελούν θα χρησιμοποιηθούν στη συνέχεια ως κλειδιά για να βρούμε εμφυτεύματα. Για το λόγο αυτό, πρέπει να είστε προσεκτικοί ως προς την εφαρμογή μεθόδων κανονικοποίησης (text normalization) όπως το stemming και το lemmatization."
      ]
    },
    {
      "cell_type": "code",
      "execution_count": null,
      "metadata": {},
      "outputs": [],
      "source": [
        "import random\n",
        "import nltk\n",
        "from nltk.corpus import stopwords\n",
        "from nltk.tokenize import word_tokenize\n",
        "\n",
        "nltk.download('stopwords')\n",
        "\n",
        "new_corpus = corpus.copy()\n",
        "\n",
        "# all to lower case\n",
        "new_corpus = [x.lower() for x in new_corpus]\n",
        "\n",
        "# remove stop words\n",
        "stop_words = set(stopwords.words('english'))\n",
        "new_corpus = [' '.join([word for word in x.split() if word not in stop_words]) for x in new_corpus]\n",
        "\n",
        "# remove punctuation\n",
        "punct = '''!()-[]{}};:'\"\\,<>./?@#$%^&*_~–“”'''\n",
        "new_corpus = [''.join([word for word in x if word not in punct]) for x in new_corpus]\n",
        "\n",
        "\n",
        "# remove all words with length <= 3\n",
        "new_corpus = [' '.join([word for word in x.split() if len(word) > 3]) for x in new_corpus]\n",
        "\n",
        "# remove 's annotation for getting only the names and not the references to them\n",
        "for x in range(len(new_corpus)):\n",
        "    temp = []\n",
        "    for w in new_corpus[x].split():\n",
        "        if('\\'s' in w):\n",
        "            temp.append(w[:-2])\n",
        "        else:\n",
        "            temp.append(w)\n",
        "    new_corpus[x] = ' '.join(temp)\n",
        "\n",
        "\n",
        "\n",
        "# tokenize words\n",
        "new_corpus_tokens = [word_tokenize(x) for x in new_corpus]\n"
      ]
    },
    {
      "cell_type": "code",
      "execution_count": null,
      "metadata": {},
      "outputs": [],
      "source": [
        "new_corpus_tokens[10]"
      ]
    },
    {
      "cell_type": "code",
      "execution_count": null,
      "metadata": {},
      "outputs": [],
      "source": [
        "import os\n",
        "\n",
        "if os.path.exists(\"temp.txt\"):\n",
        "    os.remove(\"temp.txt\")\n",
        "\n",
        "with open(\"temp.txt\",\"x\",encoding=\"utf8\") as f:\n",
        "    for i in range(5000):\n",
        "        f.write(\"{}\\n\".format(titles[i][0]))"
      ]
    },
    {
      "cell_type": "code",
      "execution_count": null,
      "metadata": {},
      "outputs": [],
      "source": [
        "ids_we_know = [1915,272,1989,2687,299,482]"
      ]
    },
    {
      "cell_type": "markdown",
      "metadata": {
        "id": "DD5KuSKrxQ8I"
      },
      "source": [
        "## Μετατροπή σε TFIDF\n",
        "\n",
        "Το πρώτο βήμα θα είναι λοιπόν να μετατρέψετε το corpus σε αναπαράσταση tf-idf:"
      ]
    },
    {
      "cell_type": "code",
      "execution_count": null,
      "metadata": {
        "id": "s5YP6XCZPSyh"
      },
      "outputs": [],
      "source": [
        "from sklearn.feature_extraction.text import TfidfVectorizer\n",
        "\n",
        "# create sparse tf_idf representation\n",
        "# best try TfidfVectorizer(max_df = 0.0007,min_df=0.0002,stop_words='english')\n",
        "vectorizer = TfidfVectorizer(max_df = 0.0007,min_df=0.0002,stop_words='english')\n",
        "vectorizer.fit(new_corpus)\n",
        "corpus_tf_idf_plain = vectorizer.transform(new_corpus)\n",
        "corpus_tf_idf = corpus_tf_idf_plain.toarray()"
      ]
    },
    {
      "cell_type": "markdown",
      "metadata": {
        "id": "H-uRZK3EPSyl"
      },
      "source": [
        "Η συνάρτηση [TfidfVectorizer](http://scikit-learn.org/stable/modules/generated/sklearn.feature_extraction.text.TfidfVectorizer.html) όπως καλείται εδώ **δεν είναι βελτιστοποιημένη**. Οι επιλογές των μεθόδων και παραμέτρων της μπορεί να έχουν **δραματική επίδραση στην ποιότητα των συστάσεων** και είναι διαφορετικές για κάθε dataset. Επίσης, οι επιλογές αυτές έχουν πολύ μεγάλη επίδραση και στη **διαστατικότητα και όγκο των δεδομένων**. Η διαστατικότητα των δεδομένων με τη σειρά της θα έχει πολύ μεγάλη επίδραση στους **χρόνους εκπαίδευσης**, ιδιαίτερα στη δεύτερη εφαρμογή της άσκησης.\n",
        "\n",
        "Προσοχή: ο TfidfVectorizer έχει κάποιες δυνατότητες προεπεξεργασίας παρόποιες με αυτές που αναφέραμε στην προηγούμενη ενότητα. Ό,τι προεπεξεργασία μπορείτε να κάνετε που χρειάζεται ως είσοδο μόνο το κάθε document ξεχωριστά, κάντε την στο πρώτο βήμα της προεπεξεργασίας. Αν χρειάζεται γνώση των συνολικών στατιστικών της συλλογής, κάντε την με τον TfidfVectorizer."
      ]
    },
    {
      "cell_type": "code",
      "execution_count": null,
      "metadata": {
        "id": "y_Cw0brpnisF"
      },
      "outputs": [],
      "source": [
        "print(corpus_tf_idf_plain.shape)"
      ]
    },
    {
      "cell_type": "markdown",
      "metadata": {
        "id": "3LsmvSyVykTU"
      },
      "source": [
        "## Υλοποίηση του συστήματος συστάσεων\n",
        "\n",
        "Το σύστημα συστάσεων που θα υλοποιήσετε θα είναι μια συνάρτηση `content_recommender` με τρία ορίσματα: `target_movie`, `max_recommendations` και `corpus_type`. Στην `target_movie` περνάμε το ID μιας ταινίας-στόχου για την οποία μας ενδιαφέρει να βρούμε παρόμοιες ως προς το περιεχόμενο (τη σύνοψη) ταινίες, `max_recommendations` στο πλήθος.\n",
        "Υλοποιήστε τη συνάρτηση ως εξής: \n",
        "- για την ταινία-στόχο, θα υπολογίζετε την [ομοιότητα συνημιτόνου](https://en.wikipedia.org/wiki/Cosine_similarity) της με όλες τις ταινίες της συλλογής σας όπως αυτές αναπαριστώνται στο `corpus_type`.\n",
        "- με βάση την ομοιότητα συνημιτόνου που υπολογίσατε, δημιουργήστε ταξινομημένο πίνακα από το μεγαλύτερο στο μικρότερο, με τα indices (`ID`) των ταινιών. Παράδειγμα: αν η ταινία με index 1 έχει ομοιότητα συνημιτόνου με 3 ταινίες \\[0.2 1 0.6\\] (έχει ομοιότητα 1 με τον εαύτό της) ο ταξινομημένος αυτός πίνακας indices θα είναι \\[1 2 0\\].\n",
        "- Για την ταινία-στόχο εκτυπώστε: id, τίτλο, σύνοψη, κατηγορίες (categories)\n",
        "- Για τις `max_recommendations` ταινίες (πλην της ίδιας της ταινίας-στόχου που έχει cosine similarity 1 με τον εαυτό της) με τη μεγαλύτερη ομοιότητα συνημιτόνου (σε φθίνουσα σειρά), τυπώστε σειρά σύστασης (1 πιο κοντινή, 2 η δεύτερη πιο κοντινή κλπ), ομοιότητα συνημιτόνου, id, τίτλο, σύνοψη, και κατηγορίες (categories)\n"
      ]
    },
    {
      "cell_type": "code",
      "execution_count": null,
      "metadata": {},
      "outputs": [],
      "source": [
        "import scipy as sp"
      ]
    },
    {
      "cell_type": "code",
      "execution_count": null,
      "metadata": {},
      "outputs": [],
      "source": [
        "def movie_info(id):\n",
        "    print(\"ID : {}\".format(id))\n",
        "    print(\"Title : {}\".format(*titles[id]))\n",
        "    print(\"Corpus : {}\".format(corpus[id]))\n",
        "    print(\"Categories : {}\".format(*categories[id]))\n",
        "\n",
        "def cos_sim(A,B):\n",
        "\n",
        "    if np.linalg.norm(A) == 0.0 or np.linalg.norm(B) == 0.0: \n",
        "        return 0.0\n",
        "    \n",
        "    temp = np.dot(A,B)/(np.linalg.norm(A)*np.linalg.norm(B))\n",
        "\n",
        "    return np.dot(A,B)/(np.linalg.norm(A)*np.linalg.norm(B))\n",
        "\n",
        "\n",
        "\n",
        "\n",
        "def content_recommender(target_movie,max_recommendations,corpus_type):\n",
        "    mymov = corpus_type[target_movie]\n",
        "\n",
        "    similarities = [(i,cos_sim(mymov,corpus_type[i])) for i in range(len(corpus_type))]\n",
        "    similarities = sorted(similarities,reverse=True,key = lambda t : t[1])\n",
        "    \n",
        "\n",
        "    #\n",
        "    # print(similarities)\n",
        "\n",
        "    print(\"FOR TARGET MOVIE :\")\n",
        "    movie_info(target_movie)\n",
        "    print(\"--------------------\")\n",
        "    print(\"RECOMMENDATIONS :\")\n",
        "    for i in range(1,max_recommendations+1):\n",
        "        print(\"No. {}\\nSimilarity: {}\".format(i,similarities[i][1]))\n",
        "        movie_info(similarities[i][0])\n",
        "        print(\"--------------------\")\n",
        "\n"
      ]
    },
    {
      "cell_type": "code",
      "execution_count": null,
      "metadata": {},
      "outputs": [],
      "source": [
        "print(cos_sim(corpus_tf_idf[1989],corpus_tf_idf[44]))\n",
        "print(np.linalg.norm(corpus_tf_idf[44]))"
      ]
    },
    {
      "cell_type": "code",
      "execution_count": null,
      "metadata": {},
      "outputs": [],
      "source": [
        "#2922 482\n",
        "\n",
        "# print(corpus[1989])\n",
        "\n",
        "# print(corpus[2687])"
      ]
    },
    {
      "cell_type": "markdown",
      "metadata": {
        "id": "8IvHkTUHyu78"
      },
      "source": [
        "## Βελτιστοποίηση του TfidfVectorizer\n",
        "\n",
        "Αφού υλοποιήσετε τη συνάρτηση `content_recommender` χρησιμοποιήστε την για να βελτιστοποιήσετε την `TfidfVectorizer`. Συγκεκριμένα, αρχικά μπορείτε να δείτε τι επιστρέφει το σύστημα για τυχαίες ταινίες-στόχους και για ένα μικρό `max_recommendations` (2 ή 3). Αν σε κάποιες ταινίες το σύστημα μοιάζει να επιστρέφει σημασιολογικά κοντινές ταινίες σημειώστε το `ID` τους. Δοκιμάστε στη συνέχεια να βελτιστοποιήσετε την `TfidfVectorizer` για τα συγκεκριμένα `ID` ώστε να επιστρέφονται σημασιολογικά κοντινές ταινίες για μεγαλύτερο αριθμό `max_recommendations`. Παράλληλα, όσο βελτιστοποιείτε την `TfidfVectorizer`, θα πρέπει να λαμβάνετε καλές συστάσεις για μεγαλύτερο αριθμό τυχαίων ταινιών. \n",
        "\n",
        "Ταυτόχρονα, μια αντίρροπη κατά κάποιο τρόπο κατεύθυνση της βελτιστοποίησης είναι να χρησιμοποιείτε τις παραμέτρους του `TfidfVectorizer` έτσι ώστε να μειώνονται οι διαστάσεις του Vector Space Model μέχρι το σημείο που θα αρχίσει να εμφανίζονται επιπτώσεις στην ποιότητα των συστάσεων. \n",
        "\n",
        "\n"
      ]
    },
    {
      "cell_type": "code",
      "execution_count": null,
      "metadata": {},
      "outputs": [],
      "source": [
        "content_recommender(1989,10,corpus_tf_idf)"
      ]
    },
    {
      "cell_type": "code",
      "execution_count": null,
      "metadata": {},
      "outputs": [],
      "source": [
        "#cos_sim(corpus_tf_idf[1989],corpus_tf_idf[44]"
      ]
    },
    {
      "cell_type": "markdown",
      "metadata": {
        "id": "PSQ2tCs_hbaH"
      },
      "source": [
        "## Βαθιά μάθηση: δημιουργία corpora με χρήση word emmbeddings\n",
        "\n",
        "Η προσέγγιση της κατασκευής μόνο μέσω tfidf του συστήματος συστάσεων έχει διάφορα μειονεκτήματα. Θα μας ενδιέφερε λοιπόν να δούμε αν μπορούμε να χρησιμοποιήσουμε για τις λέξεις **εμφυτεύματα (embeddings)**, δηλαδή τις πυκνές διανυσματικές αναπαραστάσεις για τις λέξεις που μας δίνει το μοντέλο **Word2Vec**\n",
        "\n",
        "Ωστόσο, το dataset της κάθε ομάδας είναι πολύ μικρό για να εξάγουμε τα δικά μας word embeddings (και να είναι καλά). Για το λόγο αυτό θα χρησιμοποιήσουμε τη μεθοδολογία της Βαθιάς Μάθησης που είναι η **Μεταφορά Μάθησης (Transfer Learning).**.\n",
        "\n",
        "Στη μεταφορά μάθησης ουσιαστικά μεταφέρουμε τη γνώση που έχει αποκτήσει ένα ήδη εκπαιδευμένο (και κατά κανόνα πολύ μεγάλο) σύστημα. Η μεταφορά γίνεται διαμέσου των τιμών των βαρών που έχει προσδιορίσει μετά το πέρας της εκπαίδευσης.\n",
        "\n",
        "Στην περίπτωσή μας, δεν μας ενδιαφέρουν τόσο τα ίδια τα βάρη των μοντέλων από τα οποία θα κάνουμε μεταφορά μάθησης. Κάτι τέτοιο θα μας ενδιέφερε αν π.χ. θέλαμε να συνεχίσουμε την εκπαίδευση στα δικά μας κείμενα. Μας ενδιαφέρουν όμως τα ίδια τα εμφυτεύματα, δηλαδή τα embeddings (διανύσματα διαστάσεων $m$) που έχει μάθει το νευρωνικό για το λεξιλόγιο του (vocabulary). To vocabulary σε τέτοια μεγάλα νευρωνικά θα είναι πιθανότατα υπερσύνολο του δικού μας."
      ]
    },
    {
      "cell_type": "markdown",
      "metadata": {
        "id": "6UFGxnb9iknm"
      },
      "source": [
        "### Μεταφορά μάθησης εμφυτευμάτων\n",
        "\n"
      ]
    },
    {
      "cell_type": "markdown",
      "metadata": {
        "id": "G3Z28edwj4wF"
      },
      "source": [
        "#### Εμφυτεύματα του Gensim-data\n",
        "Το Gensim περιλαμβάνει αρκετά προεκπαιδευμένα μοντέλα εμφυτευμάτων Word2Vec. Με το επόμενο κελί παίρνουμε τη λίστα τους."
      ]
    },
    {
      "cell_type": "code",
      "execution_count": null,
      "metadata": {
        "id": "UX9ZkHSvi3Mi"
      },
      "outputs": [],
      "source": [
        "#!pip install -U gensim\n",
        "import gensim.downloader\n",
        "#print(list(gensim.downloader.info()['models'].keys()))"
      ]
    },
    {
      "cell_type": "markdown",
      "metadata": {
        "id": "mS0XEVWUi_0e"
      },
      "source": [
        "Τα μοντέλα αυτά βρίσκονται στο [αποθετήριο Gensim-data](https://github.com/RaRe-Technologies/gensim-data) όπου μπορείτε να βρείτε και την τεκμηρίωσή τους. Η φόρτωση των μοντέλων αυτών γίνεται με τη συνάρτηση `gensim.downloader.load`."
      ]
    },
    {
      "cell_type": "markdown",
      "metadata": {
        "id": "IfNs5fMAkADF"
      },
      "source": [
        "#### Άλλα εμφυτεύμαατα\n",
        "Μπορείτε να βρείτε προεκπαιδευμένα εμφυτεύματα και από πηγές εκτός του Gensim. Για παράδειγμα:\n",
        "\n",
        "- [Google News dataset](https://code.google.com/archive/p/word2vec/). Πρόκειται για προ-εκπαιδευμένα διανύσματα που έχουν εκπαιδευτεί σε μέρος του συνόλου δεδομένων Google News (περίπου 100 δισεκατομμύρια λέξεις). Το μοντέλο περιέχει διανύσματα 300 διαστάσεων για 3 εκατομμύρια λέξεις και φράσεις.\n",
        "- [Amazon BlazingText](https://docs.aws.amazon.com/sagemaker/latest/dg/blazingtext.html). Το BlazingText δεν είναι μόνο προεκπαιδευμένα εμφυτεύματα αλλα και βελτιστοποιημένες υλοποιήσεις των αλγορίθμων Word2vec για την επεξεργασία κειμένου. Προυπόθεση είναι να δουλέψει κανείς στο SageMaker.\n",
        "\n",
        "Οι διαδικασίες φόρτωσης embeddings από εξωτερικά δεδομένα μπορεί να είναι ελαφρά διαφορετικές από αυτή του Gensim.\n",
        "\n"
      ]
    },
    {
      "cell_type": "markdown",
      "metadata": {
        "id": "qkkZE41d_DjX"
      },
      "source": [
        "#### Παρατηρήσεις\n",
        "\n",
        "*   Επαναλαμβάνουμε ότι στην εργασία αυτή δεν μας ενδιαφέρουν τα ίδια τα μοντέλα αλλά το να μπορούμε για μία λέξη του λεξιλογίου μας να μπορούμε να βρούμε το embedding (διάνυσμα) που της αντιστοιχεί στο εκάστοτε προεκπαιδευμένο μοντέλο. \n",
        "\n",
        "*   Επίσης, δεν θα χρησιμοποιήσουμε την `Phrases` για να βρούμε bigrams στο dataset μας όπως θα ήταν το ορθότερο, καθώς αυτό θα απαιτούσε την συνέχιση της εκπαίδευσης του μοντέλου σε νέο λεξιλόγιο με πολύ λίγα νέα δεδομένα.\n"
      ]
    },
    {
      "cell_type": "markdown",
      "metadata": {
        "id": "aF6bQOziqISL"
      },
      "source": [
        " ### Δημιουργία corpora βασισμένων στα εμφυτεύματα\n",
        "\n",
        "Για να μπορέσουμε να ενσωματώσουμε τη γνώση που υπάρχει στα προεκπαιδευμένα εμφυτεύματα στο δικό μας corpus θα προχωρήσουμε όπως περιγράφεται ακολούθως.\n",
        "\n",
        "Για κάθε περιγραφή ταινίας $d$, η οποία αποτελείται από τις $N_d$ λέξεις $w_i$, το  $tfidf$ της κάθε λέξης $w_i$ δίνεται από τη σχέση:\n",
        "\n",
        "$$ tfidf(w_i) = tf(w_i,d) \\cdot idf(w_i)$$\n",
        "\n",
        "Ταυτόχρονα, σε κάθε λέξη $w_i$ αντιστοιχεί ένα διάνυσμα $W2V(w_i)$ από το μοντέλο εμφυτευμάτων που έχουμε εισάγει. Τα διανύσματα εμφυτευμάτων $W2V$ θα έχουν διάσταση $m$, ανάλογα το μοντέλο. \n",
        "\n",
        "Για κάθε ταινία d, μπορούμε να δημιουργήσουμε μια διανυσματική αναπαράσταση $W2V(d)$ διαστάσεων $m$ χρησιμοποιώντας το $tfidf(w_i)$ ως συντελεστή βαρύτητας για κάθε εμφύτευμα $W2V(w_i)$:\n",
        "\n",
        "$$ W2V(d) = \\frac{tfidf(w_1)\\cdot W2V(w_i) + tfidf(w_2)\\cdot W2V(w_2) + \\dotsc  + tfidf(w_{N_{d}})\\cdot W2V(w_{N_{d}})}{tfidf(w_1)+tfidf(w_2)+ \\dotsc + tfidf(w_{N_{d}})}$$\n"
      ]
    },
    {
      "cell_type": "markdown",
      "metadata": {
        "id": "Umbd7mv__be8"
      },
      "source": [
        "#### build_tfw2v\n",
        "\n",
        "Υλοποιήστε μια συνάρτηση `build_tfw2v` με ορίσματα:\n",
        "- `corpus` που θα είναι το προεπεξεργασμένο dataset σας,\n",
        "- `vectors` που θα είναι το μοντέλο που θα σας δίνει τα διανύσματα των εμφυτεύσεων vectors, και \n",
        "- `embeddings_size` που θα είναι η διάσταση των εμφυτευμάτων $m$.\n",
        "\n",
        "H συνάρτηση αυτή θα επιστρέφει ένα νέο corpus που θα είναι ένας πίνακας 5000 (όσες οι ταινίες σας) x $m$ (το η διάσταση των εμφυτευμάτων). Ανάλογα ποιο μοντέλο χρησιμποιείτε για transfer learning ο πίνακας αυτός θα είναι διαφορετικός.\n",
        "\n",
        "Μπορείτε πλεόν να καλείτε την `content_recommender` με διαφορετικά corpora στο όρισμα `corpus_type`. Σημειώστε ότι στο TFidfVectorizer χρησιμοποιουμε τη σειριακή μορφή των numpy arrays και ίσως σας χρησιμεύσει η `sparse.csr_matrix()` από την Scipy."
      ]
    },
    {
      "cell_type": "code",
      "execution_count": null,
      "metadata": {},
      "outputs": [],
      "source": [
        "def build_tfw2v(corpus,vectors,embeddings_size):\n",
        "    vectorizer = TfidfVectorizer(max_df = 0.0009,min_df=0.0003,stop_words='english')\n",
        "    vectorizer.fit(corpus)\n",
        "    corpus_tf_idf_plain = vectorizer.transform(corpus)\n",
        "    corpus_tf_idf = corpus_tf_idf_plain.toarray()\n",
        "\n",
        "    tfw2v = np.zeros((len(corpus),embeddings_size))\n",
        "\n",
        "    for i,c in enumerate(corpus):\n",
        "        temp = 0\n",
        "        for w in c.split(' '):\n",
        "            try:\n",
        "                tfw2v[i] += corpus_tf_idf[i][vectorizer.vocabulary_[w]] * vectors[w]\n",
        "            except:\n",
        "                tfw2v[i] += 0\n",
        "            \n",
        "            try:\n",
        "                temp += corpus_tf_idf[i][vectorizer.vocabulary_[w]]\n",
        "            except:\n",
        "                temp += 0\n",
        "\n",
        "        if(temp == 0):\n",
        "            tfw2v[i] = 100000000\n",
        "        else:\n",
        "            tfw2v[i] /= temp\n",
        "    \n",
        "    return np.array(tfw2v)\n",
        "\n",
        "def content_recommender_opt(target_movie,max_recommendations,corpus_type,vector_model):\n",
        "    corpus_type_opt = build_tfw2v(corpus_type,vector_model,len(vector_model[0]))\n",
        "    \n",
        "    mymov = corpus_type_opt[target_movie]\n",
        "\n",
        "    similarities = sorted([(i,cos_sim(mymov,corpus_type_opt[i])) for i in range(len(corpus_type_opt))],reverse=True,key=lambda t: t[1])\n",
        "\n",
        "    print(\"FOR TARGET MOVIE :\")\n",
        "    movie_info(target_movie)\n",
        "    print(\"--------------------\")\n",
        "    print(\"RECOMMENDATIONS :\")\n",
        "    for i in range(1,max_recommendations+1):\n",
        "        print(\"No. {}\\nSimilarity: {}\".format(i,similarities[i][1]))\n",
        "        movie_info(similarities[i][0])\n",
        "        print(\"--------------------\")"
      ]
    },
    {
      "cell_type": "code",
      "execution_count": null,
      "metadata": {},
      "outputs": [],
      "source": [
        "model1 = gensim.downloader.load('glove-wiki-gigaword-50')\n",
        "model2 = gensim.downloader.load('glove-wiki-gigaword-100')\n",
        "\n"
      ]
    },
    {
      "attachments": {},
      "cell_type": "markdown",
      "metadata": {},
      "source": [
        "meatballs 4427,2074\n",
        "superman 3170\n",
        "sniper 23---1809"
      ]
    },
    {
      "attachments": {},
      "cell_type": "markdown",
      "metadata": {},
      "source": [
        "## Cherry-picking\n",
        "Παραδείγματα cherry picking με τις αντίστοιχες εξόδους."
      ]
    },
    {
      "attachments": {},
      "cell_type": "markdown",
      "metadata": {},
      "source": [
        "##### Superman (ID: 3170)"
      ]
    },
    {
      "cell_type": "code",
      "execution_count": 78,
      "metadata": {},
      "outputs": [
        {
          "name": "stdout",
          "output_type": "stream",
          "text": [
            "FOR TARGET MOVIE :\n",
            "ID : 3170\n",
            "Title : Superman\n",
            "Corpus : On the planet Krypton, using evidence provided by scientist Jor-El, the Ruling Council sentences three attempted insurrectionists, General Zod, Ursa and Non, to \"eternal living death\" in the Phantom Zone. Despite his eminence, Jor-El is unable to convince the Council of his belief that Krypton will soon explode. To save his infant son Kal-El, Jor-El launches a spacecraft containing the child towards Earth, a distant planet with a suitable atmosphere, and where Kal-El's dense molecular structure will give him superhuman powers. Shortly after the launch, Krypton is destroyed. Three years later the ship lands near an American farming town, Smallville, where Kal-El is found by Jonathan and Martha Kent. The Kents take the child back to their farm and raised him as their own son, naming him Clark after Martha's maiden name. At age 18, soon after the death of Jonathan, Clark hears a psychic \"call\", discovering a glowing green crystal in the ship. It compels him to travel to the Arctic, where the crystal builds the Fortress of Solitude, resembling the architecture of Krypton. Inside, a vision of Jor-El explains Clark's origins, educating him in powers and responsibilities. After 12 years, with his powers fully developed, Clark leaves the Fortress with a colorful costume and becomes a reporter at the Daily Planet in Metropolis. He meets and develops a romantic attraction to coworker Lois Lane, but she sees him as awkward and unsophisticated. Lois becomes involved in a helicopter accident where conventional means of rescue are impossible, requiring Clark to use his powers in public for the first time to save her. The rescue of Air Force One and other good deeds make the mysterious \"caped wonder\" a celebrity. The hero visits Lois at home, takes her for a flight over the city, and allows her to interview him for an article in which she names him \"Superman.\" Meanwhile, criminal genius Lex Luthor has developed a cunning plan to make a fortune in real estate by buying large amounts of barren desert land and then diverting a nuclear missile test flight to the San Andreas Fault. The missile will sink California and leave Luthor's desert as the new West Coast of the United States, greatly increasing its value. After his incompetent henchman Otis accidentally redirects the first rocket to the wrong place, Luthor's girlfriend Eve Teschmacher successfully changes the course of a second missile. Knowing Superman could stop his plan, Luthor lures him to his underground lair and exposes him to Kryptonite. As Superman weakens, Luthor taunts him by revealing that the first missile is headed to Hackensack, New Jersey, in the opposite direction, knowing that Superman cannot stop both impacts. Teschmacher is horrified because her mother lives in Hackensack, but Luthor does not care and leaves Superman to a slow death. Teschmacher rescues Superman on the condition that he will deal with the New Jersey missile first. He is thus too late to stop the second impact, causing a massive earthquake which he battles to correct. While Superman is busy saving others, Lois's car falls into the ground due to an aftershock. It quickly fills with dirt and debris and she suffocates to death. Distraught at being unable to save Lois, Superman ignores Jor-El's warning not to interfere with human history, preferring to remember Jonathan Kent's advice that he must be on Earth for \"a reason\". He travels back in time in order to save Lois, altering history so that her car is never caught in the aftershock. Superman then delivers Luthor and Otis to prison and flies into the sunrise for further adventures.\n",
            "Categories : \"Science Fiction\",  \"Adventure\",  \"Superhero movie\",  \"Action/Adventure\",  \"Family Film\",  \"Action\"\n",
            "--------------------\n",
            "RECOMMENDATIONS :\n",
            "No. 1\n",
            "Similarity: 0.8969515339584705\n",
            "ID : 894\n",
            "Title : Superman II\n",
            "Corpus :  Prior to the destruction of Krypton, the criminals General Zod , Ursa  and Non  are sentenced by Jor-El to banishment into the Phantom Zone for insurrection, among other crimes. After traveling through the galaxy for many years, the Phantom Zone is shattered near Earth by the shockwave from the harmless detonation of a hydrogen bomb, which had been launched into space by Superman  after foiling a terrorists' plot to blow up Paris. The three Kryptonian criminals are freed from the Zone, finding themselves with super-powers granted by the yellow light of Earth's sun. After attacking human astronauts on the moon and the small town of East Houston, Idaho , the three travel to the White House and force the President of the United States  to surrender to Zod on behalf of the entire planet during an international television broadcast. When the President pleads for Superman to save the Earth, Zod recognizes Superman as \"the son of our jailer\" and vengefully demands that Superman come and \"kneel before Zod!\" Prior to Zod's arrival, the Daily Planet sends Clark Kent and Lois Lane  to Niagara Falls. Lois becomes suspicious that Clark is Superman and tries to lure him into revealing his identity by throwing herself into the Falls, but Clark manages to save her with subtle use of his powers. That night, Clark accidentally falls into the room's fireplace when trying to recover Lois' fallen hairbrush; when Lois discovers his hand is unburned, Clark is forced to admit he is Superman. He takes her to his Fortress of Solitude near the North Pole and shows her the traces of his past stored in the energy crystals of the Fortress, one of which is the green crystal that created the Fortress and opened Superman's contact with his parents. Superman decides to transform himself into a human by exposing himself to Red Kryptonian sunlight in a crystal chamber, giving up his powers to become romantically closer to Lois despite the pleas of the artificial intelligence of his mother, Lara. After spending the night together, the two return to populated areas by automobile, and learn of Zod's conquest of the world. Realizing that humanity cannot fight Zod themselves, Clark decides to return to the Fortress to try to reverse the transformation. Lex Luthor , who has escaped from prison, finds and infiltrates the Fortress before Superman and Lois arrive, learning of Superman's connection to Jor-El and General Zod. He offers to lead Zod to Jor-El's son in exchange for control of Australia. The three Kryptonians form an alliance with Luthor and go to the offices of the Daily Planet where they abduct Lois. Superman arrives, after having found the green crystal and reversing the transformation process, and battles the three in Metropolis. Zod realizes Superman cares for the innocent humans, and takes advantage of this weakness by threatening bystanders. To protect the city, Superman flies off towards his Fortress, but Zod, Ursa, and Non pursue, carrying Lois and Luthor . Upon arrival, Zod declares Luthor has outlived his usefulness and plans to kill both him and Superman. Superman tries to get Luthor to lure the three into the crystal chamber to depower them, but Luthor, eager to get back in Zod's favor, reveals the chamber's secret to the villains. Zod forces Superman to seemingly again undergo the process, only to realize too late that Superman, fully expecting Luthor's treachery, had already altered the process to expose everyone outside the chamber to the red light, removing the Kryptonian criminals' powers while leaving his own intact. After easily defeating the trio, Superman returns Luthor to the authorities and flies Lois to her home. At the Daily Planet the following day, Clark kisses Lois, using his abilities to wipe her mind of her knowledge that Clark and Superman are the same person. Superman restores the damage done by Zod. As he replaces the flag on top of the White House, Superman promises the President to never again abandon his duty, and flies into the sunrise for further adventures.\n",
            "Categories : \"Science Fiction\",  \"Adventure\",  \"Superhero movie\",  \"Superhero\",  \"Action/Adventure\",  \"Alien Film\",  \"Family Film\",  \"Action\"\n",
            "--------------------\n",
            "No. 2\n",
            "Similarity: 0.696266492642802\n",
            "ID : 3983\n",
            "Title : Superman Returns\n",
            "Corpus : Superman  has been missing for five years, since traveling to the location where astronomers believed they had discovered the remains of Krypton. During his absence, Superman's nemesis Lex Luthor  was released from prison  and married a rich widow  to obtain her fortune upon her death. Superman, having failed in his quest to find surviving Kryptonians, returns to Earth and, as Clark Kent, resumes his job at the Daily Planet in Metropolis. He subsequently learns that Lois Lane  has won the Pulitzer Prize for her article \"Why the World Doesn't Need Superman.\" Meanwhile, Lex travels to the Fortress of Solitude and steals Kryptonian crystals, to use for an experiment that causes a mass power outage on the East Coast. The power loss interferes with the flight test of a space shuttle to be launched into space from its piggy-back mounting on an airliner, occupied by Lois Lane, who is covering the story. Clark flies into action as Superman and stops the plane from crashing onto a baseball stadium. The world rejoices at Superman's return, but he has difficulty coping with Lois' fiancé, Richard White , nephew of Daily Planet editor-in-chief Perry White , and their 5-year-old son, Jason . With Superman distracted by an out-of-control vehicle (a diversion involving Lex's partner-in-crime, Kitty Kowalski , Lex steals Kryptonite from the Metropolis Museum of Natural History. Perry then assigns Lois to interview Superman while Clark investigates the blackout. Lois and Jason inadvertently board Lex's yacht and are captured after Lois decides to investigate the blackout story, which she connects to Luthor's experiment. He reveals to them his latest scheme to grab land and power. By combining one of the stolen Kryptonian crystals with Kryptonite, Luthor can grow a new continental landmass in the Northern Atlantic Ocean, one that will cause sea levels to rise drastically, killing billions of people and affording him full control of the only available land for the survivors. Noticing Jason experience a slight reaction to Kryptonite, Lex asks who Jason's father really is; Lois asserts that the father is Richard. The crystal begins to create Lex's new landmass, while Lois attempts to escape but is attacked by a henchman. Jason throws a piano at the henchman, killing him and proving that he is actually Superman's son. Meanwhile, Superman is attempting to minimize the destruction in Metropolis caused by the new landmass' growth when Richard arrives in a sea plane to rescue Lois and Jason from the sinking yacht. Superman soon arrives to help and then flies off to find Lex. Meeting Lex, Superman discovers the landmass is filled with Kryptonite, which weakens him to the point that Lex and his henchmen are able to beat him. Superman is stabbed by Lex with a shard of Kryptonite and falls into the ocean. Lois makes Richard turn back to rescue Superman, whereupon she removes the Kryptonite from his back. Superman, after regaining his strength from the sun, lifts the landmass after putting layers of earth between him and the Kryptonite. Lex and Kitty escape in their helicopter; Kitty, unwilling to let billions of people die, tosses away the crystals that Lex stole from the Fortress of Solitude. She and Luthor are stranded on a tiny desert island when their helicopter runs out of fuel. Superman pushes the landmass into space with the crystals trapped on the landmass, but is weakened by the Kryptonite and crashes back to Earth. Doctors remove more Kryptonite from Superman's wound, but after it is removed they cannot penetrate his skin with their surgical tools. While Superman remains in a coma, Lois and Jason visit him at the hospital where Lois whispers something into Superman's ear and then kisses him. Superman later awakens and flies to visit Jason, reciting his father Jor-El's  last speech to Jason as he sleeps. Lois starts writing another article, titled “Why the World Needs Superman”. Superman reassures her that he is now back to stay, and flies off to low orbit, where he gazes down at the world, flying into the sunrise for further adventures.\n",
            "Categories : \"Science Fiction\",  \"Adventure\",  \"Superhero movie\",  \"Superhero\",  \"Action/Adventure\",  \"Fantasy\",  \"Action\"\n",
            "--------------------\n",
            "No. 3\n",
            "Similarity: 0.5301238383562973\n",
            "ID : 2791\n",
            "Title : A Hazard of Hearts\n",
            "Corpus : Compulsive gambler, Sir Giles Staverley, is tricked into gambling away his home by his old adversary Lord Harry Wrotham. As Staverley is distraught and desperate, Wrotham gives him one last chance - he will gamble everything Staverley has lost against Staverley's daughter's hand in marriage and her trust fund of 80,000 guineas. Staverley agrees and loses once again, but unable to face his daughter, Serena, he kills himself. Lord Justin Vulcan, a notoriously cool, clear-headed gambler, challenges Wrotham for the house and the girl and, much to Wrotham's disgust, wins. Justin now finds himself in possession of the house and Serena, but has no idea of what to do with them. After meeting Serena and realising that she is much younger and more attractive than he had imagined, he installs her as a guest at Mandrake, his family home, despite the opposition of Justin's mother, Lady Harriet Vulcan. As Lady Vulcan attempts to marry Serena off to anyone except her son, Serena and Justin become friends and he teaches her about Mandrake, the home he loves. A crisis forces Serena and Justin to confront their feelings for each other. Can the course of true love run smoothly for them?\n",
            "Categories : \"Romance Film\",  \"Drama\"\n",
            "--------------------\n",
            "No. 4\n",
            "Similarity: 0.5182486339718303\n",
            "ID : 1963\n",
            "Title : Clash of the Titans\n",
            "Corpus : King Acrisius of Argos  imprisons his daughter Danaë , jealous of her beauty. When the god Zeus  impregnates her, Acrisius sends his daughter and his newborn grandson Perseus to sea in a wooden coffin. In retribution, Zeus kills Acrisius and orders Poseidon , to release a gigantic sea monster called the Kraken to destroy Argos. Meanwhile, Danaë and Perseus safely float to the island of Seriphos, where Perseus grows to adulthood. Calibos ([[Neil McCarthy , son of the sea goddess Thetis , is a young man engaged to marry Princess Andromeda , the daughter of Queen Cassiopeia  and heir to the rich city of Joppa; but has destroyed Zeus's sacred flying horses . To punish him, Zeus transforms Calibos into a deformed monster and he is exiled by his people. In revenge, Thetis transports Perseus  from Seriphos to Joppa, where he learns that Andromeda is under a curse and cannot marry unless her suitor successfully answers a riddle, whose failures are burned at the stake. Perseus, wearing a helmet that renders its wearer invisible, captures Pegasus and follows Andromeda to learn a new riddle from Calibos. Perseus is nearly killed by Calibos but escapes, losing his helmet in the process. Perseus presents himself as suitor and correctly answers the riddle, presenting the severed hand of Calibos. Perseus wins Andromeda's hand in marriage. Calibos, finding that Thetis cannot act against Perseus, instead demands that she take vengeance on Joppa. At the wedding, Queen Cassiopeia compares Andromeda's beauty to that of Thetis herself, whereupon Thetis demands Andromeda be sacrificed to the Kraken on pain of Joppa's destruction.  Perseus seeks a way to defeat the Kraken, while Pegasus is captured by Calibos and his men. Zeus commands Athena  to give Perseus her owl Bubo; but she orders Hephaestus  to build a mechanical replica of Bubo instead, who leads Perseus to the Stygian Witches . By taking their magic eye Perseus forces them to reveal that the only way to defeat the Kraken is by using the head of Medusa the Gorgon, who in this version lives at the edge of the Underworld. There, Perseus kills Medusa's canine guardian Dioskilos, who slays one of Perseus's companions; whereas two others die on encounter with Medusa herself. Perseus uses the reflective underside of his shield to deceive Medusa, decapitates her, and collects her head; but the shield is dissolved by her blood. As Perseus and his party set to return, Calibos enters their camp and punctures the cloak carrying Medusa's head, causing her blood to produce giant scorpions. Most of the men are killed; but Perseus slays the last scorpion and thereafter kills Calibos.  Weakened by his struggle, Perseus sends Bubo to bring Pegasus; this Bubo does, and later diverts the Kraken until Perseus appears on Pegasus. In the subsequent battle, Bubo and Perseus use Medusa's head to turn the Kraken into stone, and free Andromeda. The gods predict that Perseus and Andromeda will live happily, rule wisely, and produce children, and Zeus forbids the other gods to pursue vengeance against them. The likenesses of Perseus, Andromeda, Pegasus, and Cassiopeia appear as constellations.\n",
            "Categories : \"Adventure\",  \"Stop motion\",  \"Costume drama\",  \"Action/Adventure\",  \"Fantasy\",  \"Monster\",  \"Family Film\",  \"Romance Film\"\n",
            "--------------------\n",
            "No. 5\n",
            "Similarity: 0.4922571140452625\n",
            "ID : 883\n",
            "Title : Food for the Gods\n",
            "Corpus : In the protagonist role, Yvette Lu is \"Sheenyana,\" a beautiful, mystic warrior and member of the fictional Kyontawa tribe—a post-Neolithic tribe of humans residing on a pristine forested world, presumably in the Alpha Centauri star system.During dialog, Dr. Denise Hanson, a character in the film, mentions that they have landed over four light-years from Earth. Alpha Centauri is approximately that same distance from Earth. In the story, the Kyontawa are the descendents of a highly advanced Asian civilization from Earth's forgotten history, which established a deep-space settlement on what is now Sheenyana's planet. Clearly, that high-tech civilization is no more and the Kyontawa's knowledge of it is limited to their religious mythology of \"Bird Gods\" who seeded their people from the sky. Their language  has similarities to Asian languages of Earth, particularly Japanese. After a NASA expedition lands in Sheenyana’s forest, Sheenyana saves the life of American astronaut Lt. Richard O’Conner . Their connection is immediate and, before long, the two fall into a forbidden affair—the foundation of a cultural clash which will threaten to rip them apart. When Sheenyana’s psychic visions foretell a coming danger from Earth, they lead her to the anguishing conclusion that the only way to save her people may be to sacrifice an innocent man—and the love of her life.\n",
            "Categories : \"Science Fiction\",  \"Adventure\",  \"Short Film\",  \"Drama\",  \"Fantasy\",  \"Romance Film\"\n",
            "--------------------\n"
          ]
        }
      ],
      "source": [
        "content_recommender_opt(3170,5,new_corpus,model2)"
      ]
    },
    {
      "attachments": {},
      "cell_type": "markdown",
      "metadata": {},
      "source": [
        "#### Snipper 2 (ID: 1809)"
      ]
    },
    {
      "cell_type": "code",
      "execution_count": 80,
      "metadata": {},
      "outputs": [
        {
          "name": "stdout",
          "output_type": "stream",
          "text": [
            "FOR TARGET MOVIE :\n",
            "ID : 1809\n",
            "Title : Sniper 2\n",
            "Corpus : Former U.S. Marine Corps scout sniper Thomas Beckett , who was discharged after his finger was amputated in the first film, is met by CIA officer James Eckles  and Colonel David McKenna  at his home in Montana. Despite losing his index finger he uses to shoot, Beckett still has the capability of firing a gun . Considering this, along with his impressive career from his time in the Marine Corps, Beckett is given a mission to assassinate renegade Serbian General Mile Valstoria , who is responsible for conducting hit-and-run ethnic cleansing operations in Muslim-populated areas in Serbia. The CIA fears that Valstoria's actions are threatening to inflame a larger conflict in the region. Given the details of the mission, Beckett requests that an additional man, a spotter, must come with him. At the U.S. embassy in Berlin, Beckett is introduced to his spotter, Jake Cole , an experienced U.S. Army sniper who is on death row for killing a federal officer who allegedly betrayed Cole's unit and had them killed during a mission. But Cole is released and offered amnesty if he takes part in the mission. After being dropped off into Serbia, Beckett and Cole make their way to a Catholic basilica. There, they meet an underground resistance member named Sophia . Sophia takes them to her apartment, which is perched high above the designated area where Valstoria is due to show up, near a government building. The next morning, Beckett assassinates his target. Even though the two men were far from Valstoria and used a diversionary device to cover the sound of the shot, the Serbs are able to track where the shot came from by noticing the smoke from the diversionary device that exploded. Noticing this, Beckett and Cole escape from the apartment before the Serbs are able to take them down. Cole and Beckett then move out to a nearby church that was meant to be a rendezvous point with Sophia, but the rendezvous is called off as Serb soldiers inspect the church unexpectedly. Cole and Beckett are forced to find an alternative plan. When they hitch a ride on a public tram, nearby soldiers stop the vehicle and try to arrest them, but the two operatives take over the tram and ram it into some police cars. They escape, running through the streets. Cole is captured and put into a prison where Valstoria's men keep their so-called 'special enemies', but Beckett is able to escape. Beckett meets Sophia that night, and the two make a plan to rescue Cole. With the help of Sophia's brothers, Zoran and Vojislav, the next day they box in military trucks carrying Cole and a fellow prisoner to a prison where Cole was to be executed. Beckett takes a concealed shot, killing the passenger while Sophia kills the driver. They then help Cole and Pavel , who is a pacifist and political dissident, out of the truck and into a van that Zoran brought. Cole admits to Beckett that the assassination of Valstoria was set up to get Cole caught and then rescue Pavel from jail. The rescue of Pavel turned out to be the real mission for the two but Beckett was not informed by the CIA of it, as the mission was meant for Cole to solely execute after being captured. That night, at an abandoned factory that was meant to be the designated extraction zone, the group is ambushed by Serb tank and infantry. Both Vojislav and Zoran are killed in the attack and, after escaping from the factory through a sewer, Beckett orders Sophia to break off from the group and leave, despite objections from Cole. A distance away from the factory, Pavel insists that they should head to Komra, a Muslim town where a friend of Pavel's, Nauzad , lives. As the group meets Nauzad, he offers to help get the men to the border by getting them to a bus that would get them there. Within a couple of hours they are on their way but, as they cross a river, they come across an unexpected checkpoint and end up heading to Simand, the secondary extraction point, on foot. Meanwhile, Cpt. Marks  inspects the bus that the three men just departed from and suspects that they are attempting to head to Simand. Marks orders a tracker, , to take his special forces unit to Simand. As the three men arrive at Simand, they are ambushed by the special forces team in a forest outside of town, and Pavel suffers a slight flesh wound in the arm. After the trio kills the entire team, they are forced to proceed into town. They disguise themselves by taking uniforms from some of the dead Serb soldiers, in case the Serbs set up a military presence in the town. However, even though the Serbs have not arrived yet, the tracker holds up in the town factory and snipes down the team. Beckett demands that Cole take Pavel to the extraction zone while he deals with the tracker. Cole is severely wounded by the sniper, but Beckett picks him off. Pavel and Becket carry the wounded Cole into the helicopter and leave, just as Serb reinforcements led by Cpt. Marks arrive. In the helicopter, Beckett and Pavel look at Cole as he is badly wounded. Cole says, \"Freedom!\" and succumbs to his wounds.\n",
            "Categories : \"Thriller\",  \"Action Thrillers\",  \"Television movie\",  \"Action/Adventure\",  \"War film\",  \"Action\"\n",
            "--------------------\n",
            "RECOMMENDATIONS :\n",
            "No. 1\n",
            "Similarity: 0.9147112022811722\n",
            "ID : 23\n",
            "Title : Sniper 3\n",
            "Corpus : Sniper Thomas Beckett  is hired by NSA officials William Avery  and Richard Addis ([[William Duffy  to perform a covert operation to eliminate a suspected terrorist kingpin in the People's Republic of Vietnam who was providing support for Jemaah Islamiyah. The kingpin turns out to be a thought-dead friend and war-buddy of Beckett's, Paul Finnegan . Because he views the mission as a very personal one, Beckett demands that he conduct the mission alone, without a spotter. The real purpose of the mission turns out to be something other than what Beckett was told. Beckett begins to suspect his employers' motives are not what they claimed after he is counter-sniped at after attempting to assassinate Finnegan. Beckett undertakes a mission of his own to get to the bottom of the mystery, involving escaping from capture by Vietnamese police, working with an NSA-recruited Vietnamese police operative Quan  and using his military training to search for Finnegan. By and large the plot focuses on governmental betrayal and resultant feelings of disillusion.\n",
            "Categories : \"Thriller\",  \"Action/Adventure\",  \"Action Thrillers\",  \"Action\"\n",
            "--------------------\n",
            "No. 2\n",
            "Similarity: 0.5185859483168863\n",
            "ID : 987\n",
            "Title : Tortured\n",
            "Corpus : FBI agent Kevin Cole goes undercover as Jimmy Vaughn, an organized crime enforcer. When he's ordered to undertake the week-long torture of accountant Archie Green, Kevin begins to question his role in government service, where often he must hurt or end another human being's life just to make a bust.\n",
            "Categories : \"Thriller\",  \"Crime Thriller\",  \"Gangster Film\",  \"Psychological thriller\"\n",
            "--------------------\n",
            "No. 3\n",
            "Similarity: 0.5096845341458568\n",
            "ID : 530\n",
            "Title : We Have a Pope\n",
            "Corpus : On the death of the pope, the conclave meets in Rome. Early ballots end with black smoke, since none of the main candidates reaches the quorum. After several rounds of voting, Cardinal Melville is elected, though he had not previously been considered a frontrunner. At the moment of the public announcement, with the faithful are gathered in St. Peter's Square and the cardinal proto-deacon ready to announce the name of the new pope, the newly-elected pope has a panic attack and fails to appear on the balcony. The spokesman of the Holy See evades questions from the press and the curiosity of the outside world by reporting that the new pontiff felt the need to sequester himself in prayer and reflection before taking office, and by explaining that he will make his official appearance within a few hours. This does not happen. In accordance with the laws of the Church, until the pope appears before the people on the balcony, the ceremony of election is not over and no one in the conclave can have contact with the outside world. The College of Cardinals, deeply concerned by the crisis and the depression from which the new pope seems to be suffering, calls in the psychoanalyst Professor Brezzi. The cardinals react to the psychoanalyst with some suspicion, but still allow him to examine the new pope. Brezzi, in the presence of the cardinals, tries to initiate a psychotherapy session which, however, fails to reveal anything to explain the depression and helplessness that plague the pontiff. Brezzi reveals that his ex-wife is also a psychoanalyst and the newly elected pope is taken secretly to see her, but escapes his minders and runs away during a walk. Unaware of his absence, the cardinals kill time by playing games, ranging from cards to an international volleyball tournament organized by Brezzi. Vatican spokesman Marcin Rajski makes everyone believe that the Pope is in his quarters in prayer, and eventually the cardinals find Melville and give him another chance to announce his acceptance. However, when Melville comes out onto the balcony he declines his new position, claiming \"I am not the leader you need,\" and retreats back into St. Peter's.\n",
            "Categories : \"Drama\",  \"Comedy\"\n",
            "--------------------\n",
            "No. 4\n",
            "Similarity: 0.5019599678121053\n",
            "ID : 383\n",
            "Title : Otaku no Video\n",
            "Corpus : The main character is a normal\"Otaku no Videos story starts out, more or less, like most every anime about anime fans since then. Normal guy meets otaku and gets sucked into the world of cosplay, doujinshi and video games, and life as he knew it changes forever.\" http://www.animenewsnetwork.com/buried-treasure/2007-11-15 Japanese male, Ken Kubo, living quite happily with his girlfriend Yoshiko and being a member of his college's tennis team, until he meets one of his former friends from high school, Tanaka. After Tanaka brings him into his circle of friends , Kubo soon makes the wish to become the Otaking, the King of all the otaku. He manages to create his own model kits, open shops, and even build a factory in China. Later, he loses it all when one of his rivals  takes control of his enterprise with Tanaka's unwitting aid. But after Kubo and Tanaka make peace, teaming up with hard-working artist Misuzu, Kubo and friends successfully take over the anime industry with a magical girl show, \"Misty May\". Once they have reached the peak of their ambitions, Ken and Tanaka create Otakuland, the equivalent of Disneyland for otaku \"Urayasu City is where Tokyo Disneyland is located.\" http://www.animeigo.com/liner/anime/otaku-no-video Many years later, Ken and Tanaka return to Otakuland in a post-apocalyptic submerged Japan and find its central structure, a giant robot, converted into a functional spaceship piloted by their old otaku friends. Miraculously rejuvenated, they fly off to space in search of the planet of Otaku.  A controversial & humorous part of Otaku no Video was the inclusion of live-action documentary excerpts, titled \"A Portrait of an Otaku\". In these segments, the documentary crew would interview an anonymous otaku, typically ashamed at being a fan and whose face are censored with a mosaic and have their voices digitally masked. The mock documentary segments serve as a counterpoint to the anime: while the anime emphasizes the camaradrie, creativity, and dreams of mainstream acceptance of otaku, the mock interviews exaggerate its negative qualities. The subjects run the gamut of the otaku subculture: the interviews cover a cosplayer who now works as a computer programmer and outright denies his cosplay days, even when presented with photographic evidence, but keeps his Char Aznable helmet in his desk drawer, an airsoft otaku, a garage kit otaku, and a shut-in who videorecords television programs for trade, but has not actually watched anything he's recorded. The interviews also contain fans who engage in a range of illicit or unsavory activities, such as cel thieves, a pornography fan attempting to manufacture glasses to defeat the mosaic censorship common in Japanese porno videos and who is shown masturbating during the interview, and a computer gamer, who looks like Gainax member Hideaki Anno, obsessed with a character in a hentai computer game . It is believed that all the subjects in the Portrait of An Otaku segments were Gainax employees or connected to Gainax at the time of filming.\"...the acting is particularly hammy, and each person is actually a friend or employee of Gainax...\" http://www.animenewsnetwork.com/buried-treasure/2007-11-15 The first otaku interviewed bore a remarkable resemblance to Toshio Okada, a principal founder in Gainax, in both background and physical appearance. The gaijin otaku, Shon Hernandez, has been confirmed to have been Craig York, who with Shon Howell and Lea Hernandez, whose names were borrowed for the character\"Shon Hernandez\" is a combination of Shon Howell and Lea Hernandez, who, together with Craig York , were the core of General Products USA.\" http://www.animeigo.com/liner/anime/otaku-no-video\", were the main staff of General Products USA, an early western branch of Gainax's merchandising in the early 1990s. The interview with \"Shon Hernandez\" has been a point of contention with Lea Hernandez, who, in an interview with PULP magazine, noted that the interview was unscripted and that Craig York had been fairly sincere in his thoughts and had felt that Gainax insulted their American members.Lea Hernandez, \"The Curse of Urusei Yatsura\", interview by PULP magazine, vol. 5, no. 8 , pp. 28–9. In the interview, the words spoken by Shon Hernandez in the background are noticeably different from what is shown on screen via subtitle . At FanimeCon 2003, Hiroshi Sato, an animator and another Gainax member, mentioned that he had been in one of the interviews in Otaku no Video. In Otaku no Video, the garage kit otaku was given the pseudonym \"Sato Hiroshi\" for the interview.\n",
            "Categories : \"Drama\",  \"Comedy\",  \"Animation\"\n",
            "--------------------\n",
            "No. 5\n",
            "Similarity: 0.5014588674753772\n",
            "ID : 1407\n",
            "Title : The Artist\n",
            "Corpus : In 1927, silent film star George Valentin is posing for pictures outside the premiere of his latest hit film, A Russian Affair, when a young woman, Peppy Miller, accidentally bumps into him. Valentin reacts with humor to the accident and shows off Peppy for the cameras. The next day, Peppy finds herself on the front page of Variety with the headline \"Who's That Girl?\" Later, Peppy auditions as a dancer and is spotted by Valentin, who insists that she have a part in Kinograph Studios' next production, despite objections from the studio boss, Al Zimmer. While performing a scene together, Valentin and Peppy show great chemistry, despite her being merely an extra. With a little guidance from Valentin , Peppy slowly rises through the industry, earning more prominent starring roles. Two years later, Zimmer announces the end of production of silent films at Kinograph Studios, but Valentin is dismissive, insisting that sound is just a fad. In a dream, Valentin begins hearing sounds from his environment, but cannot speak himself, then wakes up in a sweat. He decides to produce and direct his own silent film, financing it himself. The film opens on the same day as Peppy's new sound film as well as the 1929 Stock Market Crash. Now Valentin's only chance of avoiding bankruptcy is for his film to be a hit. Unfortunately audiences flock to Peppy's film instead and Valentin is ruined. His wife, Doris, kicks him out, and he moves into an apartment with his valet/chauffeur, Clifton, and his dog. Peppy goes on to become a major Hollywood star. Later, the bankrupt Valentin is forced to auction off all of his personal effects, and fires Clifton, telling him to get another job. Depressed and drunk, Valentin angrily sets a match to his private collection of his earlier films. As the nitrate film quickly blazes out of control he is overwhelmed by the smoke and passes out inside the burning house, still clutching a single film canister. However, Valentin's dog attracts the help of a nearby policeman, and after being rescued Valentin is hospitalized for injuries suffered in the fire. Peppy visits the hospital and discovers that the film he rescued is the one she was first in. She asks for him to be moved to her house to recuperate. Valentin awakens in a bed at her house, to find that Clifton is now working for Peppy. Valentin seems to remain dismissive of Peppy having taken him in, prompting Clifton to sternly remind Valentin of his changing luck. Peppy insists to Zimmer that Valentin co-star in her next film, threatening to quit Kinograph if Zimmer does not agree to her terms. After Valentin learns to his dismay that it had been Peppy that had purchased all his auctioned effects, he returns in despair to his burnt-out apartment. Peppy arrives, panicked, and finds that Valentin is about to attempt suicide. The two reconcile, and remembering Valentin's superb dancing ability, Peppy persuades Zimmer to let them make a musical together. Sound finally comes in as the film starts rolling for a dance scene with Peppy and Valentin. Once the choreography is complete, the two dancers are heard panting, and the only time in the film sound is heard coming from Peppy, who otherwise says nothing. The director of the musical calls out audibly, \"Cut!\" to which Zimmer adds: \"Perfect. Beautiful. Could you give me one more?\" Valentin, in his only audible line, replies \"With pleasure!\" revealing his strong French accent. The camera then pulls back to the sounds of the film crew as they prepare to shoot another take.\n",
            "Categories : \"Romance Film\",  \"Drama\",  \"Comedy film\"\n",
            "--------------------\n"
          ]
        }
      ],
      "source": [
        "content_recommender_opt(1809,5,new_corpus,model2)"
      ]
    },
    {
      "attachments": {},
      "cell_type": "markdown",
      "metadata": {},
      "source": [
        "## Nit-picking \n",
        "Παραδείγματα Nit-picking με τις αντίστοιχες εξόδους."
      ]
    },
    {
      "attachments": {},
      "cell_type": "markdown",
      "metadata": {},
      "source": [
        "#### Barbie Mariposa (ID: 2923)"
      ]
    },
    {
      "cell_type": "code",
      "execution_count": 82,
      "metadata": {},
      "outputs": [
        {
          "name": "stdout",
          "output_type": "stream",
          "text": [
            "FOR TARGET MOVIE :\n",
            "ID : 2922\n",
            "Title : Barbie Mariposa\n",
            "Corpus : Bibble is worried that he will embarrass himself and won't belong with his friend's friends, so Elina  tells him the story of Mariposa, a butterfly fairy who lives in far-off Flutterfield, a remote kingdom in Fairytopia populated by fairies with butterfly wings. Henna, the evil butterfly fairy and the attendant of the queen of Flutterfield, has poisoned the queen in an attempt to take over the kingdom. Due to this, the lights protecting Flutterfield are in danger of going out, as they go out only when the queen is dead. These lights protect Flutterfield from the \"Skeezites\", monsters who eat butterfly fairies,and are afraid of light. It is up to Mariposa and her friends/employers, Rayna and Rayla, to find an antidote to save the queen. They first travel according to the map, but when night falls, they are far from Flutterfield, and the Skeezites appear. They engage in a long chase scene, but Mariposa, Rayna and Rayla escape through a gate of red plants. However, the map gets chomped by an Skeezite. Mariposa remembers that there was a sun picture on the map, and she concludes that they should travel east, as toward the rising sun. They then arrive at the Wilderness, and encounter a little flying rabbit named Zinzie, who is a great thrower and loves fluttercorn, and leads them to a mermaid statue in exchange for a packet of fluttercorn. They end up all diving into a lake and find mermaids. Mariposa asks them to tell her the whereabouts of the Cave of Reflections, and the mermaids agree to help them, but they ask for one thing in exchange: Concho shells. However, little merbabies are sleeping and use these shells as pillows, and it is revealed that if you wake the baby, the baby cries and wakes a sea monster. Rayla finds a plant, and wraps it until it bears the shape of the conch shells. They gently swap the shells with the plant, but one of the babies is tickled on the nose by a little leaf that was not wrapped properly, and the baby wakes and starts crying. This wakes the other babies, who as well start crying, waking the sea monster. While Mariposa delivers the concho shells to the mermaids, Rayna, Zinzie and Rayla try to escape the sea monster by swimming in different directions. The mermaids help in the end, and they all escape the sea monster. Meanwhile, Queen Marabella has fallen ill, and the guards captured the prince who was trying to find the antidote. The Queen's captain of the guards holds him in an conversation, and another fairy sought the prince and freed him. That fairy is Willa, Mariposa's best friend. She tells the prince that she has spotted Henna doing evil things. So they decide to follow her, and the two find out that she had taken control over Skeezites by mixing a strange liquid and thistleburst; moreover, they discover that Henna was plotting to take over Flutterfield all this time. The mermaids tell the four braves where to find the Cave of Reflections, and they fly towards it eagerly, but find that the cave was guarded by Skeezites. Zinzie manages to trick the Skeezites, and the four escape into the cave. There, they find their reflections talking back to themselves. They finally meet the Fairy of the Cave, who leads the group to different sections, where she proclaims each time \"one of you must stay behind\". Mariposa was left as the last one, and the cave fairy guides her toward a place filled with stars. She tells that one star hold the antidote she needs. Mariposa eventually finds one , in which she used the archer's star pattern to locate it. This hints that this was the correct star, and for that reason, Mariposa is presented with larger, more beautiful sparkling wings. The four heroines arrive back just in time when the Skeezites start attacking everyone at the Royal fairy castle. Mariposa eventually discovers that it was Henna who poisoned the queen, so she races to cure her with the antidote. Henna tries stopping Mariposa from foiling her plans, but Mariposa eventually manages to heal Marabella before she dies. Henna leaves and goes away with the Skeezites under the pretense of not getting caught, thus fleeing from the light. After the big save, Queen Marabella presents each of the heroines with a crown of flowers. Since then, Mariposa felt she belonged, having learned that being herself is the best thing in life.\n",
            "Categories : \"Computer Animation\",  \"Family Film\",  \"Children's\",  \"Adventure\",  \"Animation\"\n",
            "--------------------\n",
            "RECOMMENDATIONS :\n",
            "No. 1\n",
            "Similarity: 0.6299559545224163\n",
            "ID : 2338\n",
            "Title : Yachts and Hearts, or The Opium Smugglers\n",
            "Corpus : Opium smugglers work in Sydney. There is a car chase which ends in a crash, a cabaret which turns into a church, a yacht race in Sydney harbour, and 40 bathing beauties.\n",
            "Categories : \"Silent film\"\n",
            "--------------------\n",
            "No. 2\n",
            "Similarity: 0.527032606623555\n",
            "ID : 3240\n",
            "Title : Little Red Rodent Hood\n",
            "Corpus : A grandmother mouse is telling her granddaughter a bedtime story, and so tells of Little Red Riding Hood , and her visit to Grandma's House, unaware that the wolf  is watching her. He takes a shortcut to Grandma's, only to find four others already there, who he forces out. Red comes along, and he speaks his cue line,  starting the chase. He pursues Red down the staircase, only to be propelled further than intended by a stick of butter. Sylvester then decides to blow the house up with dynamite, but accidentally sticks it into Hector's mouth, who then sticks it in the cat's mouth until it blows up. Sylvester next disguises himself as Red's fairy godmother, attempting to electrocute Red with a rigged wand. Sylvester's incantation is \"ragg mopp\" in reference to the 1950 pop song Rag Mop by The Ames Brothers. However, Hector unplugs the power so that it doesn't work. He then plugs it back in just as Sylvester tests it on himself. The mouse then tries to go outside, but is trapped once again. Underneath a cup, Sylvester watches as the mouse prepares something, revealed to be a miniature tank that packs a punch. He then traps the mouse by its hole. The grandmother describes how, to save herself, the mouse threw a stick of dynamite out, doing so to demonstrate. The mouse claims that it must have blown the cat up, to which Sylvester replies, \"You're not just whistling dixie, brother!\"\n",
            "Categories : \"Short Film\",  \"Family Film\",  \"Comedy film\",  \"Animation\"\n",
            "--------------------\n",
            "No. 3\n",
            "Similarity: 0.526565078027386\n",
            "ID : 4969\n",
            "Title : The Nature of the Beast\n",
            "Corpus :  The story is set in Southern California and a close-up of a beeper halfway through the film reveals that the action takes place in July 1993. Jack Powell  is a businessman with a wife and kids who live in San Diego. He's on his way home when he pulls over to the side of the road to check out a crime scene. The sheriff tells him a cut-up body has been found stuffed into the trunk of a Chrysler, and advises him not to stop and \"make any new friends.\" Policemen slam the trunk, revealing a name has been etched across the top: \"Hatchet Man.\" Further on down the road, Jack comes upon a hitchhiker and keeps on going. At a diner, he runs into the same man, who introduces himself as Adrian . Jack apologizes for not stopping and offers to buy Adrian lunch. Their waitress, Patsy , is dubbed \"Jingle Bells\" by Adrian because of the silver bracelets she wears on one wrist. Patsy talks excitedly about a briefcase full of $1.25 million in mob money that was stolen from a Las Vegas casino the previous day. Jack looks around nervously and slides his briefcase underneath the table. Adrian advises Jack that he can usually tell all he needs to know about a man within 2 minutes of meeting him, like is he a loser, is he a football star, or mr class president. Jack doesn't seem convinced before Adrian asks him what he's got in his briefcase. When Adrian gets up to make a move on Patsy in the kitchen, Jack ditches him and makes his escape. Now miles down the highway in his car, Jack listens as a radio newscaster  recounts the story of the stolen briefcase and discusses a string of murders in which all the victims have been dismembered. Jack is forced to turn back because a roadblock has been set up to cordon off a chemical spill. Jack books into a motel.In the middle of the night, Jack wakes up and walks outside his motel room to investigate another crime scene, this one located behind the diner where he and Adrian had lunch that day. He sees a severed arm with silver bracelets placed into a bag and Adrian hiding in the shadows. At this point in the film, given Jack's behavior in the diner and Adrian's pursuit of Patsy prior to her murder, we're led to believe that Jack stole the briefcase in Vegas and that Adrian is the Hatchet Man. Adrian joins Jack in his motel room and shoots up in the bathroom. This is the first scene in which Adrian discusses his misanthropic views: \"People scream evil like a motherfucker, unless it's their own evil. Then, it's cool.\" When heavy drug use appears to have rendered Adrian unconscious, Jack attempts to leave him again, but despite repeated and increasingly frantic attempts his car won't start. Adrian stumbles out of the motel and reveals that he has removed the plugs from Jack's car. He tells Jack in no uncertain terms not to leave again or \"I'll tell on you Jack I'll call the police\". In the morning, Jack and Adrian take to the road together. At a gas station, they meet a young hippie couple named Gerald  and Dahlia  who are traveling cross-country in a Volkswagen van. Adrian wants to hang out with the hippies, but Jack insists they keep going. They stop at a service station so Jack can have a busted water hose on his car replaced. As Jack deals with the attendant, Adrian browses a pet store called the Creepy Crawly Zoo. The owner, Harliss , shows Adrian a Gila Monster, which uses its viselike bite to inject deadly poison into the bloodstream. Back in the car, with Jack behind the wheel, Adrian uses the Gila Monster to reassert his power over Jack by throwing the monster onto Jacks lap while he drives. Jack struggles to maintain his composure and appears frozen by fear and anxiety. To compound matters Adrian then slams his foot onto the accelarator and the car almost loses control at speed and eventually shudders to a grinding halt before Adrian lets the Gila monster go and warns Jack on his previous disobedience, and tells Jack that he is \"one crazy motherfucker\" Jack and Adrian spend the night at a campsite, where they once again run into Gerald and Dahlia. Adrian gets high with the young couple while Jack broods outside the VW. When Dahlia says she and Gerald are \"family\" because they have the same aura, Jack replies, \"You don't know what a family is. How could you people do the things you do and be a family?\" Adrian accuses Jack of trying to scare the hippies off. Later, Jack finds Adrian having sex with Dahlia in the back of the VW while Gerald watches. Jack gets drunk and retires. Adrian shows up later and goads him on: \"Why don't you go to the van, Jack? You know you want to.\" After Jack and Adrian drive away in the morning, a shot of the VW shows blood smeared down the license plate and the name \"Hatchet Man\" etched across the back doors. The following night, Jack and Adrian stay at a secluded cabin that Jack inherited. For the first time we see the money that was stolen from the Vegas casino, which Jack and Adrian use to play poker. There is at this stage a degree of mutual acceptance in the air. Adrian prepares to shoot up again. When Jack lectures him about his \"problem,\" Adrian slaps him around and accuses him of being an alcoholic and a hypocrite. Adrian reveals the full extent of his misanthropy in a long monologue about human nature, saying there's a hole that \"rips inside everyone when they suck in their first screaming breath. It's why babies scream, Jack. I've seen men try to fill it with women, with other men, with the good book, with money, power, and everything you can think of on the planet. And you know what finally separates the men from the boys, Jackie Boy? The wisdom, the knowledge of the ages. That hole! it can't be filled... Every dark place in us, every rabid fucking impulse we have, is just the nature of the beast.\" Adrian releases Jack from his grip and returns to his drugs whilst advising Jack to do the same with his drink. Jack reacts by beating Adrian from behind with his briefcase, taping him to a chair and injecting him with a deadly mixture of alcohol and drugs. Adrian convulses and appears to expire, and Jack buries him in a shallow grave. Sheriff Gordon  and his deputy, Little David  show up to check on Jack, and over their shoulders Jack can see Adrian rising from the grave. The policemen are called away on a domestic disturbance and leave without noticing Adrian. Jack attempts to gun him down. After he's unloaded his shotgun, Adrian emerges from the shadows. In the film's final twist, Adrian makes Jack an offer: \"Tell me why you do it, and I'll tell you how I walked away with all that money from the Pot O' Gold Casino.\" Jack answers, \"People wait their whole lives for someone to come along and take away their misery. For a lucky few, I am that someone.\" When Adrian pleads with Jack as to why he cuts up the bodies into tiny little pieces, Jack removes a hatchet from his briefcase, and now in a far more confident baritone than he has displayed at any point in the film announces, \"For the fuck of it,\" and as the screen fades to black we are left only with the sounds of a violent struggle and left to conclude Jack has killed Adrian once and for all. The film ends with a satirical jab at suburban complacency. Jack returns home to San Diego and kisses his wife, Carol . The paperboy greets him and he replies cheerfully, \"Say, hey, Billy.\" As the film fades to black, a quote from the Book of Jeremiah appears on the screen: \"The heart is deceitful above all things and desperately wicked. Who can know it?\" This echoes an earlier statement made by Adrian, who said that human beings are essentially unknowable.\n",
            "Categories : \"Thriller\",  \"Horror\",  \"Psychological thriller\",  \"Mystery\",  \"Drama\",  \"War film\",  \"Crime Thriller\",  \"Action\",  \"Spy\"\n",
            "--------------------\n",
            "No. 4\n",
            "Similarity: 0.5159502687257708\n",
            "ID : 116\n",
            "Title : Hellboy: Blood and Iron\n",
            "Corpus : In a series of flashbacks played in reverse chronological order it is related that in 1939, young investigated a series of murders in Eastern Europe. , a vampiress who bathed in the blood of innocents to stay young, and sold her soul to the Queen of Witches, the goddess Hecate, was responsible, and had just kidnapped the fiancee of one of the townsmen. When the search party confronted Erzebet in her castle, all members of the party were horribly killed, and Bruttenholm was left to face her alone. He tricked her into the sunlight, effectively destroying her. In present the present day, an elderly Bruttenholm, who is overcome with memories of his encounter with Erzebet takes a particular interest in a publicity stunt in the Hampdens at Long Island that Manning attempts to assign out, insisting that their most advanced team Liz Sherman, Abe Sapien, and Hellboy and junior agent Sydney Leach as well as himself . Despite the fact this is a marketing campaign for Oliver Trumbolt, a friend of the governor with hands deep in the BPRD's budget and thusly is considered a low priority, Bruttenholm's insistence pays off, though he does not explain his motives until he is certain. Ana, a blushing bride to be is met on the streets by two elderly women who encourage her to go to her bridal gown fitting, and she meets with Erzebet who had unknowingly killed the shop owner Marie and her baby. Ana innocently comments that Erzebet reminds her of her \"older\" sister, offending her until she notices that Erzabet has no reflection. She screams, and everything goes dark. Later, being told that Father Lupescu was the one who convinced Ana to go to her fitting despite the disappearances of the young girls in the village, Erzabet pays him a visit, frightening him with her dark powers and confirming that his faith is not enough to keep her power from affecting the town. The BPRD team arrives and sets up to investigate a haunting that Oliver had called them for. Despite a few open windows, a creepy life-like replica of Erzabet and an old, suspiciously familiar looking groundskeeper, everything seems normal until night falls and they each encounter strange ghostly apparitions, culminating in dozens of spirits that were Erzabet's former victims. Excited that he may have found a goldmine, Trumbolt ignores the professor's warnings and is attacked. Ana goes to visit Father Lupescu who convinces her that she should not fear danger because the church is strong and the faith will keep her from harm, she hurries off to have her fitting done, running into Professor Bruttenholm as she leaves. He explains to Lupescu of Erzabet's true nature and her allegiance to Hecate, but he becomes offended and turns Bruttenholm away. Using his abilities to detect metal, Leach finds a secret passageway through the house's cellar, inadvertently coming across Trumbolde's body, drained of blood which was placed in a bath tub, for what is suspected to be for Erzabet's revival. Bruttenholm and Liz head for the gardens to stop Hecate and Erzabet's Harpy hags from summoning her back from the dead while a werewolf attacks Hellboy and Abe. Abe is knocked unconscious and taken by the harpies for experimentation while Hellboy fights the werewolf, eventually subduing it and revealing that it is Father Lupescu, the groundskeeper that Bruttenholm had earlier identified. Meanwhile, Liz and Bruttenholm are attacked, first by wolves, then by Erzabet's withered body who knocks Liz out and takes Bruttenholm. Hellboy is dropped through a hole in the courtyard and meets Hecate, who is perplexed why he helps the mortals and tries to lure him to the dark side. He blatantly refuses again, and again, forcing Hecate to take on a physical form to deal with him. After Abe escapes them, the harpies come across Hecate, but one is killed as she violently thrashes with Hellboy and the other escapes. Erzabet bathes in Trumbolde's blood and rejuvenates herself, but in an act that proves Bruttenholm still has fight in him, she begins to wither and decay again from the Holy Water he'd added to the bath. He breaks off a chair leg and finishes her off. Her death enrages Hecate who brutally attacks Hellboy and badly wounds him, and when he realizes her weakness is the sun he lures her outside, forcing her back into the darkness of her own realm, defeated. Bruttenholm is preparing for his trip to Transylvania where rumors have it that there is a vampire on the loose, as he is packing, his colleague comes in and they discuss the right hand of doom to which Bruttenholm asserts that so long as evil exists, good will rise up against it. Before revealing an image of Hellboy's right hand, signifying that he will be responsible for the destruction of the world. Hellboy wakens in his bed, admiring Bruttenholm, his adopted father before falling back to sleep again.\n",
            "Categories : \"Thriller\",  \"Horror\",  \"Superhero movie\",  \"Creature Film\",  \"Superhero\",  \"Animation\",  \"Action/Adventure\",  \"Anime\",  \"Fantasy\",  \"Action\"\n",
            "--------------------\n",
            "No. 5\n",
            "Similarity: 0.5157070212193487\n",
            "ID : 4979\n",
            "Title : Invitation to the Dance\n",
            "Corpus : The first segment, \"Circus\", set to original music composed for the film by Jacques Ibert, is a tragic love triangle set in a mythical land sometime in the past. Kelly plays a clown, who is in love with another circus performer, played by Claire Sombert. She, however, is in love with an aerialist, played by Youskevitch. The second segment, \"Ring Around the Rosy\", set to original music by André Previn, tells several romantic stories tied by the exchange of a gold bracelet. The bracelet is originally given by a husband  to his wife Daphne Dale. She gives it to a flirtatious artist , at a party, infuriating the husband, who stalks off. The artist gives the bracelet to a model ([[Claude Bessy , and the bracelet changes hands through various performers, eventually returning to the husband, who reunites with his wife. The third segment, \"Sinbad the Sailor\", is a fantasy consisting of live action and Hanna–Barbera-directed cartoons set in the casbah of a Middle Eastern country. Kelly plays a sailor who is sold a magic lantern. This puts him in conflict with cartoon villains wielding swords, and falling in love with a cartoon harem girl. This segment includes complex dance sequences showing a live Kelly dancing with cartoon characters; predating many ideas which reappeared in Mary Poppins.  Use is also made of the original themes of Nikolai Rimsky-Korsakov's Scheherazade by the MGM music department team of adapter Roger Edens, conductor Johnny Green and orchestrator Conrad Salinger.\n",
            "Categories : \"Musical\",  \"Animation\"\n",
            "--------------------\n"
          ]
        }
      ],
      "source": [
        "content_recommender_opt(2922,5,new_corpus,model2)"
      ]
    },
    {
      "cell_type": "markdown",
      "metadata": {
        "id": "NPVK7Z5c1p5F"
      },
      "source": [
        "## Ανάλυση αποτελεσμάτων\n",
        "\n",
        "### Σύστημα συστάσεων βασισμένο μόνο στο tfidf\n",
        "\n",
        "- Σε markdown περιγράψτε τι προεπεξεργασία κάνετε στα κείμενα και γιατί.\n",
        "\n",
        "- Περιγράψτε πως προχωρήσατε στις επιλογές σας για τη βελτιστοποίηση της `TfidfVectorizer`. \n",
        "\n",
        "- [Cherry-picking:](https://www.wikiwand.com/en/Cherry_picking) Δώσετε παραδείγματα (IDs) από τη συλλογή σας που επιστρέφουν καλά αποτελέσματα μέχρι `max_recommendations` (τουλάχιστον 5) και σχολιάστε.\n",
        "\n",
        "- [Nit-picking:](https://en.wikipedia.org/wiki/Nitpicking) Δώστε παραδείγματα (IDs) από τη συλλογή σας που επιστρέφουν κακά αποτελέσματα και σχολιάστε.\n",
        "\n",
        "- Ποια είναι συνολικά τα πλεονεκτήματα και μειονεκτήματα ενός recommender βασισμένου στο tfidf;"
      ]
    },
    {
      "attachments": {},
      "cell_type": "markdown",
      "metadata": {},
      "source": [
        "### ΣΧΟΛΙΑΣΜΟΣ \n",
        "* Με βάση και την εκφώνηση, τα βήματα προεπεξεργασίας που αποκολουθήσαμε είναι τα εξής: \n",
        "    * Μετατρέψαμε όλα τα γράμματα σε πεζά \n",
        "    * Αφαιρέσαμε όλα τα σημεία στίξης και το κτητικό ('s) ώστε οι λέξεις να εστιάζουν αποκλειστικά στα ονόματα και όχι στις κτητικές αναφορές επί αυτών\n",
        "    * Αφαιρέσαμε όλα τα stopwords από την βιβλιοθήκη nltk\n",
        "    * Τέλος, αφαιρέσαμε και όλες τις λέξεις με μήκος μικρότερο ή ίσο του 3 προκειμένου να μην επηρρεάζουν στην τελική απόφαση λέξεις όπως άρθρα κτλ.\n",
        "* Αρχικά, επιλέξαμε να εξετάσουμε ταινίες που να γνωρίζουμε και είδαμε ότι υπάρχουν σε πολλές εκδοχές (πχ superman, barbie,pokemon και sniper). Με δοκιμές αλλάζοντας τις παραμέτρους max_df/min_df καταλήξαμε ότι οι βέλτιστες τιμές για τις παραμέτρους αυτές είναι 0.0009,0.0003 αντίστοιχα.\n",
        "* Cherry-picking:  οι ταινίες που επιλέχθησαν για cherry-picking είναι Superman και Snipper 2 και τα αποτελέσματά τους παρατίθενται παραπάνω. Βλέπουμε ότι όντως οι ταινίες που προτείνει είναι κοντινές με τις αρχικές καθώς πρώτη πρόταση και για τις δύο είναι ταινίες της ίδιας σειράς αλλά καοι οι υπόλοιπες προτάσεις είναι αρκετά σχετικές ως προς την περιγραφή τους.\n",
        "* Nit-picking:  οι ταινίες που επιλέχθησαν για nit-picking είναι η Barbie Mariposa και τα αποτελέσματά τους παρατίθενται παραπάνω. Βλέπουμε ότι σε αυτή την περίπτωση οι ταινίες-προτάσεις είναι σε αρκετά διαφορετική θεματολογία σε σχέση με την αρχική, καθώς η ταινία αναφέρεται κυρίως σε παιδιά και σε κινούμενα σχέδια και από τις πρώτες πιο κοντινές εκτιμήσεις είναι ταινίες τρόμου και θρίλλερ.\n",
        "* "
      ]
    },
    {
      "cell_type": "markdown",
      "metadata": {
        "id": "zPBW9WH56I-y"
      },
      "source": [
        "### Σύγκριση και σχολιασμός με recommenders βασισμένων στο Word2Vec\n",
        "\n",
        "- Υλoποιήστε recommenders που βασίζονται σε μεταφορά μάθησης και εμφυτεύματα. Χρησιμοποιήστε παραδείγματα για να υποδείξετε δυνατά και αδύναμα σημεία τους.\n",
        "\n",
        "- Μπορείτε να σχολιάσετε τα recommenders που βασίζονται στο Word2Vec σε σχέση με το απλό μοντέλο tfidf, εξετάζοντας τις συστάσεις για ίδια ID.\n",
        "\n",
        "- Μπορείτε επίσης να εξετάσετε συγκριτικά τα Word2Vec recommenders μεταξύ τους και πάλι βασιζόμενοι σε παραδείγματα.\n",
        "\n",
        "- Οι παρατηρήσεις σας θα βασίζονται στην ανάλυση των ποιοτικών χαρακτηριστικών που είναι η σειρά και το σύνολο των συστάσεων. Ωστόσο, μπορείτε να συμπεριλάβετε και ποσοτικά χαρακτηριστικά όπως τους χρονους loading και συγκρότησης του corpus αλλά και της διαστατικότητας $m$.\n",
        "\n",
        "Χρησιμοποιήστε όποια μορφή reporting κρίνετε καταλληλότερη: κείμενο, πίνακες, διαγράμματα.\n"
      ]
    },
    {
      "cell_type": "markdown",
      "metadata": {
        "id": "4irg4K-IPSym"
      },
      "source": [
        "## Πρακτικό tip - persistence αντικειμένων με joblib.dump\n",
        "\n",
        "Καθώς στην δεύτερη εργασία καλείστε να δημιουργήσετε διάφορα corpora των οποίων η δημιουργία παίρνει χρόνο, υπάρχει ένας εύκολος τρόπος να αποθηκεύουμε μεταβλητές σε dump files και να τις διαβάζουμε απευθείας.\n",
        "\n",
        "H βιβλιοθήκη [joblib](https://pypi.python.org/pypi/joblib) της Python δίνει κάποιες εξαιρετικά χρήσιμες ιδιότητες στην ανάπτυξη κώδικα: pipelining, παραλληλισμό, caching και variable persistence. Τις τρεις πρώτες ιδιότητες τις είδαμε στην πρώτη άσκηση. Στην παρούσα άσκηση θα μας φανεί χρήσιμη η τέταρτη, το persistence των αντικειμένων. Συγκεκριμένα μπορούμε με:\n",
        "\n",
        "```python\n",
        "joblib.dump(my_object, 'my_object.pkl') \n",
        "```\n",
        "\n",
        "να αποθηκεύσουμε οποιοδήποτε αντικείμενο-μεταβλητή (εδώ το `my_object`) απευθείας πάνω στο filesystem ως αρχείο, το οποίο στη συνέχεια μπορούμε να ανακαλέσουμε ως εξής:\n",
        "\n",
        "```python\n",
        "my_object = joblib.load('my_object.pkl')\n",
        "```\n",
        "\n",
        "Μπορούμε έτσι να ανακαλέσουμε μεταβλητές ακόμα και αφού κλείσουμε και ξανανοίξουμε το notebook, χωρίς να χρειαστεί να ακολουθήσουμε ξανά όλα τα βήματα ένα - ένα για την παραγωγή τους, κάτι ιδιαίτερα χρήσιμο αν αυτή η διαδικασία είναι χρονοβόρα.\n",
        "\n",
        "Ας αποθηκεύσουμε το `corpus_tf_idf` και στη συνέχεια ας το ανακαλέσουμε."
      ]
    },
    {
      "cell_type": "code",
      "execution_count": null,
      "metadata": {
        "id": "aESOPYQaPSyo",
        "scrolled": true
      },
      "outputs": [],
      "source": [
        "import joblib\n",
        "\n",
        "joblib.dump(corpus_tf_idf, 'corpus_tf_idf.pkl') "
      ]
    },
    {
      "cell_type": "markdown",
      "metadata": {
        "id": "7_rAEj5ZPSy1"
      },
      "source": [
        "\n",
        "\n",
        "Μπορείτε με ένα απλό `!ls` να δείτε ότι το αρχείο `corpus_tf_idf.pkl` υπάρχει στο filesystem σας (== persistence):"
      ]
    },
    {
      "cell_type": "code",
      "execution_count": null,
      "metadata": {
        "id": "ZhwXmTEIPSy3",
        "scrolled": true
      },
      "outputs": [],
      "source": [
        "!ls -lh"
      ]
    },
    {
      "cell_type": "markdown",
      "metadata": {
        "id": "cey5AbkO475S"
      },
      "source": [
        "και μπορούμε να τα διαβάσουμε με `joblib.load`"
      ]
    },
    {
      "cell_type": "code",
      "execution_count": null,
      "metadata": {
        "id": "DSJPTKY8PSyu"
      },
      "outputs": [],
      "source": [
        "corpus_tf_idf = joblib.load('corpus_tf_idf.pkl')"
      ]
    },
    {
      "cell_type": "markdown",
      "metadata": {
        "id": "zHOQtO83PSy9"
      },
      "source": [
        "# Εφαρμογή 2.  Τοπολογική και σημασιολογική απεικόνιση της ταινιών με χρήση SOM\n",
        "<img src=\"https://i.imgur.com/Z4FdurD.jpg\" width=\"60%\">"
      ]
    },
    {
      "cell_type": "markdown",
      "metadata": {
        "id": "UB_clmizPSy-"
      },
      "source": [
        "## Δημιουργία dataset\n",
        "Στη δεύτερη εφαρμογή θα βασιστούμε στις τοπολογικές ιδιότητες των Self Organizing Maps (SOM) για να φτιάξουμε ενά χάρτη (grid) δύο διαστάσεων όπου θα απεικονίζονται όλες οι ταινίες της συλλογής της ομάδας με τρόπο χωρικά συνεκτικό ως προς το περιεχόμενο και κυρίως το είδος τους (ο παραπάνω χάρτης είναι ενδεικτικός, δεν αντιστοιχεί στο dataset μας). \n",
        "\n",
        "Διαλέξτε για την αναπαράσταση των documents αυτήν που πιστεύετε απέδωσε καλύτερα στο πρώτα σκέλος της άσκησης. Έστω ότι αυτή είναι η `my_best_corpus`.\n",
        "\n",
        "Η έτοιμη συνάρτηση `build_final_set` θα ενώσει την αναπαράσταση που θα της δώσετε ως όρισμα `mycorpus` με τις binarized κατηγορίες `catbins` των ταινιών ως επιπλέον κολόνες (χαρακτηριστικά). Συνεπώς, κάθε ταινία αναπαρίσταται στο Vector Space Model από τα χαρακτηριστικά της αναπαράστασης `mycorpus` και τις κατηγορίες της.\n",
        "\n",
        "Τέλος, η συνάρτηση δέχεται ένα ορισμα για το πόσες ταινίες να επιστρέψει, με default τιμή όλες τις ταινίες (5000). Αυτό είναι χρήσιμο για να μπορείτε αν θέλετε να φτιάχνετε μικρότερα σύνολα δεδομένων ώστε να εκπαιδεύεται ταχύτερα το SOM. \n",
        "\n",
        "Θα τρέχουμε τη συνάρτηση με `final_set = build_final_set(my_best_corpus)`."
      ]
    },
    {
      "cell_type": "code",
      "execution_count": null,
      "metadata": {
        "id": "U-FDDOkQPSzA"
      },
      "outputs": [],
      "source": [
        "def build_final_set(mycorpus, doc_limit = 5000, tf_idf_only=False):\n",
        "    # convert sparse tf_idf to dense tf_idf representation\n",
        "    dense_tf_idf = mycorpus.toarray()[0:doc_limit,:]\n",
        "    if tf_idf_only:\n",
        "        # use only tf_idf\n",
        "        final_set = dense_tf_idf\n",
        "    else:\n",
        "        # append the binary categories features horizontaly to the (dense) tf_idf features\n",
        "        final_set = np.hstack((dense_tf_idf, catbins[0:doc_limit,:]))\n",
        "    # η somoclu θέλει δεδομ΄ένα σε float32\n",
        "    return np.array(final_set, dtype=np.float32)"
      ]
    },
    {
      "cell_type": "markdown",
      "metadata": {
        "id": "KjvPPENS_dYL"
      },
      "source": [
        "Στο επόμενο κελί, τυπώνουμε τις διαστάσεις του τελικού dataset μας. **Χωρίς βελτιστοποίηση του TFIDF** θα έχουμε περίπου 50.000 χαρακτηριστικά και ο θα είναι ανέφικτο να προχωρήσουμε στην εκπαίδευση του SOM."
      ]
    },
    {
      "cell_type": "code",
      "execution_count": null,
      "metadata": {
        "id": "fvEgNn-L-jEw"
      },
      "outputs": [],
      "source": [
        "final_set.shape"
      ]
    },
    {
      "cell_type": "markdown",
      "metadata": {
        "id": "8tikdip0PSzQ"
      },
      "source": [
        "## Εκπαίδευση χάρτη SOM\n",
        "\n",
        "Θα δουλέψουμε με τη βιβλιοθήκη SOM [\"Somoclu\"](http://somoclu.readthedocs.io/en/stable/index.html). Εισάγουμε τις somoclu και matplotlib και λέμε στη matplotlib να τυπώνει εντός του notebook (κι όχι σε pop up window)."
      ]
    },
    {
      "cell_type": "code",
      "execution_count": null,
      "metadata": {
        "id": "oX9rzxGSPSzR"
      },
      "outputs": [],
      "source": [
        "# install somoclu\n",
        "!pip install --upgrade somoclu\n",
        "# import sompoclu, matplotlib\n",
        "import somoclu\n",
        "import matplotlib\n",
        "# we will plot inside the notebook and not in separate window\n",
        "%matplotlib inline"
      ]
    },
    {
      "cell_type": "markdown",
      "metadata": {
        "id": "EqBfn0ijPSzX"
      },
      "source": [
        "Καταρχάς διαβάστε το [function reference](http://somoclu.readthedocs.io/en/stable/reference.html) του somoclu. Θα δoυλέψουμε με χάρτη τύπου planar, παραλληλόγραμμου σχήματος νευρώνων με τυχαία αρχικοποίηση (όλα αυτά είναι default). Μπορείτε να δοκιμάσετε διάφορα μεγέθη χάρτη ωστόσο όσο ο αριθμός των νευρώνων μεγαλώνει, μεγαλώνει και ο χρόνος εκπαίδευσης. Για το training δεν χρειάζεται να ξεπεράσετε τα 100 epochs. Σε γενικές γραμμές μπορούμε να βασιστούμε στις default παραμέτρους μέχρι να έχουμε τη δυνατότητα να οπτικοποιήσουμε και να αναλύσουμε ποιοτικά τα αποτελέσματα. Ξεκινήστε με ένα χάρτη 10 x 10, 100 epochs training και ένα υποσύνολο των ταινιών (π.χ. 2000). Χρησιμοποιήστε την `time` για να έχετε μια εικόνα των χρόνων εκπαίδευσης. "
      ]
    },
    {
      "cell_type": "markdown",
      "metadata": {
        "id": "ntd2GE9SaHiS"
      },
      "source": [
        "\n",
        "## Best matching units\n",
        "\n",
        "Μετά από κάθε εκπαίδευση αποθηκεύστε σε μια μεταβλητή τα best matching units (bmus) για κάθε ταινία. Τα bmus μας δείχνουν σε ποιο νευρώνα ανήκει η κάθε ταινία. **Προσοχή: η σύμβαση των συντεταγμένων των νευρώνων στη Somoclu είναι (στήλη, γραμμή) δηλαδή το ανάποδο από την Python**. Με χρήση της [np.unique](https://docs.scipy.org/doc/numpy-1.13.0/reference/generated/numpy.unique.html) (μια πολύ χρήσιμη συνάρτηση στην άσκηση) αποθηκεύστε τα μοναδικά best matching units και τους δείκτες τους (indices) προς τις ταινίες. \n",
        "\n",
        "Σημειώστε ότι μπορεί να έχετε λιγότερα μοναδικά bmus από αριθμό νευρώνων γιατί μπορεί σε κάποιους νευρώνες να μην έχουν ανατεθεί ταινίες. Ως αριθμό νευρώνα θα θεωρήσουμε τον αριθμό γραμμής στον πίνακα μοναδικών bmus.\n"
      ]
    },
    {
      "cell_type": "markdown",
      "metadata": {
        "id": "grzqcyHyaKdg"
      },
      "source": [
        "\n",
        "## Ομαδοποίηση (clustering)\n",
        "\n",
        "Τυπικά, η ομαδοποίηση σε ένα χάρτη SOM προκύπτει από το unified distance matrix (U-matrix): για κάθε κόμβο υπολογίζεται η μέση απόστασή του από τους γειτονικούς κόμβους. Εάν χρησιμοποιηθεί μπλε χρώμα στις περιοχές του χάρτη όπου η τιμή αυτή είναι χαμηλή (μικρή απόσταση) και κόκκινο εκεί που η τιμή είναι υψηλή (μεγάλη απόσταση), τότε μπορούμε να πούμε ότι οι μπλε περιοχές αποτελούν clusters και οι κόκκινες αποτελούν σύνορα μεταξύ clusters.\n",
        "\n",
        "To somoclu δίνει την επιπρόσθετη δυνατότητα να κάνουμε ομαδοποίηση των νευρώνων χρησιμοποιώντας οποιονδήποτε αλγόριθμο ομαδοποίησης του scikit-learn. Στην άσκηση θα χρησιμοποιήσουμε τον k-Means. Για τον αρχικό σας χάρτη δοκιμάστε ένα k=20 ή 25. Οι δύο προσεγγίσεις ομαδοποίησης είναι διαφορετικές, οπότε περιμένουμε τα αποτελέσματα να είναι κοντά αλλά όχι τα ίδια.\n"
      ]
    },
    {
      "cell_type": "markdown",
      "metadata": {
        "id": "2nupuqcuaMe3"
      },
      "source": [
        "\n",
        "## Αποθήκευση του SOM\n",
        "\n",
        "Επειδή η αρχικοποίηση του SOM γίνεται τυχαία και το clustering είναι και αυτό στοχαστική διαδικασία, οι θέσεις και οι ετικέτες των νευρώνων και των clusters θα είναι διαφορετικές κάθε φορά που τρέχετε τον χάρτη, ακόμα και με τις ίδιες παραμέτρους. Για να αποθηκεύσετε ένα συγκεκριμένο som και clustering χρησιμοποιήστε και πάλι την `joblib`. Μετά την ανάκληση ενός SOM θυμηθείτε να ακολουθήσετε τη διαδικασία για τα bmus.\n"
      ]
    },
    {
      "cell_type": "markdown",
      "metadata": {
        "id": "ejX0Qs18aRHU"
      },
      "source": [
        "\n",
        "## Οπτικοποίηση U-matrix, clustering και μέγεθος clusters\n",
        "\n",
        "Για την εκτύπωση του U-matrix χρησιμοποιήστε τη `view_umatrix` με ορίσματα `bestmatches=True` και `figsize=(15, 15)` ή `figsize=(20, 20)`. Τα διαφορετικά χρώματα που εμφανίζονται στους κόμβους αντιπροσωπεύουν τα διαφορετικά clusters που προκύπτουν από τον k-Means. Μπορείτε να εμφανίσετε τη λεζάντα του U-matrix με το όρισμα `colorbar`. Μην τυπώνετε τις ετικέτες (labels) των δειγμάτων, είναι πολύ μεγάλος ο αριθμός τους.\n",
        "\n",
        "Για μια δεύτερη πιο ξεκάθαρη οπτικοποίηση του clustering τυπώστε απευθείας τη μεταβλητή `clusters`.\n",
        "\n",
        "Τέλος, χρησιμοποιώντας πάλι την `np.unique` (με διαφορετικό όρισμα) και την `np.argsort` (υπάρχουν και άλλοι τρόποι υλοποίησης) εκτυπώστε τις ετικέτες των clusters (αριθμοί από 0 έως k-1) και τον αριθμό των νευρώνων σε κάθε cluster, με φθίνουσα ή αύξουσα σειρά ως προς τον αριθμό των νευρώνων. Ουσιαστικά είναι ένα εργαλείο για να βρίσκετε εύκολα τα μεγάλα και μικρά clusters. \n",
        "\n",
        "Ακολουθεί ένα μη βελτιστοποιημένο παράδειγμα για τις τρεις προηγούμενες εξόδους:\n",
        "\n",
        "<img src=\"https://image.ibb.co/i0tsfR/umatrix_s.jpg\" width=\"35%\">\n",
        "<img src=\"https://image.ibb.co/nLgHEm/clusters.png\" width=\"35%\">\n",
        "\n"
      ]
    },
    {
      "cell_type": "markdown",
      "metadata": {
        "id": "fMO_KcQYaTv-"
      },
      "source": [
        "\n",
        "## Σημασιολογική ερμηνεία των clusters\n",
        "\n",
        "Προκειμένου να μελετήσουμε τις τοπολογικές ιδιότητες του SOM και το αν έχουν ενσωματώσει σημασιολογική πληροφορία για τις ταινίες διαμέσου της διανυσματικής αναπαράστασης του tf-idf, των εμφυτευμάτων και των κατηγοριών, χρειαζόμαστε ένα κριτήριο ποιοτικής επισκόπησης των clusters. \n",
        "\n",
        "Θα υλοποιήσουμε το εξής κριτήριο: Λαμβάνουμε όρισμα έναν αριθμό (ετικέτα) cluster. Για το cluster αυτό βρίσκουμε όλους τους νευρώνες που του έχουν ανατεθεί από τον k-Means. Για όλους τους νευρώνες αυτούς βρίσκουμε όλες τις ταινίες που τους έχουν ανατεθεί (για τις οποίες αποτελούν bmus). Για όλες αυτές τις ταινίες τυπώνουμε ταξινομημένη τη συνολική στατιστική όλων των ειδών (κατηγοριών) και τις συχνότητές τους. Αν το cluster διαθέτει καλή συνοχή και εξειδίκευση, θα πρέπει κάποιες κατηγορίες να έχουν σαφώς μεγαλύτερη συχνότητα από τις υπόλοιπες. Θα μπορούμε τότε να αναθέσουμε αυτήν/ές την/τις κατηγορία/ες ως ετικέτες κινηματογραφικού είδους στο cluster.\n",
        "\n",
        "Μπορείτε να υλοποιήσετε τη συνάρτηση αυτή όπως θέλετε. Μια πιθανή διαδικασία θα μπορούσε να είναι η ακόλουθη:\n",
        "\n",
        "1. Ορίζουμε συνάρτηση `print_categories_stats` που δέχεται ως είσοδο λίστα με ids ταινιών. Δημιουργούμε μια κενή λίστα συνολικών κατηγοριών. Στη συνέχεια, για κάθε ταινία επεξεργαζόμαστε το string `categories` ως εξής: δημιουργούμε μια λίστα διαχωρίζοντας το string κατάλληλα με την `split` και αφαιρούμε τα whitespaces μεταξύ ετικετών με την `strip`. Προσθέτουμε τη λίστα αυτή στη συνολική λίστα κατηγοριών με την `extend`. Τέλος χρησιμοποιούμε πάλι την `np.unique` για να μετρήσουμε συχνότητα μοναδικών ετικετών κατηγοριών και ταξινομούμε με την `np.argsort`. Τυπώνουμε τις κατηγορίες και τις συχνότητες εμφάνισης ταξινομημένα. Χρήσιμες μπορεί να σας φανούν και οι `np.ravel`, `np.nditer`, `np.array2string` και `zip`.\n",
        "\n",
        "2. Ορίζουμε τη βασική μας συνάρτηση `print_cluster_neurons_movies_report` που δέχεται ως όρισμα τον αριθμό ενός cluster. Με τη χρήση της `np.where` μπορούμε να βρούμε τις συντεταγμένες των bmus που αντιστοιχούν στο cluster και με την `column_stack` να φτιάξουμε έναν πίνακα bmus για το cluster. Προσοχή στη σειρά (στήλη - σειρά) στον πίνακα bmus. Για κάθε bmu αυτού του πίνακα ελέγχουμε αν υπάρχει στον πίνακα μοναδικών bmus που έχουμε υπολογίσει στην αρχή συνολικά και αν ναι προσθέτουμε το αντίστοιχο index του νευρώνα σε μια λίστα. Χρήσιμες μπορεί να είναι και οι `np.rollaxis`, `np.append`, `np.asscalar`. Επίσης πιθανώς να πρέπει να υλοποιήσετε ένα κριτήριο ομοιότητας μεταξύ ενός bmu και ενός μοναδικού bmu από τον αρχικό πίνακα bmus.\n",
        "\n",
        "3. Υλοποιούμε μια βοηθητική συνάρτηση `neuron_movies_report`. Λαμβάνει ένα σύνολο νευρώνων από την `print_cluster_neurons_movies_report` και μέσω της `indices` φτιάχνει μια λίστα με το σύνολο ταινιών που ανήκουν σε αυτούς τους νευρώνες. Στο τέλος καλεί με αυτή τη λίστα την `print_categories_stats` που τυπώνει τις στατιστικές των κατηγοριών.\n",
        "\n",
        "Μπορείτε βέβαια να προσθέσετε οποιαδήποτε επιπλέον έξοδο σας βοηθάει. Μια χρήσιμη έξοδος είναι πόσοι νευρώνες ανήκουν στο cluster και σε πόσους και ποιους από αυτούς έχουν ανατεθεί ταινίες.\n",
        "\n",
        "Θα επιτελούμε τη σημασιολογική ερμηνεία του χάρτη καλώντας την `print_cluster_neurons_movies_report` με τον αριθμός ενός cluster που μας ενδιαφέρει. \n",
        "\n",
        "Παράδειγμα εξόδου για ένα cluster (μη βελτιστοποιημένος χάρτης, ωστόσο βλέπετε ότι οι μεγάλες κατηγορίες έχουν σημασιολογική  συνάφεια):\n",
        "\n",
        "```\n",
        "Overall Cluster Genres stats:  \n",
        "[('\"Horror\"', 86), ('\"Science Fiction\"', 24), ('\"B-movie\"', 16), ('\"Monster movie\"', 10), ('\"Creature Film\"', 10), ('\"Indie\"', 9), ('\"Zombie Film\"', 9), ('\"Slasher\"', 8), ('\"World cinema\"', 8), ('\"Sci-Fi Horror\"', 7), ('\"Natural horror films\"', 6), ('\"Supernatural\"', 6), ('\"Thriller\"', 6), ('\"Cult\"', 5), ('\"Black-and-white\"', 5), ('\"Japanese Movies\"', 4), ('\"Short Film\"', 3), ('\"Drama\"', 3), ('\"Psychological thriller\"', 3), ('\"Crime Fiction\"', 3), ('\"Monster\"', 3), ('\"Comedy\"', 2), ('\"Western\"', 2), ('\"Horror Comedy\"', 2), ('\"Archaeology\"', 2), ('\"Alien Film\"', 2), ('\"Teen\"', 2), ('\"Mystery\"', 2), ('\"Adventure\"', 2), ('\"Comedy film\"', 2), ('\"Combat Films\"', 1), ('\"Chinese Movies\"', 1), ('\"Action/Adventure\"', 1), ('\"Gothic Film\"', 1), ('\"Costume drama\"', 1), ('\"Disaster\"', 1), ('\"Docudrama\"', 1), ('\"Film adaptation\"', 1), ('\"Film noir\"', 1), ('\"Parody\"', 1), ('\"Period piece\"', 1), ('\"Action\"', 1)]```\n",
        "   "
      ]
    },
    {
      "cell_type": "markdown",
      "metadata": {
        "id": "lq4QrImhaa7E"
      },
      "source": [
        "\n",
        "## Tips για το SOM και το clustering\n",
        "\n",
        "- Για την ομαδοποίηση ένα U-matrix καλό είναι να εμφανίζει και μπλε-πράσινες περιοχές (clusters) και κόκκινες περιοχές (ορίων). Παρατηρήστε ποια σχέση υπάρχει μεταξύ αριθμού ταινιών στο final set, μεγέθους grid και ποιότητας U-matrix.\n",
        "- Για το k του k-Means προσπαθήστε να προσεγγίζει σχετικά τα clusters του U-matrix (όπως είπαμε είναι διαφορετικοί μέθοδοι clustering). Μικρός αριθμός k δεν θα σέβεται τα όρια. Μεγάλος αριθμός θα δημιουργεί υπο-clusters εντός των clusters που φαίνονται στο U-matrix. Το τελευταίο δεν είναι απαραίτητα κακό, αλλά μεγαλώνει τον αριθμό clusters που πρέπει να αναλυθούν σημασιολογικά.\n",
        "- Σε μικρούς χάρτες και με μικρά final sets δοκιμάστε διαφορετικές παραμέτρους για την εκπαίδευση του SOM. Σημειώστε τυχόν παραμέτρους που επηρεάζουν την ποιότητα του clustering για το dataset σας ώστε να τις εφαρμόσετε στους μεγάλους χάρτες.\n",
        "- Κάποια τοπολογικά χαρακτηριστικά εμφανίζονται ήδη σε μικρούς χάρτες. Κάποια άλλα χρειάζονται μεγαλύτερους χάρτες. Δοκιμάστε μεγέθη 20x20, 25x25 ή και 30x30 και αντίστοιχη προσαρμογή των k. Όσο μεγαλώνουν οι χάρτες, μεγαλώνει η ανάλυση του χάρτη αλλά μεγαλώνει και ο αριθμός clusters που πρέπει να αναλυθούν.\n"
      ]
    },
    {
      "cell_type": "markdown",
      "metadata": {
        "id": "x4IUl8O8ayVf"
      },
      "source": [
        "\n",
        "\n",
        "## Ανάλυση τοπολογικών ιδιοτήτων χάρτη SOM\n",
        "\n",
        "Μετά το πέρας της εκπαίδευσης και του clustering θα έχετε ένα χάρτη με τοπολογικές ιδιότητες ως προς τα είδη των ταίνιών της συλλογής σας, κάτι αντίστοιχο με την εικόνα στην αρχή της Εφαρμογής 2 αυτού του notebook. Η συγκεκριμένη εικόνα είναι μόνο για εικονογράφιση, δεν είναι χάρτης SOM καιδεν έχει καμία σχέση με τη συλλογή δεδομένων και τις κατηγορίες μας.\n",
        "\n",
        "Για τον τελικό χάρτη SOM που θα παράξετε για τη συλλογή σας, αναλύστε σε markdown με συγκεκριμένη αναφορά σε αριθμούς clusters και τη σημασιολογική ερμηνεία τους τις εξής τρεις τοπολογικές ιδιότητες του SOM: \n",
        "\n",
        "1. Δεδομένα που έχουν μεγαλύτερη πυκνότητα πιθανότητας στο χώρο εισόδου τείνουν να απεικονίζονται με περισσότερους νευρώνες στο χώρο μειωμένης διαστατικότητας. Δώστε παραδείγματα από συχνές και λιγότερο συχνές κατηγορίες ταινιών. Χρησιμοποιήστε τις στατιστικές των κατηγοριών στη συλλογή σας και τον αριθμό κόμβων που χαρακτηρίζουν.\n",
        "2. Μακρινά πρότυπα εισόδου τείνουν να απεικονίζονται απομακρυσμένα στο χάρτη. Υπάρχουν χαρακτηριστικές κατηγορίες ταινιών που ήδη από μικρούς χάρτες τείνουν να τοποθετούνται σε διαφορετικά ή απομονωμένα σημεία του χάρτη.\n",
        "3. Κοντινά πρότυπα εισόδου τείνουν να απεικονίζονται κοντά στο χάρτη. Σε μεγάλους χάρτες εντοπίστε είδη ταινιών και κοντινά τους υποείδη.\n",
        "\n",
        "Προφανώς τοποθέτηση σε 2 διαστάσεις που να σέβεται μια απόλυτη τοπολογία δεν είναι εφικτή, αφενός γιατί δεν υπάρχει κάποια απόλυτη εξ ορισμού για τα κινηματογραφικά είδη ακόμα και σε πολλές διαστάσεις, αφετέρου γιατί πραγματοποιούμε μείωση διαστατικότητας.\n",
        "\n",
        "Εντοπίστε μεγάλα clusters και μικρά clusters που δεν έχουν σαφή χαρακτηριστικά. Εντοπίστε clusters συγκεκριμένων ειδών που μοιάζουν να μην έχουν τοπολογική συνάφεια με γύρω περιοχές. Προτείνετε πιθανές ερμηνείες.\n",
        "\n",
        "\n",
        "Τέλος, εντοπίστε clusters που έχουν κατά την άποψή σας ιδιαίτερο ενδιαφέρον στη συλλογή της ομάδας σας (data exploration / discovery value) και σχολιάστε.\n"
      ]
    },
    {
      "cell_type": "markdown",
      "metadata": {
        "id": "tYjxGR5DawIy"
      },
      "source": [
        "\n",
        "# Τελική παράδοση άσκησης\n",
        "\n",
        "- Θα παραδώσετε στο helios το παρόν notebook επεξεργασμένο ή ένα ή δύο νέα zipαρισμένα με τις απαντήσεις σας για τα ζητούμενα και των δύο εφαρμογών. \n",
        "- Θυμηθείτε ότι η ανάλυση του χάρτη στο markdown με αναφορά σε αριθμούς clusters πρέπει να αναφέρεται στον τελικό χάρτη με τα κελιά ορατά που θα παραδώσετε αλλιώς ο χάρτης που θα προκύψει θα είναι διαφορετικός και τα labels των clusters δεν θα αντιστοιχούν στην ανάλυσή σας. \n",
        "- Μην ξεχάσετε στην αρχή ένα κελί markdown με **τα στοιχεία της ομάδας σας**."
      ]
    },
    {
      "cell_type": "markdown",
      "metadata": {
        "id": "UHhCkvxjnitd"
      },
      "source": [
        "<table>\n",
        "  <tr><td align=\"center\">\n",
        "    <font size=\"4\">Παρακαλούμε διατρέξτε βήμα-βήμα το notebook για να μην ξεχάσετε παραδοτέα</font>\n",
        "</td>\n",
        "  </tr>\n",
        "</table>"
      ]
    }
  ],
  "metadata": {
    "colab": {
      "provenance": [],
      "toc_visible": true
    },
    "kernelspec": {
      "display_name": "Python 3",
      "language": "python",
      "name": "python3"
    },
    "language_info": {
      "codemirror_mode": {
        "name": "ipython",
        "version": 3
      },
      "file_extension": ".py",
      "mimetype": "text/x-python",
      "name": "python",
      "nbconvert_exporter": "python",
      "pygments_lexer": "ipython3",
      "version": "3.10.8"
    },
    "vscode": {
      "interpreter": {
        "hash": "05bf6954723d373e19203643aa44961c2ed94b1243a950da884af6122a33ba1c"
      }
    }
  },
  "nbformat": 4,
  "nbformat_minor": 0
}
