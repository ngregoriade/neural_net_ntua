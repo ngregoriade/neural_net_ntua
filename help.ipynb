{
 "cells": [
  {
   "cell_type": "code",
   "execution_count": 26,
   "metadata": {
    "pycharm": {
     "is_executing": true
    }
   },
   "outputs": [],
   "source": [
    "import pandas as pd, numpy as np, matplotlib.pyplot as plt, time\n",
    "#from imblearn.over_sampling import RandomOverSampler\n",
    "from sklearn.model_selection import train_test_split,GridSearchCV,cross_val_score\n",
    "from sklearn.impute import SimpleImputer\n",
    "from sklearn.dummy import DummyClassifier\n",
    "from sklearn.neighbors import KNeighborsClassifier\n",
    "from sklearn.neural_network import MLPClassifier\n",
    "from sklearn.naive_bayes import GaussianNB\n",
    "from sklearn.metrics import accuracy_score,classification_report,confusion_matrix, precision_recall_fscore_support,f1_score\n",
    "\n",
    "from sklearn.feature_selection import VarianceThreshold\n",
    "from sklearn import preprocessing\n",
    "from sklearn.preprocessing import StandardScaler,MinMaxScaler\n",
    "from sklearn.decomposition import PCA\n",
    "#from imblearn.pipeline import Pipeline\n",
    "from sklearn.utils import shuffle\n",
    "import time\n",
    "from sklearn.linear_model import LogisticRegression\n"
   ]
  },
  {
   "cell_type": "markdown",
   "metadata": {},
   "source": [
    "## Εισαγωγή δεδομένων από αρχεία .dat"
   ]
  },
  {
   "cell_type": "code",
   "execution_count": 3,
   "metadata": {},
   "outputs": [],
   "source": [
    "res = []\n",
    "for i in \"abcdefghi\":\n",
    "    data = np.genfromtxt(\"./testdata/xa{}.dat\".format(i),\n",
    "                     skip_header=0,\n",
    "                     skip_footer=0,\n",
    "                     names=None,\n",
    "                     dtype=None,\n",
    "                     delimiter=' ',\n",
    "                     encoding=\"utf8\")\n",
    "    res += list(data)"
   ]
  },
  {
   "cell_type": "markdown",
   "metadata": {},
   "source": [
    "## Δημιουργία dataset"
   ]
  },
  {
   "cell_type": "code",
   "execution_count": 11,
   "metadata": {},
   "outputs": [
    {
     "name": "stdout",
     "output_type": "stream",
     "text": [
      "846\n",
      "18\n"
     ]
    }
   ],
   "source": [
    "y=[]\n",
    "x=[]\n",
    "for i in range(len(res)):\n",
    "    y.append(res[i][-1])\n",
    "    x.append(list(res[i])[:-1])\n",
    "shape = np.shape(x)\n",
    "print(shape[0])\n",
    "print(shape[1])"
   ]
  },
  {
   "cell_type": "markdown",
   "metadata": {},
   "source": [
    "## Περιγραφή των δεδομένων\n",
    "\n",
    "### Παρουσίαση Dataset\n",
    "Το dataset αποτελείται από πληροφορίες σχετικά με την μορφή διάφορων οχημάτων:\n",
    "  \n",
    "  |Χαρακτηριστικό          |Περιγραφή                                                  |\n",
    "  |------------------------|-----------------------------------------------------------|\n",
    "  |COMPACTNESS             | (average perim)**2/area                                   |\n",
    "  |CIRCULARITY             | (average radius)**2/area                                  |\n",
    "  |DISTANCE CIRCULARITY    | area/(av.distance from border)**2                         |\n",
    "  |RADIUS RATIO            | (max.rad-min.rad)/av.radius                               |\n",
    "  |PR.AXIS ASPECT RATIO    | (minor axis)/(major axis)                                 |\n",
    "  |MAX.LENGTH ASPECT RATIO | (length perp. max length)/(max length)                    |\n",
    "  |SCATTER RATIO           |  (inertia about minor axis)/(inertia about major axis)    | \n",
    "  \n",
    "  και αποσκοπεί στην ταξινόμησή τους με βάση αποκλειστικά αυτά τα εξωτερικά χαρακτηριστικά.\n",
    "\n",
    "### Μετατροπές PLaintext\n",
    "Το dataset μας περιέχει μόνο ακέραιους αριθμούς για την περιγραφή των χαρακτηριστικών, επομένως δεν χρειάζεται να γίνει κάποια επεξεργασία. Η μόνη μετατροπή που χρειάζεται να γίνει στο plaintext είναι η μετατροπή του σε unicode-8 για να είναι δυνατή η ανάγνωση του.\n",
    "\n",
    "### Πλήθος χαρακτηριστικών και δειγμάτων \n",
    "Έχουμε 18 χαρακτηριστικά και 846 δείγματα.\n",
    "\n",
    "### Ύπαρξη επικεφαλίδων\n",
    "Ενώ στη περιγραφή του dataset στην ιστοσελίδα του UCI υπάρχουν οι επικεφαλίδες των χαρακτηριστικών, στα αρχεία του dataset που εισάγουμε στο notebook δεν υπάρχουν ούτε επικεφαλίδες ούτε αρίθμηση γραμμών.\n",
    "\n",
    "### Κλάσεις\n",
    "Οι κλάσεις του dataset είναι 4: 'opel','saab', 'bus', 'van' και βρίσκονται στην τελευταία στήλη του dataset.\n",
    " \n",
    "### Έλεγχος για απουσιάζουσες τιμές\n",
    "\n"
   ]
  },
  {
   "cell_type": "code",
   "execution_count": 12,
   "metadata": {},
   "outputs": [],
   "source": [
    "for i in range(len(x)):\n",
    "    if(len(x[i]) != 18):\n",
    "        print(\"index {} has a problem :(\".format(i))"
   ]
  },
  {
   "cell_type": "markdown",
   "metadata": {},
   "source": [
    "Όπως παρατηρούμε δεν υπάρχουν απουσιάζουσες τιμές. Αυτό είναι λογικό αφού, συμφώνα με την περιγραφή του dataset, οι παράμετροι προέκυψαν από φωτογραφίες οχημάτων από συγκεκριμένη γωνία λήψης."
   ]
  },
  {
   "cell_type": "markdown",
   "metadata": {},
   "source": [
    "### Έλεγχος για ισορροπημένο ή όχι dataset."
   ]
  },
  {
   "cell_type": "code",
   "execution_count": 8,
   "metadata": {},
   "outputs": [],
   "source": [
    "opel=0\n",
    "saab=0\n",
    "bus=0\n",
    "van=0\n",
    "\n",
    "class_num = {\n",
    "    'opel' : 0,\n",
    "    'saab' : 0,\n",
    "    'bus'  : 0,\n",
    "    'van'  : 0\n",
    "}\n",
    "\n",
    "for i in range(len(y)):\n",
    "    class_num[y[i]]+=1"
   ]
  },
  {
   "cell_type": "code",
   "execution_count": 9,
   "metadata": {},
   "outputs": [
    {
     "data": {
      "text/plain": [
       "{'opel': 212, 'saab': 217, 'bus': 218, 'van': 199}"
      ]
     },
     "execution_count": 9,
     "metadata": {},
     "output_type": "execute_result"
    }
   ],
   "source": [
    "class_num"
   ]
  },
  {
   "cell_type": "markdown",
   "metadata": {},
   "source": [
    "Όπως παρατηρούμε το dataset είναι ισορροπημένο. "
   ]
  },
  {
   "cell_type": "markdown",
   "metadata": {},
   "source": [
    "## Train Test split"
   ]
  },
  {
   "cell_type": "code",
   "execution_count": 7,
   "metadata": {},
   "outputs": [],
   "source": [
    "X_train, X_test, y_train, y_test = train_test_split(x, y, test_size=0.30, shuffle=False)\n"
   ]
  },
  {
   "cell_type": "markdown",
   "metadata": {},
   "source": [
    "## Dummy Classifier"
   ]
  },
  {
   "cell_type": "code",
   "execution_count": 13,
   "metadata": {},
   "outputs": [],
   "source": [
    "dc_uniform = DummyClassifier(strategy=\"uniform\")\n",
    "dc_constant_bus = DummyClassifier(strategy=\"constant\", constant='bus')\n",
    "dc_constant_saab = DummyClassifier(strategy=\"constant\", constant='saab')\n",
    "dc_constant_opel = DummyClassifier(strategy=\"constant\", constant='opel')\n",
    "dc_constant_van = DummyClassifier(strategy=\"constant\", constant='van')\n",
    "dc_most_frequent = DummyClassifier(strategy=\"most_frequent\")\n",
    "dc_stratified = DummyClassifier(strategy=\"stratified\")"
   ]
  },
  {
   "cell_type": "code",
   "execution_count": 14,
   "metadata": {},
   "outputs": [],
   "source": [
    "# hold times for train and pred of out of the box\n",
    "train_time_base = {}\n",
    "pred_time_base = {}"
   ]
  },
  {
   "cell_type": "code",
   "execution_count": 15,
   "metadata": {},
   "outputs": [],
   "source": [
    "# dictionary to store all classifier without optimization preds\n",
    "predictions = {}\n",
    "\n",
    "# with the fit method we train the classifier with the train set\n",
    "# with the predict method predictions occur based on the input data\n",
    "\n",
    "start_time = time.time()\n",
    "dc_uniform.fit(X_train, y_train)\n",
    "train_time_base[\"DC Uniform\"] = time.time() - start_time\n",
    "\n",
    "start_time = time.time()\n",
    "predictions[\"DC Uniform\"] = dc_uniform.predict(X_test)\n",
    "pred_time_base[\"DC Uniform\"] = time.time() - start_time\n",
    "\n",
    "start_time = time.time()\n",
    "dc_constant_bus.fit(X_train, y_train)\n",
    "train_time_base[\"DC Constant bus\"] = time.time() - start_time\n",
    "\n",
    "start_time = time.time()\n",
    "predictions[\"DC Constant bus\"] = dc_constant_bus.predict(X_test)\n",
    "pred_time_base[\"DC Constant bus\"] = time.time() - start_time\n",
    "\n",
    "start_time = time.time()\n",
    "dc_constant_saab.fit(X_train, y_train)\n",
    "train_time_base[\"DC Constant saab\"] = time.time() - start_time\n",
    "\n",
    "start_time = time.time()\n",
    "predictions[\"DC Constant saab\"] = dc_constant_saab.predict(X_test)\n",
    "pred_time_base[\"DC Constant saab\"] = time.time() - start_time\n",
    "\n",
    "start_time = time.time()\n",
    "dc_constant_opel.fit(X_train, y_train)\n",
    "train_time_base[\"DC Constant opel\"] = time.time() - start_time\n",
    "\n",
    "start_time = time.time()\n",
    "predictions[\"DC Constant opel\"] = dc_constant_opel.predict(X_test)\n",
    "pred_time_base[\"DC Constant opel\"] = time.time() - start_time\n",
    "\n",
    "start_time = time.time()\n",
    "dc_constant_van.fit(X_train, y_train)\n",
    "train_time_base[\"DC Constant van\"] = time.time() - start_time\n",
    "\n",
    "start_time = time.time()\n",
    "predictions[\"DC Constant van\"] = dc_constant_van.predict(X_test)\n",
    "pred_time_base[\"DC Constant van\"] = time.time() - start_time\n",
    "\n",
    "start_time = time.time()\n",
    "dc_most_frequent.fit(X_train, y_train)\n",
    "train_time_base[\"DC Most Frequent\"] = time.time() - start_time\n",
    "\n",
    "start_time = time.time()\n",
    "predictions[\"DC Most Frequent\"] = dc_most_frequent.predict(X_test)\n",
    "pred_time_base[\"DC Most Frequent\"] = time.time() - start_time\n",
    "\n",
    "start_time = time.time()\n",
    "dc_stratified.fit(X_train, y_train)\n",
    "train_time_base[\"DC Stratified\"] = time.time() - start_time\n",
    "\n",
    "start_time = time.time()\n",
    "predictions[\"DC Stratified\"] = dc_stratified.predict(X_test)\n",
    "pred_time_base[\"DC Stratified\"] = time.time() - start_time"
   ]
  },
  {
   "cell_type": "markdown",
   "metadata": {},
   "source": [
    "## Gaussian Naive Bayes (GNB)"
   ]
  },
  {
   "cell_type": "code",
   "execution_count": 16,
   "metadata": {},
   "outputs": [],
   "source": [
    "gnb = GaussianNB()\n",
    "\n",
    "start_time = time.time()\n",
    "gnb.fit(X_train, y_train)\n",
    "train_time_base[\"GNB\"] = time.time() - start_time\n",
    "\n",
    "start_time = time.time()\n",
    "predictions[\"GNB\"] = gnb.predict(X_test)\n",
    "pred_time_base[\"GNB\"] = time.time() - start_time"
   ]
  },
  {
   "cell_type": "markdown",
   "metadata": {},
   "source": [
    "## K Nearest Neighbours (kNN)"
   ]
  },
  {
   "cell_type": "code",
   "execution_count": 17,
   "metadata": {},
   "outputs": [],
   "source": [
    "knn = KNeighborsClassifier(n_neighbors=3)\n",
    "\n",
    "start_time = time.time()\n",
    "knn.fit(X_train, y_train)\n",
    "train_time_base[\"KNN\"] = time.time() - start_time\n",
    "\n",
    "start_time = time.time()\n",
    "predictions[\"KNN\"] = knn.predict(X_test)\n",
    "pred_time_base[\"KNN\"] = time.time() - start_time"
   ]
  },
  {
   "cell_type": "markdown",
   "metadata": {},
   "source": [
    "## Logistic Regression (LR)"
   ]
  },
  {
   "cell_type": "code",
   "execution_count": 18,
   "metadata": {},
   "outputs": [
    {
     "name": "stderr",
     "output_type": "stream",
     "text": [
      "C:\\Users\\ΒΑΣΙΛΗΣ\\AppData\\Local\\Packages\\PythonSoftwareFoundation.Python.3.10_qbz5n2kfra8p0\\LocalCache\\local-packages\\Python310\\site-packages\\sklearn\\linear_model\\_logistic.py:444: ConvergenceWarning: lbfgs failed to converge (status=1):\n",
      "STOP: TOTAL NO. of ITERATIONS REACHED LIMIT.\n",
      "\n",
      "Increase the number of iterations (max_iter) or scale the data as shown in:\n",
      "    https://scikit-learn.org/stable/modules/preprocessing.html\n",
      "Please also refer to the documentation for alternative solver options:\n",
      "    https://scikit-learn.org/stable/modules/linear_model.html#logistic-regression\n",
      "  n_iter_i = _check_optimize_result(\n"
     ]
    }
   ],
   "source": [
    "logisticRegr = LogisticRegression()\n",
    "\n",
    "start_time = time.time()\n",
    "logisticRegr.fit(X_train, y_train)\n",
    "train_time_base[\"LR\"] = time.time() - start_time\n",
    "\n",
    "start_time = time.time()\n",
    "predictions[\"LR\"] = logisticRegr.predict(X_test)\n",
    "pred_time_base[\"LR\"] = time.time() - start_time"
   ]
  },
  {
   "cell_type": "markdown",
   "metadata": {},
   "source": [
    "## Metrics"
   ]
  },
  {
   "cell_type": "code",
   "execution_count": 19,
   "metadata": {},
   "outputs": [],
   "source": [
    "from sklearn.metrics import accuracy_score\n",
    "from sklearn.metrics import f1_score\n",
    "import matplotlib.pyplot as plt\n",
    "\n",
    "accuracy = {}\n",
    "f1 = {}\n",
    "\n",
    "def metrics_info(classifier_name, preds):\n",
    "  global accuracy, f1 \n",
    "  accuracy[classifier_name] = accuracy_score(y_test, preds)\n",
    "  f1[classifier_name] = f1_score(y_test, preds, average = \"macro\")\n",
    "\n",
    "# print bar plot function\n",
    "def bar_plot(classifiers, scores, title):\n",
    "  plt.figure(figsize = (10,6))\n",
    "  y_pos = np.arange(len(classifiers))\n",
    "  plt.bar(y_pos, scores, align='center', alpha = 0.9)\n",
    "  plt.xticks(y_pos, classifiers, rotation = 45)\n",
    "  plt.ylabel('Score')\n",
    "  plt.title(title)\n",
    "  plt.show()"
   ]
  },
  {
   "cell_type": "code",
   "execution_count": 20,
   "metadata": {},
   "outputs": [],
   "source": [
    "# Dummy Metrics\n",
    "metrics_info(\"DC Uniform\", predictions[\"DC Uniform\"])\n",
    "metrics_info(\"DC Constant opel\", predictions[\"DC Constant opel\"])\n",
    "metrics_info(\"DC Constant saab\", predictions[\"DC Constant saab\"])\n",
    "metrics_info(\"DC Constant bus\", predictions[\"DC Constant bus\"])\n",
    "metrics_info(\"DC Constant van\", predictions[\"DC Constant van\"])\n",
    "metrics_info(\"DC Most Frequent\", predictions[\"DC Most Frequent\"])\n",
    "metrics_info(\"DC Stratified\", predictions[\"DC Stratified\"])"
   ]
  },
  {
   "cell_type": "code",
   "execution_count": 21,
   "metadata": {},
   "outputs": [],
   "source": [
    "# GNB Metrics\n",
    "metrics_info(\"GNB\", predictions[\"GNB\"])"
   ]
  },
  {
   "cell_type": "code",
   "execution_count": 22,
   "metadata": {},
   "outputs": [],
   "source": [
    "# KNN\n",
    "metrics_info(\"KNN\", predictions[\"KNN\"])"
   ]
  },
  {
   "cell_type": "code",
   "execution_count": 23,
   "metadata": {},
   "outputs": [],
   "source": [
    "# LR\n",
    "metrics_info(\"LR\", predictions[\"LR\"])"
   ]
  },
  {
   "cell_type": "code",
   "execution_count": 24,
   "metadata": {},
   "outputs": [
    {
     "data": {
      "text/html": [
       "<div>\n",
       "<style scoped>\n",
       "    .dataframe tbody tr th:only-of-type {\n",
       "        vertical-align: middle;\n",
       "    }\n",
       "\n",
       "    .dataframe tbody tr th {\n",
       "        vertical-align: top;\n",
       "    }\n",
       "\n",
       "    .dataframe thead th {\n",
       "        text-align: right;\n",
       "    }\n",
       "</style>\n",
       "<table border=\"1\" class=\"dataframe\">\n",
       "  <thead>\n",
       "    <tr style=\"text-align: right;\">\n",
       "      <th></th>\n",
       "      <th>DC Uniform</th>\n",
       "      <th>DC Constant opel</th>\n",
       "      <th>DC Constant saab</th>\n",
       "      <th>DC Constant bus</th>\n",
       "      <th>DC Constant van</th>\n",
       "      <th>DC Most Frequent</th>\n",
       "      <th>DC Stratified</th>\n",
       "      <th>GNB</th>\n",
       "      <th>KNN</th>\n",
       "      <th>LR</th>\n",
       "    </tr>\n",
       "  </thead>\n",
       "  <tbody>\n",
       "    <tr>\n",
       "      <th>Accuracy Score</th>\n",
       "      <td>0.275591</td>\n",
       "      <td>0.236220</td>\n",
       "      <td>0.287402</td>\n",
       "      <td>0.244094</td>\n",
       "      <td>0.232283</td>\n",
       "      <td>0.244094</td>\n",
       "      <td>0.185039</td>\n",
       "      <td>0.444882</td>\n",
       "      <td>0.661417</td>\n",
       "      <td>0.732283</td>\n",
       "    </tr>\n",
       "    <tr>\n",
       "      <th>F1 Score</th>\n",
       "      <td>0.277736</td>\n",
       "      <td>0.095541</td>\n",
       "      <td>0.111621</td>\n",
       "      <td>0.098101</td>\n",
       "      <td>0.094249</td>\n",
       "      <td>0.098101</td>\n",
       "      <td>0.186716</td>\n",
       "      <td>0.409476</td>\n",
       "      <td>0.659615</td>\n",
       "      <td>0.728670</td>\n",
       "    </tr>\n",
       "  </tbody>\n",
       "</table>\n",
       "</div>"
      ],
      "text/plain": [
       "                DC Uniform  DC Constant opel  DC Constant saab  \\\n",
       "Accuracy Score    0.275591          0.236220          0.287402   \n",
       "F1 Score          0.277736          0.095541          0.111621   \n",
       "\n",
       "                DC Constant bus  DC Constant van  DC Most Frequent  \\\n",
       "Accuracy Score         0.244094         0.232283          0.244094   \n",
       "F1 Score               0.098101         0.094249          0.098101   \n",
       "\n",
       "                DC Stratified       GNB       KNN        LR  \n",
       "Accuracy Score       0.185039  0.444882  0.661417  0.732283  \n",
       "F1 Score             0.186716  0.409476  0.659615  0.728670  "
      ]
     },
     "execution_count": 24,
     "metadata": {},
     "output_type": "execute_result"
    }
   ],
   "source": [
    "data = []\n",
    "data.append(list(accuracy.values()))\n",
    "data.append(list(f1.values()))\n",
    "\n",
    "pd.DataFrame(data, index = [\"Accuracy Score\", \"F1 Score\"], columns = list(accuracy.keys()))"
   ]
  },
  {
   "cell_type": "code",
   "execution_count": 25,
   "metadata": {},
   "outputs": [
    {
     "data": {
      "image/png": "[encoded data removed]",
      "text/plain": [
       "<Figure size 1000x600 with 1 Axes>"
      ]
     },
     "metadata": {},
     "output_type": "display_data"
    }
   ],
   "source": [
    "classifier_labels = list(accuracy.keys())\n",
    "classifier_accuracy = list(accuracy.values())\n",
    "classifier_f1 = list(f1.values())\n",
    "\n",
    "bar_plot(classifier_labels, [i*100 for i in classifier_accuracy], \"Accuracy Score (Out of the box)\")"
   ]
  },
  {
   "cell_type": "code",
   "execution_count": 22,
   "metadata": {},
   "outputs": [
    {
     "data": {
      "image/png": "[encoded data removed]",
      "text/plain": [
       "<Figure size 1000x600 with 1 Axes>"
      ]
     },
     "metadata": {},
     "output_type": "display_data"
    }
   ],
   "source": [
    "bar_plot(classifier_labels, [i*100 for i in classifier_f1], \"F1 Score (Out of the box)\")"
   ]
  },
  {
   "cell_type": "markdown",
   "metadata": {},
   "source": [
    "### Σχολιασμός\n",
    "Οι μετρικές βγάζουν αρκετά χαμηλές τιμές, όπως είναι αναμενόμενο αφού δεν έχουμε χρησιμοποιήσει καμία μέθοδο βελτιστοποίησης, όυτε καν cross-validation. Ο καλύτερος ταξινομήτης είναι ο Logistic Regression, όπως προκύπτει και από τις δύο μετρικές.\n",
    "\n",
    "## 10-cross validation\n"
   ]
  },
  {
   "cell_type": "code",
   "execution_count": 29,
   "metadata": {},
   "outputs": [
    {
     "data": {
      "text/plain": [
       "0.26355932203389837"
      ]
     },
     "execution_count": 29,
     "metadata": {},
     "output_type": "execute_result"
    }
   ],
   "source": [
    "np.mean(scores_Dummy_acc)"
   ]
  },
  {
   "cell_type": "code",
   "execution_count": 31,
   "metadata": {},
   "outputs": [],
   "source": [
    "scores_Dummy_acc = cross_val_score(DummyClassifier() , X_train,y_train, cv=10,n_jobs=-1, scoring='accuracy')\n",
    "scores_Dummy_f1 = cross_val_score(DummyClassifier() , X_train,y_train,cv=10,n_jobs=-1,scoring='f1_macro')\n",
    "\n",
    "scores_knn_acc = cross_val_score(KNeighborsClassifier() , X_train,y_train, cv=10,n_jobs=-1, scoring='accuracy')\n",
    "scores_knn_f1 = cross_val_score(KNeighborsClassifier() , X_train,y_train,cv=10,n_jobs=-1,scoring='f1_macro')\n",
    "\n",
    "scores_GNB_acc = cross_val_score(GaussianNB() , X_train,y_train, cv=10,n_jobs=-1, scoring='accuracy')\n",
    "scores_GNB_f1 = cross_val_score(GaussianNB() , X_train,y_train,cv=10,n_jobs=-1,scoring='f1_macro')\n",
    "\n",
    "scores_LR_acc = cross_val_score(LogisticRegression() , X_train,y_train, cv=10,n_jobs=-1, scoring='accuracy')\n",
    "scores_LR_f1 = cross_val_score(LogisticRegression() , X_train,y_train,cv=10,n_jobs=-1,scoring='f1_macro')\n",
    "scores_acc = []\n",
    "scores_f1 = []\n",
    "names = [\"Dummy\",\"kNN\",\"GNB\",\"LR\"]\n",
    "scores_acc.append(np.mean(scores_Dummy_acc))\n",
    "scores_f1.append(np.mean(scores_Dummy_f1))\n",
    "scores_acc.append(np.mean(scores_knn_acc))\n",
    "scores_f1.append(np.mean(scores_knn_f1 ))\n",
    "scores_acc.append(np.mean(scores_GNB_acc))\n",
    "scores_f1.append(np.mean(scores_GNB_f1 ))\n",
    "scores_acc.append(np.mean(scores_LR_acc))\n",
    "scores_f1.append(np.mean(scores_LR_f1))"
   ]
  },
  {
   "cell_type": "code",
   "execution_count": 41,
   "metadata": {},
   "outputs": [
    {
     "data": {
      "image/png": "[encoded data removed]",
      "text/plain": [
       "<Figure size 640x480 with 1 Axes>"
      ]
     },
     "metadata": {},
     "output_type": "display_data"
    },
    {
     "data": {
      "image/png": "[encoded data removed]",
      "text/plain": [
       "<Figure size 640x480 with 1 Axes>"
      ]
     },
     "metadata": {},
     "output_type": "display_data"
    }
   ],
   "source": [
    "plt.bar(names,scores_acc)\n",
    "plt.title(\"Scores for accuracy\")\n",
    "plt.show()\n",
    "plt.bar(names,scores_f1,color='magenta')\n",
    "plt.title(\"Scores for f1\")\n",
    "plt.show()"
   ]
  },
  {
   "cell_type": "markdown",
   "metadata": {},
   "source": [
    "## Data Preprossecing"
   ]
  },
  {
   "cell_type": "code",
   "execution_count": 51,
   "metadata": {},
   "outputs": [
    {
     "name": "stdout",
     "output_type": "stream",
     "text": [
      "Selected futures 18 out of 18\n"
     ]
    }
   ],
   "source": [
    "selector = VarianceThreshold(threshold=0)\n",
    "train_reduced = selector.fit_transform(X_train)\n",
    "mask = selector.get_support()\n",
    "test_reduced = np.array(X_test)[:,mask]\n",
    "\n",
    "print(\"Selected futures {} out of {}\".format(len(train_reduced[0]),len(X_train[0])))\n"
   ]
  },
  {
   "cell_type": "code",
   "execution_count": 43,
   "metadata": {},
   "outputs": [],
   "source": [
    "def classfication(X_train,y_train,X_test,y_test):\n",
    "    \n",
    "    \n",
    "    dc_uniform = DummyClassifier(strategy=\"uniform\")\n",
    "    dc_constant_bus = DummyClassifier(strategy=\"constant\", constant='bus')\n",
    "    dc_constant_saab = DummyClassifier(strategy=\"constant\", constant='saab')\n",
    "    dc_constant_opel = DummyClassifier(strategy=\"constant\", constant='opel')\n",
    "    dc_constant_van = DummyClassifier(strategy=\"constant\", constant='van')\n",
    "    dc_most_frequent = DummyClassifier(strategy=\"most_frequent\")\n",
    "    dc_stratified = DummyClassifier(strategy=\"stratified\")\n",
    "\n",
    "    # hold times for train and pred of out of the box\n",
    "    train_time_base = {}\n",
    "    pred_time_base = {}\n",
    "    # dictionary to store all classifier without optimization preds\n",
    "    predictions = {}\n",
    "\n",
    "    # with the fit method we train the classifier with the train set\n",
    "    # with the predict method predictions occur based on the input data\n",
    "\n",
    "    start_time = time.time()\n",
    "    dc_uniform.fit(X_train, y_train)\n",
    "    train_time_base[\"DC Uniform\"] = time.time() - start_time\n",
    "\n",
    "    start_time = time.time()\n",
    "    predictions[\"DC Uniform\"] = dc_uniform.predict(X_test)\n",
    "    pred_time_base[\"DC Uniform\"] = time.time() - start_time\n",
    "\n",
    "    start_time = time.time()\n",
    "    dc_constant_bus.fit(X_train, y_train)\n",
    "    train_time_base[\"DC Constant bus\"] = time.time() - start_time\n",
    "\n",
    "    start_time = time.time()\n",
    "    predictions[\"DC Constant bus\"] = dc_constant_bus.predict(X_test)\n",
    "    pred_time_base[\"DC Constant bus\"] = time.time() - start_time\n",
    "\n",
    "    start_time = time.time()\n",
    "    dc_constant_saab.fit(X_train, y_train)\n",
    "    train_time_base[\"DC Constant saab\"] = time.time() - start_time\n",
    "\n",
    "    start_time = time.time()\n",
    "    predictions[\"DC Constant saab\"] = dc_constant_saab.predict(X_test)\n",
    "    pred_time_base[\"DC Constant saab\"] = time.time() - start_time\n",
    "\n",
    "    start_time = time.time()\n",
    "    dc_constant_opel.fit(X_train, y_train)\n",
    "    train_time_base[\"DC Constant opel\"] = time.time() - start_time\n",
    "\n",
    "    start_time = time.time()\n",
    "    predictions[\"DC Constant opel\"] = dc_constant_opel.predict(X_test)\n",
    "    pred_time_base[\"DC Constant opel\"] = time.time() - start_time\n",
    "\n",
    "    start_time = time.time()\n",
    "    dc_constant_van.fit(X_train, y_train)\n",
    "    train_time_base[\"DC Constant van\"] = time.time() - start_time\n",
    "\n",
    "    start_time = time.time()\n",
    "    predictions[\"DC Constant van\"] = dc_constant_van.predict(X_test)\n",
    "    pred_time_base[\"DC Constant van\"] = time.time() - start_time\n",
    "\n",
    "    start_time = time.time()\n",
    "    dc_most_frequent.fit(X_train, y_train)\n",
    "    train_time_base[\"DC Most Frequent\"] = time.time() - start_time\n",
    "\n",
    "    start_time = time.time()\n",
    "    predictions[\"DC Most Frequent\"] = dc_most_frequent.predict(X_test)\n",
    "    pred_time_base[\"DC Most Frequent\"] = time.time() - start_time\n",
    "\n",
    "    start_time = time.time()\n",
    "    dc_stratified.fit(X_train, y_train)\n",
    "    train_time_base[\"DC Stratified\"] = time.time() - start_time\n",
    "\n",
    "    start_time = time.time()\n",
    "    predictions[\"DC Stratified\"] = dc_stratified.predict(X_test)\n",
    "    pred_time_base[\"DC Stratified\"] = time.time() - start_time\n",
    "\n",
    "\n",
    "    logisticRegr = LogisticRegression()\n",
    "\n",
    "    start_time = time.time()\n",
    "    logisticRegr.fit(X_train, y_train)\n",
    "    train_time_base[\"LR\"] = time.time() - start_time\n",
    "\n",
    "    start_time = time.time()\n",
    "    predictions[\"LR\"] = logisticRegr.predict(X_test)\n",
    "    pred_time_base[\"LR\"] = time.time() - start_time\n",
    "\n",
    "\n",
    "    gnb = GaussianNB()\n",
    "    start_time = time.time()\n",
    "    gnb.fit(X_train, y_train)\n",
    "    train_time_base[\"GNB\"] = time.time() - start_time\n",
    "\n",
    "    start_time = time.time()\n",
    "    predictions[\"GNB\"] = gnb.predict(X_test)\n",
    "    pred_time_base[\"GNB\"] = time.time() - start_time\n",
    "\n",
    "    knn = KNeighborsClassifier(n_neighbors=3)\n",
    "\n",
    "    start_time = time.time()\n",
    "    knn.fit(X_train, y_train)\n",
    "    train_time_base[\"KNN\"] = time.time() - start_time\n",
    "    \n",
    "    start_time = time.time()\n",
    "    predictions[\"KNN\"] = knn.predict(X_test)\n",
    "    pred_time_base[\"KNN\"] = time.time() - start_time\n",
    "\n",
    "\n",
    "    metrics_info(\"DC Uniform\", predictions[\"DC Uniform\"])\n",
    "    metrics_info(\"DC Constant opel\", predictions[\"DC Constant opel\"])\n",
    "    metrics_info(\"DC Constant saab\", predictions[\"DC Constant saab\"])\n",
    "    metrics_info(\"DC Constant bus\", predictions[\"DC Constant bus\"])\n",
    "    metrics_info(\"DC Constant van\", predictions[\"DC Constant van\"])\n",
    "    metrics_info(\"DC Most Frequent\", predictions[\"DC Most Frequent\"])\n",
    "    metrics_info(\"DC Stratified\", predictions[\"DC Stratified\"])\n",
    "    metrics_info(\"GNB\", predictions[\"GNB\"])\n",
    "    metrics_info(\"KNN\", predictions[\"KNN\"])\n",
    "    metrics_info(\"LR\", predictions[\"LR\"])\n",
    "    classifier_labels = list(accuracy.keys())\n",
    "    classifier_accuracy = list(accuracy.values())\n",
    "    classifier_f1 = list(f1.values())\n",
    "\n",
    "        \n",
    "    data = []\n",
    "    data.append(list(accuracy.values()))\n",
    "    data.append(list(f1.values()))\n",
    "\n",
    "    print(pd.DataFrame(data, index = [\"Accuracy Score\", \"F1 Score\"], columns = list(accuracy.keys())))\n",
    "    \n",
    "    bar_plot(classifier_labels, [i*100 for i in classifier_accuracy], \"Accuracy Score\")\n",
    "    bar_plot(classifier_labels, [i*100 for i in classifier_f1], \"F1 Score\")\n",
    "    "
   ]
  },
  {
   "cell_type": "code",
   "execution_count": 52,
   "metadata": {},
   "outputs": [
    {
     "name": "stderr",
     "output_type": "stream",
     "text": [
      "C:\\Users\\ΒΑΣΙΛΗΣ\\AppData\\Local\\Packages\\PythonSoftwareFoundation.Python.3.10_qbz5n2kfra8p0\\LocalCache\\local-packages\\Python310\\site-packages\\sklearn\\linear_model\\_logistic.py:444: ConvergenceWarning: lbfgs failed to converge (status=1):\n",
      "STOP: TOTAL NO. of ITERATIONS REACHED LIMIT.\n",
      "\n",
      "Increase the number of iterations (max_iter) or scale the data as shown in:\n",
      "    https://scikit-learn.org/stable/modules/preprocessing.html\n",
      "Please also refer to the documentation for alternative solver options:\n",
      "    https://scikit-learn.org/stable/modules/linear_model.html#logistic-regression\n",
      "  n_iter_i = _check_optimize_result(\n"
     ]
    },
    {
     "name": "stdout",
     "output_type": "stream",
     "text": [
      "                DC Uniform  DC Constant opel  DC Constant saab  \\\n",
      "Accuracy Score    0.248031          0.236220          0.287402   \n",
      "F1 Score          0.248134          0.095541          0.111621   \n",
      "\n",
      "                DC Constant bus  DC Constant van  DC Most Frequent  \\\n",
      "Accuracy Score         0.244094         0.232283          0.244094   \n",
      "F1 Score               0.098101         0.094249          0.098101   \n",
      "\n",
      "                DC Stratified       GNB       KNN        LR  \n",
      "Accuracy Score       0.236220  0.444882  0.661417  0.732283  \n",
      "F1 Score             0.234749  0.409476  0.659615  0.728670  \n"
     ]
    },
    {
     "data": {
      "image/png": "[encoded data removed]",
      "text/plain": [
       "<Figure size 1000x600 with 1 Axes>"
      ]
     },
     "metadata": {},
     "output_type": "display_data"
    },
    {
     "data": {
      "image/png": "[encoded data removed]",
      "text/plain": [
       "<Figure size 1000x600 with 1 Axes>"
      ]
     },
     "metadata": {},
     "output_type": "display_data"
    }
   ],
   "source": [
    "classfication(train_reduced,y_train,test_reduced,y_test)"
   ]
  },
  {
   "cell_type": "markdown",
   "metadata": {},
   "source": [
    "### Σχολιασμός\n",
    "Με δοκιμές παρατηρήσαμε ότι οι καλύτερες μετρικές παρατηρούνται με threshold=0, δηλαδή όταν διατηρούνται όλα τα χαρακτηριστικά. "
   ]
  },
  {
   "cell_type": "markdown",
   "metadata": {},
   "source": [
    "## Pipelines"
   ]
  },
  {
   "cell_type": "code",
   "execution_count": 26,
   "metadata": {},
   "outputs": [],
   "source": [
    "from imblearn.pipeline import Pipeline"
   ]
  },
  {
   "cell_type": "code",
   "execution_count": 27,
   "metadata": {},
   "outputs": [],
   "source": [
    "from sklearn import neighbors"
   ]
  },
  {
   "cell_type": "code",
   "execution_count": 28,
   "metadata": {},
   "outputs": [
    {
     "name": "stdout",
     "output_type": "stream",
     "text": [
      "best parallel for classifier kNN = [('selector', VarianceThreshold()), ('scaler', StandardScaler()), ('sampler', RandomOverSampler())]\n",
      "              precision    recall  f1-score   support\n",
      "\n",
      "         bus       0.89      1.00      0.94        62\n",
      "        opel       0.49      0.50      0.50        60\n",
      "        saab       0.57      0.49      0.53        73\n",
      "         van       0.83      0.85      0.84        59\n",
      "\n",
      "    accuracy                           0.70       254\n",
      "   macro avg       0.70      0.71      0.70       254\n",
      "weighted avg       0.69      0.70      0.69       254\n",
      "\n",
      "fit time = 0.008009672164916992 ||| prediction time = 0.023993253707885742\n",
      "best parallel for classifier GNB = [('selector', VarianceThreshold()), ('scaler', StandardScaler()), ('sampler', RandomUnderSampler()), ('pca', PCA())]\n",
      "              precision    recall  f1-score   support\n",
      "\n",
      "         bus       0.95      0.94      0.94        62\n",
      "        opel       0.57      0.62      0.59        60\n",
      "        saab       0.68      0.70      0.69        73\n",
      "         van       0.98      0.88      0.93        59\n",
      "\n",
      "    accuracy                           0.78       254\n",
      "   macro avg       0.80      0.78      0.79       254\n",
      "weighted avg       0.79      0.78      0.78       254\n",
      "\n",
      "fit time = 0.008662939071655273 ||| prediction time = 0.001131296157836914\n"
     ]
    },
    {
     "name": "stderr",
     "output_type": "stream",
     "text": [
      "C:\\Users\\ΒΑΣΙΛΗΣ\\AppData\\Local\\Packages\\PythonSoftwareFoundation.Python.3.10_qbz5n2kfra8p0\\LocalCache\\local-packages\\Python310\\site-packages\\sklearn\\linear_model\\_logistic.py:444: ConvergenceWarning: lbfgs failed to converge (status=1):\n",
      "STOP: TOTAL NO. of ITERATIONS REACHED LIMIT.\n",
      "\n",
      "Increase the number of iterations (max_iter) or scale the data as shown in:\n",
      "    https://scikit-learn.org/stable/modules/preprocessing.html\n",
      "Please also refer to the documentation for alternative solver options:\n",
      "    https://scikit-learn.org/stable/modules/linear_model.html#logistic-regression\n",
      "  n_iter_i = _check_optimize_result(\n",
      "C:\\Users\\ΒΑΣΙΛΗΣ\\AppData\\Local\\Packages\\PythonSoftwareFoundation.Python.3.10_qbz5n2kfra8p0\\LocalCache\\local-packages\\Python310\\site-packages\\sklearn\\linear_model\\_logistic.py:444: ConvergenceWarning: lbfgs failed to converge (status=1):\n",
      "STOP: TOTAL NO. of ITERATIONS REACHED LIMIT.\n",
      "\n",
      "Increase the number of iterations (max_iter) or scale the data as shown in:\n",
      "    https://scikit-learn.org/stable/modules/preprocessing.html\n",
      "Please also refer to the documentation for alternative solver options:\n",
      "    https://scikit-learn.org/stable/modules/linear_model.html#logistic-regression\n",
      "  n_iter_i = _check_optimize_result(\n",
      "C:\\Users\\ΒΑΣΙΛΗΣ\\AppData\\Local\\Packages\\PythonSoftwareFoundation.Python.3.10_qbz5n2kfra8p0\\LocalCache\\local-packages\\Python310\\site-packages\\sklearn\\linear_model\\_logistic.py:444: ConvergenceWarning: lbfgs failed to converge (status=1):\n",
      "STOP: TOTAL NO. of ITERATIONS REACHED LIMIT.\n",
      "\n",
      "Increase the number of iterations (max_iter) or scale the data as shown in:\n",
      "    https://scikit-learn.org/stable/modules/preprocessing.html\n",
      "Please also refer to the documentation for alternative solver options:\n",
      "    https://scikit-learn.org/stable/modules/linear_model.html#logistic-regression\n",
      "  n_iter_i = _check_optimize_result(\n"
     ]
    },
    {
     "name": "stdout",
     "output_type": "stream",
     "text": [
      "best parallel for classifier Logistic Regression = [('selector', VarianceThreshold()), ('scaler', StandardScaler())]\n",
      "              precision    recall  f1-score   support\n",
      "\n",
      "         bus       0.90      0.97      0.93        62\n",
      "        opel       0.67      0.62      0.64        60\n",
      "        saab       0.75      0.70      0.72        73\n",
      "         van       0.89      0.97      0.93        59\n",
      "\n",
      "    accuracy                           0.81       254\n",
      "   macro avg       0.80      0.81      0.81       254\n",
      "weighted avg       0.80      0.81      0.80       254\n",
      "\n",
      "fit time = 0.04072308540344238 ||| prediction time = 0.0\n"
     ]
    }
   ],
   "source": [
    "# φέρνουμε τις γνωστές μας κλάσεις για preprocessing\n",
    "from sklearn.feature_selection import VarianceThreshold\n",
    "from sklearn.preprocessing import StandardScaler # φέρνουμε τον StandarScaler ως transformer που έχει .transform kai ΄όχι ως scale()\n",
    "from imblearn.over_sampling import RandomOverSampler\n",
    "from imblearn.under_sampling import RandomUnderSampler\n",
    "from sklearn.decomposition import PCA\n",
    "\n",
    "# αρχικοποιούμε τον εκτιμητή (ταξινομητής) και τους μετασχηματιστές χωρίς υπερ-παραμέτρους\n",
    "selector = VarianceThreshold()\n",
    "scaler = [StandardScaler(),MinMaxScaler()]\n",
    "ros = [RandomOverSampler(),RandomUnderSampler()]\n",
    "pca = PCA()\n",
    "\n",
    "# KNN\n",
    "knn = neighbors.KNeighborsClassifier(n_jobs=-1) # η παράμετρος n_jobs = 1 χρησιμοποιεί όλους τους πυρήνες του υπολογιστή\n",
    "# GNB\n",
    "gnb = GaussianNB()\n",
    "# Logistic Regression\n",
    "lr = LogisticRegression()\n",
    "\n",
    "pipes_to_try = [[('selector', selector)]]\n",
    "\n",
    "for s in scaler:\n",
    "    pipes_to_try.append(pipes_to_try[0]+[('scaler',s)])\n",
    "\n",
    "for i in range(1,len(pipes_to_try)):\n",
    "    pipes_to_try.append(pipes_to_try[i]+[('sampler',ros[0])])\n",
    "    pipes_to_try.append(pipes_to_try[i]+[('sampler',ros[1])])\n",
    "\n",
    "for i in range(3,7):\n",
    "    pipes_to_try.append(pipes_to_try[i]+[('pca',pca)])\n",
    "\n",
    "classifiers = [('kNN',knn),('GNB',gnb),('Logistic Regression',lr)]\n",
    "parallels = []\n",
    "\n",
    "for c in classifiers:\n",
    "    best = 0\n",
    "    best_parallel = []\n",
    "    preds_for_metrics = []\n",
    "    fit_time = 0\n",
    "    pred_time = 0        \n",
    "    for i in pipes_to_try:\n",
    "        pipe_test = Pipeline(steps = i+[c])\n",
    "        timer = time.time()\n",
    "        pipe_test.fit(X_train,y_train)\n",
    "        demo_fit_time = time.time() - timer\n",
    "        timer = time.time()\n",
    "        pred = pipe_test.predict(X_test)\n",
    "        demo_pred_time = time.time() - timer\n",
    "        score = f1_score(y_test,pred,average='macro')\n",
    "        if(score > best):\n",
    "            best = score\n",
    "            preds_for_metrics=pred\n",
    "            best_parallel = i\n",
    "            fit_time = demo_fit_time\n",
    "            pred_time = demo_pred_time\n",
    "        \n",
    "    parallels.append((c[0],best_parallel))\n",
    "    print(\"best parallel for classifier {} = {}\".format(c[0],best_parallel))\n",
    "    print(classification_report(y_test, preds_for_metrics))\n",
    "    print(\"fit time = {} ||| prediction time = {}\".format(fit_time,pred_time))\n",
    "\n"
   ]
  },
  {
   "cell_type": "code",
   "execution_count": 29,
   "metadata": {},
   "outputs": [
    {
     "data": {
      "text/plain": [
       "[('kNN',\n",
       "  [('selector', VarianceThreshold()),\n",
       "   ('scaler', StandardScaler()),\n",
       "   ('sampler', RandomOverSampler())]),\n",
       " ('GNB',\n",
       "  [('selector', VarianceThreshold()),\n",
       "   ('scaler', StandardScaler()),\n",
       "   ('sampler', RandomUnderSampler()),\n",
       "   ('pca', PCA())]),\n",
       " ('Logistic Regression',\n",
       "  [('selector', VarianceThreshold()), ('scaler', StandardScaler())])]"
      ]
     },
     "execution_count": 29,
     "metadata": {},
     "output_type": "execute_result"
    }
   ],
   "source": [
    "parallels"
   ]
  },
  {
   "cell_type": "code",
   "execution_count": 30,
   "metadata": {},
   "outputs": [
    {
     "name": "stdout",
     "output_type": "stream",
     "text": [
      "              precision    recall  f1-score   support\n",
      "\n",
      "         bus       0.74      0.87      0.80        62\n",
      "        opel       0.62      0.48      0.54        60\n",
      "        saab       0.66      0.56      0.61        73\n",
      "         van       0.79      0.97      0.87        59\n",
      "\n",
      "    accuracy                           0.71       254\n",
      "   macro avg       0.70      0.72      0.70       254\n",
      "weighted avg       0.70      0.71      0.70       254\n",
      "\n"
     ]
    }
   ],
   "source": [
    "print(classification_report(y_test, pred))"
   ]
  },
  {
   "cell_type": "markdown",
   "metadata": {},
   "source": [
    "## GridsearchCV"
   ]
  },
  {
   "cell_type": "markdown",
   "metadata": {},
   "source": [
    "## kNN"
   ]
  },
  {
   "cell_type": "code",
   "execution_count": 108,
   "metadata": {},
   "outputs": [
    {
     "name": "stdout",
     "output_type": "stream",
     "text": [
      "[6.85198594e+01 3.85890448e+01 2.46469204e+02 1.14819608e+03\n",
      " 7.11972243e+01 2.43669164e+01 1.11474566e+03 6.07984386e+01\n",
      " 6.80676760e+00 2.13487023e+02 1.00764827e+03 3.16678089e+04\n",
      " 1.07072824e+03 6.14235727e+01 2.39404218e+01 8.04217951e+01\n",
      " 3.73644511e+01 5.58614751e+01]\n",
      "31667.808881939396\n",
      "6.806767599525212\n"
     ]
    }
   ],
   "source": [
    "train_variance = np.array(X_train).var(axis=0)\n",
    "print(train_variance)\n",
    "print(np.max(train_variance))\n",
    "print(np.min(train_variance))"
   ]
  },
  {
   "cell_type": "code",
   "execution_count": 55,
   "metadata": {},
   "outputs": [
    {
     "name": "stdout",
     "output_type": "stream",
     "text": [
      "31667.808881939396\n",
      "6.806767599525212\n"
     ]
    }
   ],
   "source": [
    "maxvar = np.max(train_variance)\n",
    "minvar = np.min(train_variance)\n",
    "print(maxvar)\n",
    "print(minvar)"
   ]
  },
  {
   "cell_type": "code",
   "execution_count": 118,
   "metadata": {},
   "outputs": [
    {
     "name": "stdout",
     "output_type": "stream",
     "text": [
      "[0.0, 0.05, 0.1, 0.15000000000000002, 0.2, 0.25, 0.30000000000000004, 0.35000000000000003, 0.4, 0.45, 0.5, 0.55, 0.6000000000000001, 0.65, 0.7000000000000001, 0.75, 0.8, 0.8500000000000001, 0.9, 0.9500000000000001]\n"
     ]
    }
   ],
   "source": [
    "from sklearn.model_selection import GridSearchCV\n",
    "\n",
    "vthreshold = list(np.arange(start = 0, stop = 1, step = 0.05))\n",
    "print(vthreshold)\n",
    "n_components = [14,15,16,17,18]\n",
    "k = [1,2,3,4] # η υπερπαράμετρος του ταξινομητή"
   ]
  },
  {
   "cell_type": "code",
   "execution_count": 1,
   "metadata": {},
   "outputs": [
    {
     "ename": "NameError",
     "evalue": "name 'Pipeline' is not defined",
     "output_type": "error",
     "traceback": [
      "\u001b[1;31m---------------------------------------------------------------------------\u001b[0m",
      "\u001b[1;31mNameError\u001b[0m                                 Traceback (most recent call last)",
      "Cell \u001b[1;32mIn [1], line 1\u001b[0m\n\u001b[1;32m----> 1\u001b[0m pipe \u001b[39m=\u001b[39m Pipeline(steps\u001b[39m=\u001b[39m[(\u001b[39m'\u001b[39m\u001b[39mselector\u001b[39m\u001b[39m'\u001b[39m, selector), (\u001b[39m'\u001b[39m\u001b[39mscaler\u001b[39m\u001b[39m'\u001b[39m, scaler[\u001b[39m0\u001b[39m]), (\u001b[39m'\u001b[39m\u001b[39msampler\u001b[39m\u001b[39m'\u001b[39m, ros[\u001b[39m0\u001b[39m]), (\u001b[39m'\u001b[39m\u001b[39mpca\u001b[39m\u001b[39m'\u001b[39m, pca), (\u001b[39m'\u001b[39m\u001b[39mkNN\u001b[39m\u001b[39m'\u001b[39m, knn)], memory \u001b[39m=\u001b[39m \u001b[39m'\u001b[39m\u001b[39mtmp\u001b[39m\u001b[39m'\u001b[39m)\n",
      "\u001b[1;31mNameError\u001b[0m: name 'Pipeline' is not defined"
     ]
    }
   ],
   "source": [
    "pipe = Pipeline(steps=[('selector', selector), ('scaler', scaler[0]), ('sampler', ros[0]), ('pca', pca), ('kNN', knn)], memory = 'tmp')"
   ]
  },
  {
   "cell_type": "code",
   "execution_count": 160,
   "metadata": {},
   "outputs": [
    {
     "data": {
      "text/plain": [
       "0.7847181240869694"
      ]
     },
     "execution_count": 160,
     "metadata": {},
     "output_type": "execute_result"
    }
   ],
   "source": [
    "knn_dict = {}\n",
    "knn_dict[\"kNN__neighbors\"] = n_components"
   ]
  },
  {
   "cell_type": "code",
   "execution_count": null,
   "metadata": {},
   "outputs": [],
   "source": [
    "estimator = GridSearchCV(pipe, dict(selector__threshold=vthreshold, pca__n_components=n_components,kNN__n_neighbors=k), cv=10, scoring='f1_macro', n_jobs=-1)\n",
    "estimator.fit(X_train,y_train)"
   ]
  },
  {
   "cell_type": "code",
   "execution_count": null,
   "metadata": {},
   "outputs": [],
   "source": [
    "estimator.best_estimator_\n",
    "estimator.best_score_"
   ]
  }
 ],
 "metadata": {
  "kernelspec": {
   "display_name": "Python 3.10.8 64-bit (microsoft store)",
   "language": "python",
   "name": "python3"
  },
  "language_info": {
   "codemirror_mode": {
    "name": "ipython",
    "version": 3
   },
   "file_extension": ".py",
   "mimetype": "text/x-python",
   "name": "python",
   "nbconvert_exporter": "python",
   "pygments_lexer": "ipython3",
   "version": "3.10.8"
  },
  "orig_nbformat": 4,
  "vscode": {
   "interpreter": {
    "hash": "05bf6954723d373e19203643aa44961c2ed94b1243a950da884af6122a33ba1c"
   }
  }
 },
 "nbformat": 4,
 "nbformat_minor": 2
}
