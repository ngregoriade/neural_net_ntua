{
 "cells": [
  {
   "cell_type": "code",
   "execution_count": 1,
   "metadata": {
    "pycharm": {
     "is_executing": true
    }
   },
   "outputs": [],
   "source": [
    "import pandas as pd, numpy as np, matplotlib.pyplot as plt, time\n",
    "#from imblearn.over_sampling import RandomOverSampler\n",
    "from sklearn.model_selection import train_test_split,GridSearchCV\n",
    "from sklearn.impute import SimpleImputer\n",
    "from sklearn.dummy import DummyClassifier\n",
    "from sklearn.neighbors import KNeighborsClassifier\n",
    "from sklearn.neural_network import MLPClassifier\n",
    "from sklearn.naive_bayes import GaussianNB\n",
    "from sklearn.metrics import accuracy_score,classification_report,confusion_matrix\n",
    "from sklearn.metrics import precision_recall_fscore_support,f1_score\n",
    "from sklearn.feature_selection import VarianceThreshold\n",
    "from sklearn import preprocessing\n",
    "from sklearn.preprocessing import StandardScaler,MinMaxScaler\n",
    "from sklearn.decomposition import PCA\n",
    "#from imblearn.pipeline import Pipeline\n",
    "from sklearn.utils import shuffle\n",
    "from sklearn.linear_model import LogisticRegression\n"
   ]
  },
  {
   "cell_type": "markdown",
   "metadata": {},
   "source": [
    "import pandas as pd, numpy as np, matplotlib.pyplot as plt, time\n",
    "#from imblearn.over_sampling import RandomOverSampler\n",
    "from sklearn.model_selection import train_test_split,GridSearchCV\n",
    "from sklearn.impute import SimpleImputer\n",
    "from sklearn.dummy import DummyClassifier\n",
    "from sklearn.neighbors import KNeighborsClassifier\n",
    "from sklearn.neural_network import MLPClassifier\n",
    "from sklearn.naive_bayes import GaussianNB\n",
    "from sklearn.metrics import accuracy_score,classification_report,confusion_matrix\n",
    "from sklearn.metrics import precision_recall_fscore_support,f1_score\n",
    "from sklearn.feature_selection import VarianceThreshold\n",
    "from sklearn import preprocessing\n",
    "from sklearn.preprocessing import StandardScaler,MinMaxScaler\n",
    "from sklearn.decomposition import PCA\n",
    "#from imblearn.pipeline import Pipeline\n",
    "from sklearn.utils import shuffle"
   ]
  },
  {
   "cell_type": "code",
   "execution_count": 2,
   "metadata": {},
   "outputs": [],
   "source": [
    "import time"
   ]
  },
  {
   "cell_type": "markdown",
   "metadata": {},
   "source": []
  },
  {
   "cell_type": "markdown",
   "metadata": {},
   "source": [
    "## Import from file"
   ]
  },
  {
   "cell_type": "code",
   "execution_count": 3,
   "metadata": {},
   "outputs": [
    {
     "name": "stderr",
     "output_type": "stream",
     "text": [
      "C:\\Users\\ΒΑΣΙΛΗΣ\\AppData\\Local\\Temp\\ipykernel_18328\\1410727338.py:3: VisibleDeprecationWarning: Reading unicode strings without specifying the encoding argument is deprecated. Set the encoding, use None for the system default.\n",
      "  data = np.genfromtxt(\"./testdata/xa{}.dat\".format(i),\n"
     ]
    }
   ],
   "source": [
    "res = []\n",
    "for i in \"abcdefghi\":\n",
    "    data = np.genfromtxt(\"./testdata/xa{}.dat\".format(i),\n",
    "                     skip_header=0,\n",
    "                     skip_footer=0,\n",
    "                     names=None,\n",
    "                     dtype=None,\n",
    "                     delimiter=' ')\n",
    "    res += list(data)"
   ]
  },
  {
   "cell_type": "markdown",
   "metadata": {},
   "source": [
    "## Make the dataset"
   ]
  },
  {
   "cell_type": "code",
   "execution_count": 4,
   "metadata": {},
   "outputs": [],
   "source": [
    "y=[]\n",
    "x=[]\n",
    "for i in range(len(res)):\n",
    "    y.append(bytes.decode(res[i][-1],\"utf8\"))\n",
    "    x.append(list(res[i])[:-1])"
   ]
  },
  {
   "cell_type": "markdown",
   "metadata": {},
   "source": [
    "## Check for any missing features in testset"
   ]
  },
  {
   "cell_type": "code",
   "execution_count": 5,
   "metadata": {},
   "outputs": [],
   "source": [
    "for i in range(len(x)):\n",
    "    if(len(x[i]) != 18):\n",
    "        print(\"index {} has a problem :(\".format(i))"
   ]
  },
  {
   "cell_type": "markdown",
   "metadata": {},
   "source": [
    "## Train Test split"
   ]
  },
  {
   "cell_type": "code",
   "execution_count": 6,
   "metadata": {},
   "outputs": [],
   "source": [
    "X_train, X_test, y_train, y_test = train_test_split(x, y, test_size=0.30, shuffle=False)\n"
   ]
  },
  {
   "cell_type": "markdown",
   "metadata": {},
   "source": [
    "## Check if the dataset is balanced"
   ]
  },
  {
   "cell_type": "code",
   "execution_count": 7,
   "metadata": {},
   "outputs": [],
   "source": [
    "opel=0\n",
    "saab=0\n",
    "bus=0\n",
    "van=0\n",
    "\n",
    "class_num = {\n",
    "    'opel' : 0,\n",
    "    'saab' : 0,\n",
    "    'bus'  : 0,\n",
    "    'van'  : 0\n",
    "}\n",
    "\n",
    "for i in range(len(y)):\n",
    "    class_num[y[i]]+=1"
   ]
  },
  {
   "cell_type": "code",
   "execution_count": 8,
   "metadata": {},
   "outputs": [
    {
     "data": {
      "text/plain": [
       "{'opel': 212, 'saab': 217, 'bus': 218, 'van': 199}"
      ]
     },
     "execution_count": 8,
     "metadata": {},
     "output_type": "execute_result"
    }
   ],
   "source": [
    "class_num\n",
    "#dataset is balanced"
   ]
  },
  {
   "cell_type": "markdown",
   "metadata": {},
   "source": [
    "## Dummy Classifier"
   ]
  },
  {
   "cell_type": "code",
   "execution_count": 9,
   "metadata": {},
   "outputs": [],
   "source": [
    "dc_uniform = DummyClassifier(strategy=\"uniform\")\n",
    "dc_constant_bus = DummyClassifier(strategy=\"constant\", constant='bus')\n",
    "dc_constant_saab = DummyClassifier(strategy=\"constant\", constant='saab')\n",
    "dc_constant_opel = DummyClassifier(strategy=\"constant\", constant='opel')\n",
    "dc_constant_van = DummyClassifier(strategy=\"constant\", constant='van')\n",
    "dc_most_frequent = DummyClassifier(strategy=\"most_frequent\")\n",
    "dc_stratified = DummyClassifier(strategy=\"stratified\")"
   ]
  },
  {
   "cell_type": "code",
   "execution_count": 10,
   "metadata": {},
   "outputs": [],
   "source": [
    "# hold times for train and pred of out of the box\n",
    "train_time_base = {}\n",
    "pred_time_base = {}"
   ]
  },
  {
   "cell_type": "code",
   "execution_count": 11,
   "metadata": {},
   "outputs": [],
   "source": [
    "# dictionary to store all classifier without optimization preds\n",
    "predictions = {}\n",
    "\n",
    "# with the fit method we train the classifier with the train set\n",
    "# with the predict method predictions occur based on the input data\n",
    "\n",
    "start_time = time.time()\n",
    "dc_uniform.fit(X_train, y_train)\n",
    "train_time_base[\"DC Uniform\"] = time.time() - start_time\n",
    "\n",
    "start_time = time.time()\n",
    "predictions[\"DC Uniform\"] = dc_uniform.predict(X_test)\n",
    "pred_time_base[\"DC Uniform\"] = time.time() - start_time\n",
    "\n",
    "start_time = time.time()\n",
    "dc_constant_bus.fit(X_train, y_train)\n",
    "train_time_base[\"DC Constant bus\"] = time.time() - start_time\n",
    "\n",
    "start_time = time.time()\n",
    "predictions[\"DC Constant bus\"] = dc_constant_bus.predict(X_test)\n",
    "pred_time_base[\"DC Constant bus\"] = time.time() - start_time\n",
    "\n",
    "start_time = time.time()\n",
    "dc_constant_saab.fit(X_train, y_train)\n",
    "train_time_base[\"DC Constant saab\"] = time.time() - start_time\n",
    "\n",
    "start_time = time.time()\n",
    "predictions[\"DC Constant saab\"] = dc_constant_saab.predict(X_test)\n",
    "pred_time_base[\"DC Constant saab\"] = time.time() - start_time\n",
    "\n",
    "start_time = time.time()\n",
    "dc_constant_opel.fit(X_train, y_train)\n",
    "train_time_base[\"DC Constant opel\"] = time.time() - start_time\n",
    "\n",
    "start_time = time.time()\n",
    "predictions[\"DC Constant opel\"] = dc_constant_opel.predict(X_test)\n",
    "pred_time_base[\"DC Constant opel\"] = time.time() - start_time\n",
    "\n",
    "start_time = time.time()\n",
    "dc_constant_van.fit(X_train, y_train)\n",
    "train_time_base[\"DC Constant van\"] = time.time() - start_time\n",
    "\n",
    "start_time = time.time()\n",
    "predictions[\"DC Constant van\"] = dc_constant_van.predict(X_test)\n",
    "pred_time_base[\"DC Constant van\"] = time.time() - start_time\n",
    "\n",
    "start_time = time.time()\n",
    "dc_most_frequent.fit(X_train, y_train)\n",
    "train_time_base[\"DC Most Frequent\"] = time.time() - start_time\n",
    "\n",
    "start_time = time.time()\n",
    "predictions[\"DC Most Frequent\"] = dc_most_frequent.predict(X_test)\n",
    "pred_time_base[\"DC Most Frequent\"] = time.time() - start_time\n",
    "\n",
    "start_time = time.time()\n",
    "dc_stratified.fit(X_train, y_train)\n",
    "train_time_base[\"DC Stratified\"] = time.time() - start_time\n",
    "\n",
    "start_time = time.time()\n",
    "predictions[\"DC Stratified\"] = dc_stratified.predict(X_test)\n",
    "pred_time_base[\"DC Stratified\"] = time.time() - start_time"
   ]
  },
  {
   "cell_type": "markdown",
   "metadata": {},
   "source": [
    "## Gaussian Naive Bayes (GNB)"
   ]
  },
  {
   "cell_type": "code",
   "execution_count": 12,
   "metadata": {},
   "outputs": [],
   "source": [
    "gnb = GaussianNB()\n",
    "\n",
    "start_time = time.time()\n",
    "gnb.fit(X_train, y_train)\n",
    "train_time_base[\"GNB\"] = time.time() - start_time\n",
    "\n",
    "start_time = time.time()\n",
    "predictions[\"GNB\"] = gnb.predict(X_test)\n",
    "pred_time_base[\"GNB\"] = time.time() - start_time"
   ]
  },
  {
   "cell_type": "markdown",
   "metadata": {},
   "source": [
    "## K Nearest Neighbours (kNN)"
   ]
  },
  {
   "cell_type": "code",
   "execution_count": 13,
   "metadata": {},
   "outputs": [],
   "source": [
    "knn = KNeighborsClassifier(n_neighbors=3)\n",
    "\n",
    "start_time = time.time()\n",
    "knn.fit(X_train, y_train)\n",
    "train_time_base[\"KNN\"] = time.time() - start_time\n",
    "\n",
    "start_time = time.time()\n",
    "predictions[\"KNN\"] = knn.predict(X_test)\n",
    "pred_time_base[\"KNN\"] = time.time() - start_time"
   ]
  },
  {
   "cell_type": "markdown",
   "metadata": {},
   "source": [
    "## Logistic Regression (LR)"
   ]
  },
  {
   "cell_type": "code",
   "execution_count": 14,
   "metadata": {},
   "outputs": [
    {
     "name": "stderr",
     "output_type": "stream",
     "text": [
      "C:\\Users\\ΒΑΣΙΛΗΣ\\AppData\\Local\\Packages\\PythonSoftwareFoundation.Python.3.10_qbz5n2kfra8p0\\LocalCache\\local-packages\\Python310\\site-packages\\sklearn\\linear_model\\_logistic.py:444: ConvergenceWarning: lbfgs failed to converge (status=1):\n",
      "STOP: TOTAL NO. of ITERATIONS REACHED LIMIT.\n",
      "\n",
      "Increase the number of iterations (max_iter) or scale the data as shown in:\n",
      "    https://scikit-learn.org/stable/modules/preprocessing.html\n",
      "Please also refer to the documentation for alternative solver options:\n",
      "    https://scikit-learn.org/stable/modules/linear_model.html#logistic-regression\n",
      "  n_iter_i = _check_optimize_result(\n"
     ]
    }
   ],
   "source": [
    "logisticRegr = LogisticRegression()\n",
    "\n",
    "start_time = time.time()\n",
    "logisticRegr.fit(X_train, y_train)\n",
    "train_time_base[\"LR\"] = time.time() - start_time\n",
    "\n",
    "start_time = time.time()\n",
    "predictions[\"LR\"] = logisticRegr.predict(X_test)\n",
    "pred_time_base[\"LR\"] = time.time() - start_time"
   ]
  },
  {
   "cell_type": "markdown",
   "metadata": {},
   "source": [
    "## Metrics"
   ]
  },
  {
   "cell_type": "code",
   "execution_count": 15,
   "metadata": {},
   "outputs": [],
   "source": [
    "from sklearn.metrics import accuracy_score\n",
    "from sklearn.metrics import f1_score\n",
    "import matplotlib.pyplot as plt\n",
    "\n",
    "accuracy = {}\n",
    "f1 = {}\n",
    "\n",
    "def metrics_info(classifier_name, preds):\n",
    "  global accuracy, f1 \n",
    "  accuracy[classifier_name] = accuracy_score(y_test, preds)\n",
    "  f1[classifier_name] = f1_score(y_test, preds, average = \"macro\")\n",
    "\n",
    "# print bar plot function\n",
    "def bar_plot(classifiers, scores, title):\n",
    "  plt.figure(figsize = (10,6))\n",
    "  y_pos = np.arange(len(classifiers))\n",
    "  plt.bar(y_pos, scores, align='center', alpha = 0.9)\n",
    "  plt.xticks(y_pos, classifiers, rotation = 45)\n",
    "  plt.ylabel('Score')\n",
    "  plt.title(title)\n",
    "  plt.show()"
   ]
  },
  {
   "cell_type": "code",
   "execution_count": 16,
   "metadata": {},
   "outputs": [],
   "source": [
    "# Dummy Metrics\n",
    "metrics_info(\"DC Uniform\", predictions[\"DC Uniform\"])\n",
    "metrics_info(\"DC Constant opel\", predictions[\"DC Constant opel\"])\n",
    "metrics_info(\"DC Constant saab\", predictions[\"DC Constant saab\"])\n",
    "metrics_info(\"DC Constant bus\", predictions[\"DC Constant bus\"])\n",
    "metrics_info(\"DC Constant van\", predictions[\"DC Constant van\"])\n",
    "metrics_info(\"DC Most Frequent\", predictions[\"DC Most Frequent\"])\n",
    "metrics_info(\"DC Stratified\", predictions[\"DC Stratified\"])"
   ]
  },
  {
   "cell_type": "code",
   "execution_count": 17,
   "metadata": {},
   "outputs": [],
   "source": [
    "# GNB Metrics\n",
    "metrics_info(\"GNB\", predictions[\"GNB\"])"
   ]
  },
  {
   "cell_type": "code",
   "execution_count": 18,
   "metadata": {},
   "outputs": [],
   "source": [
    "# KNN\n",
    "metrics_info(\"KNN\", predictions[\"KNN\"])"
   ]
  },
  {
   "cell_type": "code",
   "execution_count": 19,
   "metadata": {},
   "outputs": [],
   "source": [
    "# LR\n",
    "metrics_info(\"LR\", predictions[\"LR\"])"
   ]
  },
  {
   "cell_type": "code",
   "execution_count": 20,
   "metadata": {},
   "outputs": [
    {
     "data": {
      "text/html": [
       "<div>\n",
       "<style scoped>\n",
       "    .dataframe tbody tr th:only-of-type {\n",
       "        vertical-align: middle;\n",
       "    }\n",
       "\n",
       "    .dataframe tbody tr th {\n",
       "        vertical-align: top;\n",
       "    }\n",
       "\n",
       "    .dataframe thead th {\n",
       "        text-align: right;\n",
       "    }\n",
       "</style>\n",
       "<table border=\"1\" class=\"dataframe\">\n",
       "  <thead>\n",
       "    <tr style=\"text-align: right;\">\n",
       "      <th></th>\n",
       "      <th>DC Uniform</th>\n",
       "      <th>DC Constant opel</th>\n",
       "      <th>DC Constant saab</th>\n",
       "      <th>DC Constant bus</th>\n",
       "      <th>DC Constant van</th>\n",
       "      <th>DC Most Frequent</th>\n",
       "      <th>DC Stratified</th>\n",
       "      <th>GNB</th>\n",
       "      <th>KNN</th>\n",
       "      <th>LR</th>\n",
       "    </tr>\n",
       "  </thead>\n",
       "  <tbody>\n",
       "    <tr>\n",
       "      <th>Accuracy Score</th>\n",
       "      <td>0.307087</td>\n",
       "      <td>0.236220</td>\n",
       "      <td>0.287402</td>\n",
       "      <td>0.244094</td>\n",
       "      <td>0.232283</td>\n",
       "      <td>0.244094</td>\n",
       "      <td>0.275591</td>\n",
       "      <td>0.444882</td>\n",
       "      <td>0.661417</td>\n",
       "      <td>0.732283</td>\n",
       "    </tr>\n",
       "    <tr>\n",
       "      <th>F1 Score</th>\n",
       "      <td>0.305065</td>\n",
       "      <td>0.095541</td>\n",
       "      <td>0.111621</td>\n",
       "      <td>0.098101</td>\n",
       "      <td>0.094249</td>\n",
       "      <td>0.098101</td>\n",
       "      <td>0.273304</td>\n",
       "      <td>0.409476</td>\n",
       "      <td>0.659615</td>\n",
       "      <td>0.728670</td>\n",
       "    </tr>\n",
       "  </tbody>\n",
       "</table>\n",
       "</div>"
      ],
      "text/plain": [
       "                DC Uniform  DC Constant opel  DC Constant saab  \\\n",
       "Accuracy Score    0.307087          0.236220          0.287402   \n",
       "F1 Score          0.305065          0.095541          0.111621   \n",
       "\n",
       "                DC Constant bus  DC Constant van  DC Most Frequent  \\\n",
       "Accuracy Score         0.244094         0.232283          0.244094   \n",
       "F1 Score               0.098101         0.094249          0.098101   \n",
       "\n",
       "                DC Stratified       GNB       KNN        LR  \n",
       "Accuracy Score       0.275591  0.444882  0.661417  0.732283  \n",
       "F1 Score             0.273304  0.409476  0.659615  0.728670  "
      ]
     },
     "execution_count": 20,
     "metadata": {},
     "output_type": "execute_result"
    }
   ],
   "source": [
    "data = []\n",
    "data.append(list(accuracy.values()))\n",
    "data.append(list(f1.values()))\n",
    "\n",
    "pd.DataFrame(data, index = [\"Accuracy Score\", \"F1 Score\"], columns = list(accuracy.keys()))"
   ]
  },
  {
   "cell_type": "code",
   "execution_count": 21,
   "metadata": {},
   "outputs": [
    {
     "data": {
      "image/png": "[encoded data removed]",
      "text/plain": [
       "<Figure size 1000x600 with 1 Axes>"
      ]
     },
     "metadata": {},
     "output_type": "display_data"
    }
   ],
   "source": [
    "classifier_labels = list(accuracy.keys())\n",
    "classifier_accuracy = list(accuracy.values())\n",
    "classifier_f1 = list(f1.values())\n",
    "\n",
    "bar_plot(classifier_labels, [i*100 for i in classifier_accuracy], \"Accuracy Score (Out of the box)\")"
   ]
  },
  {
   "cell_type": "code",
   "execution_count": 22,
   "metadata": {},
   "outputs": [
    {
     "data": {
      "image/png": "[encoded data removed]",
      "text/plain": [
       "<Figure size 1000x600 with 1 Axes>"
      ]
     },
     "metadata": {},
     "output_type": "display_data"
    }
   ],
   "source": [
    "bar_plot(classifier_labels, [i*100 for i in classifier_f1], \"F1 Score (Out of the box)\")"
   ]
  },
  {
   "cell_type": "markdown",
   "metadata": {},
   "source": [
    "## Data Preprossecing"
   ]
  },
  {
   "cell_type": "code",
   "execution_count": 23,
   "metadata": {},
   "outputs": [
    {
     "name": "stdout",
     "output_type": "stream",
     "text": [
      "7 18 7\n"
     ]
    }
   ],
   "source": [
    "selector = VarianceThreshold(threshold=100)\n",
    "train_reduced = selector.fit_transform(X_train)\n",
    "mask = selector.get_support()\n",
    "test_reduced = np.array(X_test)[:,mask]\n",
    "\n",
    "print(len(train_reduced[0]), len(X_train[0]), len(test_reduced[0]))\n"
   ]
  },
  {
   "cell_type": "code",
   "execution_count": 24,
   "metadata": {},
   "outputs": [],
   "source": [
    "def classfication(X_train,y_train,X_test,y_test):\n",
    "    \n",
    "    \n",
    "    dc_uniform = DummyClassifier(strategy=\"uniform\")\n",
    "    dc_constant_bus = DummyClassifier(strategy=\"constant\", constant='bus')\n",
    "    dc_constant_saab = DummyClassifier(strategy=\"constant\", constant='saab')\n",
    "    dc_constant_opel = DummyClassifier(strategy=\"constant\", constant='opel')\n",
    "    dc_constant_van = DummyClassifier(strategy=\"constant\", constant='van')\n",
    "    dc_most_frequent = DummyClassifier(strategy=\"most_frequent\")\n",
    "    dc_stratified = DummyClassifier(strategy=\"stratified\")\n",
    "\n",
    "    # hold times for train and pred of out of the box\n",
    "    train_time_base = {}\n",
    "    pred_time_base = {}\n",
    "    # dictionary to store all classifier without optimization preds\n",
    "    predictions = {}\n",
    "\n",
    "    # with the fit method we train the classifier with the train set\n",
    "    # with the predict method predictions occur based on the input data\n",
    "\n",
    "    start_time = time.time()\n",
    "    dc_uniform.fit(X_train, y_train)\n",
    "    train_time_base[\"DC Uniform\"] = time.time() - start_time\n",
    "\n",
    "    start_time = time.time()\n",
    "    predictions[\"DC Uniform\"] = dc_uniform.predict(X_test)\n",
    "    pred_time_base[\"DC Uniform\"] = time.time() - start_time\n",
    "\n",
    "    start_time = time.time()\n",
    "    dc_constant_bus.fit(X_train, y_train)\n",
    "    train_time_base[\"DC Constant bus\"] = time.time() - start_time\n",
    "\n",
    "    start_time = time.time()\n",
    "    predictions[\"DC Constant bus\"] = dc_constant_bus.predict(X_test)\n",
    "    pred_time_base[\"DC Constant bus\"] = time.time() - start_time\n",
    "\n",
    "    start_time = time.time()\n",
    "    dc_constant_saab.fit(X_train, y_train)\n",
    "    train_time_base[\"DC Constant saab\"] = time.time() - start_time\n",
    "\n",
    "    start_time = time.time()\n",
    "    predictions[\"DC Constant saab\"] = dc_constant_saab.predict(X_test)\n",
    "    pred_time_base[\"DC Constant saab\"] = time.time() - start_time\n",
    "\n",
    "    start_time = time.time()\n",
    "    dc_constant_opel.fit(X_train, y_train)\n",
    "    train_time_base[\"DC Constant opel\"] = time.time() - start_time\n",
    "\n",
    "    start_time = time.time()\n",
    "    predictions[\"DC Constant opel\"] = dc_constant_opel.predict(X_test)\n",
    "    pred_time_base[\"DC Constant opel\"] = time.time() - start_time\n",
    "\n",
    "    start_time = time.time()\n",
    "    dc_constant_van.fit(X_train, y_train)\n",
    "    train_time_base[\"DC Constant van\"] = time.time() - start_time\n",
    "\n",
    "    start_time = time.time()\n",
    "    predictions[\"DC Constant van\"] = dc_constant_van.predict(X_test)\n",
    "    pred_time_base[\"DC Constant van\"] = time.time() - start_time\n",
    "\n",
    "    start_time = time.time()\n",
    "    dc_most_frequent.fit(X_train, y_train)\n",
    "    train_time_base[\"DC Most Frequent\"] = time.time() - start_time\n",
    "\n",
    "    start_time = time.time()\n",
    "    predictions[\"DC Most Frequent\"] = dc_most_frequent.predict(X_test)\n",
    "    pred_time_base[\"DC Most Frequent\"] = time.time() - start_time\n",
    "\n",
    "    start_time = time.time()\n",
    "    dc_stratified.fit(X_train, y_train)\n",
    "    train_time_base[\"DC Stratified\"] = time.time() - start_time\n",
    "\n",
    "    start_time = time.time()\n",
    "    predictions[\"DC Stratified\"] = dc_stratified.predict(X_test)\n",
    "    pred_time_base[\"DC Stratified\"] = time.time() - start_time\n",
    "\n",
    "\n",
    "    logisticRegr = LogisticRegression()\n",
    "\n",
    "    start_time = time.time()\n",
    "    logisticRegr.fit(X_train, y_train)\n",
    "    train_time_base[\"LR\"] = time.time() - start_time\n",
    "\n",
    "    start_time = time.time()\n",
    "    predictions[\"LR\"] = logisticRegr.predict(X_test)\n",
    "    pred_time_base[\"LR\"] = time.time() - start_time\n",
    "\n",
    "\n",
    "    gnb = GaussianNB()\n",
    "    start_time = time.time()\n",
    "    gnb.fit(X_train, y_train)\n",
    "    train_time_base[\"GNB\"] = time.time() - start_time\n",
    "\n",
    "    start_time = time.time()\n",
    "    predictions[\"GNB\"] = gnb.predict(X_test)\n",
    "    pred_time_base[\"GNB\"] = time.time() - start_time\n",
    "\n",
    "    knn = KNeighborsClassifier(n_neighbors=3)\n",
    "\n",
    "    start_time = time.time()\n",
    "    knn.fit(X_train, y_train)\n",
    "    train_time_base[\"KNN\"] = time.time() - start_time\n",
    "    \n",
    "    start_time = time.time()\n",
    "    predictions[\"KNN\"] = knn.predict(X_test)\n",
    "    pred_time_base[\"KNN\"] = time.time() - start_time\n",
    "\n",
    "\n",
    "    metrics_info(\"DC Uniform\", predictions[\"DC Uniform\"])\n",
    "    metrics_info(\"DC Constant opel\", predictions[\"DC Constant opel\"])\n",
    "    metrics_info(\"DC Constant saab\", predictions[\"DC Constant saab\"])\n",
    "    metrics_info(\"DC Constant bus\", predictions[\"DC Constant bus\"])\n",
    "    metrics_info(\"DC Constant van\", predictions[\"DC Constant van\"])\n",
    "    metrics_info(\"DC Most Frequent\", predictions[\"DC Most Frequent\"])\n",
    "    metrics_info(\"DC Stratified\", predictions[\"DC Stratified\"])\n",
    "    metrics_info(\"GNB\", predictions[\"GNB\"])\n",
    "    metrics_info(\"KNN\", predictions[\"KNN\"])\n",
    "    metrics_info(\"LR\", predictions[\"LR\"])\n",
    "    classifier_labels = list(accuracy.keys())\n",
    "    classifier_accuracy = list(accuracy.values())\n",
    "    classifier_f1 = list(f1.values())\n",
    "\n",
    "        \n",
    "    data = []\n",
    "    data.append(list(accuracy.values()))\n",
    "    data.append(list(f1.values()))\n",
    "\n",
    "    print(pd.DataFrame(data, index = [\"Accuracy Score\", \"F1 Score\"], columns = list(accuracy.keys())))\n",
    "    \n",
    "    bar_plot(classifier_labels, [i*100 for i in classifier_accuracy], \"Accuracy Score (Out of the box)\")\n",
    "    bar_plot(classifier_labels, [i*100 for i in classifier_f1], \"F1 Score (Out of the box)\")\n",
    "    "
   ]
  },
  {
   "cell_type": "code",
   "execution_count": 25,
   "metadata": {},
   "outputs": [
    {
     "name": "stderr",
     "output_type": "stream",
     "text": [
      "C:\\Users\\ΒΑΣΙΛΗΣ\\AppData\\Local\\Packages\\PythonSoftwareFoundation.Python.3.10_qbz5n2kfra8p0\\LocalCache\\local-packages\\Python310\\site-packages\\sklearn\\linear_model\\_logistic.py:444: ConvergenceWarning: lbfgs failed to converge (status=1):\n",
      "STOP: TOTAL NO. of ITERATIONS REACHED LIMIT.\n",
      "\n",
      "Increase the number of iterations (max_iter) or scale the data as shown in:\n",
      "    https://scikit-learn.org/stable/modules/preprocessing.html\n",
      "Please also refer to the documentation for alternative solver options:\n",
      "    https://scikit-learn.org/stable/modules/linear_model.html#logistic-regression\n",
      "  n_iter_i = _check_optimize_result(\n"
     ]
    },
    {
     "name": "stdout",
     "output_type": "stream",
     "text": [
      "                DC Uniform  DC Constant opel  DC Constant saab  \\\n",
      "Accuracy Score    0.236220          0.236220          0.287402   \n",
      "F1 Score          0.238496          0.095541          0.111621   \n",
      "\n",
      "                DC Constant bus  DC Constant van  DC Most Frequent  \\\n",
      "Accuracy Score         0.244094         0.232283          0.244094   \n",
      "F1 Score               0.098101         0.094249          0.098101   \n",
      "\n",
      "                DC Stratified       GNB       KNN        LR  \n",
      "Accuracy Score       0.208661  0.397638  0.622047  0.618110  \n",
      "F1 Score             0.205632  0.342109  0.625455  0.612571  \n"
     ]
    },
    {
     "data": {
      "image/png": "[encoded data removed]",
      "text/plain": [
       "<Figure size 1000x600 with 1 Axes>"
      ]
     },
     "metadata": {},
     "output_type": "display_data"
    },
    {
     "data": {
      "image/png": "[encoded data removed]",
      "text/plain": [
       "<Figure size 1000x600 with 1 Axes>"
      ]
     },
     "metadata": {},
     "output_type": "display_data"
    }
   ],
   "source": [
    "classfication(train_reduced,y_train,test_reduced,y_test)"
   ]
  },
  {
   "cell_type": "markdown",
   "metadata": {},
   "source": [
    "## Pipelines"
   ]
  },
  {
   "cell_type": "code",
   "execution_count": 26,
   "metadata": {},
   "outputs": [],
   "source": [
    "from imblearn.pipeline import Pipeline"
   ]
  },
  {
   "cell_type": "code",
   "execution_count": 27,
   "metadata": {},
   "outputs": [],
   "source": [
    "from sklearn import neighbors"
   ]
  },
  {
   "cell_type": "code",
   "execution_count": 28,
   "metadata": {},
   "outputs": [
    {
     "name": "stdout",
     "output_type": "stream",
     "text": [
      "best parallel for classifier kNN = [('selector', VarianceThreshold()), ('scaler', StandardScaler()), ('sampler', RandomOverSampler())]\n",
      "              precision    recall  f1-score   support\n",
      "\n",
      "         bus       0.89      1.00      0.94        62\n",
      "        opel       0.49      0.50      0.50        60\n",
      "        saab       0.57      0.49      0.53        73\n",
      "         van       0.83      0.85      0.84        59\n",
      "\n",
      "    accuracy                           0.70       254\n",
      "   macro avg       0.70      0.71      0.70       254\n",
      "weighted avg       0.69      0.70      0.69       254\n",
      "\n",
      "fit time = 0.008009672164916992 ||| prediction time = 0.023993253707885742\n",
      "best parallel for classifier GNB = [('selector', VarianceThreshold()), ('scaler', StandardScaler()), ('sampler', RandomUnderSampler()), ('pca', PCA())]\n",
      "              precision    recall  f1-score   support\n",
      "\n",
      "         bus       0.95      0.94      0.94        62\n",
      "        opel       0.57      0.62      0.59        60\n",
      "        saab       0.68      0.70      0.69        73\n",
      "         van       0.98      0.88      0.93        59\n",
      "\n",
      "    accuracy                           0.78       254\n",
      "   macro avg       0.80      0.78      0.79       254\n",
      "weighted avg       0.79      0.78      0.78       254\n",
      "\n",
      "fit time = 0.008662939071655273 ||| prediction time = 0.001131296157836914\n"
     ]
    },
    {
     "name": "stderr",
     "output_type": "stream",
     "text": [
      "C:\\Users\\ΒΑΣΙΛΗΣ\\AppData\\Local\\Packages\\PythonSoftwareFoundation.Python.3.10_qbz5n2kfra8p0\\LocalCache\\local-packages\\Python310\\site-packages\\sklearn\\linear_model\\_logistic.py:444: ConvergenceWarning: lbfgs failed to converge (status=1):\n",
      "STOP: TOTAL NO. of ITERATIONS REACHED LIMIT.\n",
      "\n",
      "Increase the number of iterations (max_iter) or scale the data as shown in:\n",
      "    https://scikit-learn.org/stable/modules/preprocessing.html\n",
      "Please also refer to the documentation for alternative solver options:\n",
      "    https://scikit-learn.org/stable/modules/linear_model.html#logistic-regression\n",
      "  n_iter_i = _check_optimize_result(\n",
      "C:\\Users\\ΒΑΣΙΛΗΣ\\AppData\\Local\\Packages\\PythonSoftwareFoundation.Python.3.10_qbz5n2kfra8p0\\LocalCache\\local-packages\\Python310\\site-packages\\sklearn\\linear_model\\_logistic.py:444: ConvergenceWarning: lbfgs failed to converge (status=1):\n",
      "STOP: TOTAL NO. of ITERATIONS REACHED LIMIT.\n",
      "\n",
      "Increase the number of iterations (max_iter) or scale the data as shown in:\n",
      "    https://scikit-learn.org/stable/modules/preprocessing.html\n",
      "Please also refer to the documentation for alternative solver options:\n",
      "    https://scikit-learn.org/stable/modules/linear_model.html#logistic-regression\n",
      "  n_iter_i = _check_optimize_result(\n",
      "C:\\Users\\ΒΑΣΙΛΗΣ\\AppData\\Local\\Packages\\PythonSoftwareFoundation.Python.3.10_qbz5n2kfra8p0\\LocalCache\\local-packages\\Python310\\site-packages\\sklearn\\linear_model\\_logistic.py:444: ConvergenceWarning: lbfgs failed to converge (status=1):\n",
      "STOP: TOTAL NO. of ITERATIONS REACHED LIMIT.\n",
      "\n",
      "Increase the number of iterations (max_iter) or scale the data as shown in:\n",
      "    https://scikit-learn.org/stable/modules/preprocessing.html\n",
      "Please also refer to the documentation for alternative solver options:\n",
      "    https://scikit-learn.org/stable/modules/linear_model.html#logistic-regression\n",
      "  n_iter_i = _check_optimize_result(\n"
     ]
    },
    {
     "name": "stdout",
     "output_type": "stream",
     "text": [
      "best parallel for classifier Logistic Regression = [('selector', VarianceThreshold()), ('scaler', StandardScaler())]\n",
      "              precision    recall  f1-score   support\n",
      "\n",
      "         bus       0.90      0.97      0.93        62\n",
      "        opel       0.67      0.62      0.64        60\n",
      "        saab       0.75      0.70      0.72        73\n",
      "         van       0.89      0.97      0.93        59\n",
      "\n",
      "    accuracy                           0.81       254\n",
      "   macro avg       0.80      0.81      0.81       254\n",
      "weighted avg       0.80      0.81      0.80       254\n",
      "\n",
      "fit time = 0.04072308540344238 ||| prediction time = 0.0\n"
     ]
    }
   ],
   "source": [
    "# φέρνουμε τις γνωστές μας κλάσεις για preprocessing\n",
    "from sklearn.feature_selection import VarianceThreshold\n",
    "from sklearn.preprocessing import StandardScaler # φέρνουμε τον StandarScaler ως transformer που έχει .transform kai ΄όχι ως scale()\n",
    "from imblearn.over_sampling import RandomOverSampler\n",
    "from imblearn.under_sampling import RandomUnderSampler\n",
    "from sklearn.decomposition import PCA\n",
    "\n",
    "# αρχικοποιούμε τον εκτιμητή (ταξινομητής) και τους μετασχηματιστές χωρίς υπερ-παραμέτρους\n",
    "selector = VarianceThreshold()\n",
    "scaler = [StandardScaler(),MinMaxScaler()]\n",
    "ros = [RandomOverSampler(),RandomUnderSampler()]\n",
    "pca = PCA()\n",
    "\n",
    "# KNN\n",
    "knn = neighbors.KNeighborsClassifier(n_jobs=-1) # η παράμετρος n_jobs = 1 χρησιμοποιεί όλους τους πυρήνες του υπολογιστή\n",
    "# GNB\n",
    "gnb = GaussianNB()\n",
    "# Logistic Regression\n",
    "lr = LogisticRegression()\n",
    "\n",
    "pipes_to_try = [[('selector', selector)]]\n",
    "\n",
    "for s in scaler:\n",
    "    pipes_to_try.append(pipes_to_try[0]+[('scaler',s)])\n",
    "\n",
    "for i in range(1,len(pipes_to_try)):\n",
    "    pipes_to_try.append(pipes_to_try[i]+[('sampler',ros[0])])\n",
    "    pipes_to_try.append(pipes_to_try[i]+[('sampler',ros[1])])\n",
    "\n",
    "for i in range(3,7):\n",
    "    pipes_to_try.append(pipes_to_try[i]+[('pca',pca)])\n",
    "\n",
    "classifiers = [('kNN',knn),('GNB',gnb),('Logistic Regression',lr)]\n",
    "parallels = []\n",
    "\n",
    "for c in classifiers:\n",
    "    best = 0\n",
    "    best_parallel = []\n",
    "    preds_for_metrics = []\n",
    "    fit_time = 0\n",
    "    pred_time = 0        \n",
    "    for i in pipes_to_try:\n",
    "        pipe_test = Pipeline(steps = i+[c])\n",
    "        timer = time.time()\n",
    "        pipe_test.fit(X_train,y_train)\n",
    "        demo_fit_time = time.time() - timer\n",
    "        timer = time.time()\n",
    "        pred = pipe_test.predict(X_test)\n",
    "        demo_pred_time = time.time() - timer\n",
    "        score = f1_score(y_test,pred,average='macro')\n",
    "        if(score > best):\n",
    "            best = score\n",
    "            preds_for_metrics=pred\n",
    "            best_parallel = i\n",
    "            fit_time = demo_fit_time\n",
    "            pred_time = demo_pred_time\n",
    "        \n",
    "    parallels.append((c[0],best_parallel))\n",
    "    print(\"best parallel for classifier {} = {}\".format(c[0],best_parallel))\n",
    "    print(classification_report(y_test, preds_for_metrics))\n",
    "    print(\"fit time = {} ||| prediction time = {}\".format(fit_time,pred_time))\n",
    "\n"
   ]
  },
  {
   "cell_type": "code",
   "execution_count": 29,
   "metadata": {},
   "outputs": [
    {
     "data": {
      "text/plain": [
       "[('kNN',\n",
       "  [('selector', VarianceThreshold()),\n",
       "   ('scaler', StandardScaler()),\n",
       "   ('sampler', RandomOverSampler())]),\n",
       " ('GNB',\n",
       "  [('selector', VarianceThreshold()),\n",
       "   ('scaler', StandardScaler()),\n",
       "   ('sampler', RandomUnderSampler()),\n",
       "   ('pca', PCA())]),\n",
       " ('Logistic Regression',\n",
       "  [('selector', VarianceThreshold()), ('scaler', StandardScaler())])]"
      ]
     },
     "execution_count": 29,
     "metadata": {},
     "output_type": "execute_result"
    }
   ],
   "source": [
    "parallels"
   ]
  },
  {
   "cell_type": "code",
   "execution_count": 30,
   "metadata": {},
   "outputs": [
    {
     "name": "stdout",
     "output_type": "stream",
     "text": [
      "              precision    recall  f1-score   support\n",
      "\n",
      "         bus       0.74      0.87      0.80        62\n",
      "        opel       0.62      0.48      0.54        60\n",
      "        saab       0.66      0.56      0.61        73\n",
      "         van       0.79      0.97      0.87        59\n",
      "\n",
      "    accuracy                           0.71       254\n",
      "   macro avg       0.70      0.72      0.70       254\n",
      "weighted avg       0.70      0.71      0.70       254\n",
      "\n"
     ]
    }
   ],
   "source": [
    "print(classification_report(y_test, pred))"
   ]
  },
  {
   "cell_type": "markdown",
   "metadata": {},
   "source": [
    "## GridsearchCV"
   ]
  },
  {
   "cell_type": "markdown",
   "metadata": {},
   "source": [
    "## kNN"
   ]
  },
  {
   "cell_type": "code",
   "execution_count": 108,
   "metadata": {},
   "outputs": [
    {
     "name": "stdout",
     "output_type": "stream",
     "text": [
      "[6.85198594e+01 3.85890448e+01 2.46469204e+02 1.14819608e+03\n",
      " 7.11972243e+01 2.43669164e+01 1.11474566e+03 6.07984386e+01\n",
      " 6.80676760e+00 2.13487023e+02 1.00764827e+03 3.16678089e+04\n",
      " 1.07072824e+03 6.14235727e+01 2.39404218e+01 8.04217951e+01\n",
      " 3.73644511e+01 5.58614751e+01]\n",
      "31667.808881939396\n",
      "6.806767599525212\n"
     ]
    }
   ],
   "source": [
    "train_variance = np.array(X_train).var(axis=0)\n",
    "print(train_variance)\n",
    "print(np.max(train_variance))\n",
    "print(np.min(train_variance))"
   ]
  },
  {
   "cell_type": "code",
   "execution_count": 55,
   "metadata": {},
   "outputs": [
    {
     "name": "stdout",
     "output_type": "stream",
     "text": [
      "31667.808881939396\n",
      "6.806767599525212\n"
     ]
    }
   ],
   "source": [
    "maxvar = np.max(train_variance)\n",
    "minvar = np.min(train_variance)\n",
    "print(maxvar)\n",
    "print(minvar)"
   ]
  },
  {
   "cell_type": "code",
   "execution_count": 118,
   "metadata": {},
   "outputs": [
    {
     "name": "stdout",
     "output_type": "stream",
     "text": [
      "[0.0, 0.05, 0.1, 0.15000000000000002, 0.2, 0.25, 0.30000000000000004, 0.35000000000000003, 0.4, 0.45, 0.5, 0.55, 0.6000000000000001, 0.65, 0.7000000000000001, 0.75, 0.8, 0.8500000000000001, 0.9, 0.9500000000000001]\n"
     ]
    }
   ],
   "source": [
    "from sklearn.model_selection import GridSearchCV\n",
    "\n",
    "vthreshold = list(np.arange(start = 0, stop = 1, step = 0.05))\n",
    "print(vthreshold)\n",
    "n_components = [14,15,16,17,18]\n",
    "k = [1,2,3,4] # η υπερπαράμετρος του ταξινομητή"
   ]
  },
  {
   "cell_type": "code",
   "execution_count": 161,
   "metadata": {},
   "outputs": [],
   "source": [
    "pipe = Pipeline(steps=[('selector', selector), ('scaler', scaler[0]), ('sampler', ros[0]), ('pca', pca), ('kNN', knn)], memory = 'tmp')"
   ]
  },
  {
   "cell_type": "code",
   "execution_count": 162,
   "metadata": {},
   "outputs": [],
   "source": [
    "knn_dict = {}\n",
    "knn_dict[\"kNN__neighbors\"] = n_components"
   ]
  },
  {
   "cell_type": "code",
   "execution_count": 163,
   "metadata": {},
   "outputs": [],
   "source": [
    "estimator = GridSearchCV(pipe, dict(selector__threshold=vthreshold, pca__n_components=n_components,kNN__n_neighbors=k), cv=10, scoring='f1_macro', n_jobs=-1)"
   ]
  },
  {
   "cell_type": "code",
   "execution_count": 164,
   "metadata": {},
   "outputs": [
    {
     "data": {
      "text/html": [
       "<style>#sk-container-id-27 {color: black;background-color: white;}#sk-container-id-27 pre{padding: 0;}#sk-container-id-27 div.sk-toggleable {background-color: white;}#sk-container-id-27 label.sk-toggleable__label {cursor: pointer;display: block;width: 100%;margin-bottom: 0;padding: 0.3em;box-sizing: border-box;text-align: center;}#sk-container-id-27 label.sk-toggleable__label-arrow:before {content: \"▸\";float: left;margin-right: 0.25em;color: #696969;}#sk-container-id-27 label.sk-toggleable__label-arrow:hover:before {color: black;}#sk-container-id-27 div.sk-estimator:hover label.sk-toggleable__label-arrow:before {color: black;}#sk-container-id-27 div.sk-toggleable__content {max-height: 0;max-width: 0;overflow: hidden;text-align: left;background-color: #f0f8ff;}#sk-container-id-27 div.sk-toggleable__content pre {margin: 0.2em;color: black;border-radius: 0.25em;background-color: #f0f8ff;}#sk-container-id-27 input.sk-toggleable__control:checked~div.sk-toggleable__content {max-height: 200px;max-width: 100%;overflow: auto;}#sk-container-id-27 input.sk-toggleable__control:checked~label.sk-toggleable__label-arrow:before {content: \"▾\";}#sk-container-id-27 div.sk-estimator input.sk-toggleable__control:checked~label.sk-toggleable__label {background-color: #d4ebff;}#sk-container-id-27 div.sk-label input.sk-toggleable__control:checked~label.sk-toggleable__label {background-color: #d4ebff;}#sk-container-id-27 input.sk-hidden--visually {border: 0;clip: rect(1px 1px 1px 1px);clip: rect(1px, 1px, 1px, 1px);height: 1px;margin: -1px;overflow: hidden;padding: 0;position: absolute;width: 1px;}#sk-container-id-27 div.sk-estimator {font-family: monospace;background-color: #f0f8ff;border: 1px dotted black;border-radius: 0.25em;box-sizing: border-box;margin-bottom: 0.5em;}#sk-container-id-27 div.sk-estimator:hover {background-color: #d4ebff;}#sk-container-id-27 div.sk-parallel-item::after {content: \"\";width: 100%;border-bottom: 1px solid gray;flex-grow: 1;}#sk-container-id-27 div.sk-label:hover label.sk-toggleable__label {background-color: #d4ebff;}#sk-container-id-27 div.sk-serial::before {content: \"\";position: absolute;border-left: 1px solid gray;box-sizing: border-box;top: 0;bottom: 0;left: 50%;z-index: 0;}#sk-container-id-27 div.sk-serial {display: flex;flex-direction: column;align-items: center;background-color: white;padding-right: 0.2em;padding-left: 0.2em;position: relative;}#sk-container-id-27 div.sk-item {position: relative;z-index: 1;}#sk-container-id-27 div.sk-parallel {display: flex;align-items: stretch;justify-content: center;background-color: white;position: relative;}#sk-container-id-27 div.sk-item::before, #sk-container-id-27 div.sk-parallel-item::before {content: \"\";position: absolute;border-left: 1px solid gray;box-sizing: border-box;top: 0;bottom: 0;left: 50%;z-index: -1;}#sk-container-id-27 div.sk-parallel-item {display: flex;flex-direction: column;z-index: 1;position: relative;background-color: white;}#sk-container-id-27 div.sk-parallel-item:first-child::after {align-self: flex-end;width: 50%;}#sk-container-id-27 div.sk-parallel-item:last-child::after {align-self: flex-start;width: 50%;}#sk-container-id-27 div.sk-parallel-item:only-child::after {width: 0;}#sk-container-id-27 div.sk-dashed-wrapped {border: 1px dashed gray;margin: 0 0.4em 0.5em 0.4em;box-sizing: border-box;padding-bottom: 0.4em;background-color: white;}#sk-container-id-27 div.sk-label label {font-family: monospace;font-weight: bold;display: inline-block;line-height: 1.2em;}#sk-container-id-27 div.sk-label-container {text-align: center;}#sk-container-id-27 div.sk-container {/* jupyter's `normalize.less` sets `[hidden] { display: none; }` but bootstrap.min.css set `[hidden] { display: none !important; }` so we also need the `!important` here to be able to override the default hidden behavior on the sphinx rendered scikit-learn.org. See: https://github.com/scikit-learn/scikit-learn/issues/21755 */display: inline-block !important;position: relative;}#sk-container-id-27 div.sk-text-repr-fallback {display: none;}</style><div id=\"sk-container-id-27\" class=\"sk-top-container\"><div class=\"sk-text-repr-fallback\"><pre>GridSearchCV(cv=10,\n",
       "             estimator=Pipeline(memory=&#x27;tmp&#x27;,\n",
       "                                steps=[(&#x27;selector&#x27;, VarianceThreshold()),\n",
       "                                       (&#x27;scaler&#x27;, StandardScaler()),\n",
       "                                       (&#x27;sampler&#x27;, RandomOverSampler()),\n",
       "                                       (&#x27;pca&#x27;, PCA()),\n",
       "                                       (&#x27;kNN&#x27;,\n",
       "                                        KNeighborsClassifier(n_jobs=-1))]),\n",
       "             n_jobs=-1,\n",
       "             param_grid={&#x27;kNN__n_neighbors&#x27;: [1, 2, 3, 4],\n",
       "                         &#x27;pca__n_components&#x27;: [14, 15, 16, 17, 18],\n",
       "                         &#x27;selector__threshold&#x27;: [0.0, 0.05, 0.1,\n",
       "                                                 0.15000000000000002, 0.2, 0.25,\n",
       "                                                 0.30000000000000004,\n",
       "                                                 0.35000000000000003, 0.4, 0.45,\n",
       "                                                 0.5, 0.55, 0.6000000000000001,\n",
       "                                                 0.65, 0.7000000000000001, 0.75,\n",
       "                                                 0.8, 0.8500000000000001, 0.9,\n",
       "                                                 0.9500000000000001]},\n",
       "             scoring=&#x27;f1_macro&#x27;)</pre><b>In a Jupyter environment, please rerun this cell to show the HTML representation or trust the notebook. <br />On GitHub, the HTML representation is unable to render, please try loading this page with nbviewer.org.</b></div><div class=\"sk-container\" hidden><div class=\"sk-item sk-dashed-wrapped\"><div class=\"sk-label-container\"><div class=\"sk-label sk-toggleable\"><input class=\"sk-toggleable__control sk-hidden--visually\" id=\"sk-estimator-id-173\" type=\"checkbox\" ><label for=\"sk-estimator-id-173\" class=\"sk-toggleable__label sk-toggleable__label-arrow\">GridSearchCV</label><div class=\"sk-toggleable__content\"><pre>GridSearchCV(cv=10,\n",
       "             estimator=Pipeline(memory=&#x27;tmp&#x27;,\n",
       "                                steps=[(&#x27;selector&#x27;, VarianceThreshold()),\n",
       "                                       (&#x27;scaler&#x27;, StandardScaler()),\n",
       "                                       (&#x27;sampler&#x27;, RandomOverSampler()),\n",
       "                                       (&#x27;pca&#x27;, PCA()),\n",
       "                                       (&#x27;kNN&#x27;,\n",
       "                                        KNeighborsClassifier(n_jobs=-1))]),\n",
       "             n_jobs=-1,\n",
       "             param_grid={&#x27;kNN__n_neighbors&#x27;: [1, 2, 3, 4],\n",
       "                         &#x27;pca__n_components&#x27;: [14, 15, 16, 17, 18],\n",
       "                         &#x27;selector__threshold&#x27;: [0.0, 0.05, 0.1,\n",
       "                                                 0.15000000000000002, 0.2, 0.25,\n",
       "                                                 0.30000000000000004,\n",
       "                                                 0.35000000000000003, 0.4, 0.45,\n",
       "                                                 0.5, 0.55, 0.6000000000000001,\n",
       "                                                 0.65, 0.7000000000000001, 0.75,\n",
       "                                                 0.8, 0.8500000000000001, 0.9,\n",
       "                                                 0.9500000000000001]},\n",
       "             scoring=&#x27;f1_macro&#x27;)</pre></div></div></div><div class=\"sk-parallel\"><div class=\"sk-parallel-item\"><div class=\"sk-item\"><div class=\"sk-label-container\"><div class=\"sk-label sk-toggleable\"><input class=\"sk-toggleable__control sk-hidden--visually\" id=\"sk-estimator-id-174\" type=\"checkbox\" ><label for=\"sk-estimator-id-174\" class=\"sk-toggleable__label sk-toggleable__label-arrow\">estimator: Pipeline</label><div class=\"sk-toggleable__content\"><pre>Pipeline(memory=&#x27;tmp&#x27;,\n",
       "         steps=[(&#x27;selector&#x27;, VarianceThreshold()), (&#x27;scaler&#x27;, StandardScaler()),\n",
       "                (&#x27;sampler&#x27;, RandomOverSampler()), (&#x27;pca&#x27;, PCA()),\n",
       "                (&#x27;kNN&#x27;, KNeighborsClassifier(n_jobs=-1))])</pre></div></div></div><div class=\"sk-serial\"><div class=\"sk-item\"><div class=\"sk-serial\"><div class=\"sk-item\"><div class=\"sk-estimator sk-toggleable\"><input class=\"sk-toggleable__control sk-hidden--visually\" id=\"sk-estimator-id-175\" type=\"checkbox\" ><label for=\"sk-estimator-id-175\" class=\"sk-toggleable__label sk-toggleable__label-arrow\">VarianceThreshold</label><div class=\"sk-toggleable__content\"><pre>VarianceThreshold()</pre></div></div></div><div class=\"sk-item\"><div class=\"sk-estimator sk-toggleable\"><input class=\"sk-toggleable__control sk-hidden--visually\" id=\"sk-estimator-id-176\" type=\"checkbox\" ><label for=\"sk-estimator-id-176\" class=\"sk-toggleable__label sk-toggleable__label-arrow\">StandardScaler</label><div class=\"sk-toggleable__content\"><pre>StandardScaler()</pre></div></div></div><div class=\"sk-item\"><div class=\"sk-estimator sk-toggleable\"><input class=\"sk-toggleable__control sk-hidden--visually\" id=\"sk-estimator-id-177\" type=\"checkbox\" ><label for=\"sk-estimator-id-177\" class=\"sk-toggleable__label sk-toggleable__label-arrow\">RandomOverSampler</label><div class=\"sk-toggleable__content\"><pre>RandomOverSampler()</pre></div></div></div><div class=\"sk-item\"><div class=\"sk-estimator sk-toggleable\"><input class=\"sk-toggleable__control sk-hidden--visually\" id=\"sk-estimator-id-178\" type=\"checkbox\" ><label for=\"sk-estimator-id-178\" class=\"sk-toggleable__label sk-toggleable__label-arrow\">PCA</label><div class=\"sk-toggleable__content\"><pre>PCA()</pre></div></div></div><div class=\"sk-item\"><div class=\"sk-estimator sk-toggleable\"><input class=\"sk-toggleable__control sk-hidden--visually\" id=\"sk-estimator-id-179\" type=\"checkbox\" ><label for=\"sk-estimator-id-179\" class=\"sk-toggleable__label sk-toggleable__label-arrow\">KNeighborsClassifier</label><div class=\"sk-toggleable__content\"><pre>KNeighborsClassifier(n_jobs=-1)</pre></div></div></div></div></div></div></div></div></div></div></div></div>"
      ],
      "text/plain": [
       "GridSearchCV(cv=10,\n",
       "             estimator=Pipeline(memory='tmp',\n",
       "                                steps=[('selector', VarianceThreshold()),\n",
       "                                       ('scaler', StandardScaler()),\n",
       "                                       ('sampler', RandomOverSampler()),\n",
       "                                       ('pca', PCA()),\n",
       "                                       ('kNN',\n",
       "                                        KNeighborsClassifier(n_jobs=-1))]),\n",
       "             n_jobs=-1,\n",
       "             param_grid={'kNN__n_neighbors': [1, 2, 3, 4],\n",
       "                         'pca__n_components': [14, 15, 16, 17, 18],\n",
       "                         'selector__threshold': [0.0, 0.05, 0.1,\n",
       "                                                 0.15000000000000002, 0.2, 0.25,\n",
       "                                                 0.30000000000000004,\n",
       "                                                 0.35000000000000003, 0.4, 0.45,\n",
       "                                                 0.5, 0.55, 0.6000000000000001,\n",
       "                                                 0.65, 0.7000000000000001, 0.75,\n",
       "                                                 0.8, 0.8500000000000001, 0.9,\n",
       "                                                 0.9500000000000001]},\n",
       "             scoring='f1_macro')"
      ]
     },
     "execution_count": 164,
     "metadata": {},
     "output_type": "execute_result"
    }
   ],
   "source": [
    "estimator.fit(X_train,y_train)"
   ]
  },
  {
   "cell_type": "code",
   "execution_count": 165,
   "metadata": {},
   "outputs": [
    {
     "data": {
      "text/html": [
       "<style>#sk-container-id-28 {color: black;background-color: white;}#sk-container-id-28 pre{padding: 0;}#sk-container-id-28 div.sk-toggleable {background-color: white;}#sk-container-id-28 label.sk-toggleable__label {cursor: pointer;display: block;width: 100%;margin-bottom: 0;padding: 0.3em;box-sizing: border-box;text-align: center;}#sk-container-id-28 label.sk-toggleable__label-arrow:before {content: \"▸\";float: left;margin-right: 0.25em;color: #696969;}#sk-container-id-28 label.sk-toggleable__label-arrow:hover:before {color: black;}#sk-container-id-28 div.sk-estimator:hover label.sk-toggleable__label-arrow:before {color: black;}#sk-container-id-28 div.sk-toggleable__content {max-height: 0;max-width: 0;overflow: hidden;text-align: left;background-color: #f0f8ff;}#sk-container-id-28 div.sk-toggleable__content pre {margin: 0.2em;color: black;border-radius: 0.25em;background-color: #f0f8ff;}#sk-container-id-28 input.sk-toggleable__control:checked~div.sk-toggleable__content {max-height: 200px;max-width: 100%;overflow: auto;}#sk-container-id-28 input.sk-toggleable__control:checked~label.sk-toggleable__label-arrow:before {content: \"▾\";}#sk-container-id-28 div.sk-estimator input.sk-toggleable__control:checked~label.sk-toggleable__label {background-color: #d4ebff;}#sk-container-id-28 div.sk-label input.sk-toggleable__control:checked~label.sk-toggleable__label {background-color: #d4ebff;}#sk-container-id-28 input.sk-hidden--visually {border: 0;clip: rect(1px 1px 1px 1px);clip: rect(1px, 1px, 1px, 1px);height: 1px;margin: -1px;overflow: hidden;padding: 0;position: absolute;width: 1px;}#sk-container-id-28 div.sk-estimator {font-family: monospace;background-color: #f0f8ff;border: 1px dotted black;border-radius: 0.25em;box-sizing: border-box;margin-bottom: 0.5em;}#sk-container-id-28 div.sk-estimator:hover {background-color: #d4ebff;}#sk-container-id-28 div.sk-parallel-item::after {content: \"\";width: 100%;border-bottom: 1px solid gray;flex-grow: 1;}#sk-container-id-28 div.sk-label:hover label.sk-toggleable__label {background-color: #d4ebff;}#sk-container-id-28 div.sk-serial::before {content: \"\";position: absolute;border-left: 1px solid gray;box-sizing: border-box;top: 0;bottom: 0;left: 50%;z-index: 0;}#sk-container-id-28 div.sk-serial {display: flex;flex-direction: column;align-items: center;background-color: white;padding-right: 0.2em;padding-left: 0.2em;position: relative;}#sk-container-id-28 div.sk-item {position: relative;z-index: 1;}#sk-container-id-28 div.sk-parallel {display: flex;align-items: stretch;justify-content: center;background-color: white;position: relative;}#sk-container-id-28 div.sk-item::before, #sk-container-id-28 div.sk-parallel-item::before {content: \"\";position: absolute;border-left: 1px solid gray;box-sizing: border-box;top: 0;bottom: 0;left: 50%;z-index: -1;}#sk-container-id-28 div.sk-parallel-item {display: flex;flex-direction: column;z-index: 1;position: relative;background-color: white;}#sk-container-id-28 div.sk-parallel-item:first-child::after {align-self: flex-end;width: 50%;}#sk-container-id-28 div.sk-parallel-item:last-child::after {align-self: flex-start;width: 50%;}#sk-container-id-28 div.sk-parallel-item:only-child::after {width: 0;}#sk-container-id-28 div.sk-dashed-wrapped {border: 1px dashed gray;margin: 0 0.4em 0.5em 0.4em;box-sizing: border-box;padding-bottom: 0.4em;background-color: white;}#sk-container-id-28 div.sk-label label {font-family: monospace;font-weight: bold;display: inline-block;line-height: 1.2em;}#sk-container-id-28 div.sk-label-container {text-align: center;}#sk-container-id-28 div.sk-container {/* jupyter's `normalize.less` sets `[hidden] { display: none; }` but bootstrap.min.css set `[hidden] { display: none !important; }` so we also need the `!important` here to be able to override the default hidden behavior on the sphinx rendered scikit-learn.org. See: https://github.com/scikit-learn/scikit-learn/issues/21755 */display: inline-block !important;position: relative;}#sk-container-id-28 div.sk-text-repr-fallback {display: none;}</style><div id=\"sk-container-id-28\" class=\"sk-top-container\"><div class=\"sk-text-repr-fallback\"><pre>Pipeline(memory=&#x27;tmp&#x27;,\n",
       "         steps=[(&#x27;selector&#x27;, VarianceThreshold()), (&#x27;scaler&#x27;, StandardScaler()),\n",
       "                (&#x27;sampler&#x27;, RandomOverSampler()), (&#x27;pca&#x27;, PCA(n_components=14)),\n",
       "                (&#x27;kNN&#x27;, KNeighborsClassifier(n_jobs=-1, n_neighbors=1))])</pre><b>In a Jupyter environment, please rerun this cell to show the HTML representation or trust the notebook. <br />On GitHub, the HTML representation is unable to render, please try loading this page with nbviewer.org.</b></div><div class=\"sk-container\" hidden><div class=\"sk-item sk-dashed-wrapped\"><div class=\"sk-label-container\"><div class=\"sk-label sk-toggleable\"><input class=\"sk-toggleable__control sk-hidden--visually\" id=\"sk-estimator-id-180\" type=\"checkbox\" ><label for=\"sk-estimator-id-180\" class=\"sk-toggleable__label sk-toggleable__label-arrow\">Pipeline</label><div class=\"sk-toggleable__content\"><pre>Pipeline(memory=&#x27;tmp&#x27;,\n",
       "         steps=[(&#x27;selector&#x27;, VarianceThreshold()), (&#x27;scaler&#x27;, StandardScaler()),\n",
       "                (&#x27;sampler&#x27;, RandomOverSampler()), (&#x27;pca&#x27;, PCA(n_components=14)),\n",
       "                (&#x27;kNN&#x27;, KNeighborsClassifier(n_jobs=-1, n_neighbors=1))])</pre></div></div></div><div class=\"sk-serial\"><div class=\"sk-item\"><div class=\"sk-estimator sk-toggleable\"><input class=\"sk-toggleable__control sk-hidden--visually\" id=\"sk-estimator-id-181\" type=\"checkbox\" ><label for=\"sk-estimator-id-181\" class=\"sk-toggleable__label sk-toggleable__label-arrow\">VarianceThreshold</label><div class=\"sk-toggleable__content\"><pre>VarianceThreshold()</pre></div></div></div><div class=\"sk-item\"><div class=\"sk-estimator sk-toggleable\"><input class=\"sk-toggleable__control sk-hidden--visually\" id=\"sk-estimator-id-182\" type=\"checkbox\" ><label for=\"sk-estimator-id-182\" class=\"sk-toggleable__label sk-toggleable__label-arrow\">StandardScaler</label><div class=\"sk-toggleable__content\"><pre>StandardScaler()</pre></div></div></div><div class=\"sk-item\"><div class=\"sk-estimator sk-toggleable\"><input class=\"sk-toggleable__control sk-hidden--visually\" id=\"sk-estimator-id-183\" type=\"checkbox\" ><label for=\"sk-estimator-id-183\" class=\"sk-toggleable__label sk-toggleable__label-arrow\">RandomOverSampler</label><div class=\"sk-toggleable__content\"><pre>RandomOverSampler()</pre></div></div></div><div class=\"sk-item\"><div class=\"sk-estimator sk-toggleable\"><input class=\"sk-toggleable__control sk-hidden--visually\" id=\"sk-estimator-id-184\" type=\"checkbox\" ><label for=\"sk-estimator-id-184\" class=\"sk-toggleable__label sk-toggleable__label-arrow\">PCA</label><div class=\"sk-toggleable__content\"><pre>PCA(n_components=14)</pre></div></div></div><div class=\"sk-item\"><div class=\"sk-estimator sk-toggleable\"><input class=\"sk-toggleable__control sk-hidden--visually\" id=\"sk-estimator-id-185\" type=\"checkbox\" ><label for=\"sk-estimator-id-185\" class=\"sk-toggleable__label sk-toggleable__label-arrow\">KNeighborsClassifier</label><div class=\"sk-toggleable__content\"><pre>KNeighborsClassifier(n_jobs=-1, n_neighbors=1)</pre></div></div></div></div></div></div></div>"
      ],
      "text/plain": [
       "Pipeline(memory='tmp',\n",
       "         steps=[('selector', VarianceThreshold()), ('scaler', StandardScaler()),\n",
       "                ('sampler', RandomOverSampler()), ('pca', PCA(n_components=14)),\n",
       "                ('kNN', KNeighborsClassifier(n_jobs=-1, n_neighbors=1))])"
      ]
     },
     "execution_count": 165,
     "metadata": {},
     "output_type": "execute_result"
    }
   ],
   "source": [
    "estimator.best_estimator_"
   ]
  },
  {
   "cell_type": "code",
   "execution_count": 160,
   "metadata": {},
   "outputs": [
    {
     "data": {
      "text/plain": [
       "0.7847181240869694"
      ]
     },
     "execution_count": 160,
     "metadata": {},
     "output_type": "execute_result"
    }
   ],
   "source": [
    "estimator.best_score_"
   ]
  },
  {
   "cell_type": "code",
   "execution_count": null,
   "metadata": {},
   "outputs": [],
   "source": []
  },
  {
   "cell_type": "code",
   "execution_count": null,
   "metadata": {},
   "outputs": [],
   "source": []
  }
 ],
 "metadata": {
  "kernelspec": {
   "display_name": "Python 3.10.8 64-bit (microsoft store)",
   "language": "python",
   "name": "python3"
  },
  "language_info": {
   "codemirror_mode": {
    "name": "ipython",
    "version": 3
   },
   "file_extension": ".py",
   "mimetype": "text/x-python",
   "name": "python",
   "nbconvert_exporter": "python",
   "pygments_lexer": "ipython3",
   "version": "3.10.8"
  },
  "orig_nbformat": 4,
  "vscode": {
   "interpreter": {
    "hash": "05bf6954723d373e19203643aa44961c2ed94b1243a950da884af6122a33ba1c"
   }
  }
 },
 "nbformat": 4,
 "nbformat_minor": 2
}
