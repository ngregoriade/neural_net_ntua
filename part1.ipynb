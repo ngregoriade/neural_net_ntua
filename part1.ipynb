{
 "cells": [
  {
   "cell_type": "code",
   "execution_count": 1,
   "metadata": {
    "pycharm": {
     "is_executing": true
    }
   },
   "outputs": [],
   "source": [
    "import pandas as pd, numpy as np, matplotlib.pyplot as plt, time\n",
    "#from imblearn.over_sampling import RandomOverSampler\n",
    "from sklearn.model_selection import train_test_split,GridSearchCV,cross_val_score\n",
    "from sklearn.impute import SimpleImputer\n",
    "from sklearn.dummy import DummyClassifier\n",
    "from sklearn.neighbors import KNeighborsClassifier\n",
    "from sklearn.neural_network import MLPClassifier\n",
    "from sklearn.naive_bayes import GaussianNB\n",
    "from sklearn.metrics import accuracy_score,classification_report,confusion_matrix, precision_recall_fscore_support,f1_score\n",
    "\n",
    "from sklearn.feature_selection import VarianceThreshold\n",
    "from sklearn import preprocessing\n",
    "from sklearn.preprocessing import StandardScaler,MinMaxScaler\n",
    "from sklearn.decomposition import PCA\n",
    "#from imblearn.pipeline import Pipeline\n",
    "from sklearn.utils import shuffle\n",
    "import time\n",
    "from sklearn.linear_model import LogisticRegression\n"
   ]
  },
  {
   "cell_type": "markdown",
   "metadata": {},
   "source": [
    "## Εισαγωγή δεδομένων από αρχεία .dat"
   ]
  },
  {
   "cell_type": "code",
   "execution_count": 2,
   "metadata": {},
   "outputs": [],
   "source": [
    "res = []\n",
    "for i in \"abcdefghi\":\n",
    "    data = np.genfromtxt(\"./testdata/xa{}.dat\".format(i),\n",
    "                     skip_header=0,\n",
    "                     skip_footer=0,\n",
    "                     names=None,\n",
    "                     dtype=None,\n",
    "                     delimiter=' ',\n",
    "                     encoding=\"utf8\")\n",
    "    res += list(data)"
   ]
  },
  {
   "cell_type": "markdown",
   "metadata": {},
   "source": [
    "## Δημιουργία dataset"
   ]
  },
  {
   "cell_type": "code",
   "execution_count": 15,
   "metadata": {},
   "outputs": [
    {
     "data": {
      "text/html": [
       "<div>\n",
       "<style scoped>\n",
       "    .dataframe tbody tr th:only-of-type {\n",
       "        vertical-align: middle;\n",
       "    }\n",
       "\n",
       "    .dataframe tbody tr th {\n",
       "        vertical-align: top;\n",
       "    }\n",
       "\n",
       "    .dataframe thead th {\n",
       "        text-align: right;\n",
       "    }\n",
       "</style>\n",
       "<table border=\"1\" class=\"dataframe\">\n",
       "  <thead>\n",
       "    <tr style=\"text-align: right;\">\n",
       "      <th></th>\n",
       "      <th>data</th>\n",
       "    </tr>\n",
       "  </thead>\n",
       "  <tbody>\n",
       "    <tr>\n",
       "      <th>samples</th>\n",
       "      <td>846</td>\n",
       "    </tr>\n",
       "    <tr>\n",
       "      <th>features</th>\n",
       "      <td>18</td>\n",
       "    </tr>\n",
       "  </tbody>\n",
       "</table>\n",
       "</div>"
      ],
      "text/plain": [
       "          data\n",
       "samples    846\n",
       "features    18"
      ]
     },
     "execution_count": 15,
     "metadata": {},
     "output_type": "execute_result"
    }
   ],
   "source": [
    "y=[]\n",
    "x=[]\n",
    "for i in range(len(res)):\n",
    "    y.append(res[i][-1])\n",
    "    x.append(list(res[i])[:-1])\n",
    "shape = np.shape(x)\n",
    "\n",
    "# make a dataframe to print the shape value\n",
    "df = pd.DataFrame(shape,index = [\"samples\",\"features\"],columns = [\"data\"])\n",
    "df\n",
    "\n"
   ]
  },
  {
   "cell_type": "markdown",
   "metadata": {},
   "source": [
    "## Περιγραφή των δεδομένων\n",
    "\n",
    "### Παρουσίαση Dataset\n",
    "Το dataset αποτελείται από πληροφορίες σχετικά με την μορφή διάφορων οχημάτων:\n",
    "  \n",
    "  |Χαρακτηριστικό          |Περιγραφή                                                  |\n",
    "  |------------------------|-----------------------------------------------------------|\n",
    "  |COMPACTNESS             | (average perim)**2/area                                   |\n",
    "  |CIRCULARITY             | (average radius)**2/area                                  |\n",
    "  |DISTANCE CIRCULARITY    | area/(av.distance from border)**2                         |\n",
    "  |RADIUS RATIO            | (max.rad-min.rad)/av.radius                               |\n",
    "  |PR.AXIS ASPECT RATIO    | (minor axis)/(major axis)                                 |\n",
    "  |MAX.LENGTH ASPECT RATIO | (length perp. max length)/(max length)                    |\n",
    "  |SCATTER RATIO           |  (inertia about minor axis)/(inertia about major axis)    | \n",
    "  \n",
    "  και αποσκοπεί στην ταξινόμησή τους με βάση αποκλειστικά αυτά τα εξωτερικά χαρακτηριστικά.\n",
    "\n",
    "### Μετατροπές PLaintext\n",
    "Το dataset μας περιέχει μόνο ακέραιους αριθμούς για την περιγραφή των χαρακτηριστικών, επομένως δεν χρειάζεται να γίνει κάποια επεξεργασία. Η μόνη μετατροπή που χρειάζεται να γίνει στο plaintext είναι η μετατροπή του σε unicode-8 για να είναι δυνατή η ανάγνωση του.\n",
    "\n",
    "### Πλήθος χαρακτηριστικών και δειγμάτων \n",
    "Έχουμε 18 χαρακτηριστικά και 846 δείγματα.\n",
    "\n",
    "### Ύπαρξη επικεφαλίδων\n",
    "Ενώ στη περιγραφή του dataset στην ιστοσελίδα του UCI υπάρχουν οι επικεφαλίδες των χαρακτηριστικών, στα αρχεία του dataset που εισάγουμε στο notebook δεν υπάρχουν ούτε επικεφαλίδες ούτε αρίθμηση γραμμών.\n",
    "\n",
    "### Κλάσεις\n",
    "Οι κλάσεις του dataset είναι 4: 'opel','saab', 'bus', 'van' και βρίσκονται στην τελευταία στήλη του dataset.\n",
    " \n",
    "### Έλεγχος για απουσιάζουσες τιμές\n",
    "\n"
   ]
  },
  {
   "cell_type": "code",
   "execution_count": 16,
   "metadata": {},
   "outputs": [],
   "source": [
    "for i in range(len(x)):\n",
    "    if(len(x[i]) != 18):\n",
    "        print(\"index {} has a problem :(\".format(i))"
   ]
  },
  {
   "cell_type": "markdown",
   "metadata": {},
   "source": [
    "Όπως παρατηρούμε δεν υπάρχουν απουσιάζουσες τιμές. Αυτό είναι λογικό αφού, συμφώνα με την περιγραφή του dataset, οι παράμετροι προέκυψαν από φωτογραφίες οχημάτων από συγκεκριμένη γωνία λήψης."
   ]
  },
  {
   "cell_type": "markdown",
   "metadata": {},
   "source": [
    "### Έλεγχος για ισορροπημένο ή όχι dataset."
   ]
  },
  {
   "cell_type": "code",
   "execution_count": 17,
   "metadata": {},
   "outputs": [
    {
     "name": "stdout",
     "output_type": "stream",
     "text": [
      "{'bus': 218, 'opel': 212, 'saab': 217, 'van': 199}\n"
     ]
    },
    {
     "data": {
      "image/png": "[encoded data removed]",
      "text/plain": [
       "<Figure size 432x288 with 1 Axes>"
      ]
     },
     "metadata": {},
     "output_type": "display_data"
    }
   ],
   "source": [
    "classes=np.unique(y)\n",
    "class_num={}\n",
    "\n",
    "for c in classes:\n",
    "    class_num[c]=0\n",
    "\n",
    "for i in range(len(y)):\n",
    "    class_num[y[i]]+=1\n",
    "\n",
    "print(class_num)\n",
    "plt.pie(list(class_num.values()),labels=list(class_num.keys()),autopct=\"%1.1f%%\")\n",
    "plt.show()"
   ]
  },
  {
   "cell_type": "markdown",
   "metadata": {},
   "source": [
    "Όπως παρατηρούμε το dataset είναι ισορροπημένο. "
   ]
  },
  {
   "cell_type": "markdown",
   "metadata": {},
   "source": [
    "## Train Test split"
   ]
  },
  {
   "cell_type": "code",
   "execution_count": 18,
   "metadata": {},
   "outputs": [],
   "source": [
    "X_train, X_test, y_train, y_test = train_test_split(x, y, test_size=0.30, shuffle=False)\n"
   ]
  },
  {
   "cell_type": "markdown",
   "metadata": {},
   "source": [
    "## Dummy Classifier"
   ]
  },
  {
   "cell_type": "code",
   "execution_count": 19,
   "metadata": {},
   "outputs": [],
   "source": [
    "dc_uniform = DummyClassifier(strategy=\"uniform\")\n",
    "dc_constant_bus = DummyClassifier(strategy=\"constant\", constant='bus')\n",
    "dc_constant_saab = DummyClassifier(strategy=\"constant\", constant='saab')\n",
    "dc_constant_opel = DummyClassifier(strategy=\"constant\", constant='opel')\n",
    "dc_constant_van = DummyClassifier(strategy=\"constant\", constant='van')\n",
    "dc_most_frequent = DummyClassifier(strategy=\"most_frequent\")\n",
    "dc_stratified = DummyClassifier(strategy=\"stratified\")"
   ]
  },
  {
   "cell_type": "code",
   "execution_count": 20,
   "metadata": {},
   "outputs": [],
   "source": [
    "# hold times for train and pred of out of the box\n",
    "train_time_base = {}\n",
    "pred_time_base = {}"
   ]
  },
  {
   "cell_type": "code",
   "execution_count": 21,
   "metadata": {},
   "outputs": [],
   "source": [
    "# dictionary to store all classifier without optimization preds\n",
    "predictions = {}\n",
    "\n",
    "# with the fit method we train the classifier with the train set\n",
    "# with the predict method predictions occur based on the input data\n",
    "\n",
    "start_time = time.time()\n",
    "dc_uniform.fit(X_train, y_train)\n",
    "train_time_base[\"DC Uniform\"] = time.time() - start_time\n",
    "\n",
    "start_time = time.time()\n",
    "predictions[\"DC Uniform\"] = dc_uniform.predict(X_test)\n",
    "pred_time_base[\"DC Uniform\"] = time.time() - start_time\n",
    "\n",
    "start_time = time.time()\n",
    "dc_constant_bus.fit(X_train, y_train)\n",
    "train_time_base[\"DC Constant bus\"] = time.time() - start_time\n",
    "\n",
    "start_time = time.time()\n",
    "predictions[\"DC Constant bus\"] = dc_constant_bus.predict(X_test)\n",
    "pred_time_base[\"DC Constant bus\"] = time.time() - start_time\n",
    "\n",
    "start_time = time.time()\n",
    "dc_constant_saab.fit(X_train, y_train)\n",
    "train_time_base[\"DC Constant saab\"] = time.time() - start_time\n",
    "\n",
    "start_time = time.time()\n",
    "predictions[\"DC Constant saab\"] = dc_constant_saab.predict(X_test)\n",
    "pred_time_base[\"DC Constant saab\"] = time.time() - start_time\n",
    "\n",
    "start_time = time.time()\n",
    "dc_constant_opel.fit(X_train, y_train)\n",
    "train_time_base[\"DC Constant opel\"] = time.time() - start_time\n",
    "\n",
    "start_time = time.time()\n",
    "predictions[\"DC Constant opel\"] = dc_constant_opel.predict(X_test)\n",
    "pred_time_base[\"DC Constant opel\"] = time.time() - start_time\n",
    "\n",
    "start_time = time.time()\n",
    "dc_constant_van.fit(X_train, y_train)\n",
    "train_time_base[\"DC Constant van\"] = time.time() - start_time\n",
    "\n",
    "start_time = time.time()\n",
    "predictions[\"DC Constant van\"] = dc_constant_van.predict(X_test)\n",
    "pred_time_base[\"DC Constant van\"] = time.time() - start_time\n",
    "\n",
    "start_time = time.time()\n",
    "dc_most_frequent.fit(X_train, y_train)\n",
    "train_time_base[\"DC Most Frequent\"] = time.time() - start_time\n",
    "\n",
    "start_time = time.time()\n",
    "predictions[\"DC Most Frequent\"] = dc_most_frequent.predict(X_test)\n",
    "pred_time_base[\"DC Most Frequent\"] = time.time() - start_time\n",
    "\n",
    "start_time = time.time()\n",
    "dc_stratified.fit(X_train, y_train)\n",
    "train_time_base[\"DC Stratified\"] = time.time() - start_time\n",
    "\n",
    "start_time = time.time()\n",
    "predictions[\"DC Stratified\"] = dc_stratified.predict(X_test)\n",
    "pred_time_base[\"DC Stratified\"] = time.time() - start_time"
   ]
  },
  {
   "cell_type": "markdown",
   "metadata": {},
   "source": [
    "## Gaussian Naive Bayes (GNB)"
   ]
  },
  {
   "cell_type": "code",
   "execution_count": 22,
   "metadata": {},
   "outputs": [],
   "source": [
    "gnb = GaussianNB()\n",
    "\n",
    "start_time = time.time()\n",
    "gnb.fit(X_train, y_train)\n",
    "train_time_base[\"GNB\"] = time.time() - start_time\n",
    "\n",
    "start_time = time.time()\n",
    "predictions[\"GNB\"] = gnb.predict(X_test)\n",
    "pred_time_base[\"GNB\"] = time.time() - start_time"
   ]
  },
  {
   "cell_type": "markdown",
   "metadata": {},
   "source": [
    "## K Nearest Neighbours (kNN)"
   ]
  },
  {
   "cell_type": "code",
   "execution_count": 23,
   "metadata": {},
   "outputs": [],
   "source": [
    "knn = KNeighborsClassifier(n_neighbors=3)\n",
    "\n",
    "start_time = time.time()\n",
    "knn.fit(X_train, y_train)\n",
    "train_time_base[\"KNN\"] = time.time() - start_time\n",
    "\n",
    "start_time = time.time()\n",
    "predictions[\"KNN\"] = knn.predict(X_test)\n",
    "pred_time_base[\"KNN\"] = time.time() - start_time"
   ]
  },
  {
   "cell_type": "markdown",
   "metadata": {},
   "source": [
    "## Logistic Regression (LR)"
   ]
  },
  {
   "cell_type": "code",
   "execution_count": 24,
   "metadata": {},
   "outputs": [
    {
     "name": "stderr",
     "output_type": "stream",
     "text": [
      "C:\\Users\\ageor\\AppData\\Local\\Packages\\PythonSoftwareFoundation.Python.3.10_qbz5n2kfra8p0\\LocalCache\\local-packages\\Python310\\site-packages\\sklearn\\linear_model\\_logistic.py:444: ConvergenceWarning: lbfgs failed to converge (status=1):\n",
      "STOP: TOTAL NO. of ITERATIONS REACHED LIMIT.\n",
      "\n",
      "Increase the number of iterations (max_iter) or scale the data as shown in:\n",
      "    https://scikit-learn.org/stable/modules/preprocessing.html\n",
      "Please also refer to the documentation for alternative solver options:\n",
      "    https://scikit-learn.org/stable/modules/linear_model.html#logistic-regression\n",
      "  n_iter_i = _check_optimize_result(\n"
     ]
    }
   ],
   "source": [
    "logisticRegr = LogisticRegression()\n",
    "\n",
    "start_time = time.time()\n",
    "logisticRegr.fit(X_train, y_train)\n",
    "train_time_base[\"LR\"] = time.time() - start_time\n",
    "\n",
    "start_time = time.time()\n",
    "predictions[\"LR\"] = logisticRegr.predict(X_test)\n",
    "pred_time_base[\"LR\"] = time.time() - start_time"
   ]
  },
  {
   "cell_type": "markdown",
   "metadata": {},
   "source": [
    "## Metrics"
   ]
  },
  {
   "cell_type": "code",
   "execution_count": 25,
   "metadata": {},
   "outputs": [],
   "source": [
    "from sklearn.metrics import accuracy_score\n",
    "from sklearn.metrics import f1_score\n",
    "import matplotlib.pyplot as plt\n",
    "\n",
    "accuracy = {}\n",
    "f1 = {}\n",
    "\n",
    "def metrics_info(classifier_name, preds):\n",
    "  global accuracy, f1 \n",
    "  accuracy[classifier_name] = accuracy_score(y_test, preds)\n",
    "  f1[classifier_name] = f1_score(y_test, preds, average = \"macro\")\n",
    "\n",
    "# print bar plot function\n",
    "def bar_plot(classifiers, scores, title):\n",
    "  plt.figure(figsize = (10,6))\n",
    "  y_pos = np.arange(len(classifiers))\n",
    "  plt.bar(y_pos, scores, align='center', alpha = 0.9)\n",
    "  plt.xticks(y_pos, classifiers, rotation = 45)\n",
    "  plt.ylabel('Score')\n",
    "  plt.title(title)\n",
    "  plt.show()"
   ]
  },
  {
   "cell_type": "code",
   "execution_count": 26,
   "metadata": {},
   "outputs": [],
   "source": [
    "# Dummy Metrics\n",
    "metrics_info(\"DC Uniform\", predictions[\"DC Uniform\"])\n",
    "metrics_info(\"DC Constant opel\", predictions[\"DC Constant opel\"])\n",
    "metrics_info(\"DC Constant saab\", predictions[\"DC Constant saab\"])\n",
    "metrics_info(\"DC Constant bus\", predictions[\"DC Constant bus\"])\n",
    "metrics_info(\"DC Constant van\", predictions[\"DC Constant van\"])\n",
    "metrics_info(\"DC Most Frequent\", predictions[\"DC Most Frequent\"])\n",
    "metrics_info(\"DC Stratified\", predictions[\"DC Stratified\"])"
   ]
  },
  {
   "cell_type": "code",
   "execution_count": 27,
   "metadata": {},
   "outputs": [],
   "source": [
    "# GNB Metrics\n",
    "metrics_info(\"GNB\", predictions[\"GNB\"])"
   ]
  },
  {
   "cell_type": "code",
   "execution_count": 28,
   "metadata": {},
   "outputs": [],
   "source": [
    "# KNN\n",
    "metrics_info(\"KNN\", predictions[\"KNN\"])"
   ]
  },
  {
   "cell_type": "code",
   "execution_count": 29,
   "metadata": {},
   "outputs": [],
   "source": [
    "# LR\n",
    "metrics_info(\"LR\", predictions[\"LR\"])"
   ]
  },
  {
   "cell_type": "code",
   "execution_count": 30,
   "metadata": {},
   "outputs": [
    {
     "data": {
      "text/html": [
       "<div>\n",
       "<style scoped>\n",
       "    .dataframe tbody tr th:only-of-type {\n",
       "        vertical-align: middle;\n",
       "    }\n",
       "\n",
       "    .dataframe tbody tr th {\n",
       "        vertical-align: top;\n",
       "    }\n",
       "\n",
       "    .dataframe thead th {\n",
       "        text-align: right;\n",
       "    }\n",
       "</style>\n",
       "<table border=\"1\" class=\"dataframe\">\n",
       "  <thead>\n",
       "    <tr style=\"text-align: right;\">\n",
       "      <th></th>\n",
       "      <th>DC Uniform</th>\n",
       "      <th>DC Constant opel</th>\n",
       "      <th>DC Constant saab</th>\n",
       "      <th>DC Constant bus</th>\n",
       "      <th>DC Constant van</th>\n",
       "      <th>DC Most Frequent</th>\n",
       "      <th>DC Stratified</th>\n",
       "      <th>GNB</th>\n",
       "      <th>KNN</th>\n",
       "      <th>LR</th>\n",
       "    </tr>\n",
       "  </thead>\n",
       "  <tbody>\n",
       "    <tr>\n",
       "      <th>Accuracy Score</th>\n",
       "      <td>0.307087</td>\n",
       "      <td>0.236220</td>\n",
       "      <td>0.287402</td>\n",
       "      <td>0.244094</td>\n",
       "      <td>0.232283</td>\n",
       "      <td>0.244094</td>\n",
       "      <td>0.228346</td>\n",
       "      <td>0.444882</td>\n",
       "      <td>0.661417</td>\n",
       "      <td>0.732283</td>\n",
       "    </tr>\n",
       "    <tr>\n",
       "      <th>F1 Score</th>\n",
       "      <td>0.307613</td>\n",
       "      <td>0.095541</td>\n",
       "      <td>0.111621</td>\n",
       "      <td>0.098101</td>\n",
       "      <td>0.094249</td>\n",
       "      <td>0.098101</td>\n",
       "      <td>0.222852</td>\n",
       "      <td>0.409476</td>\n",
       "      <td>0.659615</td>\n",
       "      <td>0.728670</td>\n",
       "    </tr>\n",
       "  </tbody>\n",
       "</table>\n",
       "</div>"
      ],
      "text/plain": [
       "                DC Uniform  DC Constant opel  DC Constant saab  \\\n",
       "Accuracy Score    0.307087          0.236220          0.287402   \n",
       "F1 Score          0.307613          0.095541          0.111621   \n",
       "\n",
       "                DC Constant bus  DC Constant van  DC Most Frequent  \\\n",
       "Accuracy Score         0.244094         0.232283          0.244094   \n",
       "F1 Score               0.098101         0.094249          0.098101   \n",
       "\n",
       "                DC Stratified       GNB       KNN        LR  \n",
       "Accuracy Score       0.228346  0.444882  0.661417  0.732283  \n",
       "F1 Score             0.222852  0.409476  0.659615  0.728670  "
      ]
     },
     "execution_count": 30,
     "metadata": {},
     "output_type": "execute_result"
    }
   ],
   "source": [
    "data = []\n",
    "data.append(list(accuracy.values()))\n",
    "data.append(list(f1.values()))\n",
    "pd.DataFrame(data, index = [\"Accuracy Score\", \"F1 Score\"], columns = list(accuracy.keys()))\n"
   ]
  },
  {
   "cell_type": "code",
   "execution_count": 31,
   "metadata": {},
   "outputs": [
    {
     "data": {
      "image/png": "[encoded data removed]",
      "text/plain": [
       "<Figure size 720x432 with 1 Axes>"
      ]
     },
     "metadata": {
      "needs_background": "light"
     },
     "output_type": "display_data"
    }
   ],
   "source": [
    "classifier_labels = list(accuracy.keys())\n",
    "classifier_accuracy = list(accuracy.values())\n",
    "classifier_f1 = list(f1.values())\n",
    "\n",
    "bar_plot(classifier_labels, [i*100 for i in classifier_accuracy], \"Accuracy Score (Out of the box)\")"
   ]
  },
  {
   "cell_type": "code",
   "execution_count": 32,
   "metadata": {},
   "outputs": [
    {
     "data": {
      "image/png": "[encoded data removed]",
      "text/plain": [
       "<Figure size 720x432 with 1 Axes>"
      ]
     },
     "metadata": {
      "needs_background": "light"
     },
     "output_type": "display_data"
    }
   ],
   "source": [
    "bar_plot(classifier_labels, [i*100 for i in classifier_f1], \"F1 Score (Out of the box)\")"
   ]
  },
  {
   "cell_type": "markdown",
   "metadata": {},
   "source": [
    "### Σχολιασμός\n",
    "Οι μετρικές βγάζουν αρκετά χαμηλές τιμές, όπως είναι αναμενόμενο αφού δεν έχουμε χρησιμοποιήσει καμία μέθοδο βελτιστοποίησης, όυτε καν cross-validation. Ο καλύτερος ταξινομήτης είναι ο Logistic Regression, όπως προκύπτει και από τις δύο μετρικές.\n",
    "\n",
    "## 10-cross validation\n"
   ]
  },
  {
   "cell_type": "code",
   "execution_count": 33,
   "metadata": {},
   "outputs": [],
   "source": [
    "scores_Dummy_acc = cross_val_score(DummyClassifier() , X_train,y_train, cv=10,n_jobs=-1, scoring='accuracy')\n",
    "scores_Dummy_f1 = cross_val_score(DummyClassifier() , X_train,y_train,cv=10,n_jobs=-1,scoring='f1_macro')\n",
    "\n",
    "temp = time.time()\n",
    "scores_knn_acc = cross_val_score(KNeighborsClassifier() , X_train,y_train, cv=10,n_jobs=-1, scoring='accuracy')\n",
    "times_knn_acc = time.time() - temp\n",
    "temp = time.time()\n",
    "scores_knn_f1 = cross_val_score(KNeighborsClassifier() , X_train,y_train,cv=10,n_jobs=-1,scoring='f1_macro')\n",
    "times_knn_f1 = time.time() - temp\n",
    "\n",
    "temp = time.time()\n",
    "scores_GNB_acc = cross_val_score(GaussianNB() , X_train,y_train, cv=10,n_jobs=-1, scoring='accuracy')\n",
    "times_GNB_acc = time.time() - temp\n",
    "temp = time.time()\n",
    "scores_GNB_f1 = cross_val_score(GaussianNB() , X_train,y_train,cv=10,n_jobs=-1,scoring='f1_macro')\n",
    "times_GNB_f1 = time.time() - temp\n",
    "\n",
    "temp = time.time()\n",
    "scores_LR_acc = cross_val_score(LogisticRegression() , X_train,y_train, cv=10,n_jobs=-1, scoring='accuracy')\n",
    "times_LR_acc = time.time() - temp\n",
    "temp = time.time()\n",
    "scores_LR_f1 = cross_val_score(LogisticRegression() , X_train,y_train,cv=10,n_jobs=-1,scoring='f1_macro')\n",
    "times_LR_f1 = time.time() - temp\n",
    "\n",
    "scores_acc = []\n",
    "scores_f1 = []\n",
    "times_acc = [times_knn_acc,times_GNB_acc,times_LR_acc]\n",
    "times_f1 = [times_knn_f1,times_GNB_f1,times_LR_f1]\n",
    "names = [\"Dummy\",\"kNN\",\"GNB\",\"LR\"]\n",
    "scores_acc.append(np.mean(scores_Dummy_acc))\n",
    "scores_f1.append(np.mean(scores_Dummy_f1))\n",
    "scores_acc.append(np.mean(scores_knn_acc))\n",
    "scores_f1.append(np.mean(scores_knn_f1 ))\n",
    "scores_acc.append(np.mean(scores_GNB_acc))\n",
    "scores_f1.append(np.mean(scores_GNB_f1 ))\n",
    "scores_acc.append(np.mean(scores_LR_acc))\n",
    "scores_f1.append(np.mean(scores_LR_f1))"
   ]
  },
  {
   "cell_type": "code",
   "execution_count": 34,
   "metadata": {},
   "outputs": [
    {
     "data": {
      "text/html": [
       "<div>\n",
       "<style scoped>\n",
       "    .dataframe tbody tr th:only-of-type {\n",
       "        vertical-align: middle;\n",
       "    }\n",
       "\n",
       "    .dataframe tbody tr th {\n",
       "        vertical-align: top;\n",
       "    }\n",
       "\n",
       "    .dataframe thead th {\n",
       "        text-align: right;\n",
       "    }\n",
       "</style>\n",
       "<table border=\"1\" class=\"dataframe\">\n",
       "  <thead>\n",
       "    <tr style=\"text-align: right;\">\n",
       "      <th></th>\n",
       "      <th>Dummy</th>\n",
       "      <th>kNN</th>\n",
       "      <th>GNB</th>\n",
       "      <th>LR</th>\n",
       "    </tr>\n",
       "  </thead>\n",
       "  <tbody>\n",
       "    <tr>\n",
       "      <th>accuracy</th>\n",
       "      <td>0.263559</td>\n",
       "      <td>0.643644</td>\n",
       "      <td>0.457853</td>\n",
       "      <td>0.707797</td>\n",
       "    </tr>\n",
       "    <tr>\n",
       "      <th>f1</th>\n",
       "      <td>0.104270</td>\n",
       "      <td>0.635625</td>\n",
       "      <td>0.424270</td>\n",
       "      <td>0.699300</td>\n",
       "    </tr>\n",
       "  </tbody>\n",
       "</table>\n",
       "</div>"
      ],
      "text/plain": [
       "             Dummy       kNN       GNB        LR\n",
       "accuracy  0.263559  0.643644  0.457853  0.707797\n",
       "f1        0.104270  0.635625  0.424270  0.699300"
      ]
     },
     "execution_count": 34,
     "metadata": {},
     "output_type": "execute_result"
    }
   ],
   "source": [
    "pd.DataFrame([scores_acc,scores_f1],index = [\"accuracy\",\"f1\"], columns = names)"
   ]
  },
  {
   "cell_type": "code",
   "execution_count": 35,
   "metadata": {},
   "outputs": [
    {
     "data": {
      "image/png": "[encoded data removed]",
      "text/plain": [
       "<Figure size 432x288 with 1 Axes>"
      ]
     },
     "metadata": {
      "needs_background": "light"
     },
     "output_type": "display_data"
    },
    {
     "data": {
      "image/png": "[encoded data removed]",
      "text/plain": [
       "<Figure size 432x288 with 1 Axes>"
      ]
     },
     "metadata": {
      "needs_background": "light"
     },
     "output_type": "display_data"
    }
   ],
   "source": [
    "plt.bar(names,scores_acc)\n",
    "plt.title(\"Scores for accuracy\")\n",
    "plt.show()\n",
    "plt.bar(names,scores_f1,color='orange')\n",
    "plt.title(\"Scores for f1\")\n",
    "plt.show()"
   ]
  },
  {
   "cell_type": "markdown",
   "metadata": {},
   "source": [
    "## Data Preprossecing"
   ]
  },
  {
   "cell_type": "code",
   "execution_count": 36,
   "metadata": {},
   "outputs": [
    {
     "name": "stdout",
     "output_type": "stream",
     "text": [
      "Selected futures 18 out of 18\n"
     ]
    }
   ],
   "source": [
    "selector = VarianceThreshold(threshold=0)\n",
    "train_reduced = selector.fit_transform(X_train)\n",
    "mask = selector.get_support()\n",
    "test_reduced = np.array(X_test)[:,mask]\n",
    "\n",
    "print(\"Selected futures {} out of {}\".format(len(train_reduced[0]),len(X_train[0])))\n"
   ]
  },
  {
   "cell_type": "code",
   "execution_count": 37,
   "metadata": {},
   "outputs": [],
   "source": [
    "def classfication(X_train,y_train,X_test,y_test):\n",
    "    \n",
    "    \n",
    "    dc_uniform = DummyClassifier(strategy=\"uniform\")\n",
    "    dc_constant_bus = DummyClassifier(strategy=\"constant\", constant='bus')\n",
    "    dc_constant_saab = DummyClassifier(strategy=\"constant\", constant='saab')\n",
    "    dc_constant_opel = DummyClassifier(strategy=\"constant\", constant='opel')\n",
    "    dc_constant_van = DummyClassifier(strategy=\"constant\", constant='van')\n",
    "    dc_most_frequent = DummyClassifier(strategy=\"most_frequent\")\n",
    "    dc_stratified = DummyClassifier(strategy=\"stratified\")\n",
    "\n",
    "    # hold times for train and pred of out of the box\n",
    "    train_time_base = {}\n",
    "    pred_time_base = {}\n",
    "    # dictionary to store all classifier without optimization preds\n",
    "    predictions = {}\n",
    "\n",
    "    # with the fit method we train the classifier with the train set\n",
    "    # with the predict method predictions occur based on the input data\n",
    "\n",
    "    start_time = time.time()\n",
    "    dc_uniform.fit(X_train, y_train)\n",
    "    train_time_base[\"DC Uniform\"] = time.time() - start_time\n",
    "\n",
    "    start_time = time.time()\n",
    "    predictions[\"DC Uniform\"] = dc_uniform.predict(X_test)\n",
    "    pred_time_base[\"DC Uniform\"] = time.time() - start_time\n",
    "\n",
    "    start_time = time.time()\n",
    "    dc_constant_bus.fit(X_train, y_train)\n",
    "    train_time_base[\"DC Constant bus\"] = time.time() - start_time\n",
    "\n",
    "    start_time = time.time()\n",
    "    predictions[\"DC Constant bus\"] = dc_constant_bus.predict(X_test)\n",
    "    pred_time_base[\"DC Constant bus\"] = time.time() - start_time\n",
    "\n",
    "    start_time = time.time()\n",
    "    dc_constant_saab.fit(X_train, y_train)\n",
    "    train_time_base[\"DC Constant saab\"] = time.time() - start_time\n",
    "\n",
    "    start_time = time.time()\n",
    "    predictions[\"DC Constant saab\"] = dc_constant_saab.predict(X_test)\n",
    "    pred_time_base[\"DC Constant saab\"] = time.time() - start_time\n",
    "\n",
    "    start_time = time.time()\n",
    "    dc_constant_opel.fit(X_train, y_train)\n",
    "    train_time_base[\"DC Constant opel\"] = time.time() - start_time\n",
    "\n",
    "    start_time = time.time()\n",
    "    predictions[\"DC Constant opel\"] = dc_constant_opel.predict(X_test)\n",
    "    pred_time_base[\"DC Constant opel\"] = time.time() - start_time\n",
    "\n",
    "    start_time = time.time()\n",
    "    dc_constant_van.fit(X_train, y_train)\n",
    "    train_time_base[\"DC Constant van\"] = time.time() - start_time\n",
    "\n",
    "    start_time = time.time()\n",
    "    predictions[\"DC Constant van\"] = dc_constant_van.predict(X_test)\n",
    "    pred_time_base[\"DC Constant van\"] = time.time() - start_time\n",
    "\n",
    "    start_time = time.time()\n",
    "    dc_most_frequent.fit(X_train, y_train)\n",
    "    train_time_base[\"DC Most Frequent\"] = time.time() - start_time\n",
    "\n",
    "    start_time = time.time()\n",
    "    predictions[\"DC Most Frequent\"] = dc_most_frequent.predict(X_test)\n",
    "    pred_time_base[\"DC Most Frequent\"] = time.time() - start_time\n",
    "\n",
    "    start_time = time.time()\n",
    "    dc_stratified.fit(X_train, y_train)\n",
    "    train_time_base[\"DC Stratified\"] = time.time() - start_time\n",
    "\n",
    "    start_time = time.time()\n",
    "    predictions[\"DC Stratified\"] = dc_stratified.predict(X_test)\n",
    "    pred_time_base[\"DC Stratified\"] = time.time() - start_time\n",
    "\n",
    "\n",
    "    logisticRegr = LogisticRegression()\n",
    "\n",
    "    start_time = time.time()\n",
    "    logisticRegr.fit(X_train, y_train)\n",
    "    train_time_base[\"LR\"] = time.time() - start_time\n",
    "\n",
    "    start_time = time.time()\n",
    "    predictions[\"LR\"] = logisticRegr.predict(X_test)\n",
    "    pred_time_base[\"LR\"] = time.time() - start_time\n",
    "\n",
    "\n",
    "    gnb = GaussianNB()\n",
    "    start_time = time.time()\n",
    "    gnb.fit(X_train, y_train)\n",
    "    train_time_base[\"GNB\"] = time.time() - start_time\n",
    "\n",
    "    start_time = time.time()\n",
    "    predictions[\"GNB\"] = gnb.predict(X_test)\n",
    "    pred_time_base[\"GNB\"] = time.time() - start_time\n",
    "\n",
    "    knn = KNeighborsClassifier(n_neighbors=3)\n",
    "\n",
    "    start_time = time.time()\n",
    "    knn.fit(X_train, y_train)\n",
    "    train_time_base[\"KNN\"] = time.time() - start_time\n",
    "    \n",
    "    start_time = time.time()\n",
    "    predictions[\"KNN\"] = knn.predict(X_test)\n",
    "    pred_time_base[\"KNN\"] = time.time() - start_time\n",
    "\n",
    "\n",
    "    metrics_info(\"DC Uniform\", predictions[\"DC Uniform\"])\n",
    "    metrics_info(\"DC Constant opel\", predictions[\"DC Constant opel\"])\n",
    "    metrics_info(\"DC Constant saab\", predictions[\"DC Constant saab\"])\n",
    "    metrics_info(\"DC Constant bus\", predictions[\"DC Constant bus\"])\n",
    "    metrics_info(\"DC Constant van\", predictions[\"DC Constant van\"])\n",
    "    metrics_info(\"DC Most Frequent\", predictions[\"DC Most Frequent\"])\n",
    "    metrics_info(\"DC Stratified\", predictions[\"DC Stratified\"])\n",
    "    metrics_info(\"GNB\", predictions[\"GNB\"])\n",
    "    metrics_info(\"KNN\", predictions[\"KNN\"])\n",
    "    metrics_info(\"LR\", predictions[\"LR\"])\n",
    "    classifier_labels = list(accuracy.keys())\n",
    "    classifier_accuracy = list(accuracy.values())\n",
    "    classifier_f1 = list(f1.values())\n",
    "\n",
    "        \n",
    "    data = []\n",
    "    data.append(list(accuracy.values()))\n",
    "    data.append(list(f1.values()))\n",
    "\n",
    "    print(pd.DataFrame(data, index = [\"Accuracy Score\", \"F1 Score\"], columns = list(accuracy.keys())))\n",
    "    \n",
    "    bar_plot(classifier_labels, [i*100 for i in classifier_accuracy], \"Accuracy Score\")\n",
    "    bar_plot(classifier_labels, [i*100 for i in classifier_f1], \"F1 Score\")\n",
    "    "
   ]
  },
  {
   "cell_type": "code",
   "execution_count": 38,
   "metadata": {},
   "outputs": [
    {
     "name": "stderr",
     "output_type": "stream",
     "text": [
      "C:\\Users\\ageor\\AppData\\Local\\Packages\\PythonSoftwareFoundation.Python.3.10_qbz5n2kfra8p0\\LocalCache\\local-packages\\Python310\\site-packages\\sklearn\\linear_model\\_logistic.py:444: ConvergenceWarning: lbfgs failed to converge (status=1):\n",
      "STOP: TOTAL NO. of ITERATIONS REACHED LIMIT.\n",
      "\n",
      "Increase the number of iterations (max_iter) or scale the data as shown in:\n",
      "    https://scikit-learn.org/stable/modules/preprocessing.html\n",
      "Please also refer to the documentation for alternative solver options:\n",
      "    https://scikit-learn.org/stable/modules/linear_model.html#logistic-regression\n",
      "  n_iter_i = _check_optimize_result(\n"
     ]
    },
    {
     "name": "stdout",
     "output_type": "stream",
     "text": [
      "                DC Uniform  DC Constant opel  DC Constant saab  \\\n",
      "Accuracy Score    0.255906          0.236220          0.287402   \n",
      "F1 Score          0.251335          0.095541          0.111621   \n",
      "\n",
      "                DC Constant bus  DC Constant van  DC Most Frequent  \\\n",
      "Accuracy Score         0.244094         0.232283          0.244094   \n",
      "F1 Score               0.098101         0.094249          0.098101   \n",
      "\n",
      "                DC Stratified       GNB       KNN        LR  \n",
      "Accuracy Score       0.228346  0.444882  0.661417  0.732283  \n",
      "F1 Score             0.226151  0.409476  0.659615  0.728670  \n"
     ]
    },
    {
     "data": {
      "image/png": "[encoded data removed]",
      "text/plain": [
       "<Figure size 720x432 with 1 Axes>"
      ]
     },
     "metadata": {
      "needs_background": "light"
     },
     "output_type": "display_data"
    },
    {
     "data": {
      "image/png": "[encoded data removed]",
      "text/plain": [
       "<Figure size 720x432 with 1 Axes>"
      ]
     },
     "metadata": {
      "needs_background": "light"
     },
     "output_type": "display_data"
    }
   ],
   "source": [
    "classfication(train_reduced,y_train,test_reduced,y_test)"
   ]
  },
  {
   "cell_type": "markdown",
   "metadata": {},
   "source": [
    "### Σχολιασμός\n",
    "Με δοκιμές παρατηρήσαμε ότι οι καλύτερες μετρικές παρατηρούνται με threshold=0, δηλαδή όταν διατηρούνται όλα τα χαρακτηριστικά. "
   ]
  },
  {
   "cell_type": "markdown",
   "metadata": {},
   "source": [
    "## Pipelines"
   ]
  },
  {
   "cell_type": "code",
   "execution_count": 39,
   "metadata": {},
   "outputs": [],
   "source": [
    "from imblearn.pipeline import Pipeline"
   ]
  },
  {
   "cell_type": "code",
   "execution_count": 40,
   "metadata": {},
   "outputs": [],
   "source": [
    "from sklearn import neighbors"
   ]
  },
  {
   "cell_type": "code",
   "execution_count": 41,
   "metadata": {},
   "outputs": [
    {
     "name": "stdout",
     "output_type": "stream",
     "text": [
      "best parallel for classifier kNN = [('selector', VarianceThreshold()), ('scaler', StandardScaler()), ('sampler', RandomOverSampler())]\n",
      "fit time = 0.01000070571899414 ||| prediction time = 0.01999831199645996\n",
      "best parallel for classifier GNB = [('selector', VarianceThreshold()), ('scaler', StandardScaler()), ('sampler', RandomUnderSampler()), ('pca', PCA())]\n",
      "fit time = 0.007985115051269531 ||| prediction time = 0.003007650375366211\n"
     ]
    },
    {
     "name": "stderr",
     "output_type": "stream",
     "text": [
      "C:\\Users\\ageor\\AppData\\Local\\Packages\\PythonSoftwareFoundation.Python.3.10_qbz5n2kfra8p0\\LocalCache\\local-packages\\Python310\\site-packages\\sklearn\\linear_model\\_logistic.py:444: ConvergenceWarning: lbfgs failed to converge (status=1):\n",
      "STOP: TOTAL NO. of ITERATIONS REACHED LIMIT.\n",
      "\n",
      "Increase the number of iterations (max_iter) or scale the data as shown in:\n",
      "    https://scikit-learn.org/stable/modules/preprocessing.html\n",
      "Please also refer to the documentation for alternative solver options:\n",
      "    https://scikit-learn.org/stable/modules/linear_model.html#logistic-regression\n",
      "  n_iter_i = _check_optimize_result(\n"
     ]
    },
    {
     "name": "stdout",
     "output_type": "stream",
     "text": [
      "best parallel for classifier Logistic Regression = [('selector', VarianceThreshold()), ('scaler', StandardScaler())]\n",
      "fit time = 0.050995826721191406 ||| prediction time = 0.0019996166229248047\n"
     ]
    },
    {
     "name": "stderr",
     "output_type": "stream",
     "text": [
      "C:\\Users\\ageor\\AppData\\Local\\Packages\\PythonSoftwareFoundation.Python.3.10_qbz5n2kfra8p0\\LocalCache\\local-packages\\Python310\\site-packages\\sklearn\\linear_model\\_logistic.py:444: ConvergenceWarning: lbfgs failed to converge (status=1):\n",
      "STOP: TOTAL NO. of ITERATIONS REACHED LIMIT.\n",
      "\n",
      "Increase the number of iterations (max_iter) or scale the data as shown in:\n",
      "    https://scikit-learn.org/stable/modules/preprocessing.html\n",
      "Please also refer to the documentation for alternative solver options:\n",
      "    https://scikit-learn.org/stable/modules/linear_model.html#logistic-regression\n",
      "  n_iter_i = _check_optimize_result(\n"
     ]
    }
   ],
   "source": [
    "# φέρνουμε τις γνωστές μας κλάσεις για preprocessing\n",
    "from sklearn.feature_selection import VarianceThreshold\n",
    "from sklearn.preprocessing import StandardScaler # φέρνουμε τον StandarScaler ως transformer που έχει .transform kai ΄όχι ως scale()\n",
    "from imblearn.over_sampling import RandomOverSampler\n",
    "from imblearn.under_sampling import RandomUnderSampler\n",
    "from sklearn.decomposition import PCA\n",
    "\n",
    "# αρχικοποιούμε τον εκτιμητή (ταξινομητής) και τους μετασχηματιστές χωρίς υπερ-παραμέτρους\n",
    "selector = VarianceThreshold()\n",
    "scaler = [StandardScaler(),MinMaxScaler()]\n",
    "ros = [RandomOverSampler(),RandomUnderSampler()]\n",
    "pca = PCA()\n",
    "\n",
    "# KNN\n",
    "knn = neighbors.KNeighborsClassifier(n_jobs=-1) # η παράμετρος n_jobs = 1 χρησιμοποιεί όλους τους πυρήνες του υπολογιστή\n",
    "# GNB\n",
    "gnb = GaussianNB()\n",
    "# Logistic Regression\n",
    "lr = LogisticRegression()\n",
    "\n",
    "pipes_to_try = [[('selector', selector)]]\n",
    "\n",
    "for s in scaler:\n",
    "    pipes_to_try.append(pipes_to_try[0]+[('scaler',s)])\n",
    "\n",
    "for i in range(1,len(pipes_to_try)):\n",
    "    pipes_to_try.append(pipes_to_try[i]+[('sampler',ros[0])])\n",
    "    pipes_to_try.append(pipes_to_try[i]+[('sampler',ros[1])])\n",
    "\n",
    "for i in range(3,7):\n",
    "    pipes_to_try.append(pipes_to_try[i]+[('pca',pca)])\n",
    "\n",
    "classifiers = [('kNN',knn),('GNB',gnb),('Logistic Regression',lr)]\n",
    "parallels = []\n",
    "\n",
    "for c in classifiers:\n",
    "    best = 0\n",
    "    best_parallel = []\n",
    "    preds_for_metrics = []\n",
    "    fit_time = 0\n",
    "    pred_time = 0        \n",
    "    for i in pipes_to_try:\n",
    "        pipe_test = Pipeline(steps = i+[c])\n",
    "        timer = time.time()\n",
    "        pipe_test.fit(X_train,y_train)\n",
    "        demo_fit_time = time.time() - timer\n",
    "        timer = time.time()\n",
    "        pred = pipe_test.predict(X_test)\n",
    "        demo_pred_time = time.time() - timer\n",
    "        score = f1_score(y_test,pred,average='macro')\n",
    "        if(score > best):\n",
    "            best = score\n",
    "            preds_for_metrics=pred\n",
    "            best_parallel = i\n",
    "            fit_time = demo_fit_time\n",
    "            pred_time = demo_pred_time\n",
    "        \n",
    "    parallels.append((c[0],best_parallel+[c]))\n",
    "    print(\"best parallel for classifier {} = {}\".format(c[0],best_parallel))\n",
    "    #print(classification_report(y_test, preds_for_metrics))\n",
    "    print(\"fit time = {} ||| prediction time = {}\".format(fit_time,pred_time))\n",
    "\n"
   ]
  },
  {
   "cell_type": "code",
   "execution_count": 42,
   "metadata": {},
   "outputs": [
    {
     "name": "stderr",
     "output_type": "stream",
     "text": [
      "C:\\Users\\ageor\\AppData\\Local\\Packages\\PythonSoftwareFoundation.Python.3.10_qbz5n2kfra8p0\\LocalCache\\local-packages\\Python310\\site-packages\\imblearn\\pipeline.py:216: UserWarning: Persisting input arguments took 1.19s to run.\n",
      "If this happens often in your code, it can cause performance problems \n",
      "(results will be correct in all cases). \n",
      "The reason for this is probably some large input arguments for a wrapped\n",
      " function (e.g. large strings).\n",
      "THIS IS A JOBLIB ISSUE. If you can, kindly provide the joblib's team with an\n",
      " example so that they can fix the problem.\n",
      "  X, fitted_transformer = fit_transform_one_cached(\n",
      "C:\\Users\\ageor\\AppData\\Local\\Packages\\PythonSoftwareFoundation.Python.3.10_qbz5n2kfra8p0\\LocalCache\\local-packages\\Python310\\site-packages\\imblearn\\pipeline.py:216: UserWarning: Persisting input arguments took 2.06s to run.\n",
      "If this happens often in your code, it can cause performance problems \n",
      "(results will be correct in all cases). \n",
      "The reason for this is probably some large input arguments for a wrapped\n",
      " function (e.g. large strings).\n",
      "THIS IS A JOBLIB ISSUE. If you can, kindly provide the joblib's team with an\n",
      " example so that they can fix the problem.\n",
      "  X, fitted_transformer = fit_transform_one_cached(\n",
      "C:\\Users\\ageor\\AppData\\Local\\Packages\\PythonSoftwareFoundation.Python.3.10_qbz5n2kfra8p0\\LocalCache\\local-packages\\Python310\\site-packages\\imblearn\\pipeline.py:216: UserWarning: Persisting input arguments took 1.89s to run.\n",
      "If this happens often in your code, it can cause performance problems \n",
      "(results will be correct in all cases). \n",
      "The reason for this is probably some large input arguments for a wrapped\n",
      " function (e.g. large strings).\n",
      "THIS IS A JOBLIB ISSUE. If you can, kindly provide the joblib's team with an\n",
      " example so that they can fix the problem.\n",
      "  X, fitted_transformer = fit_transform_one_cached(\n",
      "C:\\Users\\ageor\\AppData\\Local\\Packages\\PythonSoftwareFoundation.Python.3.10_qbz5n2kfra8p0\\LocalCache\\local-packages\\Python310\\site-packages\\imblearn\\pipeline.py:216: UserWarning: Persisting input arguments took 2.38s to run.\n",
      "If this happens often in your code, it can cause performance problems \n",
      "(results will be correct in all cases). \n",
      "The reason for this is probably some large input arguments for a wrapped\n",
      " function (e.g. large strings).\n",
      "THIS IS A JOBLIB ISSUE. If you can, kindly provide the joblib's team with an\n",
      " example so that they can fix the problem.\n",
      "  X, fitted_transformer = fit_transform_one_cached(\n",
      "C:\\Users\\ageor\\AppData\\Local\\Packages\\PythonSoftwareFoundation.Python.3.10_qbz5n2kfra8p0\\LocalCache\\local-packages\\Python310\\site-packages\\imblearn\\pipeline.py:216: UserWarning: Persisting input arguments took 1.81s to run.\n",
      "If this happens often in your code, it can cause performance problems \n",
      "(results will be correct in all cases). \n",
      "The reason for this is probably some large input arguments for a wrapped\n",
      " function (e.g. large strings).\n",
      "THIS IS A JOBLIB ISSUE. If you can, kindly provide the joblib's team with an\n",
      " example so that they can fix the problem.\n",
      "  X, fitted_transformer = fit_transform_one_cached(\n",
      "C:\\Users\\ageor\\AppData\\Local\\Packages\\PythonSoftwareFoundation.Python.3.10_qbz5n2kfra8p0\\LocalCache\\local-packages\\Python310\\site-packages\\imblearn\\pipeline.py:216: UserWarning: Persisting input arguments took 1.43s to run.\n",
      "If this happens often in your code, it can cause performance problems \n",
      "(results will be correct in all cases). \n",
      "The reason for this is probably some large input arguments for a wrapped\n",
      " function (e.g. large strings).\n",
      "THIS IS A JOBLIB ISSUE. If you can, kindly provide the joblib's team with an\n",
      " example so that they can fix the problem.\n",
      "  X, fitted_transformer = fit_transform_one_cached(\n",
      "C:\\Users\\ageor\\AppData\\Local\\Packages\\PythonSoftwareFoundation.Python.3.10_qbz5n2kfra8p0\\LocalCache\\local-packages\\Python310\\site-packages\\imblearn\\pipeline.py:216: UserWarning: Persisting input arguments took 2.00s to run.\n",
      "If this happens often in your code, it can cause performance problems \n",
      "(results will be correct in all cases). \n",
      "The reason for this is probably some large input arguments for a wrapped\n",
      " function (e.g. large strings).\n",
      "THIS IS A JOBLIB ISSUE. If you can, kindly provide the joblib's team with an\n",
      " example so that they can fix the problem.\n",
      "  X, fitted_transformer = fit_transform_one_cached(\n",
      "C:\\Users\\ageor\\AppData\\Local\\Packages\\PythonSoftwareFoundation.Python.3.10_qbz5n2kfra8p0\\LocalCache\\local-packages\\Python310\\site-packages\\imblearn\\pipeline.py:216: UserWarning: Persisting input arguments took 1.73s to run.\n",
      "If this happens often in your code, it can cause performance problems \n",
      "(results will be correct in all cases). \n",
      "The reason for this is probably some large input arguments for a wrapped\n",
      " function (e.g. large strings).\n",
      "THIS IS A JOBLIB ISSUE. If you can, kindly provide the joblib's team with an\n",
      " example so that they can fix the problem.\n",
      "  X, fitted_transformer = fit_transform_one_cached(\n",
      "C:\\Users\\ageor\\AppData\\Local\\Packages\\PythonSoftwareFoundation.Python.3.10_qbz5n2kfra8p0\\LocalCache\\local-packages\\Python310\\site-packages\\imblearn\\pipeline.py:216: UserWarning: Persisting input arguments took 2.05s to run.\n",
      "If this happens often in your code, it can cause performance problems \n",
      "(results will be correct in all cases). \n",
      "The reason for this is probably some large input arguments for a wrapped\n",
      " function (e.g. large strings).\n",
      "THIS IS A JOBLIB ISSUE. If you can, kindly provide the joblib's team with an\n",
      " example so that they can fix the problem.\n",
      "  X, fitted_transformer = fit_transform_one_cached(\n",
      "C:\\Users\\ageor\\AppData\\Local\\Packages\\PythonSoftwareFoundation.Python.3.10_qbz5n2kfra8p0\\LocalCache\\local-packages\\Python310\\site-packages\\imblearn\\pipeline.py:216: UserWarning: Persisting input arguments took 1.78s to run.\n",
      "If this happens often in your code, it can cause performance problems \n",
      "(results will be correct in all cases). \n",
      "The reason for this is probably some large input arguments for a wrapped\n",
      " function (e.g. large strings).\n",
      "THIS IS A JOBLIB ISSUE. If you can, kindly provide the joblib's team with an\n",
      " example so that they can fix the problem.\n",
      "  X, fitted_transformer = fit_transform_one_cached(\n",
      "C:\\Users\\ageor\\AppData\\Local\\Packages\\PythonSoftwareFoundation.Python.3.10_qbz5n2kfra8p0\\LocalCache\\local-packages\\Python310\\site-packages\\imblearn\\pipeline.py:216: UserWarning: Persisting input arguments took 1.43s to run.\n",
      "If this happens often in your code, it can cause performance problems \n",
      "(results will be correct in all cases). \n",
      "The reason for this is probably some large input arguments for a wrapped\n",
      " function (e.g. large strings).\n",
      "THIS IS A JOBLIB ISSUE. If you can, kindly provide the joblib's team with an\n",
      " example so that they can fix the problem.\n",
      "  X, fitted_transformer = fit_transform_one_cached(\n",
      "C:\\Users\\ageor\\AppData\\Local\\Packages\\PythonSoftwareFoundation.Python.3.10_qbz5n2kfra8p0\\LocalCache\\local-packages\\Python310\\site-packages\\sklearn\\linear_model\\_logistic.py:444: ConvergenceWarning: lbfgs failed to converge (status=1):\n",
      "STOP: TOTAL NO. of ITERATIONS REACHED LIMIT.\n",
      "\n",
      "Increase the number of iterations (max_iter) or scale the data as shown in:\n",
      "    https://scikit-learn.org/stable/modules/preprocessing.html\n",
      "Please also refer to the documentation for alternative solver options:\n",
      "    https://scikit-learn.org/stable/modules/linear_model.html#logistic-regression\n",
      "  n_iter_i = _check_optimize_result(\n",
      "C:\\Users\\ageor\\AppData\\Local\\Packages\\PythonSoftwareFoundation.Python.3.10_qbz5n2kfra8p0\\LocalCache\\local-packages\\Python310\\site-packages\\sklearn\\linear_model\\_logistic.py:444: ConvergenceWarning: lbfgs failed to converge (status=1):\n",
      "STOP: TOTAL NO. of ITERATIONS REACHED LIMIT.\n",
      "\n",
      "Increase the number of iterations (max_iter) or scale the data as shown in:\n",
      "    https://scikit-learn.org/stable/modules/preprocessing.html\n",
      "Please also refer to the documentation for alternative solver options:\n",
      "    https://scikit-learn.org/stable/modules/linear_model.html#logistic-regression\n",
      "  n_iter_i = _check_optimize_result(\n",
      "C:\\Users\\ageor\\AppData\\Local\\Packages\\PythonSoftwareFoundation.Python.3.10_qbz5n2kfra8p0\\LocalCache\\local-packages\\Python310\\site-packages\\sklearn\\linear_model\\_logistic.py:444: ConvergenceWarning: lbfgs failed to converge (status=1):\n",
      "STOP: TOTAL NO. of ITERATIONS REACHED LIMIT.\n",
      "\n",
      "Increase the number of iterations (max_iter) or scale the data as shown in:\n",
      "    https://scikit-learn.org/stable/modules/preprocessing.html\n",
      "Please also refer to the documentation for alternative solver options:\n",
      "    https://scikit-learn.org/stable/modules/linear_model.html#logistic-regression\n",
      "  n_iter_i = _check_optimize_result(\n",
      "C:\\Users\\ageor\\AppData\\Local\\Packages\\PythonSoftwareFoundation.Python.3.10_qbz5n2kfra8p0\\LocalCache\\local-packages\\Python310\\site-packages\\sklearn\\linear_model\\_logistic.py:444: ConvergenceWarning: lbfgs failed to converge (status=1):\n",
      "STOP: TOTAL NO. of ITERATIONS REACHED LIMIT.\n",
      "\n",
      "Increase the number of iterations (max_iter) or scale the data as shown in:\n",
      "    https://scikit-learn.org/stable/modules/preprocessing.html\n",
      "Please also refer to the documentation for alternative solver options:\n",
      "    https://scikit-learn.org/stable/modules/linear_model.html#logistic-regression\n",
      "  n_iter_i = _check_optimize_result(\n",
      "C:\\Users\\ageor\\AppData\\Local\\Packages\\PythonSoftwareFoundation.Python.3.10_qbz5n2kfra8p0\\LocalCache\\local-packages\\Python310\\site-packages\\sklearn\\linear_model\\_logistic.py:444: ConvergenceWarning: lbfgs failed to converge (status=1):\n",
      "STOP: TOTAL NO. of ITERATIONS REACHED LIMIT.\n",
      "\n",
      "Increase the number of iterations (max_iter) or scale the data as shown in:\n",
      "    https://scikit-learn.org/stable/modules/preprocessing.html\n",
      "Please also refer to the documentation for alternative solver options:\n",
      "    https://scikit-learn.org/stable/modules/linear_model.html#logistic-regression\n",
      "  n_iter_i = _check_optimize_result(\n",
      "C:\\Users\\ageor\\AppData\\Local\\Packages\\PythonSoftwareFoundation.Python.3.10_qbz5n2kfra8p0\\LocalCache\\local-packages\\Python310\\site-packages\\sklearn\\linear_model\\_logistic.py:444: ConvergenceWarning: lbfgs failed to converge (status=1):\n",
      "STOP: TOTAL NO. of ITERATIONS REACHED LIMIT.\n",
      "\n",
      "Increase the number of iterations (max_iter) or scale the data as shown in:\n",
      "    https://scikit-learn.org/stable/modules/preprocessing.html\n",
      "Please also refer to the documentation for alternative solver options:\n",
      "    https://scikit-learn.org/stable/modules/linear_model.html#logistic-regression\n",
      "  n_iter_i = _check_optimize_result(\n"
     ]
    }
   ],
   "source": [
    "pipe_kNN = Pipeline(steps = parallels[0][1],memory=\"tmp\")\n",
    "pipe_gnb = Pipeline(steps = parallels[1][1],memory=\"tmp\")\n",
    "pipe_lr = Pipeline(steps = parallels[2][1],memory=\"tmp\")\n",
    "\n",
    "pipe_kNN.fit(X_train,y_train)\n",
    "pipe_gnb.fit(X_train,y_train)\n",
    "pipe_lr.fit(X_train,y_train)\n",
    "\n",
    "pipe_kNN_score_acc = np.mean(cross_val_score(pipe_kNN,X_train,y_train,scoring = \"accuracy\",cv=10))\n",
    "pipe_kNN_score_f1 = np.mean(cross_val_score(pipe_kNN,X_train,y_train,scoring = \"f1_macro\",cv=10))\n",
    "pipe_kNN_score = pipe_kNN.score(X_test,y_test)\n",
    "\n",
    "pipe_gnb_score_acc = np.mean(cross_val_score(pipe_gnb,X_train,y_train,scoring = \"accuracy\",cv=10))\n",
    "pipe_gnb_score_f1 = np.mean(cross_val_score(pipe_gnb,X_train,y_train,scoring = \"f1_macro\",cv=10))\n",
    "pipe_gnb_score = pipe_gnb.score(X_test,y_test)\n",
    "\n",
    "pipe_lr_score_acc = np.mean(cross_val_score(pipe_lr,X_train,y_train,scoring = \"accuracy\",cv=10))\n",
    "pipe_lr_score_f1 = np.mean(cross_val_score(pipe_lr,X_train,y_train,scoring = \"f1_macro\",cv=10))\n",
    "pipe_lr_score = pipe_lr.score(X_test,y_test)"
   ]
  },
  {
   "cell_type": "markdown",
   "metadata": {},
   "source": [
    "### Σχολιασμός και συμπεράσματα"
   ]
  },
  {
   "cell_type": "code",
   "execution_count": 43,
   "metadata": {},
   "outputs": [
    {
     "data": {
      "text/html": [
       "<div>\n",
       "<style scoped>\n",
       "    .dataframe tbody tr th:only-of-type {\n",
       "        vertical-align: middle;\n",
       "    }\n",
       "\n",
       "    .dataframe tbody tr th {\n",
       "        vertical-align: top;\n",
       "    }\n",
       "\n",
       "    .dataframe thead th {\n",
       "        text-align: right;\n",
       "    }\n",
       "</style>\n",
       "<table border=\"1\" class=\"dataframe\">\n",
       "  <thead>\n",
       "    <tr style=\"text-align: right;\">\n",
       "      <th></th>\n",
       "      <th>kNN</th>\n",
       "      <th>gnb</th>\n",
       "      <th>lr</th>\n",
       "    </tr>\n",
       "  </thead>\n",
       "  <tbody>\n",
       "    <tr>\n",
       "      <th>Score No CV</th>\n",
       "      <td>70.472441</td>\n",
       "      <td>77.952756</td>\n",
       "      <td>80.708661</td>\n",
       "    </tr>\n",
       "    <tr>\n",
       "      <th>Accuracy 10 fold CV</th>\n",
       "      <td>71.621469</td>\n",
       "      <td>72.635593</td>\n",
       "      <td>78.723164</td>\n",
       "    </tr>\n",
       "    <tr>\n",
       "      <th>f1 10 fold CV</th>\n",
       "      <td>70.692745</td>\n",
       "      <td>72.949013</td>\n",
       "      <td>78.411737</td>\n",
       "    </tr>\n",
       "  </tbody>\n",
       "</table>\n",
       "</div>"
      ],
      "text/plain": [
       "                           kNN        gnb         lr\n",
       "Score No CV          70.472441  77.952756  80.708661\n",
       "Accuracy 10 fold CV  71.621469  72.635593  78.723164\n",
       "f1 10 fold CV        70.692745  72.949013  78.411737"
      ]
     },
     "execution_count": 43,
     "metadata": {},
     "output_type": "execute_result"
    }
   ],
   "source": [
    "pd.DataFrame(data = [[pipe_kNN_score*100,pipe_gnb_score*100,pipe_lr_score*100],[pipe_kNN_score_acc*100,pipe_gnb_score_acc*100,pipe_lr_score_acc*100],[pipe_kNN_score_f1*100,pipe_gnb_score_f1*100,pipe_lr_score_f1*100]], index = [\"Score No CV\",\"Accuracy 10 fold CV\",\"f1 10 fold CV\"], columns = [\"kNN\",\"gnb\",\"lr\"])"
   ]
  },
  {
   "cell_type": "code",
   "execution_count": 44,
   "metadata": {},
   "outputs": [
    {
     "data": {
      "image/png": "[encoded data removed]",
      "text/plain": [
       "<Figure size 432x288 with 1 Axes>"
      ]
     },
     "metadata": {
      "needs_background": "light"
     },
     "output_type": "display_data"
    },
    {
     "data": {
      "image/png": "[encoded data removed]",
      "text/plain": [
       "<Figure size 432x288 with 1 Axes>"
      ]
     },
     "metadata": {
      "needs_background": "light"
     },
     "output_type": "display_data"
    },
    {
     "data": {
      "image/png": "[encoded data removed]",
      "text/plain": [
       "<Figure size 432x288 with 1 Axes>"
      ]
     },
     "metadata": {
      "needs_background": "light"
     },
     "output_type": "display_data"
    }
   ],
   "source": [
    "plt.bar([\"kNN\",\"gnb\",\"lr\"],[pipe_kNN_score*100,pipe_gnb_score*100,pipe_lr_score*100])\n",
    "plt.title(\"Pipeline Score no CV\")\n",
    "plt.ylabel(\"score %\")\n",
    "plt.xlabel(\"Classifier\")\n",
    "plt.show()\n",
    "plt.bar([\"kNN\",\"gnb\",\"lr\"],[pipe_kNN_score_acc*100,pipe_gnb_score_acc*100,pipe_lr_score_acc*100],color=\"orange\")\n",
    "plt.title(\"Accuracy 10 fold CV\")\n",
    "plt.ylabel(\"score %\")\n",
    "plt.xlabel(\"Classifier\")\n",
    "plt.show()\n",
    "plt.bar([\"kNN\",\"gnb\",\"lr\"],[pipe_kNN_score_f1*100,pipe_gnb_score_f1*100,pipe_lr_score_f1*100],color=\"hotpink\")\n",
    "plt.title(\"f1 10 fold CV\")\n",
    "plt.ylabel(\"score %\")\n",
    "plt.xlabel(\"Classifier\")\n",
    "plt.show()"
   ]
  },
  {
   "cell_type": "markdown",
   "metadata": {},
   "source": [
    "Στο στάδιο αυτό δοκιμάσαμε διαφορετικούς συνδυασμούς παραμέτρων μέσα στο pipeline έτσι ώστε να καταφέρουμε να μεγιστοποιήσουμε το success rate του ταξινομητή. Τα αποτελέσματα παρατίθενται με την εκτύπωση του βέλτιστου pipeline στο τέλος της εκτέλεσης. Παρατηρούμε ότι υπάρχει βελτίωση της τάξης του 7% (από 73% σε 78% προσεγγιστικά για το 10 fold CV) "
   ]
  },
  {
   "cell_type": "markdown",
   "metadata": {},
   "source": [
    "## GridsearchCV"
   ]
  },
  {
   "cell_type": "code",
   "execution_count": 45,
   "metadata": {},
   "outputs": [
    {
     "name": "stdout",
     "output_type": "stream",
     "text": [
      "[6.85198594e+01 3.85890448e+01 2.46469204e+02 1.14819608e+03\n",
      " 7.11972243e+01 2.43669164e+01 1.11474566e+03 6.07984386e+01\n",
      " 6.80676760e+00 2.13487023e+02 1.00764827e+03 3.16678089e+04\n",
      " 1.07072824e+03 6.14235727e+01 2.39404218e+01 8.04217951e+01\n",
      " 3.73644511e+01 5.58614751e+01]\n",
      "31667.808881939396\n",
      "6.806767599525212\n"
     ]
    }
   ],
   "source": [
    "train_variance = np.array(X_train).var(axis=0)\n",
    "print(train_variance)\n",
    "print(np.max(train_variance))\n",
    "print(np.min(train_variance))"
   ]
  },
  {
   "cell_type": "code",
   "execution_count": 46,
   "metadata": {},
   "outputs": [
    {
     "name": "stdout",
     "output_type": "stream",
     "text": [
      "31667.808881939396\n",
      "6.806767599525212\n"
     ]
    }
   ],
   "source": [
    "maxvar = np.max(train_variance)\n",
    "minvar = np.min(train_variance)\n",
    "print(maxvar)\n",
    "print(minvar)"
   ]
  },
  {
   "cell_type": "code",
   "execution_count": null,
   "metadata": {},
   "outputs": [],
   "source": [
    "# make different compinations with a Pipeline in lr classifier\n"
   ]
  },
  {
   "cell_type": "markdown",
   "metadata": {},
   "source": [
    "### Σχολιασμός\n",
    "Σε αυτό όλες τις διακυμάνσεις ώστε να μπορέσουμε να μπορέσουμε να επιλέξουμε να εύρος τιμών για την αναζήτηση πλέγματος."
   ]
  },
  {
   "cell_type": "code",
   "execution_count": 47,
   "metadata": {},
   "outputs": [],
   "source": [
    "from sklearn.model_selection import GridSearchCV\n",
    "\n",
    "vthreshold = list(np.arange(start = 0, stop = 1, step = 0.05))\n",
    "n_components = [14,15,16,17,18]\n",
    "k = [10,15,20,25] # η υπερπαράμετρος του ταξινομητή"
   ]
  },
  {
   "cell_type": "markdown",
   "metadata": {},
   "source": [
    "## kNN"
   ]
  },
  {
   "cell_type": "code",
   "execution_count": 48,
   "metadata": {},
   "outputs": [
    {
     "name": "stderr",
     "output_type": "stream",
     "text": [
      "C:\\Users\\ageor\\AppData\\Local\\Packages\\PythonSoftwareFoundation.Python.3.10_qbz5n2kfra8p0\\LocalCache\\local-packages\\Python310\\site-packages\\imblearn\\pipeline.py:216: UserWarning: Persisting input arguments took 1.66s to run.\n",
      "If this happens often in your code, it can cause performance problems \n",
      "(results will be correct in all cases). \n",
      "The reason for this is probably some large input arguments for a wrapped\n",
      " function (e.g. large strings).\n",
      "THIS IS A JOBLIB ISSUE. If you can, kindly provide the joblib's team with an\n",
      " example so that they can fix the problem.\n",
      "  X, fitted_transformer = fit_transform_one_cached(\n"
     ]
    }
   ],
   "source": [
    "estimator_f1 = GridSearchCV(pipe_kNN, dict(selector__threshold=vthreshold,kNN__n_neighbors=k), cv=10, scoring='f1_macro', n_jobs=-1)\n",
    "estimator_knn_acc = GridSearchCV(pipe_kNN, dict(selector__threshold=vthreshold,kNN__n_neighbors=k), cv=10, scoring='accuracy', n_jobs=-1)\n",
    "temp = time.time()\n",
    "estimator_f1.fit(X_train,y_train)\n",
    "final_time_knn_f1 = time.time() - temp\n",
    "temp = time.time()\n",
    "estimator_knn_acc.fit(X_train,y_train)\n",
    "final_time_knn_acc = time.time() - temp\n"
   ]
  },
  {
   "cell_type": "code",
   "execution_count": 49,
   "metadata": {},
   "outputs": [],
   "source": [
    "knn_pipe_score_f1 = estimator_f1.best_score_\n",
    "knn_pipe_score_acc = estimator_knn_acc.best_score_"
   ]
  },
  {
   "cell_type": "markdown",
   "metadata": {},
   "source": [
    "## GNB"
   ]
  },
  {
   "cell_type": "code",
   "execution_count": 50,
   "metadata": {},
   "outputs": [],
   "source": [
    "estimator_f1 = GridSearchCV(pipe_gnb, dict(selector__threshold=vthreshold, pca__n_components=n_components), cv=10, scoring='f1_macro', n_jobs=-1)\n",
    "estimator_acc = GridSearchCV(pipe_gnb, dict(selector__threshold=vthreshold, pca__n_components=n_components), cv=10, scoring='accuracy', n_jobs=-1)\n",
    "temp = time.time()\n",
    "estimator_f1.fit(X_train,y_train)\n",
    "final_time_gnb_f1 = time.time() - temp\n",
    "temp = time.time()\n",
    "estimator_acc.fit(X_train,y_train)\n",
    "final_time_gnb_acc = time.time() - temp"
   ]
  },
  {
   "cell_type": "code",
   "execution_count": 51,
   "metadata": {},
   "outputs": [],
   "source": [
    "gnb_pipe_score_f1 = estimator_f1.best_score_\n",
    "gnb_pipe_score_acc = estimator_acc.best_score_"
   ]
  },
  {
   "cell_type": "markdown",
   "metadata": {},
   "source": [
    "## LR"
   ]
  },
  {
   "cell_type": "code",
   "execution_count": 52,
   "metadata": {},
   "outputs": [],
   "source": [
    "estimator_f1 = GridSearchCV(pipe_lr, dict(selector__threshold=vthreshold), cv=10, scoring='f1_macro', n_jobs=-1)\n",
    "estimator_lr_acc = GridSearchCV(pipe_lr, dict(selector__threshold=vthreshold), cv=10, scoring='accuracy', n_jobs=-1)\n",
    "temp = time.time()\n",
    "estimator_f1.fit(X_train,y_train)\n",
    "final_time_lr_f1 = time.time() - temp\n",
    "temp = time.time()\n",
    "estimator_lr_acc.fit(X_train,y_train)\n",
    "final_time_lr_acc = time.time() - temp"
   ]
  },
  {
   "cell_type": "code",
   "execution_count": 53,
   "metadata": {},
   "outputs": [],
   "source": [
    "lr_pipe_score_f1 = estimator_f1.best_score_\n",
    "lr_pipe_score_acc = estimator_acc.best_score_"
   ]
  },
  {
   "cell_type": "markdown",
   "metadata": {},
   "source": [
    "### Αποτελέσματα και συμπεράσματα"
   ]
  },
  {
   "cell_type": "code",
   "execution_count": 54,
   "metadata": {},
   "outputs": [
    {
     "data": {
      "text/html": [
       "<div>\n",
       "<style scoped>\n",
       "    .dataframe tbody tr th:only-of-type {\n",
       "        vertical-align: middle;\n",
       "    }\n",
       "\n",
       "    .dataframe tbody tr th {\n",
       "        vertical-align: top;\n",
       "    }\n",
       "\n",
       "    .dataframe thead th {\n",
       "        text-align: right;\n",
       "    }\n",
       "</style>\n",
       "<table border=\"1\" class=\"dataframe\">\n",
       "  <thead>\n",
       "    <tr style=\"text-align: right;\">\n",
       "      <th></th>\n",
       "      <th>kNN</th>\n",
       "      <th>gnb</th>\n",
       "      <th>lr</th>\n",
       "    </tr>\n",
       "  </thead>\n",
       "  <tbody>\n",
       "    <tr>\n",
       "      <th>Accuracy</th>\n",
       "      <td>69.946328</td>\n",
       "      <td>73.144068</td>\n",
       "      <td>73.144068</td>\n",
       "    </tr>\n",
       "    <tr>\n",
       "      <th>f1</th>\n",
       "      <td>68.192312</td>\n",
       "      <td>73.472613</td>\n",
       "      <td>78.411737</td>\n",
       "    </tr>\n",
       "  </tbody>\n",
       "</table>\n",
       "</div>"
      ],
      "text/plain": [
       "                kNN        gnb         lr\n",
       "Accuracy  69.946328  73.144068  73.144068\n",
       "f1        68.192312  73.472613  78.411737"
      ]
     },
     "execution_count": 54,
     "metadata": {},
     "output_type": "execute_result"
    }
   ],
   "source": [
    "acc_scores = [knn_pipe_score_acc*100,gnb_pipe_score_acc*100,lr_pipe_score_acc*100]\n",
    "f1_scores = [knn_pipe_score_f1*100,gnb_pipe_score_f1*100,lr_pipe_score_f1*100]\n",
    "\n",
    "pd.DataFrame(data = [acc_scores,f1_scores], index = [\"Accuracy\",\"f1\"], columns = [\"kNN\",\"gnb\",\"lr\"])"
   ]
  },
  {
   "cell_type": "code",
   "execution_count": 55,
   "metadata": {},
   "outputs": [
    {
     "data": {
      "image/png": "[encoded data removed]",
      "text/plain": [
       "<Figure size 432x288 with 1 Axes>"
      ]
     },
     "metadata": {
      "needs_background": "light"
     },
     "output_type": "display_data"
    },
    {
     "data": {
      "image/png": "[encoded data removed]",
      "text/plain": [
       "<Figure size 432x288 with 1 Axes>"
      ]
     },
     "metadata": {
      "needs_background": "light"
     },
     "output_type": "display_data"
    }
   ],
   "source": [
    "plt.bar([\"kNN\",\"gnb\",\"LR\"],acc_scores)\n",
    "plt.title(\"Accuracy Scores on grid search\")\n",
    "plt.xlabel(\"Classifier\")\n",
    "plt.ylabel(\"score %\")\n",
    "plt.show()\n",
    "plt.bar([\"kNN\",\"gnb\",\"LR\"],f1_scores,color=\"orange\")\n",
    "plt.title(\"f1 Scores on grid search\")\n",
    "plt.xlabel(\"Classifier\")\n",
    "plt.ylabel(\"score %\")\n",
    "plt.show()"
   ]
  },
  {
   "cell_type": "markdown",
   "metadata": {},
   "source": [
    "Παρατηρούμε ότι υπάρχει ξανά μία μέγιστη βελτιστοποίηση της τάξης 5% (από 73% σε 78% προσεγγιστικά) η οποία είναι σχεδόν ταυτόσημη με το score του καλύτερου pipeline που επιλέχθηκε παραπάνω."
   ]
  },
  {
   "cell_type": "markdown",
   "metadata": {},
   "source": [
    "## Συνολικά αποτελέσματα/συμπεράσματα\n",
    "\n",
    "Για τους 3 βασικούς ταξινομητές (kNN, GNB,LR) παραθέτονται οι μετρικές για την αξιολόγηση της βελτιστοποίησης τους."
   ]
  },
  {
   "cell_type": "code",
   "execution_count": 56,
   "metadata": {},
   "outputs": [],
   "source": [
    "final_acc_scores = [knn_pipe_score_acc,gnb_pipe_score_acc,lr_pipe_score_acc]\n",
    "final_f1_scores = [knn_pipe_score_f1,gnb_pipe_score_f1,lr_pipe_score_f1]\n",
    "final_times_acc = [final_time_knn_acc,final_time_gnb_acc,final_time_lr_acc]\n",
    "final_times_f1 = [final_time_knn_f1,final_time_gnb_f1,final_time_lr_f1]"
   ]
  },
  {
   "cell_type": "code",
   "execution_count": 57,
   "metadata": {},
   "outputs": [],
   "source": [
    "names = [\"Classifier\",\"Improved Accuracy\",\"OTB Accuracy\",\"Accuracy diff\",\"Improved f1\",\"OTB f1\",\"f1 diff\",\"Improved time\",\"OTB time\",\"time diff\"]\n",
    "final_dict = {\n",
    "    \"Classifier\" : [\"kNN\",\"GNB\",\"LR\"],\n",
    "    \"Improved Accuracy\" : final_acc_scores,\n",
    "    \"OTB Accuracy\" : scores_acc[1:],\n",
    "    \"Accuracy diff\" : [final_acc_scores[i] - scores_acc[i+1] for i in range(3)],\n",
    "    \"Improved f1\" : final_f1_scores,\n",
    "    \"OTB f1\" : scores_f1[1:],\n",
    "    \"f1 diff\" : [final_f1_scores[i] - scores_f1[i+1] for i in range(3)],\n",
    "    \"Improved time acc\" : final_times_acc,\n",
    "    \"OTB time acc\" : times_acc,\n",
    "    \"time acc diff\": [final_times_acc[i] - times_acc[i] for i in range(3)],\n",
    "    \"Improved time f1\" : final_times_f1,\n",
    "    \"OTB time f1\" : times_f1,\n",
    "    \"time f1 diff\": [final_times_f1[i] - times_f1[i] for i in range(3)],    \n",
    "}"
   ]
  },
  {
   "cell_type": "code",
   "execution_count": 58,
   "metadata": {},
   "outputs": [
    {
     "data": {
      "text/html": [
       "<div>\n",
       "<style scoped>\n",
       "    .dataframe tbody tr th:only-of-type {\n",
       "        vertical-align: middle;\n",
       "    }\n",
       "\n",
       "    .dataframe tbody tr th {\n",
       "        vertical-align: top;\n",
       "    }\n",
       "\n",
       "    .dataframe thead th {\n",
       "        text-align: right;\n",
       "    }\n",
       "</style>\n",
       "<table border=\"1\" class=\"dataframe\">\n",
       "  <thead>\n",
       "    <tr style=\"text-align: right;\">\n",
       "      <th></th>\n",
       "      <th>Classifier</th>\n",
       "      <th>Improved Accuracy</th>\n",
       "      <th>OTB Accuracy</th>\n",
       "      <th>Accuracy diff</th>\n",
       "      <th>Improved f1</th>\n",
       "      <th>OTB f1</th>\n",
       "      <th>f1 diff</th>\n",
       "      <th>Improved time acc</th>\n",
       "      <th>OTB time acc</th>\n",
       "      <th>time acc diff</th>\n",
       "      <th>Improved time f1</th>\n",
       "      <th>OTB time f1</th>\n",
       "      <th>time f1 diff</th>\n",
       "    </tr>\n",
       "  </thead>\n",
       "  <tbody>\n",
       "    <tr>\n",
       "      <th>0</th>\n",
       "      <td>kNN</td>\n",
       "      <td>0.699463</td>\n",
       "      <td>0.643644</td>\n",
       "      <td>0.055819</td>\n",
       "      <td>0.681923</td>\n",
       "      <td>0.635625</td>\n",
       "      <td>0.046299</td>\n",
       "      <td>209.620695</td>\n",
       "      <td>0.661988</td>\n",
       "      <td>208.958707</td>\n",
       "      <td>388.852680</td>\n",
       "      <td>0.485011</td>\n",
       "      <td>388.367669</td>\n",
       "    </tr>\n",
       "    <tr>\n",
       "      <th>1</th>\n",
       "      <td>GNB</td>\n",
       "      <td>0.731441</td>\n",
       "      <td>0.457853</td>\n",
       "      <td>0.273588</td>\n",
       "      <td>0.734726</td>\n",
       "      <td>0.424270</td>\n",
       "      <td>0.310457</td>\n",
       "      <td>278.262092</td>\n",
       "      <td>0.539979</td>\n",
       "      <td>277.722113</td>\n",
       "      <td>365.103114</td>\n",
       "      <td>0.383001</td>\n",
       "      <td>364.720113</td>\n",
       "    </tr>\n",
       "    <tr>\n",
       "      <th>2</th>\n",
       "      <td>LR</td>\n",
       "      <td>0.731441</td>\n",
       "      <td>0.707797</td>\n",
       "      <td>0.023644</td>\n",
       "      <td>0.784117</td>\n",
       "      <td>0.699300</td>\n",
       "      <td>0.084818</td>\n",
       "      <td>46.625389</td>\n",
       "      <td>0.471003</td>\n",
       "      <td>46.154387</td>\n",
       "      <td>51.271862</td>\n",
       "      <td>0.507997</td>\n",
       "      <td>50.763865</td>\n",
       "    </tr>\n",
       "  </tbody>\n",
       "</table>\n",
       "</div>"
      ],
      "text/plain": [
       "  Classifier  Improved Accuracy  OTB Accuracy  Accuracy diff  Improved f1  \\\n",
       "0        kNN           0.699463      0.643644       0.055819     0.681923   \n",
       "1        GNB           0.731441      0.457853       0.273588     0.734726   \n",
       "2         LR           0.731441      0.707797       0.023644     0.784117   \n",
       "\n",
       "     OTB f1   f1 diff  Improved time acc  OTB time acc  time acc diff  \\\n",
       "0  0.635625  0.046299         209.620695      0.661988     208.958707   \n",
       "1  0.424270  0.310457         278.262092      0.539979     277.722113   \n",
       "2  0.699300  0.084818          46.625389      0.471003      46.154387   \n",
       "\n",
       "   Improved time f1  OTB time f1  time f1 diff  \n",
       "0        388.852680     0.485011    388.367669  \n",
       "1        365.103114     0.383001    364.720113  \n",
       "2         51.271862     0.507997     50.763865  "
      ]
     },
     "execution_count": 58,
     "metadata": {},
     "output_type": "execute_result"
    }
   ],
   "source": [
    "pd.DataFrame(final_dict)"
   ]
  },
  {
   "cell_type": "code",
   "execution_count": 59,
   "metadata": {},
   "outputs": [
    {
     "data": {
      "image/png": "[encoded data removed]",
      "text/plain": [
       "<Figure size 720x360 with 1 Axes>"
      ]
     },
     "metadata": {
      "needs_background": "light"
     },
     "output_type": "display_data"
    },
    {
     "data": {
      "image/png": "[encoded data removed]",
      "text/plain": [
       "<Figure size 720x360 with 1 Axes>"
      ]
     },
     "metadata": {
      "needs_background": "light"
     },
     "output_type": "display_data"
    }
   ],
   "source": [
    "bar_acc = {'kNN_impr':final_acc_scores[0],'kNN_OTB':scores_acc[1],'kNN_diff':final_acc_scores[0]-scores_acc[1], \n",
    "            'GNB_impr':final_acc_scores[1],'GNB_OTB':scores_acc[2],'GNB_diff':final_acc_scores[1]-scores_acc[2],\n",
    "            'LR_impr':final_acc_scores[2],'LR_OTB':scores_acc[3],'LR_diff':final_acc_scores[2]-scores_acc[3]}\n",
    "\n",
    "bar_f1 = {'kNN_impr':final_f1_scores[0],'kNN_OTB':scores_f1[1],'kNN_diff':final_f1_scores[0]-scores_f1[1], \n",
    "            'GNB_impr':final_f1_scores[1],'GNB_OTB':scores_f1[2],'GNB_diff':final_f1_scores[1]-scores_f1[2],\n",
    "            'LR_impr':final_f1_scores[2],'LR_OTB':scores_f1[3],'LR_diff':final_f1_scores[2]-scores_f1[3]}\n",
    "\n",
    "colors = ['blue','orange','hotpink']\n",
    "\n",
    "plt.rcParams['figure.figsize'] = [10, 5]\n",
    "plt.bar(list(bar_acc.keys()),np.array(list(bar_acc.values())),color = colors)\n",
    "plt.title(\"Accuracy Results\")\n",
    "plt.show()\n",
    "plt.bar(list(bar_f1.keys()),np.array(list(bar_f1.values())),color = colors)\n",
    "plt.title(\"f1 Results\")\n",
    "plt.show()"
   ]
  },
  {
   "cell_type": "markdown",
   "metadata": {},
   "source": [
    "### Confusion Matrix\n"
   ]
  },
  {
   "cell_type": "code",
   "execution_count": 60,
   "metadata": {},
   "outputs": [
    {
     "name": "stderr",
     "output_type": "stream",
     "text": [
      "C:\\Users\\ageor\\AppData\\Local\\Packages\\PythonSoftwareFoundation.Python.3.10_qbz5n2kfra8p0\\LocalCache\\local-packages\\Python310\\site-packages\\sklearn\\utils\\deprecation.py:87: FutureWarning: Function plot_confusion_matrix is deprecated; Function `plot_confusion_matrix` is deprecated in 1.0 and will be removed in 1.2. Use one of the class methods: ConfusionMatrixDisplay.from_predictions or ConfusionMatrixDisplay.from_estimator.\n",
      "  warnings.warn(msg, category=FutureWarning)\n"
     ]
    },
    {
     "data": {
      "image/png": "[encoded data removed]",
      "text/plain": [
       "<Figure size 720x360 with 2 Axes>"
      ]
     },
     "metadata": {
      "needs_background": "light"
     },
     "output_type": "display_data"
    },
    {
     "name": "stderr",
     "output_type": "stream",
     "text": [
      "C:\\Users\\ageor\\AppData\\Local\\Packages\\PythonSoftwareFoundation.Python.3.10_qbz5n2kfra8p0\\LocalCache\\local-packages\\Python310\\site-packages\\sklearn\\utils\\deprecation.py:87: FutureWarning: Function plot_confusion_matrix is deprecated; Function `plot_confusion_matrix` is deprecated in 1.0 and will be removed in 1.2. Use one of the class methods: ConfusionMatrixDisplay.from_predictions or ConfusionMatrixDisplay.from_estimator.\n",
      "  warnings.warn(msg, category=FutureWarning)\n"
     ]
    },
    {
     "data": {
      "image/png": "[encoded data removed]",
      "text/plain": [
       "<Figure size 720x360 with 2 Axes>"
      ]
     },
     "metadata": {
      "needs_background": "light"
     },
     "output_type": "display_data"
    }
   ],
   "source": [
    "from sklearn.metrics import confusion_matrix, plot_confusion_matrix\n",
    "import matplotlib.pyplot as plt \n",
    "\n",
    "#worst classifier: Logistic Regression\n",
    "y1_pred= estimator_knn_acc.predict(X_test)\n",
    "M1 = confusion_matrix(y_test, y1_pred)\n",
    "plot_confusion_matrix(estimator_knn_acc, X_test, y_test)\n",
    "plt.title(\"knn\")\n",
    "plt.show()\n",
    "\n",
    "#best classifier (except from dummy):\n",
    "y2_pred = estimator_lr_acc.predict(X_test)\n",
    "M2 = confusion_matrix(y_test, y2_pred)\n",
    "plot_confusion_matrix(estimator_lr_acc, X_test, y_test)\n",
    "plt.title(\"LR\")\n",
    "plt.show()"
   ]
  },
  {
   "cell_type": "code",
   "execution_count": null,
   "metadata": {},
   "outputs": [],
   "source": []
  }
 ],
 "metadata": {
  "kernelspec": {
   "display_name": "Python 3.10.8 64-bit (microsoft store)",
   "language": "python",
   "name": "python3"
  },
  "language_info": {
   "codemirror_mode": {
    "name": "ipython",
    "version": 3
   },
   "file_extension": ".py",
   "mimetype": "text/x-python",
   "name": "python",
   "nbconvert_exporter": "python",
   "pygments_lexer": "ipython3",
   "version": "3.10.8"
  },
  "orig_nbformat": 4,
  "vscode": {
   "interpreter": {
    "hash": "3038ba6550462ecf9d3739fc314ce1b8d299275b9c4cc68cee1b3ac2596afc40"
   }
  }
 },
 "nbformat": 4,
 "nbformat_minor": 2
}
